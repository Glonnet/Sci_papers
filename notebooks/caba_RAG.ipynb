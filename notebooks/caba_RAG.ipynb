{
 "cells": [
  {
   "cell_type": "markdown",
   "metadata": {},
   "source": [
    "# RAG with Cord-19 dataset"
   ]
  },
  {
   "cell_type": "markdown",
   "metadata": {},
   "source": [
    "Project goal: A UI which will return a list of documents and at best a summary of them on query such as \"Whats the current state of reasearch on vacccine effectiveness by gender\"\n",
    "\n",
    "Notebook Objective (Catherine): Identify all articles relevant to a sample topic e.g. Covid-19 research around \"vaccine\" and \"gender\"\n",
    "\n",
    "Method: RAG - Retrieval-Augmented Generation (RAG) which can be used to analyze and synthesize information from the CORD-19 dataset.\n",
    "\n",
    "Dataset: Kaggle CORD-19 dataset (sample dataset of 656 articles, see notebook caba_exploration)\n",
    "\n",
    "... first tests based on Notebook on Kaggle (RAG+LLama for Cord-19dataset): https://www.kaggle.com/code/gallo33henrique/covid19-open-research-challenge-cord19-llm-llama"
   ]
  },
  {
   "cell_type": "markdown",
   "metadata": {},
   "source": [
    "## Currently coding ...."
   ]
  },
  {
   "cell_type": "markdown",
   "metadata": {},
   "source": []
  }
 ],
 "metadata": {
  "language_info": {
   "name": "python"
  }
 },
 "nbformat": 4,
 "nbformat_minor": 2
}
