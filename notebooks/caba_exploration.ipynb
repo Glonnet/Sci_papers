{
 "cells": [
  {
   "cell_type": "markdown",
   "metadata": {},
   "source": [
    "# Data Exploration of a sample of 1000 articles from CORD-19 dataset on Kaggle"
   ]
  },
  {
   "cell_type": "markdown",
   "metadata": {},
   "source": [
    "## 1) Import libraries and load data"
   ]
  },
  {
   "cell_type": "code",
   "execution_count": 3,
   "metadata": {},
   "outputs": [
    {
     "data": {
      "text/html": [
       "<div>\n",
       "<style scoped>\n",
       "    .dataframe tbody tr th:only-of-type {\n",
       "        vertical-align: middle;\n",
       "    }\n",
       "\n",
       "    .dataframe tbody tr th {\n",
       "        vertical-align: top;\n",
       "    }\n",
       "\n",
       "    .dataframe thead th {\n",
       "        text-align: right;\n",
       "    }\n",
       "</style>\n",
       "<table border=\"1\" class=\"dataframe\">\n",
       "  <thead>\n",
       "    <tr style=\"text-align: right;\">\n",
       "      <th></th>\n",
       "      <th>paper_id</th>\n",
       "      <th>title</th>\n",
       "      <th>abstract</th>\n",
       "      <th>full-text</th>\n",
       "    </tr>\n",
       "  </thead>\n",
       "  <tbody>\n",
       "    <tr>\n",
       "      <th>0</th>\n",
       "      <td>9f05493734433385ff6082f0d4368b93a9a6b3df</td>\n",
       "      <td>Journey of cystatins from being mere thiol pro...</td>\n",
       "      <td>Abstract\\n\\nCystatins are thiol proteinase inh...</td>\n",
       "      <td>Proteases\\n\\nProteases are enzymes that irreve...</td>\n",
       "    </tr>\n",
       "    <tr>\n",
       "      <th>1</th>\n",
       "      <td>76b6934f3ead3c415d98b18154c3223178bfbc4f</td>\n",
       "      <td>Dear Editor</td>\n",
       "      <td>NaN</td>\n",
       "      <td>\\n\\nAccording to the World Health Organization...</td>\n",
       "    </tr>\n",
       "    <tr>\n",
       "      <th>2</th>\n",
       "      <td>97c2f4235923a5366f93d98a48f88b68e1941b21</td>\n",
       "      <td>Accurate Representations of the Microphysical ...</td>\n",
       "      <td>Abstract\\n\\nAerosols and droplets from expirat...</td>\n",
       "      <td>I. INTRODUCTION\\n\\nThe transmission of respira...</td>\n",
       "    </tr>\n",
       "    <tr>\n",
       "      <th>3</th>\n",
       "      <td>d327e343b221e242373be5e86d02a03afe4d250b</td>\n",
       "      <td>Journal Pre-proof RECOMENDACIONES DE CONSENSO ...</td>\n",
       "      <td>Abstract\\n\\nLa gran afectación pulmonar produc...</td>\n",
       "      <td>INTRODUCCION\\n\\nLa rápida progresión de la pan...</td>\n",
       "    </tr>\n",
       "    <tr>\n",
       "      <th>4</th>\n",
       "      <td>088e0fabcaf75dea9bc0e42ed2a85dc0cf677e02</td>\n",
       "      <td>Myofascial Release of the Hamstrings Improves ...</td>\n",
       "      <td>Abstract\\n\\nCitation: Itotani, K.; Kawahata, K...</td>\n",
       "      <td>Introduction\\n\\nIn 2020, COVID-19 had an impac...</td>\n",
       "    </tr>\n",
       "  </tbody>\n",
       "</table>\n",
       "</div>"
      ],
      "text/plain": [
       "                                   paper_id  \\\n",
       "0  9f05493734433385ff6082f0d4368b93a9a6b3df   \n",
       "1  76b6934f3ead3c415d98b18154c3223178bfbc4f   \n",
       "2  97c2f4235923a5366f93d98a48f88b68e1941b21   \n",
       "3  d327e343b221e242373be5e86d02a03afe4d250b   \n",
       "4  088e0fabcaf75dea9bc0e42ed2a85dc0cf677e02   \n",
       "\n",
       "                                               title  \\\n",
       "0  Journey of cystatins from being mere thiol pro...   \n",
       "1                                        Dear Editor   \n",
       "2  Accurate Representations of the Microphysical ...   \n",
       "3  Journal Pre-proof RECOMENDACIONES DE CONSENSO ...   \n",
       "4  Myofascial Release of the Hamstrings Improves ...   \n",
       "\n",
       "                                            abstract  \\\n",
       "0  Abstract\\n\\nCystatins are thiol proteinase inh...   \n",
       "1                                                NaN   \n",
       "2  Abstract\\n\\nAerosols and droplets from expirat...   \n",
       "3  Abstract\\n\\nLa gran afectación pulmonar produc...   \n",
       "4  Abstract\\n\\nCitation: Itotani, K.; Kawahata, K...   \n",
       "\n",
       "                                           full-text  \n",
       "0  Proteases\\n\\nProteases are enzymes that irreve...  \n",
       "1  \\n\\nAccording to the World Health Organization...  \n",
       "2  I. INTRODUCTION\\n\\nThe transmission of respira...  \n",
       "3  INTRODUCCION\\n\\nLa rápida progresión de la pan...  \n",
       "4  Introduction\\n\\nIn 2020, COVID-19 had an impac...  "
      ]
     },
     "execution_count": 3,
     "metadata": {},
     "output_type": "execute_result"
    }
   ],
   "source": [
    "# Import necessary libraries\n",
    "import numpy as np # linear algebra\n",
    "import pandas as pd # data processing, CSV file I/O (e.g. pd.read_csv)\n",
    "import json\n",
    "import matplotlib.pyplot as plt\n",
    "import seaborn as sns\n",
    "\n",
    "# Read Excel data file with 1000 articles\n",
    "df = pd.read_excel('/home/caba/code/Glonnet/Sci_papers/raw_data/papers.xlsx')\n",
    "\n",
    "# Display the first 5 rows of the dataframe\n",
    "df.head()"
   ]
  },
  {
   "cell_type": "code",
   "execution_count": 4,
   "metadata": {},
   "outputs": [
    {
     "name": "stdout",
     "output_type": "stream",
     "text": [
      "Number of rows in df: 1000\n"
     ]
    }
   ],
   "source": [
    "row_count = df.shape[0]\n",
    "print(f\"Number of rows in df: {row_count}\")"
   ]
  },
  {
   "cell_type": "markdown",
   "metadata": {},
   "source": [
    "## 2) Continue with cleaned df (remove articles with empty title, abstract or full-text)"
   ]
  },
  {
   "cell_type": "code",
   "execution_count": null,
   "metadata": {},
   "outputs": [
    {
     "data": {
      "text/html": [
       "<div>\n",
       "<style scoped>\n",
       "    .dataframe tbody tr th:only-of-type {\n",
       "        vertical-align: middle;\n",
       "    }\n",
       "\n",
       "    .dataframe tbody tr th {\n",
       "        vertical-align: top;\n",
       "    }\n",
       "\n",
       "    .dataframe thead th {\n",
       "        text-align: right;\n",
       "    }\n",
       "</style>\n",
       "<table border=\"1\" class=\"dataframe\">\n",
       "  <thead>\n",
       "    <tr style=\"text-align: right;\">\n",
       "      <th></th>\n",
       "      <th>paper_id</th>\n",
       "      <th>title</th>\n",
       "      <th>abstract</th>\n",
       "      <th>full-text</th>\n",
       "    </tr>\n",
       "  </thead>\n",
       "  <tbody>\n",
       "    <tr>\n",
       "      <th>0</th>\n",
       "      <td>9f05493734433385ff6082f0d4368b93a9a6b3df</td>\n",
       "      <td>Journey of cystatins from being mere thiol pro...</td>\n",
       "      <td>Abstract\\n\\nCystatins are thiol proteinase inh...</td>\n",
       "      <td>Proteases\\n\\nProteases are enzymes that irreve...</td>\n",
       "    </tr>\n",
       "    <tr>\n",
       "      <th>2</th>\n",
       "      <td>97c2f4235923a5366f93d98a48f88b68e1941b21</td>\n",
       "      <td>Accurate Representations of the Microphysical ...</td>\n",
       "      <td>Abstract\\n\\nAerosols and droplets from expirat...</td>\n",
       "      <td>I. INTRODUCTION\\n\\nThe transmission of respira...</td>\n",
       "    </tr>\n",
       "    <tr>\n",
       "      <th>3</th>\n",
       "      <td>d327e343b221e242373be5e86d02a03afe4d250b</td>\n",
       "      <td>Journal Pre-proof RECOMENDACIONES DE CONSENSO ...</td>\n",
       "      <td>Abstract\\n\\nLa gran afectación pulmonar produc...</td>\n",
       "      <td>INTRODUCCION\\n\\nLa rápida progresión de la pan...</td>\n",
       "    </tr>\n",
       "    <tr>\n",
       "      <th>4</th>\n",
       "      <td>088e0fabcaf75dea9bc0e42ed2a85dc0cf677e02</td>\n",
       "      <td>Myofascial Release of the Hamstrings Improves ...</td>\n",
       "      <td>Abstract\\n\\nCitation: Itotani, K.; Kawahata, K...</td>\n",
       "      <td>Introduction\\n\\nIn 2020, COVID-19 had an impac...</td>\n",
       "    </tr>\n",
       "    <tr>\n",
       "      <th>6</th>\n",
       "      <td>48fb0f2ee0b3fd564e6988e24f443e54996ee24d</td>\n",
       "      <td>Deep Sequence Modeling for Pressure Controlled...</td>\n",
       "      <td>Abstract\\n\\nThis paper presents a deep neural ...</td>\n",
       "      <td>Introduction\\n\\nThe mechanical ventilator is a...</td>\n",
       "    </tr>\n",
       "  </tbody>\n",
       "</table>\n",
       "</div>"
      ],
      "text/plain": [
       "                                   paper_id  \\\n",
       "0  9f05493734433385ff6082f0d4368b93a9a6b3df   \n",
       "2  97c2f4235923a5366f93d98a48f88b68e1941b21   \n",
       "3  d327e343b221e242373be5e86d02a03afe4d250b   \n",
       "4  088e0fabcaf75dea9bc0e42ed2a85dc0cf677e02   \n",
       "6  48fb0f2ee0b3fd564e6988e24f443e54996ee24d   \n",
       "\n",
       "                                               title  \\\n",
       "0  Journey of cystatins from being mere thiol pro...   \n",
       "2  Accurate Representations of the Microphysical ...   \n",
       "3  Journal Pre-proof RECOMENDACIONES DE CONSENSO ...   \n",
       "4  Myofascial Release of the Hamstrings Improves ...   \n",
       "6  Deep Sequence Modeling for Pressure Controlled...   \n",
       "\n",
       "                                            abstract  \\\n",
       "0  Abstract\\n\\nCystatins are thiol proteinase inh...   \n",
       "2  Abstract\\n\\nAerosols and droplets from expirat...   \n",
       "3  Abstract\\n\\nLa gran afectación pulmonar produc...   \n",
       "4  Abstract\\n\\nCitation: Itotani, K.; Kawahata, K...   \n",
       "6  Abstract\\n\\nThis paper presents a deep neural ...   \n",
       "\n",
       "                                           full-text  \n",
       "0  Proteases\\n\\nProteases are enzymes that irreve...  \n",
       "2  I. INTRODUCTION\\n\\nThe transmission of respira...  \n",
       "3  INTRODUCCION\\n\\nLa rápida progresión de la pan...  \n",
       "4  Introduction\\n\\nIn 2020, COVID-19 had an impac...  \n",
       "6  Introduction\\n\\nThe mechanical ventilator is a...  "
      ]
     },
     "execution_count": 23,
     "metadata": {},
     "output_type": "execute_result"
    }
   ],
   "source": [
    "# Continue only with articles that have values in title and abstract\n",
    "df = df.dropna(subset=['title', 'abstract'])\n",
    "df.head()"
   ]
  },
  {
   "cell_type": "code",
   "execution_count": 25,
   "metadata": {},
   "outputs": [
    {
     "name": "stdout",
     "output_type": "stream",
     "text": [
      "Number of rows in df: 656\n"
     ]
    }
   ],
   "source": [
    "# Number of articles left in our sample dataset\n",
    "row_count = df.shape[0]\n",
    "print(f\"Number of rows in df: {row_count}\")"
   ]
  },
  {
   "cell_type": "code",
   "execution_count": 7,
   "metadata": {},
   "outputs": [
    {
     "data": {
      "text/plain": [
       "'Accurate Representations of the Microphysical Processes Occurring during the Transport of Exhaled Aerosols and Droplets'"
      ]
     },
     "execution_count": 7,
     "metadata": {},
     "output_type": "execute_result"
    }
   ],
   "source": [
    "# Check content of a particular article\n",
    "df[df.paper_id == '97c2f4235923a5366f93d98a48f88b68e1941b21']['title'].values[0]"
   ]
  },
  {
   "cell_type": "markdown",
   "metadata": {},
   "source": [
    "## 3) Baseline to evaluate Document Retrieval with RAG"
   ]
  },
  {
   "cell_type": "markdown",
   "metadata": {},
   "source": [
    "- Retrieve number of articles of a given topic e.g. \"vaccine\" + \"gender\" in abstract of articles.\n",
    "- RAG should at a minimum be able to identify the number of documents that mention these sample topics (\"vaccine\" and \"gender\") either in the title or abstract of an article.  \n",
    "- These articles serve as first baseline to see if RAG can roughly identify different topics and in this case retrieve successfully articles that correspond to the topics \"vaccine\" and \"gender\".\n",
    "- For a query about \"List research articles on covid 19 vaccine related to gender\" thats also the minimum list of articles our system should retrieve."
   ]
  },
  {
   "cell_type": "code",
   "execution_count": null,
   "metadata": {
    "vscode": {
     "languageId": "ruby"
    }
   },
   "outputs": [
    {
     "name": "stdout",
     "output_type": "stream",
     "text": [
      "Number of vaccine papers: 70\n",
      "Number of gender/sex papers: 18\n",
      "Number of vaccine papers related to gender: 4\n"
     ]
    }
   ],
   "source": [
    "# Baseline number of articles for our RAG model for three sample Covid-19 reasearch topics: \"vaccine\" , \"gender\", \"vaccine + gender\"\n",
    "num_vaccine_papers = vaccine_papers.shape[0]\n",
    "print(f\"Number of vaccine papers: {num_vaccine_papers}\")\n",
    "\n",
    "num_gender_papers = gender_papers.shape[0]\n",
    "print(f\"Number of gender/sex papers: {num_gender_papers}\")\n",
    "\n",
    "num_vaccine_gender_papers = vaccine_gender_papers.shape[0]\n",
    "print(f\"Number of vaccine papers related to gender: {num_vaccine_gender_papers}\")"
   ]
  },
  {
   "cell_type": "code",
   "execution_count": null,
   "metadata": {},
   "outputs": [
    {
     "data": {
      "text/html": [
       "<div>\n",
       "<style scoped>\n",
       "    .dataframe tbody tr th:only-of-type {\n",
       "        vertical-align: middle;\n",
       "    }\n",
       "\n",
       "    .dataframe tbody tr th {\n",
       "        vertical-align: top;\n",
       "    }\n",
       "\n",
       "    .dataframe thead th {\n",
       "        text-align: right;\n",
       "    }\n",
       "</style>\n",
       "<table border=\"1\" class=\"dataframe\">\n",
       "  <thead>\n",
       "    <tr style=\"text-align: right;\">\n",
       "      <th></th>\n",
       "      <th>paper_id</th>\n",
       "      <th>title</th>\n",
       "      <th>abstract</th>\n",
       "    </tr>\n",
       "  </thead>\n",
       "  <tbody>\n",
       "    <tr>\n",
       "      <th>18</th>\n",
       "      <td>d763a5d11cd12c3a973712c65064d3ebf7feeb5f</td>\n",
       "      <td>Public's perceptions of urban identity of Thes...</td>\n",
       "      <td>Abstract\\n\\nUrban identity (UI) is a multi-fac...</td>\n",
       "    </tr>\n",
       "    <tr>\n",
       "      <th>87</th>\n",
       "      <td>c715cb4f57f8b7678370f720f5b0cbddc2e4fbd7</td>\n",
       "      <td>Public Perception of COVID-19 Vaccines on Twit...</td>\n",
       "      <td>Abstract\\n\\nText Word Count: 2,971 using relev...</td>\n",
       "    </tr>\n",
       "    <tr>\n",
       "      <th>165</th>\n",
       "      <td>4c35240959b6db6d7b16e5552232275d5c0ae2c4</td>\n",
       "      <td>Increasing hip fracture volume following repea...</td>\n",
       "      <td>Abstract\\n\\nBackground Older age groups were i...</td>\n",
       "    </tr>\n",
       "    <tr>\n",
       "      <th>175</th>\n",
       "      <td>922a1754f95a739dbfcafacd71c8ff35333415a3</td>\n",
       "      <td>How has COVID-19 modified training and mood in...</td>\n",
       "      <td>Abstract\\n\\nBackground: Coronavirus disease 20...</td>\n",
       "    </tr>\n",
       "    <tr>\n",
       "      <th>300</th>\n",
       "      <td>88de67dcb3bbf297a26774f1e8a7483fafa5be59</td>\n",
       "      <td>Clinical Heterogeneity in ME/CFS. A Way to Und...</td>\n",
       "      <td>Abstract\\n\\nThe aim of present paper is to ide...</td>\n",
       "    </tr>\n",
       "    <tr>\n",
       "      <th>319</th>\n",
       "      <td>78cea81841181e70452effadfaf7ebac0d8065c8</td>\n",
       "      <td>Assessing preventive health behaviors from COV...</td>\n",
       "      <td>Abstract\\n\\nBackground: Coronavirus disease 20...</td>\n",
       "    </tr>\n",
       "    <tr>\n",
       "      <th>376</th>\n",
       "      <td>19a16062447188ef64e651ec009a8fbff11ec372</td>\n",
       "      <td>COVID-19 stressors and symptoms of depression ...</td>\n",
       "      <td>Abstract\\n\\nPurpose To examine associations be...</td>\n",
       "    </tr>\n",
       "    <tr>\n",
       "      <th>464</th>\n",
       "      <td>f99ce27c805506e8d51bf55775fccc7fd0c63fb9</td>\n",
       "      <td>Gender Bias: Another Rising Curve to Flatten?</td>\n",
       "      <td>Abstract\\n\\nThe COVID-19 pandemic and the uphe...</td>\n",
       "    </tr>\n",
       "    <tr>\n",
       "      <th>483</th>\n",
       "      <td>3e53918a21883b8decbc0b8f49ecccc6ae18025f</td>\n",
       "      <td>Relative Incidence of Office Visits and Cumula...</td>\n",
       "      <td>Abstract\\n\\nWe performed a retrospective analy...</td>\n",
       "    </tr>\n",
       "    <tr>\n",
       "      <th>517</th>\n",
       "      <td>656043e6a3ff882f09cef66f0b42f59661e44fbe</td>\n",
       "      <td>Structural equation modeling test of the pre- ...</td>\n",
       "      <td>Abstract\\n\\nBased on the Theory of Health Acti...</td>\n",
       "    </tr>\n",
       "    <tr>\n",
       "      <th>546</th>\n",
       "      <td>0feb315451c59ec433145b095453844f1e4b8623</td>\n",
       "      <td>Diets and dietary supplements used during the ...</td>\n",
       "      <td>Abstract\\n\\nIntroduction: Since the beginning ...</td>\n",
       "    </tr>\n",
       "    <tr>\n",
       "      <th>564</th>\n",
       "      <td>ef0b16d5dd94c7cbbcec498ae2572f8c990951d9</td>\n",
       "      <td>Demographic and Hygienic Factors as Predictors...</td>\n",
       "      <td>Abstract\\n\\nWearing a face mask has been recog...</td>\n",
       "    </tr>\n",
       "    <tr>\n",
       "      <th>663</th>\n",
       "      <td>7861b57e047e2de995b81ba445efa2543adebdaf</td>\n",
       "      <td>Empirically derived profiles of homework purpo...</td>\n",
       "      <td>Abstract\\n\\nInformed by expectation-value theo...</td>\n",
       "    </tr>\n",
       "    <tr>\n",
       "      <th>691</th>\n",
       "      <td>5f6688f081900f0c2e24e7f96ee04821d2df3709</td>\n",
       "      <td>Spanish Version of the Attitude Towards COVID-...</td>\n",
       "      <td>Abstract\\n\\nThe negative attitude to vaccines ...</td>\n",
       "    </tr>\n",
       "    <tr>\n",
       "      <th>733</th>\n",
       "      <td>58e3c6a13cc859b702f098cea2dffc82ad2b74e4</td>\n",
       "      <td>Primary non-adherence to inhaled medications m...</td>\n",
       "      <td>Abstract\\n\\nBackground: Treatment adherence gr...</td>\n",
       "    </tr>\n",
       "    <tr>\n",
       "      <th>821</th>\n",
       "      <td>b3adcf0f8222e70f5a5c1c34415b8bbdce599ad4</td>\n",
       "      <td>Prognostic factors of chest CT findings for IC...</td>\n",
       "      <td>Abstract\\n\\nBackground: Studies have shown tha...</td>\n",
       "    </tr>\n",
       "    <tr>\n",
       "      <th>900</th>\n",
       "      <td>15bbe77ec603c2067149a91cffe0d39c2fa396d7</td>\n",
       "      <td>Journal Pre-proof Prognostic properties of hyp...</td>\n",
       "      <td>Abstract\\n\\nPlease cite this article as: Mulya...</td>\n",
       "    </tr>\n",
       "    <tr>\n",
       "      <th>966</th>\n",
       "      <td>a14b8193daf09d4bf5bec114e4b4940c6296dc32</td>\n",
       "      <td>Behavioral gender differences are reinforced d...</td>\n",
       "      <td>Abstract\\n\\nBehavioral gender differences have...</td>\n",
       "    </tr>\n",
       "  </tbody>\n",
       "</table>\n",
       "</div>"
      ],
      "text/plain": [
       "                                     paper_id  \\\n",
       "18   d763a5d11cd12c3a973712c65064d3ebf7feeb5f   \n",
       "87   c715cb4f57f8b7678370f720f5b0cbddc2e4fbd7   \n",
       "165  4c35240959b6db6d7b16e5552232275d5c0ae2c4   \n",
       "175  922a1754f95a739dbfcafacd71c8ff35333415a3   \n",
       "300  88de67dcb3bbf297a26774f1e8a7483fafa5be59   \n",
       "319  78cea81841181e70452effadfaf7ebac0d8065c8   \n",
       "376  19a16062447188ef64e651ec009a8fbff11ec372   \n",
       "464  f99ce27c805506e8d51bf55775fccc7fd0c63fb9   \n",
       "483  3e53918a21883b8decbc0b8f49ecccc6ae18025f   \n",
       "517  656043e6a3ff882f09cef66f0b42f59661e44fbe   \n",
       "546  0feb315451c59ec433145b095453844f1e4b8623   \n",
       "564  ef0b16d5dd94c7cbbcec498ae2572f8c990951d9   \n",
       "663  7861b57e047e2de995b81ba445efa2543adebdaf   \n",
       "691  5f6688f081900f0c2e24e7f96ee04821d2df3709   \n",
       "733  58e3c6a13cc859b702f098cea2dffc82ad2b74e4   \n",
       "821  b3adcf0f8222e70f5a5c1c34415b8bbdce599ad4   \n",
       "900  15bbe77ec603c2067149a91cffe0d39c2fa396d7   \n",
       "966  a14b8193daf09d4bf5bec114e4b4940c6296dc32   \n",
       "\n",
       "                                                 title  \\\n",
       "18   Public's perceptions of urban identity of Thes...   \n",
       "87   Public Perception of COVID-19 Vaccines on Twit...   \n",
       "165  Increasing hip fracture volume following repea...   \n",
       "175  How has COVID-19 modified training and mood in...   \n",
       "300  Clinical Heterogeneity in ME/CFS. A Way to Und...   \n",
       "319  Assessing preventive health behaviors from COV...   \n",
       "376  COVID-19 stressors and symptoms of depression ...   \n",
       "464      Gender Bias: Another Rising Curve to Flatten?   \n",
       "483  Relative Incidence of Office Visits and Cumula...   \n",
       "517  Structural equation modeling test of the pre- ...   \n",
       "546  Diets and dietary supplements used during the ...   \n",
       "564  Demographic and Hygienic Factors as Predictors...   \n",
       "663  Empirically derived profiles of homework purpo...   \n",
       "691  Spanish Version of the Attitude Towards COVID-...   \n",
       "733  Primary non-adherence to inhaled medications m...   \n",
       "821  Prognostic factors of chest CT findings for IC...   \n",
       "900  Journal Pre-proof Prognostic properties of hyp...   \n",
       "966  Behavioral gender differences are reinforced d...   \n",
       "\n",
       "                                              abstract  \n",
       "18   Abstract\\n\\nUrban identity (UI) is a multi-fac...  \n",
       "87   Abstract\\n\\nText Word Count: 2,971 using relev...  \n",
       "165  Abstract\\n\\nBackground Older age groups were i...  \n",
       "175  Abstract\\n\\nBackground: Coronavirus disease 20...  \n",
       "300  Abstract\\n\\nThe aim of present paper is to ide...  \n",
       "319  Abstract\\n\\nBackground: Coronavirus disease 20...  \n",
       "376  Abstract\\n\\nPurpose To examine associations be...  \n",
       "464  Abstract\\n\\nThe COVID-19 pandemic and the uphe...  \n",
       "483  Abstract\\n\\nWe performed a retrospective analy...  \n",
       "517  Abstract\\n\\nBased on the Theory of Health Acti...  \n",
       "546  Abstract\\n\\nIntroduction: Since the beginning ...  \n",
       "564  Abstract\\n\\nWearing a face mask has been recog...  \n",
       "663  Abstract\\n\\nInformed by expectation-value theo...  \n",
       "691  Abstract\\n\\nThe negative attitude to vaccines ...  \n",
       "733  Abstract\\n\\nBackground: Treatment adherence gr...  \n",
       "821  Abstract\\n\\nBackground: Studies have shown tha...  \n",
       "900  Abstract\\n\\nPlease cite this article as: Mulya...  \n",
       "966  Abstract\\n\\nBehavioral gender differences have...  "
      ]
     },
     "execution_count": 30,
     "metadata": {},
     "output_type": "execute_result"
    }
   ],
   "source": [
    "# For us to \"roughly\" check if RAG is retrieving a reasonable number of articles on \"gender\"/ \"sex\"\n",
    "# Filter the dataframe for papers where the abstract contains the word 'gender' or 'sex'\n",
    "gender_papers = df[df['abstract'].str.contains('gender' or 'sex', case=False, na=False)][['paper_id', 'title', 'abstract']]\n",
    "\n",
    "# Display the filtered dataframe\n",
    "gender_papers"
   ]
  },
  {
   "cell_type": "code",
   "execution_count": null,
   "metadata": {},
   "outputs": [
    {
     "data": {
      "text/html": [
       "<div>\n",
       "<style scoped>\n",
       "    .dataframe tbody tr th:only-of-type {\n",
       "        vertical-align: middle;\n",
       "    }\n",
       "\n",
       "    .dataframe tbody tr th {\n",
       "        vertical-align: top;\n",
       "    }\n",
       "\n",
       "    .dataframe thead th {\n",
       "        text-align: right;\n",
       "    }\n",
       "</style>\n",
       "<table border=\"1\" class=\"dataframe\">\n",
       "  <thead>\n",
       "    <tr style=\"text-align: right;\">\n",
       "      <th></th>\n",
       "      <th>paper_id</th>\n",
       "      <th>title</th>\n",
       "      <th>abstract</th>\n",
       "    </tr>\n",
       "  </thead>\n",
       "  <tbody>\n",
       "    <tr>\n",
       "      <th>61</th>\n",
       "      <td>1c3021528dea5b342a90fa28d3a4477315602eb9</td>\n",
       "      <td>CLINICAL EXPERIMENTAL VACCINE RESEARCH K O R E...</td>\n",
       "      <td>Abstract\\n\\nPurpose: This study aims to compar...</td>\n",
       "    </tr>\n",
       "    <tr>\n",
       "      <th>70</th>\n",
       "      <td>c5db08a4925ae08d69530ee3c2bb263f8fd9fca4</td>\n",
       "      <td>Characterization of spike glycoprotein of SARS...</td>\n",
       "      <td>Abstract\\n\\nSince 2002, beta coronaviruses (Co...</td>\n",
       "    </tr>\n",
       "    <tr>\n",
       "      <th>79</th>\n",
       "      <td>ab8241179f1277eb3c5b90f9e1d2bc4bd974aadf</td>\n",
       "      <td>Journal Pre-proof Assessing the efficacy of in...</td>\n",
       "      <td>Abstract\\n\\nPlease cite this article as: Trevo...</td>\n",
       "    </tr>\n",
       "    <tr>\n",
       "      <th>83</th>\n",
       "      <td>ff42e013c390fdf9c34101eb13d93817dbe0371f</td>\n",
       "      <td>R E V I E W Advances in Neutralization Assays ...</td>\n",
       "      <td>Abstract\\n\\nThe coronavirus disease 2019 (COVI...</td>\n",
       "    </tr>\n",
       "    <tr>\n",
       "      <th>87</th>\n",
       "      <td>c715cb4f57f8b7678370f720f5b0cbddc2e4fbd7</td>\n",
       "      <td>Public Perception of COVID-19 Vaccines on Twit...</td>\n",
       "      <td>Abstract\\n\\nText Word Count: 2,971 using relev...</td>\n",
       "    </tr>\n",
       "    <tr>\n",
       "      <th>...</th>\n",
       "      <td>...</td>\n",
       "      <td>...</td>\n",
       "      <td>...</td>\n",
       "    </tr>\n",
       "    <tr>\n",
       "      <th>940</th>\n",
       "      <td>e283c964691d950836fd62790ff4c032b8b1a56a</td>\n",
       "      <td>molecules Evaluation of the Inhibitory Effects...</td>\n",
       "      <td>Abstract\\n\\nDiNap [(E)-1-(2-hydroxy-4,6-dimeth...</td>\n",
       "    </tr>\n",
       "    <tr>\n",
       "      <th>946</th>\n",
       "      <td>84ef3ad08ba26c368ee84953c55027054f049cb9</td>\n",
       "      <td>Vaccines and myasthenia gravis: a comprehensiv...</td>\n",
       "      <td>Abstract\\n\\nIntroduction Myasthenia gravis (MG...</td>\n",
       "    </tr>\n",
       "    <tr>\n",
       "      <th>947</th>\n",
       "      <td>e64cdcafab3a127a035f29739ed7f27a48352c8b</td>\n",
       "      <td>To appear in: Vaccine</td>\n",
       "      <td>Abstract\\n\\nThe safety and immunogenicity of a...</td>\n",
       "    </tr>\n",
       "    <tr>\n",
       "      <th>980</th>\n",
       "      <td>595b4da638d33d86ed49b55090e444a9aad479fd</td>\n",
       "      <td>Development of antibodies to feline IFN-g as t...</td>\n",
       "      <td>Abstract\\n\\nAn understanding of the nature of ...</td>\n",
       "    </tr>\n",
       "    <tr>\n",
       "      <th>992</th>\n",
       "      <td>bdf792e4926c969d28601c9036a8edfe5f6ef189</td>\n",
       "      <td>Mix-and-Match System for the Enzymatic Synthes...</td>\n",
       "      <td>Abstract\\n\\nCapsule polymers are crucial virul...</td>\n",
       "    </tr>\n",
       "  </tbody>\n",
       "</table>\n",
       "<p>70 rows × 3 columns</p>\n",
       "</div>"
      ],
      "text/plain": [
       "                                     paper_id  \\\n",
       "61   1c3021528dea5b342a90fa28d3a4477315602eb9   \n",
       "70   c5db08a4925ae08d69530ee3c2bb263f8fd9fca4   \n",
       "79   ab8241179f1277eb3c5b90f9e1d2bc4bd974aadf   \n",
       "83   ff42e013c390fdf9c34101eb13d93817dbe0371f   \n",
       "87   c715cb4f57f8b7678370f720f5b0cbddc2e4fbd7   \n",
       "..                                        ...   \n",
       "940  e283c964691d950836fd62790ff4c032b8b1a56a   \n",
       "946  84ef3ad08ba26c368ee84953c55027054f049cb9   \n",
       "947  e64cdcafab3a127a035f29739ed7f27a48352c8b   \n",
       "980  595b4da638d33d86ed49b55090e444a9aad479fd   \n",
       "992  bdf792e4926c969d28601c9036a8edfe5f6ef189   \n",
       "\n",
       "                                                 title  \\\n",
       "61   CLINICAL EXPERIMENTAL VACCINE RESEARCH K O R E...   \n",
       "70   Characterization of spike glycoprotein of SARS...   \n",
       "79   Journal Pre-proof Assessing the efficacy of in...   \n",
       "83   R E V I E W Advances in Neutralization Assays ...   \n",
       "87   Public Perception of COVID-19 Vaccines on Twit...   \n",
       "..                                                 ...   \n",
       "940  molecules Evaluation of the Inhibitory Effects...   \n",
       "946  Vaccines and myasthenia gravis: a comprehensiv...   \n",
       "947                              To appear in: Vaccine   \n",
       "980  Development of antibodies to feline IFN-g as t...   \n",
       "992  Mix-and-Match System for the Enzymatic Synthes...   \n",
       "\n",
       "                                              abstract  \n",
       "61   Abstract\\n\\nPurpose: This study aims to compar...  \n",
       "70   Abstract\\n\\nSince 2002, beta coronaviruses (Co...  \n",
       "79   Abstract\\n\\nPlease cite this article as: Trevo...  \n",
       "83   Abstract\\n\\nThe coronavirus disease 2019 (COVI...  \n",
       "87   Abstract\\n\\nText Word Count: 2,971 using relev...  \n",
       "..                                                 ...  \n",
       "940  Abstract\\n\\nDiNap [(E)-1-(2-hydroxy-4,6-dimeth...  \n",
       "946  Abstract\\n\\nIntroduction Myasthenia gravis (MG...  \n",
       "947  Abstract\\n\\nThe safety and immunogenicity of a...  \n",
       "980  Abstract\\n\\nAn understanding of the nature of ...  \n",
       "992  Abstract\\n\\nCapsule polymers are crucial virul...  \n",
       "\n",
       "[70 rows x 3 columns]"
      ]
     },
     "execution_count": 8,
     "metadata": {},
     "output_type": "execute_result"
    }
   ],
   "source": [
    "# For us to \"roughly\" check if RAG is retrieving a reasonable number of articles on \"vaccines\"\n",
    "# Filter the dataframe for papers where the abstract contains the word 'vaccine'\n",
    "vaccine_papers = df[df['abstract'].str.contains('vaccine', case=False, na=False)][['paper_id', 'title', 'abstract']]\n",
    "\n",
    "# Display the filtered dataframe\n",
    "vaccine_papers"
   ]
  },
  {
   "cell_type": "code",
   "execution_count": 9,
   "metadata": {},
   "outputs": [
    {
     "data": {
      "text/plain": [
       "(70, 3)"
      ]
     },
     "execution_count": 9,
     "metadata": {},
     "output_type": "execute_result"
    }
   ],
   "source": [
    "vaccine_papers.shape"
   ]
  },
  {
   "cell_type": "code",
   "execution_count": null,
   "metadata": {},
   "outputs": [],
   "source": []
  },
  {
   "cell_type": "code",
   "execution_count": 27,
   "metadata": {},
   "outputs": [
    {
     "data": {
      "text/html": [
       "<div>\n",
       "<style scoped>\n",
       "    .dataframe tbody tr th:only-of-type {\n",
       "        vertical-align: middle;\n",
       "    }\n",
       "\n",
       "    .dataframe tbody tr th {\n",
       "        vertical-align: top;\n",
       "    }\n",
       "\n",
       "    .dataframe thead th {\n",
       "        text-align: right;\n",
       "    }\n",
       "</style>\n",
       "<table border=\"1\" class=\"dataframe\">\n",
       "  <thead>\n",
       "    <tr style=\"text-align: right;\">\n",
       "      <th></th>\n",
       "      <th>paper_id</th>\n",
       "      <th>title</th>\n",
       "      <th>abstract</th>\n",
       "    </tr>\n",
       "  </thead>\n",
       "  <tbody>\n",
       "    <tr>\n",
       "      <th>87</th>\n",
       "      <td>c715cb4f57f8b7678370f720f5b0cbddc2e4fbd7</td>\n",
       "      <td>Public Perception of COVID-19 Vaccines on Twit...</td>\n",
       "      <td>Abstract\\n\\nText Word Count: 2,971 using relev...</td>\n",
       "    </tr>\n",
       "    <tr>\n",
       "      <th>319</th>\n",
       "      <td>78cea81841181e70452effadfaf7ebac0d8065c8</td>\n",
       "      <td>Assessing preventive health behaviors from COV...</td>\n",
       "      <td>Abstract\\n\\nBackground: Coronavirus disease 20...</td>\n",
       "    </tr>\n",
       "    <tr>\n",
       "      <th>483</th>\n",
       "      <td>3e53918a21883b8decbc0b8f49ecccc6ae18025f</td>\n",
       "      <td>Relative Incidence of Office Visits and Cumula...</td>\n",
       "      <td>Abstract\\n\\nWe performed a retrospective analy...</td>\n",
       "    </tr>\n",
       "    <tr>\n",
       "      <th>691</th>\n",
       "      <td>5f6688f081900f0c2e24e7f96ee04821d2df3709</td>\n",
       "      <td>Spanish Version of the Attitude Towards COVID-...</td>\n",
       "      <td>Abstract\\n\\nThe negative attitude to vaccines ...</td>\n",
       "    </tr>\n",
       "  </tbody>\n",
       "</table>\n",
       "</div>"
      ],
      "text/plain": [
       "                                     paper_id  \\\n",
       "87   c715cb4f57f8b7678370f720f5b0cbddc2e4fbd7   \n",
       "319  78cea81841181e70452effadfaf7ebac0d8065c8   \n",
       "483  3e53918a21883b8decbc0b8f49ecccc6ae18025f   \n",
       "691  5f6688f081900f0c2e24e7f96ee04821d2df3709   \n",
       "\n",
       "                                                 title  \\\n",
       "87   Public Perception of COVID-19 Vaccines on Twit...   \n",
       "319  Assessing preventive health behaviors from COV...   \n",
       "483  Relative Incidence of Office Visits and Cumula...   \n",
       "691  Spanish Version of the Attitude Towards COVID-...   \n",
       "\n",
       "                                              abstract  \n",
       "87   Abstract\\n\\nText Word Count: 2,971 using relev...  \n",
       "319  Abstract\\n\\nBackground: Coronavirus disease 20...  \n",
       "483  Abstract\\n\\nWe performed a retrospective analy...  \n",
       "691  Abstract\\n\\nThe negative attitude to vaccines ...  "
      ]
     },
     "execution_count": 27,
     "metadata": {},
     "output_type": "execute_result"
    }
   ],
   "source": [
    "# Filter the vaccine_papers for papers where the abstract contains the word 'gender'\n",
    "vaccine_gender_papers = vaccine_papers[vaccine_papers['abstract'].str.contains('gender' or 'sex', case=False, na=False)]\n",
    "\n",
    "# Display a sample set of the filtered dataframe\n",
    "vaccine_gender_papers.head()"
   ]
  },
  {
   "cell_type": "code",
   "execution_count": 28,
   "metadata": {},
   "outputs": [
    {
     "data": {
      "text/plain": [
       "(4, 3)"
      ]
     },
     "execution_count": 28,
     "metadata": {},
     "output_type": "execute_result"
    }
   ],
   "source": [
    "vaccine_gender_papers.shape"
   ]
  },
  {
   "cell_type": "code",
   "execution_count": 29,
   "metadata": {},
   "outputs": [
    {
     "data": {
      "text/plain": [
       "\"Abstract\\n\\nBackground: Coronavirus disease 2019 (COVID-19) is a new viral disease that has caused a pandemic in the world. Due to the lack of vaccines and definitive treatment, preventive behaviors are the only way to overcome the disease. Therefore, the present study aimed to determine the preventive behaviors from the disease based on constructs of the health belief model.In the present cross-sectional study during March 11-16, 2020, 750 individuals in Golestan Province of Iran were included in the study using the convenience sampling and they completed the questionnaires through cyberspace. Factor scores were calculated using the confirmatory factor analysis. The effects of different factors were separately investigated using the univariate analyses, including students sample t-test, ANOVA, and simple linear regression. Finally, the effective factors were examined by the multiple regression analysis at a significant level of 0.05 and through Mplus 7 and SPSS 16.Results: The participants' mean age was 33.9 ± 9.45 years; and 57.1% of them had associate and bachelor's degrees. Multiple regression indicated that the mean score of preventive behavior from COVID-19 was higher in females than males, and greater in urban dwellers than rural dwellers. Furthermore, one unit increase in the standard deviation of factor scores of self-efficacy and perceived benefits increased the scores of preventive behavior from COVID-19 by 0.22 and 0.17 units respectively. On the contrary, one unit increase in the standard deviation of factor score of perceived barriers and fatalistic beliefs decreased the scores of the preventive behavior from COVID-19 by 0.36 and 0.19 units respectively.Results of the present study indicated that female gender, perceived barriers, perceived self-efficacy, fatalistic beliefs, perceived interests, and living in city had the greatest preventive behaviors from COVID-19 respectively. Preventive interventions were necessary among males and villagers.\\n\\n\""
      ]
     },
     "execution_count": 29,
     "metadata": {},
     "output_type": "execute_result"
    }
   ],
   "source": [
    "vaccine_gender_papers[gender_papers.paper_id== '78cea81841181e70452effadfaf7ebac0d8065c8']['abstract'].values[0]"
   ]
  },
  {
   "cell_type": "code",
   "execution_count": null,
   "metadata": {},
   "outputs": [],
   "source": []
  }
 ],
 "metadata": {
  "kernelspec": {
   "display_name": "Sci_papers",
   "language": "python",
   "name": "python3"
  },
  "language_info": {
   "codemirror_mode": {
    "name": "ipython",
    "version": 3
   },
   "file_extension": ".py",
   "mimetype": "text/x-python",
   "name": "python",
   "nbconvert_exporter": "python",
   "pygments_lexer": "ipython3",
   "version": "3.10.6"
  }
 },
 "nbformat": 4,
 "nbformat_minor": 2
}
