{
  "metadata": {
    "kernelspec": {
      "display_name": "Python 3",
      "name": "python3"
    },
    "language_info": {
      "name": "python",
      "version": "3.10.12",
      "mimetype": "text/x-python",
      "codemirror_mode": {
        "name": "ipython",
        "version": 3
      },
      "pygments_lexer": "ipython3",
      "nbconvert_exporter": "python",
      "file_extension": ".py"
    },
    "kaggle": {
      "accelerator": "none",
      "dataSources": [
        {
          "sourceType": "datasetVersion",
          "sourceId": 3756201,
          "datasetId": 551982,
          "databundleVersionId": 3810704
        },
        {
          "sourceType": "modelInstanceVersion",
          "sourceId": 282751,
          "databundleVersionId": 11375937,
          "modelInstanceId": 239470
        }
      ],
      "dockerImageVersionId": 30918,
      "isInternetEnabled": true,
      "language": "python",
      "sourceType": "notebook",
      "isGpuEnabled": false
    },
    "colab": {
      "provenance": []
    },
    "widgets": {
      "application/vnd.jupyter.widget-state+json": {
        "8e88dde160ed42fd937c3f1043aaf092": {
          "model_module": "@jupyter-widgets/controls",
          "model_name": "HBoxModel",
          "model_module_version": "1.5.0",
          "state": {
            "_dom_classes": [],
            "_model_module": "@jupyter-widgets/controls",
            "_model_module_version": "1.5.0",
            "_model_name": "HBoxModel",
            "_view_count": null,
            "_view_module": "@jupyter-widgets/controls",
            "_view_module_version": "1.5.0",
            "_view_name": "HBoxView",
            "box_style": "",
            "children": [
              "IPY_MODEL_839104c199754719ba40c7fa74537697",
              "IPY_MODEL_8e0d712b7c8648af8fd7bc9ad9237ecd",
              "IPY_MODEL_63311ac3ff3c4ae7a19da0fb3500d722"
            ],
            "layout": "IPY_MODEL_16182a41a5364688a70e2e3a2aff5c3e"
          }
        },
        "839104c199754719ba40c7fa74537697": {
          "model_module": "@jupyter-widgets/controls",
          "model_name": "HTMLModel",
          "model_module_version": "1.5.0",
          "state": {
            "_dom_classes": [],
            "_model_module": "@jupyter-widgets/controls",
            "_model_module_version": "1.5.0",
            "_model_name": "HTMLModel",
            "_view_count": null,
            "_view_module": "@jupyter-widgets/controls",
            "_view_module_version": "1.5.0",
            "_view_name": "HTMLView",
            "description": "",
            "description_tooltip": null,
            "layout": "IPY_MODEL_902598eece154ef4bee69985d180ebef",
            "placeholder": "​",
            "style": "IPY_MODEL_e0361b3f65294da1b3eb1100d7d46f74",
            "value": "tokenizer_config.json: 100%"
          }
        },
        "8e0d712b7c8648af8fd7bc9ad9237ecd": {
          "model_module": "@jupyter-widgets/controls",
          "model_name": "FloatProgressModel",
          "model_module_version": "1.5.0",
          "state": {
            "_dom_classes": [],
            "_model_module": "@jupyter-widgets/controls",
            "_model_module_version": "1.5.0",
            "_model_name": "FloatProgressModel",
            "_view_count": null,
            "_view_module": "@jupyter-widgets/controls",
            "_view_module_version": "1.5.0",
            "_view_name": "ProgressView",
            "bar_style": "success",
            "description": "",
            "description_tooltip": null,
            "layout": "IPY_MODEL_161d6ee2de714268b65237b0be593418",
            "max": 1156999,
            "min": 0,
            "orientation": "horizontal",
            "style": "IPY_MODEL_ddacb81c012d43a9a862b35c0b6d2ca1",
            "value": 1156999
          }
        },
        "63311ac3ff3c4ae7a19da0fb3500d722": {
          "model_module": "@jupyter-widgets/controls",
          "model_name": "HTMLModel",
          "model_module_version": "1.5.0",
          "state": {
            "_dom_classes": [],
            "_model_module": "@jupyter-widgets/controls",
            "_model_module_version": "1.5.0",
            "_model_name": "HTMLModel",
            "_view_count": null,
            "_view_module": "@jupyter-widgets/controls",
            "_view_module_version": "1.5.0",
            "_view_name": "HTMLView",
            "description": "",
            "description_tooltip": null,
            "layout": "IPY_MODEL_702de3186f5b4810baf9ca433c8b19ad",
            "placeholder": "​",
            "style": "IPY_MODEL_bdd8c70a489d4a698b15b9034f732b51",
            "value": " 1.16M/1.16M [00:00&lt;00:00, 6.77MB/s]"
          }
        },
        "16182a41a5364688a70e2e3a2aff5c3e": {
          "model_module": "@jupyter-widgets/base",
          "model_name": "LayoutModel",
          "model_module_version": "1.2.0",
          "state": {
            "_model_module": "@jupyter-widgets/base",
            "_model_module_version": "1.2.0",
            "_model_name": "LayoutModel",
            "_view_count": null,
            "_view_module": "@jupyter-widgets/base",
            "_view_module_version": "1.2.0",
            "_view_name": "LayoutView",
            "align_content": null,
            "align_items": null,
            "align_self": null,
            "border": null,
            "bottom": null,
            "display": null,
            "flex": null,
            "flex_flow": null,
            "grid_area": null,
            "grid_auto_columns": null,
            "grid_auto_flow": null,
            "grid_auto_rows": null,
            "grid_column": null,
            "grid_gap": null,
            "grid_row": null,
            "grid_template_areas": null,
            "grid_template_columns": null,
            "grid_template_rows": null,
            "height": null,
            "justify_content": null,
            "justify_items": null,
            "left": null,
            "margin": null,
            "max_height": null,
            "max_width": null,
            "min_height": null,
            "min_width": null,
            "object_fit": null,
            "object_position": null,
            "order": null,
            "overflow": null,
            "overflow_x": null,
            "overflow_y": null,
            "padding": null,
            "right": null,
            "top": null,
            "visibility": null,
            "width": null
          }
        },
        "902598eece154ef4bee69985d180ebef": {
          "model_module": "@jupyter-widgets/base",
          "model_name": "LayoutModel",
          "model_module_version": "1.2.0",
          "state": {
            "_model_module": "@jupyter-widgets/base",
            "_model_module_version": "1.2.0",
            "_model_name": "LayoutModel",
            "_view_count": null,
            "_view_module": "@jupyter-widgets/base",
            "_view_module_version": "1.2.0",
            "_view_name": "LayoutView",
            "align_content": null,
            "align_items": null,
            "align_self": null,
            "border": null,
            "bottom": null,
            "display": null,
            "flex": null,
            "flex_flow": null,
            "grid_area": null,
            "grid_auto_columns": null,
            "grid_auto_flow": null,
            "grid_auto_rows": null,
            "grid_column": null,
            "grid_gap": null,
            "grid_row": null,
            "grid_template_areas": null,
            "grid_template_columns": null,
            "grid_template_rows": null,
            "height": null,
            "justify_content": null,
            "justify_items": null,
            "left": null,
            "margin": null,
            "max_height": null,
            "max_width": null,
            "min_height": null,
            "min_width": null,
            "object_fit": null,
            "object_position": null,
            "order": null,
            "overflow": null,
            "overflow_x": null,
            "overflow_y": null,
            "padding": null,
            "right": null,
            "top": null,
            "visibility": null,
            "width": null
          }
        },
        "e0361b3f65294da1b3eb1100d7d46f74": {
          "model_module": "@jupyter-widgets/controls",
          "model_name": "DescriptionStyleModel",
          "model_module_version": "1.5.0",
          "state": {
            "_model_module": "@jupyter-widgets/controls",
            "_model_module_version": "1.5.0",
            "_model_name": "DescriptionStyleModel",
            "_view_count": null,
            "_view_module": "@jupyter-widgets/base",
            "_view_module_version": "1.2.0",
            "_view_name": "StyleView",
            "description_width": ""
          }
        },
        "161d6ee2de714268b65237b0be593418": {
          "model_module": "@jupyter-widgets/base",
          "model_name": "LayoutModel",
          "model_module_version": "1.2.0",
          "state": {
            "_model_module": "@jupyter-widgets/base",
            "_model_module_version": "1.2.0",
            "_model_name": "LayoutModel",
            "_view_count": null,
            "_view_module": "@jupyter-widgets/base",
            "_view_module_version": "1.2.0",
            "_view_name": "LayoutView",
            "align_content": null,
            "align_items": null,
            "align_self": null,
            "border": null,
            "bottom": null,
            "display": null,
            "flex": null,
            "flex_flow": null,
            "grid_area": null,
            "grid_auto_columns": null,
            "grid_auto_flow": null,
            "grid_auto_rows": null,
            "grid_column": null,
            "grid_gap": null,
            "grid_row": null,
            "grid_template_areas": null,
            "grid_template_columns": null,
            "grid_template_rows": null,
            "height": null,
            "justify_content": null,
            "justify_items": null,
            "left": null,
            "margin": null,
            "max_height": null,
            "max_width": null,
            "min_height": null,
            "min_width": null,
            "object_fit": null,
            "object_position": null,
            "order": null,
            "overflow": null,
            "overflow_x": null,
            "overflow_y": null,
            "padding": null,
            "right": null,
            "top": null,
            "visibility": null,
            "width": null
          }
        },
        "ddacb81c012d43a9a862b35c0b6d2ca1": {
          "model_module": "@jupyter-widgets/controls",
          "model_name": "ProgressStyleModel",
          "model_module_version": "1.5.0",
          "state": {
            "_model_module": "@jupyter-widgets/controls",
            "_model_module_version": "1.5.0",
            "_model_name": "ProgressStyleModel",
            "_view_count": null,
            "_view_module": "@jupyter-widgets/base",
            "_view_module_version": "1.2.0",
            "_view_name": "StyleView",
            "bar_color": null,
            "description_width": ""
          }
        },
        "702de3186f5b4810baf9ca433c8b19ad": {
          "model_module": "@jupyter-widgets/base",
          "model_name": "LayoutModel",
          "model_module_version": "1.2.0",
          "state": {
            "_model_module": "@jupyter-widgets/base",
            "_model_module_version": "1.2.0",
            "_model_name": "LayoutModel",
            "_view_count": null,
            "_view_module": "@jupyter-widgets/base",
            "_view_module_version": "1.2.0",
            "_view_name": "LayoutView",
            "align_content": null,
            "align_items": null,
            "align_self": null,
            "border": null,
            "bottom": null,
            "display": null,
            "flex": null,
            "flex_flow": null,
            "grid_area": null,
            "grid_auto_columns": null,
            "grid_auto_flow": null,
            "grid_auto_rows": null,
            "grid_column": null,
            "grid_gap": null,
            "grid_row": null,
            "grid_template_areas": null,
            "grid_template_columns": null,
            "grid_template_rows": null,
            "height": null,
            "justify_content": null,
            "justify_items": null,
            "left": null,
            "margin": null,
            "max_height": null,
            "max_width": null,
            "min_height": null,
            "min_width": null,
            "object_fit": null,
            "object_position": null,
            "order": null,
            "overflow": null,
            "overflow_x": null,
            "overflow_y": null,
            "padding": null,
            "right": null,
            "top": null,
            "visibility": null,
            "width": null
          }
        },
        "bdd8c70a489d4a698b15b9034f732b51": {
          "model_module": "@jupyter-widgets/controls",
          "model_name": "DescriptionStyleModel",
          "model_module_version": "1.5.0",
          "state": {
            "_model_module": "@jupyter-widgets/controls",
            "_model_module_version": "1.5.0",
            "_model_name": "DescriptionStyleModel",
            "_view_count": null,
            "_view_module": "@jupyter-widgets/base",
            "_view_module_version": "1.2.0",
            "_view_name": "StyleView",
            "description_width": ""
          }
        },
        "7b6820e4e9d5491da3c11cce05e4ae9b": {
          "model_module": "@jupyter-widgets/controls",
          "model_name": "HBoxModel",
          "model_module_version": "1.5.0",
          "state": {
            "_dom_classes": [],
            "_model_module": "@jupyter-widgets/controls",
            "_model_module_version": "1.5.0",
            "_model_name": "HBoxModel",
            "_view_count": null,
            "_view_module": "@jupyter-widgets/controls",
            "_view_module_version": "1.5.0",
            "_view_name": "HBoxView",
            "box_style": "",
            "children": [
              "IPY_MODEL_2a8b8485d701401abd6fd3a9aeaab2a5",
              "IPY_MODEL_cafe091bc3dc4a4b84284de4ddbb8069",
              "IPY_MODEL_4738a44272254d23ae376f0db049f0a7"
            ],
            "layout": "IPY_MODEL_39e2b5b08e8b416b86d1ba23a677e47d"
          }
        },
        "2a8b8485d701401abd6fd3a9aeaab2a5": {
          "model_module": "@jupyter-widgets/controls",
          "model_name": "HTMLModel",
          "model_module_version": "1.5.0",
          "state": {
            "_dom_classes": [],
            "_model_module": "@jupyter-widgets/controls",
            "_model_module_version": "1.5.0",
            "_model_name": "HTMLModel",
            "_view_count": null,
            "_view_module": "@jupyter-widgets/controls",
            "_view_module_version": "1.5.0",
            "_view_name": "HTMLView",
            "description": "",
            "description_tooltip": null,
            "layout": "IPY_MODEL_11e8de4cecb54635b0d4e5bc6e524634",
            "placeholder": "​",
            "style": "IPY_MODEL_a60aa8655bba41038d5c1f3af352ef63",
            "value": "tokenizer.model: 100%"
          }
        },
        "cafe091bc3dc4a4b84284de4ddbb8069": {
          "model_module": "@jupyter-widgets/controls",
          "model_name": "FloatProgressModel",
          "model_module_version": "1.5.0",
          "state": {
            "_dom_classes": [],
            "_model_module": "@jupyter-widgets/controls",
            "_model_module_version": "1.5.0",
            "_model_name": "FloatProgressModel",
            "_view_count": null,
            "_view_module": "@jupyter-widgets/controls",
            "_view_module_version": "1.5.0",
            "_view_name": "ProgressView",
            "bar_style": "success",
            "description": "",
            "description_tooltip": null,
            "layout": "IPY_MODEL_c90541e367694048aa952f07456b3d4e",
            "max": 4689074,
            "min": 0,
            "orientation": "horizontal",
            "style": "IPY_MODEL_9c67b60e89e74989b4bd94fbf7da16d1",
            "value": 4689074
          }
        },
        "4738a44272254d23ae376f0db049f0a7": {
          "model_module": "@jupyter-widgets/controls",
          "model_name": "HTMLModel",
          "model_module_version": "1.5.0",
          "state": {
            "_dom_classes": [],
            "_model_module": "@jupyter-widgets/controls",
            "_model_module_version": "1.5.0",
            "_model_name": "HTMLModel",
            "_view_count": null,
            "_view_module": "@jupyter-widgets/controls",
            "_view_module_version": "1.5.0",
            "_view_name": "HTMLView",
            "description": "",
            "description_tooltip": null,
            "layout": "IPY_MODEL_51078c07ebcb43eeafb1e8a20ff70646",
            "placeholder": "​",
            "style": "IPY_MODEL_3a9b8844bfeb480a842d9a686ea998b1",
            "value": " 4.69M/4.69M [00:00&lt;00:00, 22.9MB/s]"
          }
        },
        "39e2b5b08e8b416b86d1ba23a677e47d": {
          "model_module": "@jupyter-widgets/base",
          "model_name": "LayoutModel",
          "model_module_version": "1.2.0",
          "state": {
            "_model_module": "@jupyter-widgets/base",
            "_model_module_version": "1.2.0",
            "_model_name": "LayoutModel",
            "_view_count": null,
            "_view_module": "@jupyter-widgets/base",
            "_view_module_version": "1.2.0",
            "_view_name": "LayoutView",
            "align_content": null,
            "align_items": null,
            "align_self": null,
            "border": null,
            "bottom": null,
            "display": null,
            "flex": null,
            "flex_flow": null,
            "grid_area": null,
            "grid_auto_columns": null,
            "grid_auto_flow": null,
            "grid_auto_rows": null,
            "grid_column": null,
            "grid_gap": null,
            "grid_row": null,
            "grid_template_areas": null,
            "grid_template_columns": null,
            "grid_template_rows": null,
            "height": null,
            "justify_content": null,
            "justify_items": null,
            "left": null,
            "margin": null,
            "max_height": null,
            "max_width": null,
            "min_height": null,
            "min_width": null,
            "object_fit": null,
            "object_position": null,
            "order": null,
            "overflow": null,
            "overflow_x": null,
            "overflow_y": null,
            "padding": null,
            "right": null,
            "top": null,
            "visibility": null,
            "width": null
          }
        },
        "11e8de4cecb54635b0d4e5bc6e524634": {
          "model_module": "@jupyter-widgets/base",
          "model_name": "LayoutModel",
          "model_module_version": "1.2.0",
          "state": {
            "_model_module": "@jupyter-widgets/base",
            "_model_module_version": "1.2.0",
            "_model_name": "LayoutModel",
            "_view_count": null,
            "_view_module": "@jupyter-widgets/base",
            "_view_module_version": "1.2.0",
            "_view_name": "LayoutView",
            "align_content": null,
            "align_items": null,
            "align_self": null,
            "border": null,
            "bottom": null,
            "display": null,
            "flex": null,
            "flex_flow": null,
            "grid_area": null,
            "grid_auto_columns": null,
            "grid_auto_flow": null,
            "grid_auto_rows": null,
            "grid_column": null,
            "grid_gap": null,
            "grid_row": null,
            "grid_template_areas": null,
            "grid_template_columns": null,
            "grid_template_rows": null,
            "height": null,
            "justify_content": null,
            "justify_items": null,
            "left": null,
            "margin": null,
            "max_height": null,
            "max_width": null,
            "min_height": null,
            "min_width": null,
            "object_fit": null,
            "object_position": null,
            "order": null,
            "overflow": null,
            "overflow_x": null,
            "overflow_y": null,
            "padding": null,
            "right": null,
            "top": null,
            "visibility": null,
            "width": null
          }
        },
        "a60aa8655bba41038d5c1f3af352ef63": {
          "model_module": "@jupyter-widgets/controls",
          "model_name": "DescriptionStyleModel",
          "model_module_version": "1.5.0",
          "state": {
            "_model_module": "@jupyter-widgets/controls",
            "_model_module_version": "1.5.0",
            "_model_name": "DescriptionStyleModel",
            "_view_count": null,
            "_view_module": "@jupyter-widgets/base",
            "_view_module_version": "1.2.0",
            "_view_name": "StyleView",
            "description_width": ""
          }
        },
        "c90541e367694048aa952f07456b3d4e": {
          "model_module": "@jupyter-widgets/base",
          "model_name": "LayoutModel",
          "model_module_version": "1.2.0",
          "state": {
            "_model_module": "@jupyter-widgets/base",
            "_model_module_version": "1.2.0",
            "_model_name": "LayoutModel",
            "_view_count": null,
            "_view_module": "@jupyter-widgets/base",
            "_view_module_version": "1.2.0",
            "_view_name": "LayoutView",
            "align_content": null,
            "align_items": null,
            "align_self": null,
            "border": null,
            "bottom": null,
            "display": null,
            "flex": null,
            "flex_flow": null,
            "grid_area": null,
            "grid_auto_columns": null,
            "grid_auto_flow": null,
            "grid_auto_rows": null,
            "grid_column": null,
            "grid_gap": null,
            "grid_row": null,
            "grid_template_areas": null,
            "grid_template_columns": null,
            "grid_template_rows": null,
            "height": null,
            "justify_content": null,
            "justify_items": null,
            "left": null,
            "margin": null,
            "max_height": null,
            "max_width": null,
            "min_height": null,
            "min_width": null,
            "object_fit": null,
            "object_position": null,
            "order": null,
            "overflow": null,
            "overflow_x": null,
            "overflow_y": null,
            "padding": null,
            "right": null,
            "top": null,
            "visibility": null,
            "width": null
          }
        },
        "9c67b60e89e74989b4bd94fbf7da16d1": {
          "model_module": "@jupyter-widgets/controls",
          "model_name": "ProgressStyleModel",
          "model_module_version": "1.5.0",
          "state": {
            "_model_module": "@jupyter-widgets/controls",
            "_model_module_version": "1.5.0",
            "_model_name": "ProgressStyleModel",
            "_view_count": null,
            "_view_module": "@jupyter-widgets/base",
            "_view_module_version": "1.2.0",
            "_view_name": "StyleView",
            "bar_color": null,
            "description_width": ""
          }
        },
        "51078c07ebcb43eeafb1e8a20ff70646": {
          "model_module": "@jupyter-widgets/base",
          "model_name": "LayoutModel",
          "model_module_version": "1.2.0",
          "state": {
            "_model_module": "@jupyter-widgets/base",
            "_model_module_version": "1.2.0",
            "_model_name": "LayoutModel",
            "_view_count": null,
            "_view_module": "@jupyter-widgets/base",
            "_view_module_version": "1.2.0",
            "_view_name": "LayoutView",
            "align_content": null,
            "align_items": null,
            "align_self": null,
            "border": null,
            "bottom": null,
            "display": null,
            "flex": null,
            "flex_flow": null,
            "grid_area": null,
            "grid_auto_columns": null,
            "grid_auto_flow": null,
            "grid_auto_rows": null,
            "grid_column": null,
            "grid_gap": null,
            "grid_row": null,
            "grid_template_areas": null,
            "grid_template_columns": null,
            "grid_template_rows": null,
            "height": null,
            "justify_content": null,
            "justify_items": null,
            "left": null,
            "margin": null,
            "max_height": null,
            "max_width": null,
            "min_height": null,
            "min_width": null,
            "object_fit": null,
            "object_position": null,
            "order": null,
            "overflow": null,
            "overflow_x": null,
            "overflow_y": null,
            "padding": null,
            "right": null,
            "top": null,
            "visibility": null,
            "width": null
          }
        },
        "3a9b8844bfeb480a842d9a686ea998b1": {
          "model_module": "@jupyter-widgets/controls",
          "model_name": "DescriptionStyleModel",
          "model_module_version": "1.5.0",
          "state": {
            "_model_module": "@jupyter-widgets/controls",
            "_model_module_version": "1.5.0",
            "_model_name": "DescriptionStyleModel",
            "_view_count": null,
            "_view_module": "@jupyter-widgets/base",
            "_view_module_version": "1.2.0",
            "_view_name": "StyleView",
            "description_width": ""
          }
        },
        "f3e153328d2046cb8800f16e1eaf60b9": {
          "model_module": "@jupyter-widgets/controls",
          "model_name": "HBoxModel",
          "model_module_version": "1.5.0",
          "state": {
            "_dom_classes": [],
            "_model_module": "@jupyter-widgets/controls",
            "_model_module_version": "1.5.0",
            "_model_name": "HBoxModel",
            "_view_count": null,
            "_view_module": "@jupyter-widgets/controls",
            "_view_module_version": "1.5.0",
            "_view_name": "HBoxView",
            "box_style": "",
            "children": [
              "IPY_MODEL_83d425a1eb5a48b991d47d63af29d443",
              "IPY_MODEL_75561495fd164d7faa552f43e83e1b11",
              "IPY_MODEL_117e6e974a7b41cc9665f80df33ba2cf"
            ],
            "layout": "IPY_MODEL_478dff78c40a458cbc7bce37826f095e"
          }
        },
        "83d425a1eb5a48b991d47d63af29d443": {
          "model_module": "@jupyter-widgets/controls",
          "model_name": "HTMLModel",
          "model_module_version": "1.5.0",
          "state": {
            "_dom_classes": [],
            "_model_module": "@jupyter-widgets/controls",
            "_model_module_version": "1.5.0",
            "_model_name": "HTMLModel",
            "_view_count": null,
            "_view_module": "@jupyter-widgets/controls",
            "_view_module_version": "1.5.0",
            "_view_name": "HTMLView",
            "description": "",
            "description_tooltip": null,
            "layout": "IPY_MODEL_da1ef8dab15242b09d69d3743fea9d24",
            "placeholder": "​",
            "style": "IPY_MODEL_d72ae3d8308e4724af1a39201e72680f",
            "value": "tokenizer.json: 100%"
          }
        },
        "75561495fd164d7faa552f43e83e1b11": {
          "model_module": "@jupyter-widgets/controls",
          "model_name": "FloatProgressModel",
          "model_module_version": "1.5.0",
          "state": {
            "_dom_classes": [],
            "_model_module": "@jupyter-widgets/controls",
            "_model_module_version": "1.5.0",
            "_model_name": "FloatProgressModel",
            "_view_count": null,
            "_view_module": "@jupyter-widgets/controls",
            "_view_module_version": "1.5.0",
            "_view_name": "ProgressView",
            "bar_style": "success",
            "description": "",
            "description_tooltip": null,
            "layout": "IPY_MODEL_f115a618c89e46eaabc7068c91ba1599",
            "max": 33384568,
            "min": 0,
            "orientation": "horizontal",
            "style": "IPY_MODEL_d9154afc07ed4f9b98f179c9d5f7db95",
            "value": 33384568
          }
        },
        "117e6e974a7b41cc9665f80df33ba2cf": {
          "model_module": "@jupyter-widgets/controls",
          "model_name": "HTMLModel",
          "model_module_version": "1.5.0",
          "state": {
            "_dom_classes": [],
            "_model_module": "@jupyter-widgets/controls",
            "_model_module_version": "1.5.0",
            "_model_name": "HTMLModel",
            "_view_count": null,
            "_view_module": "@jupyter-widgets/controls",
            "_view_module_version": "1.5.0",
            "_view_name": "HTMLView",
            "description": "",
            "description_tooltip": null,
            "layout": "IPY_MODEL_9cbf050dc326495a8fe28bd4ad2fe026",
            "placeholder": "​",
            "style": "IPY_MODEL_a1babfa4acfd4ae2b71915c01731ef9d",
            "value": " 33.4M/33.4M [00:00&lt;00:00, 149MB/s]"
          }
        },
        "478dff78c40a458cbc7bce37826f095e": {
          "model_module": "@jupyter-widgets/base",
          "model_name": "LayoutModel",
          "model_module_version": "1.2.0",
          "state": {
            "_model_module": "@jupyter-widgets/base",
            "_model_module_version": "1.2.0",
            "_model_name": "LayoutModel",
            "_view_count": null,
            "_view_module": "@jupyter-widgets/base",
            "_view_module_version": "1.2.0",
            "_view_name": "LayoutView",
            "align_content": null,
            "align_items": null,
            "align_self": null,
            "border": null,
            "bottom": null,
            "display": null,
            "flex": null,
            "flex_flow": null,
            "grid_area": null,
            "grid_auto_columns": null,
            "grid_auto_flow": null,
            "grid_auto_rows": null,
            "grid_column": null,
            "grid_gap": null,
            "grid_row": null,
            "grid_template_areas": null,
            "grid_template_columns": null,
            "grid_template_rows": null,
            "height": null,
            "justify_content": null,
            "justify_items": null,
            "left": null,
            "margin": null,
            "max_height": null,
            "max_width": null,
            "min_height": null,
            "min_width": null,
            "object_fit": null,
            "object_position": null,
            "order": null,
            "overflow": null,
            "overflow_x": null,
            "overflow_y": null,
            "padding": null,
            "right": null,
            "top": null,
            "visibility": null,
            "width": null
          }
        },
        "da1ef8dab15242b09d69d3743fea9d24": {
          "model_module": "@jupyter-widgets/base",
          "model_name": "LayoutModel",
          "model_module_version": "1.2.0",
          "state": {
            "_model_module": "@jupyter-widgets/base",
            "_model_module_version": "1.2.0",
            "_model_name": "LayoutModel",
            "_view_count": null,
            "_view_module": "@jupyter-widgets/base",
            "_view_module_version": "1.2.0",
            "_view_name": "LayoutView",
            "align_content": null,
            "align_items": null,
            "align_self": null,
            "border": null,
            "bottom": null,
            "display": null,
            "flex": null,
            "flex_flow": null,
            "grid_area": null,
            "grid_auto_columns": null,
            "grid_auto_flow": null,
            "grid_auto_rows": null,
            "grid_column": null,
            "grid_gap": null,
            "grid_row": null,
            "grid_template_areas": null,
            "grid_template_columns": null,
            "grid_template_rows": null,
            "height": null,
            "justify_content": null,
            "justify_items": null,
            "left": null,
            "margin": null,
            "max_height": null,
            "max_width": null,
            "min_height": null,
            "min_width": null,
            "object_fit": null,
            "object_position": null,
            "order": null,
            "overflow": null,
            "overflow_x": null,
            "overflow_y": null,
            "padding": null,
            "right": null,
            "top": null,
            "visibility": null,
            "width": null
          }
        },
        "d72ae3d8308e4724af1a39201e72680f": {
          "model_module": "@jupyter-widgets/controls",
          "model_name": "DescriptionStyleModel",
          "model_module_version": "1.5.0",
          "state": {
            "_model_module": "@jupyter-widgets/controls",
            "_model_module_version": "1.5.0",
            "_model_name": "DescriptionStyleModel",
            "_view_count": null,
            "_view_module": "@jupyter-widgets/base",
            "_view_module_version": "1.2.0",
            "_view_name": "StyleView",
            "description_width": ""
          }
        },
        "f115a618c89e46eaabc7068c91ba1599": {
          "model_module": "@jupyter-widgets/base",
          "model_name": "LayoutModel",
          "model_module_version": "1.2.0",
          "state": {
            "_model_module": "@jupyter-widgets/base",
            "_model_module_version": "1.2.0",
            "_model_name": "LayoutModel",
            "_view_count": null,
            "_view_module": "@jupyter-widgets/base",
            "_view_module_version": "1.2.0",
            "_view_name": "LayoutView",
            "align_content": null,
            "align_items": null,
            "align_self": null,
            "border": null,
            "bottom": null,
            "display": null,
            "flex": null,
            "flex_flow": null,
            "grid_area": null,
            "grid_auto_columns": null,
            "grid_auto_flow": null,
            "grid_auto_rows": null,
            "grid_column": null,
            "grid_gap": null,
            "grid_row": null,
            "grid_template_areas": null,
            "grid_template_columns": null,
            "grid_template_rows": null,
            "height": null,
            "justify_content": null,
            "justify_items": null,
            "left": null,
            "margin": null,
            "max_height": null,
            "max_width": null,
            "min_height": null,
            "min_width": null,
            "object_fit": null,
            "object_position": null,
            "order": null,
            "overflow": null,
            "overflow_x": null,
            "overflow_y": null,
            "padding": null,
            "right": null,
            "top": null,
            "visibility": null,
            "width": null
          }
        },
        "d9154afc07ed4f9b98f179c9d5f7db95": {
          "model_module": "@jupyter-widgets/controls",
          "model_name": "ProgressStyleModel",
          "model_module_version": "1.5.0",
          "state": {
            "_model_module": "@jupyter-widgets/controls",
            "_model_module_version": "1.5.0",
            "_model_name": "ProgressStyleModel",
            "_view_count": null,
            "_view_module": "@jupyter-widgets/base",
            "_view_module_version": "1.2.0",
            "_view_name": "StyleView",
            "bar_color": null,
            "description_width": ""
          }
        },
        "9cbf050dc326495a8fe28bd4ad2fe026": {
          "model_module": "@jupyter-widgets/base",
          "model_name": "LayoutModel",
          "model_module_version": "1.2.0",
          "state": {
            "_model_module": "@jupyter-widgets/base",
            "_model_module_version": "1.2.0",
            "_model_name": "LayoutModel",
            "_view_count": null,
            "_view_module": "@jupyter-widgets/base",
            "_view_module_version": "1.2.0",
            "_view_name": "LayoutView",
            "align_content": null,
            "align_items": null,
            "align_self": null,
            "border": null,
            "bottom": null,
            "display": null,
            "flex": null,
            "flex_flow": null,
            "grid_area": null,
            "grid_auto_columns": null,
            "grid_auto_flow": null,
            "grid_auto_rows": null,
            "grid_column": null,
            "grid_gap": null,
            "grid_row": null,
            "grid_template_areas": null,
            "grid_template_columns": null,
            "grid_template_rows": null,
            "height": null,
            "justify_content": null,
            "justify_items": null,
            "left": null,
            "margin": null,
            "max_height": null,
            "max_width": null,
            "min_height": null,
            "min_width": null,
            "object_fit": null,
            "object_position": null,
            "order": null,
            "overflow": null,
            "overflow_x": null,
            "overflow_y": null,
            "padding": null,
            "right": null,
            "top": null,
            "visibility": null,
            "width": null
          }
        },
        "a1babfa4acfd4ae2b71915c01731ef9d": {
          "model_module": "@jupyter-widgets/controls",
          "model_name": "DescriptionStyleModel",
          "model_module_version": "1.5.0",
          "state": {
            "_model_module": "@jupyter-widgets/controls",
            "_model_module_version": "1.5.0",
            "_model_name": "DescriptionStyleModel",
            "_view_count": null,
            "_view_module": "@jupyter-widgets/base",
            "_view_module_version": "1.2.0",
            "_view_name": "StyleView",
            "description_width": ""
          }
        },
        "de3c8950ccf34d37a4a82c731b6ee113": {
          "model_module": "@jupyter-widgets/controls",
          "model_name": "HBoxModel",
          "model_module_version": "1.5.0",
          "state": {
            "_dom_classes": [],
            "_model_module": "@jupyter-widgets/controls",
            "_model_module_version": "1.5.0",
            "_model_name": "HBoxModel",
            "_view_count": null,
            "_view_module": "@jupyter-widgets/controls",
            "_view_module_version": "1.5.0",
            "_view_name": "HBoxView",
            "box_style": "",
            "children": [
              "IPY_MODEL_25db069d25544b088708f67924cd48dd",
              "IPY_MODEL_ce0827d5af744a779a08b509f022870c",
              "IPY_MODEL_63c344cabf064173b12ac35688c63ceb"
            ],
            "layout": "IPY_MODEL_b5df4f57920a4d12948b13f4fa71e250"
          }
        },
        "25db069d25544b088708f67924cd48dd": {
          "model_module": "@jupyter-widgets/controls",
          "model_name": "HTMLModel",
          "model_module_version": "1.5.0",
          "state": {
            "_dom_classes": [],
            "_model_module": "@jupyter-widgets/controls",
            "_model_module_version": "1.5.0",
            "_model_name": "HTMLModel",
            "_view_count": null,
            "_view_module": "@jupyter-widgets/controls",
            "_view_module_version": "1.5.0",
            "_view_name": "HTMLView",
            "description": "",
            "description_tooltip": null,
            "layout": "IPY_MODEL_0927ed49f957439096bad80b6c34f283",
            "placeholder": "​",
            "style": "IPY_MODEL_6ba620e9659445caa18d0658364403ae",
            "value": "added_tokens.json: 100%"
          }
        },
        "ce0827d5af744a779a08b509f022870c": {
          "model_module": "@jupyter-widgets/controls",
          "model_name": "FloatProgressModel",
          "model_module_version": "1.5.0",
          "state": {
            "_dom_classes": [],
            "_model_module": "@jupyter-widgets/controls",
            "_model_module_version": "1.5.0",
            "_model_name": "FloatProgressModel",
            "_view_count": null,
            "_view_module": "@jupyter-widgets/controls",
            "_view_module_version": "1.5.0",
            "_view_name": "ProgressView",
            "bar_style": "success",
            "description": "",
            "description_tooltip": null,
            "layout": "IPY_MODEL_b98418120535413a9b90f3b53223e2e3",
            "max": 35,
            "min": 0,
            "orientation": "horizontal",
            "style": "IPY_MODEL_b330671612d34ce8a76907494b5c8fba",
            "value": 35
          }
        },
        "63c344cabf064173b12ac35688c63ceb": {
          "model_module": "@jupyter-widgets/controls",
          "model_name": "HTMLModel",
          "model_module_version": "1.5.0",
          "state": {
            "_dom_classes": [],
            "_model_module": "@jupyter-widgets/controls",
            "_model_module_version": "1.5.0",
            "_model_name": "HTMLModel",
            "_view_count": null,
            "_view_module": "@jupyter-widgets/controls",
            "_view_module_version": "1.5.0",
            "_view_name": "HTMLView",
            "description": "",
            "description_tooltip": null,
            "layout": "IPY_MODEL_b6a825217e1c453a85b2f052dc52e3fd",
            "placeholder": "​",
            "style": "IPY_MODEL_9497fb7746b54619b83a364aef1dca1b",
            "value": " 35.0/35.0 [00:00&lt;00:00, 3.16kB/s]"
          }
        },
        "b5df4f57920a4d12948b13f4fa71e250": {
          "model_module": "@jupyter-widgets/base",
          "model_name": "LayoutModel",
          "model_module_version": "1.2.0",
          "state": {
            "_model_module": "@jupyter-widgets/base",
            "_model_module_version": "1.2.0",
            "_model_name": "LayoutModel",
            "_view_count": null,
            "_view_module": "@jupyter-widgets/base",
            "_view_module_version": "1.2.0",
            "_view_name": "LayoutView",
            "align_content": null,
            "align_items": null,
            "align_self": null,
            "border": null,
            "bottom": null,
            "display": null,
            "flex": null,
            "flex_flow": null,
            "grid_area": null,
            "grid_auto_columns": null,
            "grid_auto_flow": null,
            "grid_auto_rows": null,
            "grid_column": null,
            "grid_gap": null,
            "grid_row": null,
            "grid_template_areas": null,
            "grid_template_columns": null,
            "grid_template_rows": null,
            "height": null,
            "justify_content": null,
            "justify_items": null,
            "left": null,
            "margin": null,
            "max_height": null,
            "max_width": null,
            "min_height": null,
            "min_width": null,
            "object_fit": null,
            "object_position": null,
            "order": null,
            "overflow": null,
            "overflow_x": null,
            "overflow_y": null,
            "padding": null,
            "right": null,
            "top": null,
            "visibility": null,
            "width": null
          }
        },
        "0927ed49f957439096bad80b6c34f283": {
          "model_module": "@jupyter-widgets/base",
          "model_name": "LayoutModel",
          "model_module_version": "1.2.0",
          "state": {
            "_model_module": "@jupyter-widgets/base",
            "_model_module_version": "1.2.0",
            "_model_name": "LayoutModel",
            "_view_count": null,
            "_view_module": "@jupyter-widgets/base",
            "_view_module_version": "1.2.0",
            "_view_name": "LayoutView",
            "align_content": null,
            "align_items": null,
            "align_self": null,
            "border": null,
            "bottom": null,
            "display": null,
            "flex": null,
            "flex_flow": null,
            "grid_area": null,
            "grid_auto_columns": null,
            "grid_auto_flow": null,
            "grid_auto_rows": null,
            "grid_column": null,
            "grid_gap": null,
            "grid_row": null,
            "grid_template_areas": null,
            "grid_template_columns": null,
            "grid_template_rows": null,
            "height": null,
            "justify_content": null,
            "justify_items": null,
            "left": null,
            "margin": null,
            "max_height": null,
            "max_width": null,
            "min_height": null,
            "min_width": null,
            "object_fit": null,
            "object_position": null,
            "order": null,
            "overflow": null,
            "overflow_x": null,
            "overflow_y": null,
            "padding": null,
            "right": null,
            "top": null,
            "visibility": null,
            "width": null
          }
        },
        "6ba620e9659445caa18d0658364403ae": {
          "model_module": "@jupyter-widgets/controls",
          "model_name": "DescriptionStyleModel",
          "model_module_version": "1.5.0",
          "state": {
            "_model_module": "@jupyter-widgets/controls",
            "_model_module_version": "1.5.0",
            "_model_name": "DescriptionStyleModel",
            "_view_count": null,
            "_view_module": "@jupyter-widgets/base",
            "_view_module_version": "1.2.0",
            "_view_name": "StyleView",
            "description_width": ""
          }
        },
        "b98418120535413a9b90f3b53223e2e3": {
          "model_module": "@jupyter-widgets/base",
          "model_name": "LayoutModel",
          "model_module_version": "1.2.0",
          "state": {
            "_model_module": "@jupyter-widgets/base",
            "_model_module_version": "1.2.0",
            "_model_name": "LayoutModel",
            "_view_count": null,
            "_view_module": "@jupyter-widgets/base",
            "_view_module_version": "1.2.0",
            "_view_name": "LayoutView",
            "align_content": null,
            "align_items": null,
            "align_self": null,
            "border": null,
            "bottom": null,
            "display": null,
            "flex": null,
            "flex_flow": null,
            "grid_area": null,
            "grid_auto_columns": null,
            "grid_auto_flow": null,
            "grid_auto_rows": null,
            "grid_column": null,
            "grid_gap": null,
            "grid_row": null,
            "grid_template_areas": null,
            "grid_template_columns": null,
            "grid_template_rows": null,
            "height": null,
            "justify_content": null,
            "justify_items": null,
            "left": null,
            "margin": null,
            "max_height": null,
            "max_width": null,
            "min_height": null,
            "min_width": null,
            "object_fit": null,
            "object_position": null,
            "order": null,
            "overflow": null,
            "overflow_x": null,
            "overflow_y": null,
            "padding": null,
            "right": null,
            "top": null,
            "visibility": null,
            "width": null
          }
        },
        "b330671612d34ce8a76907494b5c8fba": {
          "model_module": "@jupyter-widgets/controls",
          "model_name": "ProgressStyleModel",
          "model_module_version": "1.5.0",
          "state": {
            "_model_module": "@jupyter-widgets/controls",
            "_model_module_version": "1.5.0",
            "_model_name": "ProgressStyleModel",
            "_view_count": null,
            "_view_module": "@jupyter-widgets/base",
            "_view_module_version": "1.2.0",
            "_view_name": "StyleView",
            "bar_color": null,
            "description_width": ""
          }
        },
        "b6a825217e1c453a85b2f052dc52e3fd": {
          "model_module": "@jupyter-widgets/base",
          "model_name": "LayoutModel",
          "model_module_version": "1.2.0",
          "state": {
            "_model_module": "@jupyter-widgets/base",
            "_model_module_version": "1.2.0",
            "_model_name": "LayoutModel",
            "_view_count": null,
            "_view_module": "@jupyter-widgets/base",
            "_view_module_version": "1.2.0",
            "_view_name": "LayoutView",
            "align_content": null,
            "align_items": null,
            "align_self": null,
            "border": null,
            "bottom": null,
            "display": null,
            "flex": null,
            "flex_flow": null,
            "grid_area": null,
            "grid_auto_columns": null,
            "grid_auto_flow": null,
            "grid_auto_rows": null,
            "grid_column": null,
            "grid_gap": null,
            "grid_row": null,
            "grid_template_areas": null,
            "grid_template_columns": null,
            "grid_template_rows": null,
            "height": null,
            "justify_content": null,
            "justify_items": null,
            "left": null,
            "margin": null,
            "max_height": null,
            "max_width": null,
            "min_height": null,
            "min_width": null,
            "object_fit": null,
            "object_position": null,
            "order": null,
            "overflow": null,
            "overflow_x": null,
            "overflow_y": null,
            "padding": null,
            "right": null,
            "top": null,
            "visibility": null,
            "width": null
          }
        },
        "9497fb7746b54619b83a364aef1dca1b": {
          "model_module": "@jupyter-widgets/controls",
          "model_name": "DescriptionStyleModel",
          "model_module_version": "1.5.0",
          "state": {
            "_model_module": "@jupyter-widgets/controls",
            "_model_module_version": "1.5.0",
            "_model_name": "DescriptionStyleModel",
            "_view_count": null,
            "_view_module": "@jupyter-widgets/base",
            "_view_module_version": "1.2.0",
            "_view_name": "StyleView",
            "description_width": ""
          }
        },
        "9891a9e292724e2b871b9b365b671c0e": {
          "model_module": "@jupyter-widgets/controls",
          "model_name": "HBoxModel",
          "model_module_version": "1.5.0",
          "state": {
            "_dom_classes": [],
            "_model_module": "@jupyter-widgets/controls",
            "_model_module_version": "1.5.0",
            "_model_name": "HBoxModel",
            "_view_count": null,
            "_view_module": "@jupyter-widgets/controls",
            "_view_module_version": "1.5.0",
            "_view_name": "HBoxView",
            "box_style": "",
            "children": [
              "IPY_MODEL_31655ac2da704a10a2b41bf2191f954a",
              "IPY_MODEL_f01e4d95f94e4044a48313c24756a850",
              "IPY_MODEL_872c26c93e174299b9a1572f5ac64a1f"
            ],
            "layout": "IPY_MODEL_9310c246daaa4443bf0b1fe209d8468d"
          }
        },
        "31655ac2da704a10a2b41bf2191f954a": {
          "model_module": "@jupyter-widgets/controls",
          "model_name": "HTMLModel",
          "model_module_version": "1.5.0",
          "state": {
            "_dom_classes": [],
            "_model_module": "@jupyter-widgets/controls",
            "_model_module_version": "1.5.0",
            "_model_name": "HTMLModel",
            "_view_count": null,
            "_view_module": "@jupyter-widgets/controls",
            "_view_module_version": "1.5.0",
            "_view_name": "HTMLView",
            "description": "",
            "description_tooltip": null,
            "layout": "IPY_MODEL_a50578306ee84b9b9c82f9532ca64a3c",
            "placeholder": "​",
            "style": "IPY_MODEL_fe1a93dfe6324b2e840559fa86e05f48",
            "value": "special_tokens_map.json: 100%"
          }
        },
        "f01e4d95f94e4044a48313c24756a850": {
          "model_module": "@jupyter-widgets/controls",
          "model_name": "FloatProgressModel",
          "model_module_version": "1.5.0",
          "state": {
            "_dom_classes": [],
            "_model_module": "@jupyter-widgets/controls",
            "_model_module_version": "1.5.0",
            "_model_name": "FloatProgressModel",
            "_view_count": null,
            "_view_module": "@jupyter-widgets/controls",
            "_view_module_version": "1.5.0",
            "_view_name": "ProgressView",
            "bar_style": "success",
            "description": "",
            "description_tooltip": null,
            "layout": "IPY_MODEL_269dec2344a84c1cb4d7568b047e1c30",
            "max": 662,
            "min": 0,
            "orientation": "horizontal",
            "style": "IPY_MODEL_3ce94b3ba3a9436288b429f6cd8383d4",
            "value": 662
          }
        },
        "872c26c93e174299b9a1572f5ac64a1f": {
          "model_module": "@jupyter-widgets/controls",
          "model_name": "HTMLModel",
          "model_module_version": "1.5.0",
          "state": {
            "_dom_classes": [],
            "_model_module": "@jupyter-widgets/controls",
            "_model_module_version": "1.5.0",
            "_model_name": "HTMLModel",
            "_view_count": null,
            "_view_module": "@jupyter-widgets/controls",
            "_view_module_version": "1.5.0",
            "_view_name": "HTMLView",
            "description": "",
            "description_tooltip": null,
            "layout": "IPY_MODEL_7ea4398d36e14cd0b9ea9eaf9dbfeb82",
            "placeholder": "​",
            "style": "IPY_MODEL_51a9fad25b0a4f049c552ed8ab0972c5",
            "value": " 662/662 [00:00&lt;00:00, 69.2kB/s]"
          }
        },
        "9310c246daaa4443bf0b1fe209d8468d": {
          "model_module": "@jupyter-widgets/base",
          "model_name": "LayoutModel",
          "model_module_version": "1.2.0",
          "state": {
            "_model_module": "@jupyter-widgets/base",
            "_model_module_version": "1.2.0",
            "_model_name": "LayoutModel",
            "_view_count": null,
            "_view_module": "@jupyter-widgets/base",
            "_view_module_version": "1.2.0",
            "_view_name": "LayoutView",
            "align_content": null,
            "align_items": null,
            "align_self": null,
            "border": null,
            "bottom": null,
            "display": null,
            "flex": null,
            "flex_flow": null,
            "grid_area": null,
            "grid_auto_columns": null,
            "grid_auto_flow": null,
            "grid_auto_rows": null,
            "grid_column": null,
            "grid_gap": null,
            "grid_row": null,
            "grid_template_areas": null,
            "grid_template_columns": null,
            "grid_template_rows": null,
            "height": null,
            "justify_content": null,
            "justify_items": null,
            "left": null,
            "margin": null,
            "max_height": null,
            "max_width": null,
            "min_height": null,
            "min_width": null,
            "object_fit": null,
            "object_position": null,
            "order": null,
            "overflow": null,
            "overflow_x": null,
            "overflow_y": null,
            "padding": null,
            "right": null,
            "top": null,
            "visibility": null,
            "width": null
          }
        },
        "a50578306ee84b9b9c82f9532ca64a3c": {
          "model_module": "@jupyter-widgets/base",
          "model_name": "LayoutModel",
          "model_module_version": "1.2.0",
          "state": {
            "_model_module": "@jupyter-widgets/base",
            "_model_module_version": "1.2.0",
            "_model_name": "LayoutModel",
            "_view_count": null,
            "_view_module": "@jupyter-widgets/base",
            "_view_module_version": "1.2.0",
            "_view_name": "LayoutView",
            "align_content": null,
            "align_items": null,
            "align_self": null,
            "border": null,
            "bottom": null,
            "display": null,
            "flex": null,
            "flex_flow": null,
            "grid_area": null,
            "grid_auto_columns": null,
            "grid_auto_flow": null,
            "grid_auto_rows": null,
            "grid_column": null,
            "grid_gap": null,
            "grid_row": null,
            "grid_template_areas": null,
            "grid_template_columns": null,
            "grid_template_rows": null,
            "height": null,
            "justify_content": null,
            "justify_items": null,
            "left": null,
            "margin": null,
            "max_height": null,
            "max_width": null,
            "min_height": null,
            "min_width": null,
            "object_fit": null,
            "object_position": null,
            "order": null,
            "overflow": null,
            "overflow_x": null,
            "overflow_y": null,
            "padding": null,
            "right": null,
            "top": null,
            "visibility": null,
            "width": null
          }
        },
        "fe1a93dfe6324b2e840559fa86e05f48": {
          "model_module": "@jupyter-widgets/controls",
          "model_name": "DescriptionStyleModel",
          "model_module_version": "1.5.0",
          "state": {
            "_model_module": "@jupyter-widgets/controls",
            "_model_module_version": "1.5.0",
            "_model_name": "DescriptionStyleModel",
            "_view_count": null,
            "_view_module": "@jupyter-widgets/base",
            "_view_module_version": "1.2.0",
            "_view_name": "StyleView",
            "description_width": ""
          }
        },
        "269dec2344a84c1cb4d7568b047e1c30": {
          "model_module": "@jupyter-widgets/base",
          "model_name": "LayoutModel",
          "model_module_version": "1.2.0",
          "state": {
            "_model_module": "@jupyter-widgets/base",
            "_model_module_version": "1.2.0",
            "_model_name": "LayoutModel",
            "_view_count": null,
            "_view_module": "@jupyter-widgets/base",
            "_view_module_version": "1.2.0",
            "_view_name": "LayoutView",
            "align_content": null,
            "align_items": null,
            "align_self": null,
            "border": null,
            "bottom": null,
            "display": null,
            "flex": null,
            "flex_flow": null,
            "grid_area": null,
            "grid_auto_columns": null,
            "grid_auto_flow": null,
            "grid_auto_rows": null,
            "grid_column": null,
            "grid_gap": null,
            "grid_row": null,
            "grid_template_areas": null,
            "grid_template_columns": null,
            "grid_template_rows": null,
            "height": null,
            "justify_content": null,
            "justify_items": null,
            "left": null,
            "margin": null,
            "max_height": null,
            "max_width": null,
            "min_height": null,
            "min_width": null,
            "object_fit": null,
            "object_position": null,
            "order": null,
            "overflow": null,
            "overflow_x": null,
            "overflow_y": null,
            "padding": null,
            "right": null,
            "top": null,
            "visibility": null,
            "width": null
          }
        },
        "3ce94b3ba3a9436288b429f6cd8383d4": {
          "model_module": "@jupyter-widgets/controls",
          "model_name": "ProgressStyleModel",
          "model_module_version": "1.5.0",
          "state": {
            "_model_module": "@jupyter-widgets/controls",
            "_model_module_version": "1.5.0",
            "_model_name": "ProgressStyleModel",
            "_view_count": null,
            "_view_module": "@jupyter-widgets/base",
            "_view_module_version": "1.2.0",
            "_view_name": "StyleView",
            "bar_color": null,
            "description_width": ""
          }
        },
        "7ea4398d36e14cd0b9ea9eaf9dbfeb82": {
          "model_module": "@jupyter-widgets/base",
          "model_name": "LayoutModel",
          "model_module_version": "1.2.0",
          "state": {
            "_model_module": "@jupyter-widgets/base",
            "_model_module_version": "1.2.0",
            "_model_name": "LayoutModel",
            "_view_count": null,
            "_view_module": "@jupyter-widgets/base",
            "_view_module_version": "1.2.0",
            "_view_name": "LayoutView",
            "align_content": null,
            "align_items": null,
            "align_self": null,
            "border": null,
            "bottom": null,
            "display": null,
            "flex": null,
            "flex_flow": null,
            "grid_area": null,
            "grid_auto_columns": null,
            "grid_auto_flow": null,
            "grid_auto_rows": null,
            "grid_column": null,
            "grid_gap": null,
            "grid_row": null,
            "grid_template_areas": null,
            "grid_template_columns": null,
            "grid_template_rows": null,
            "height": null,
            "justify_content": null,
            "justify_items": null,
            "left": null,
            "margin": null,
            "max_height": null,
            "max_width": null,
            "min_height": null,
            "min_width": null,
            "object_fit": null,
            "object_position": null,
            "order": null,
            "overflow": null,
            "overflow_x": null,
            "overflow_y": null,
            "padding": null,
            "right": null,
            "top": null,
            "visibility": null,
            "width": null
          }
        },
        "51a9fad25b0a4f049c552ed8ab0972c5": {
          "model_module": "@jupyter-widgets/controls",
          "model_name": "DescriptionStyleModel",
          "model_module_version": "1.5.0",
          "state": {
            "_model_module": "@jupyter-widgets/controls",
            "_model_module_version": "1.5.0",
            "_model_name": "DescriptionStyleModel",
            "_view_count": null,
            "_view_module": "@jupyter-widgets/base",
            "_view_module_version": "1.2.0",
            "_view_name": "StyleView",
            "description_width": ""
          }
        },
        "bfad6c67d9734f7fb3cab5123fa4914a": {
          "model_module": "@jupyter-widgets/controls",
          "model_name": "HBoxModel",
          "model_module_version": "1.5.0",
          "state": {
            "_dom_classes": [],
            "_model_module": "@jupyter-widgets/controls",
            "_model_module_version": "1.5.0",
            "_model_name": "HBoxModel",
            "_view_count": null,
            "_view_module": "@jupyter-widgets/controls",
            "_view_module_version": "1.5.0",
            "_view_name": "HBoxView",
            "box_style": "",
            "children": [
              "IPY_MODEL_af030b9ab2e64e7384d93e6acc3a0ba6",
              "IPY_MODEL_a99a67cefad24f33aa9b04fab7338b07",
              "IPY_MODEL_86217ae59a7446c4853537319d90fa30"
            ],
            "layout": "IPY_MODEL_0a3b543904d14ed9b47d774cb44fcb0c"
          }
        },
        "af030b9ab2e64e7384d93e6acc3a0ba6": {
          "model_module": "@jupyter-widgets/controls",
          "model_name": "HTMLModel",
          "model_module_version": "1.5.0",
          "state": {
            "_dom_classes": [],
            "_model_module": "@jupyter-widgets/controls",
            "_model_module_version": "1.5.0",
            "_model_name": "HTMLModel",
            "_view_count": null,
            "_view_module": "@jupyter-widgets/controls",
            "_view_module_version": "1.5.0",
            "_view_name": "HTMLView",
            "description": "",
            "description_tooltip": null,
            "layout": "IPY_MODEL_b9e27e4118834a57b16cf3d19d81036d",
            "placeholder": "​",
            "style": "IPY_MODEL_424516cddc854186af6a8b2de92f1243",
            "value": "model.safetensors: 100%"
          }
        },
        "a99a67cefad24f33aa9b04fab7338b07": {
          "model_module": "@jupyter-widgets/controls",
          "model_name": "FloatProgressModel",
          "model_module_version": "1.5.0",
          "state": {
            "_dom_classes": [],
            "_model_module": "@jupyter-widgets/controls",
            "_model_module_version": "1.5.0",
            "_model_name": "FloatProgressModel",
            "_view_count": null,
            "_view_module": "@jupyter-widgets/controls",
            "_view_module_version": "1.5.0",
            "_view_name": "ProgressView",
            "bar_style": "success",
            "description": "",
            "description_tooltip": null,
            "layout": "IPY_MODEL_2995dfdd1ae844c3a9439a71a58a968c",
            "max": 1999811208,
            "min": 0,
            "orientation": "horizontal",
            "style": "IPY_MODEL_f0863dd8ae874b50bfbf1584fa4d0c24",
            "value": 1999811208
          }
        },
        "86217ae59a7446c4853537319d90fa30": {
          "model_module": "@jupyter-widgets/controls",
          "model_name": "HTMLModel",
          "model_module_version": "1.5.0",
          "state": {
            "_dom_classes": [],
            "_model_module": "@jupyter-widgets/controls",
            "_model_module_version": "1.5.0",
            "_model_name": "HTMLModel",
            "_view_count": null,
            "_view_module": "@jupyter-widgets/controls",
            "_view_module_version": "1.5.0",
            "_view_name": "HTMLView",
            "description": "",
            "description_tooltip": null,
            "layout": "IPY_MODEL_668b1ce7019344739b2f876c7aa307f2",
            "placeholder": "​",
            "style": "IPY_MODEL_ce59aeb78711461182c6b33e88fe0c95",
            "value": " 2.00G/2.00G [00:15&lt;00:00, 181MB/s]"
          }
        },
        "0a3b543904d14ed9b47d774cb44fcb0c": {
          "model_module": "@jupyter-widgets/base",
          "model_name": "LayoutModel",
          "model_module_version": "1.2.0",
          "state": {
            "_model_module": "@jupyter-widgets/base",
            "_model_module_version": "1.2.0",
            "_model_name": "LayoutModel",
            "_view_count": null,
            "_view_module": "@jupyter-widgets/base",
            "_view_module_version": "1.2.0",
            "_view_name": "LayoutView",
            "align_content": null,
            "align_items": null,
            "align_self": null,
            "border": null,
            "bottom": null,
            "display": null,
            "flex": null,
            "flex_flow": null,
            "grid_area": null,
            "grid_auto_columns": null,
            "grid_auto_flow": null,
            "grid_auto_rows": null,
            "grid_column": null,
            "grid_gap": null,
            "grid_row": null,
            "grid_template_areas": null,
            "grid_template_columns": null,
            "grid_template_rows": null,
            "height": null,
            "justify_content": null,
            "justify_items": null,
            "left": null,
            "margin": null,
            "max_height": null,
            "max_width": null,
            "min_height": null,
            "min_width": null,
            "object_fit": null,
            "object_position": null,
            "order": null,
            "overflow": null,
            "overflow_x": null,
            "overflow_y": null,
            "padding": null,
            "right": null,
            "top": null,
            "visibility": null,
            "width": null
          }
        },
        "b9e27e4118834a57b16cf3d19d81036d": {
          "model_module": "@jupyter-widgets/base",
          "model_name": "LayoutModel",
          "model_module_version": "1.2.0",
          "state": {
            "_model_module": "@jupyter-widgets/base",
            "_model_module_version": "1.2.0",
            "_model_name": "LayoutModel",
            "_view_count": null,
            "_view_module": "@jupyter-widgets/base",
            "_view_module_version": "1.2.0",
            "_view_name": "LayoutView",
            "align_content": null,
            "align_items": null,
            "align_self": null,
            "border": null,
            "bottom": null,
            "display": null,
            "flex": null,
            "flex_flow": null,
            "grid_area": null,
            "grid_auto_columns": null,
            "grid_auto_flow": null,
            "grid_auto_rows": null,
            "grid_column": null,
            "grid_gap": null,
            "grid_row": null,
            "grid_template_areas": null,
            "grid_template_columns": null,
            "grid_template_rows": null,
            "height": null,
            "justify_content": null,
            "justify_items": null,
            "left": null,
            "margin": null,
            "max_height": null,
            "max_width": null,
            "min_height": null,
            "min_width": null,
            "object_fit": null,
            "object_position": null,
            "order": null,
            "overflow": null,
            "overflow_x": null,
            "overflow_y": null,
            "padding": null,
            "right": null,
            "top": null,
            "visibility": null,
            "width": null
          }
        },
        "424516cddc854186af6a8b2de92f1243": {
          "model_module": "@jupyter-widgets/controls",
          "model_name": "DescriptionStyleModel",
          "model_module_version": "1.5.0",
          "state": {
            "_model_module": "@jupyter-widgets/controls",
            "_model_module_version": "1.5.0",
            "_model_name": "DescriptionStyleModel",
            "_view_count": null,
            "_view_module": "@jupyter-widgets/base",
            "_view_module_version": "1.2.0",
            "_view_name": "StyleView",
            "description_width": ""
          }
        },
        "2995dfdd1ae844c3a9439a71a58a968c": {
          "model_module": "@jupyter-widgets/base",
          "model_name": "LayoutModel",
          "model_module_version": "1.2.0",
          "state": {
            "_model_module": "@jupyter-widgets/base",
            "_model_module_version": "1.2.0",
            "_model_name": "LayoutModel",
            "_view_count": null,
            "_view_module": "@jupyter-widgets/base",
            "_view_module_version": "1.2.0",
            "_view_name": "LayoutView",
            "align_content": null,
            "align_items": null,
            "align_self": null,
            "border": null,
            "bottom": null,
            "display": null,
            "flex": null,
            "flex_flow": null,
            "grid_area": null,
            "grid_auto_columns": null,
            "grid_auto_flow": null,
            "grid_auto_rows": null,
            "grid_column": null,
            "grid_gap": null,
            "grid_row": null,
            "grid_template_areas": null,
            "grid_template_columns": null,
            "grid_template_rows": null,
            "height": null,
            "justify_content": null,
            "justify_items": null,
            "left": null,
            "margin": null,
            "max_height": null,
            "max_width": null,
            "min_height": null,
            "min_width": null,
            "object_fit": null,
            "object_position": null,
            "order": null,
            "overflow": null,
            "overflow_x": null,
            "overflow_y": null,
            "padding": null,
            "right": null,
            "top": null,
            "visibility": null,
            "width": null
          }
        },
        "f0863dd8ae874b50bfbf1584fa4d0c24": {
          "model_module": "@jupyter-widgets/controls",
          "model_name": "ProgressStyleModel",
          "model_module_version": "1.5.0",
          "state": {
            "_model_module": "@jupyter-widgets/controls",
            "_model_module_version": "1.5.0",
            "_model_name": "ProgressStyleModel",
            "_view_count": null,
            "_view_module": "@jupyter-widgets/base",
            "_view_module_version": "1.2.0",
            "_view_name": "StyleView",
            "bar_color": null,
            "description_width": ""
          }
        },
        "668b1ce7019344739b2f876c7aa307f2": {
          "model_module": "@jupyter-widgets/base",
          "model_name": "LayoutModel",
          "model_module_version": "1.2.0",
          "state": {
            "_model_module": "@jupyter-widgets/base",
            "_model_module_version": "1.2.0",
            "_model_name": "LayoutModel",
            "_view_count": null,
            "_view_module": "@jupyter-widgets/base",
            "_view_module_version": "1.2.0",
            "_view_name": "LayoutView",
            "align_content": null,
            "align_items": null,
            "align_self": null,
            "border": null,
            "bottom": null,
            "display": null,
            "flex": null,
            "flex_flow": null,
            "grid_area": null,
            "grid_auto_columns": null,
            "grid_auto_flow": null,
            "grid_auto_rows": null,
            "grid_column": null,
            "grid_gap": null,
            "grid_row": null,
            "grid_template_areas": null,
            "grid_template_columns": null,
            "grid_template_rows": null,
            "height": null,
            "justify_content": null,
            "justify_items": null,
            "left": null,
            "margin": null,
            "max_height": null,
            "max_width": null,
            "min_height": null,
            "min_width": null,
            "object_fit": null,
            "object_position": null,
            "order": null,
            "overflow": null,
            "overflow_x": null,
            "overflow_y": null,
            "padding": null,
            "right": null,
            "top": null,
            "visibility": null,
            "width": null
          }
        },
        "ce59aeb78711461182c6b33e88fe0c95": {
          "model_module": "@jupyter-widgets/controls",
          "model_name": "DescriptionStyleModel",
          "model_module_version": "1.5.0",
          "state": {
            "_model_module": "@jupyter-widgets/controls",
            "_model_module_version": "1.5.0",
            "_model_name": "DescriptionStyleModel",
            "_view_count": null,
            "_view_module": "@jupyter-widgets/base",
            "_view_module_version": "1.2.0",
            "_view_name": "StyleView",
            "description_width": ""
          }
        },
        "8b21ec4c5c114cb09a7d48aa4fc3ca0b": {
          "model_module": "@jupyter-widgets/controls",
          "model_name": "HBoxModel",
          "model_module_version": "1.5.0",
          "state": {
            "_dom_classes": [],
            "_model_module": "@jupyter-widgets/controls",
            "_model_module_version": "1.5.0",
            "_model_name": "HBoxModel",
            "_view_count": null,
            "_view_module": "@jupyter-widgets/controls",
            "_view_module_version": "1.5.0",
            "_view_name": "HBoxView",
            "box_style": "",
            "children": [
              "IPY_MODEL_ea9a1c31ad9a40e69086ad590f8d7973",
              "IPY_MODEL_d19df934a58a4d48bd2eb271adac9f25",
              "IPY_MODEL_555b4d660a6d4ffaa8cab6fac519f5fb"
            ],
            "layout": "IPY_MODEL_dff85cfb9a91430093c250e213e9e926"
          }
        },
        "ea9a1c31ad9a40e69086ad590f8d7973": {
          "model_module": "@jupyter-widgets/controls",
          "model_name": "HTMLModel",
          "model_module_version": "1.5.0",
          "state": {
            "_dom_classes": [],
            "_model_module": "@jupyter-widgets/controls",
            "_model_module_version": "1.5.0",
            "_model_name": "HTMLModel",
            "_view_count": null,
            "_view_module": "@jupyter-widgets/controls",
            "_view_module_version": "1.5.0",
            "_view_name": "HTMLView",
            "description": "",
            "description_tooltip": null,
            "layout": "IPY_MODEL_c8d3d718622e4437be7936a386cffcb6",
            "placeholder": "​",
            "style": "IPY_MODEL_c01d568312454deea09a9dd1309bb7ed",
            "value": "generation_config.json: 100%"
          }
        },
        "d19df934a58a4d48bd2eb271adac9f25": {
          "model_module": "@jupyter-widgets/controls",
          "model_name": "FloatProgressModel",
          "model_module_version": "1.5.0",
          "state": {
            "_dom_classes": [],
            "_model_module": "@jupyter-widgets/controls",
            "_model_module_version": "1.5.0",
            "_model_name": "FloatProgressModel",
            "_view_count": null,
            "_view_module": "@jupyter-widgets/controls",
            "_view_module_version": "1.5.0",
            "_view_name": "ProgressView",
            "bar_style": "success",
            "description": "",
            "description_tooltip": null,
            "layout": "IPY_MODEL_754d183b095a4440851dcf3599496cfb",
            "max": 192,
            "min": 0,
            "orientation": "horizontal",
            "style": "IPY_MODEL_a55cbf7d07df4da1a855c832e45c430f",
            "value": 192
          }
        },
        "555b4d660a6d4ffaa8cab6fac519f5fb": {
          "model_module": "@jupyter-widgets/controls",
          "model_name": "HTMLModel",
          "model_module_version": "1.5.0",
          "state": {
            "_dom_classes": [],
            "_model_module": "@jupyter-widgets/controls",
            "_model_module_version": "1.5.0",
            "_model_name": "HTMLModel",
            "_view_count": null,
            "_view_module": "@jupyter-widgets/controls",
            "_view_module_version": "1.5.0",
            "_view_name": "HTMLView",
            "description": "",
            "description_tooltip": null,
            "layout": "IPY_MODEL_7ffa5c1519274d1a8619f5158d1a1490",
            "placeholder": "​",
            "style": "IPY_MODEL_34de3ee430c948899b353d70044b20ed",
            "value": " 192/192 [00:00&lt;00:00, 16.8kB/s]"
          }
        },
        "dff85cfb9a91430093c250e213e9e926": {
          "model_module": "@jupyter-widgets/base",
          "model_name": "LayoutModel",
          "model_module_version": "1.2.0",
          "state": {
            "_model_module": "@jupyter-widgets/base",
            "_model_module_version": "1.2.0",
            "_model_name": "LayoutModel",
            "_view_count": null,
            "_view_module": "@jupyter-widgets/base",
            "_view_module_version": "1.2.0",
            "_view_name": "LayoutView",
            "align_content": null,
            "align_items": null,
            "align_self": null,
            "border": null,
            "bottom": null,
            "display": null,
            "flex": null,
            "flex_flow": null,
            "grid_area": null,
            "grid_auto_columns": null,
            "grid_auto_flow": null,
            "grid_auto_rows": null,
            "grid_column": null,
            "grid_gap": null,
            "grid_row": null,
            "grid_template_areas": null,
            "grid_template_columns": null,
            "grid_template_rows": null,
            "height": null,
            "justify_content": null,
            "justify_items": null,
            "left": null,
            "margin": null,
            "max_height": null,
            "max_width": null,
            "min_height": null,
            "min_width": null,
            "object_fit": null,
            "object_position": null,
            "order": null,
            "overflow": null,
            "overflow_x": null,
            "overflow_y": null,
            "padding": null,
            "right": null,
            "top": null,
            "visibility": null,
            "width": null
          }
        },
        "c8d3d718622e4437be7936a386cffcb6": {
          "model_module": "@jupyter-widgets/base",
          "model_name": "LayoutModel",
          "model_module_version": "1.2.0",
          "state": {
            "_model_module": "@jupyter-widgets/base",
            "_model_module_version": "1.2.0",
            "_model_name": "LayoutModel",
            "_view_count": null,
            "_view_module": "@jupyter-widgets/base",
            "_view_module_version": "1.2.0",
            "_view_name": "LayoutView",
            "align_content": null,
            "align_items": null,
            "align_self": null,
            "border": null,
            "bottom": null,
            "display": null,
            "flex": null,
            "flex_flow": null,
            "grid_area": null,
            "grid_auto_columns": null,
            "grid_auto_flow": null,
            "grid_auto_rows": null,
            "grid_column": null,
            "grid_gap": null,
            "grid_row": null,
            "grid_template_areas": null,
            "grid_template_columns": null,
            "grid_template_rows": null,
            "height": null,
            "justify_content": null,
            "justify_items": null,
            "left": null,
            "margin": null,
            "max_height": null,
            "max_width": null,
            "min_height": null,
            "min_width": null,
            "object_fit": null,
            "object_position": null,
            "order": null,
            "overflow": null,
            "overflow_x": null,
            "overflow_y": null,
            "padding": null,
            "right": null,
            "top": null,
            "visibility": null,
            "width": null
          }
        },
        "c01d568312454deea09a9dd1309bb7ed": {
          "model_module": "@jupyter-widgets/controls",
          "model_name": "DescriptionStyleModel",
          "model_module_version": "1.5.0",
          "state": {
            "_model_module": "@jupyter-widgets/controls",
            "_model_module_version": "1.5.0",
            "_model_name": "DescriptionStyleModel",
            "_view_count": null,
            "_view_module": "@jupyter-widgets/base",
            "_view_module_version": "1.2.0",
            "_view_name": "StyleView",
            "description_width": ""
          }
        },
        "754d183b095a4440851dcf3599496cfb": {
          "model_module": "@jupyter-widgets/base",
          "model_name": "LayoutModel",
          "model_module_version": "1.2.0",
          "state": {
            "_model_module": "@jupyter-widgets/base",
            "_model_module_version": "1.2.0",
            "_model_name": "LayoutModel",
            "_view_count": null,
            "_view_module": "@jupyter-widgets/base",
            "_view_module_version": "1.2.0",
            "_view_name": "LayoutView",
            "align_content": null,
            "align_items": null,
            "align_self": null,
            "border": null,
            "bottom": null,
            "display": null,
            "flex": null,
            "flex_flow": null,
            "grid_area": null,
            "grid_auto_columns": null,
            "grid_auto_flow": null,
            "grid_auto_rows": null,
            "grid_column": null,
            "grid_gap": null,
            "grid_row": null,
            "grid_template_areas": null,
            "grid_template_columns": null,
            "grid_template_rows": null,
            "height": null,
            "justify_content": null,
            "justify_items": null,
            "left": null,
            "margin": null,
            "max_height": null,
            "max_width": null,
            "min_height": null,
            "min_width": null,
            "object_fit": null,
            "object_position": null,
            "order": null,
            "overflow": null,
            "overflow_x": null,
            "overflow_y": null,
            "padding": null,
            "right": null,
            "top": null,
            "visibility": null,
            "width": null
          }
        },
        "a55cbf7d07df4da1a855c832e45c430f": {
          "model_module": "@jupyter-widgets/controls",
          "model_name": "ProgressStyleModel",
          "model_module_version": "1.5.0",
          "state": {
            "_model_module": "@jupyter-widgets/controls",
            "_model_module_version": "1.5.0",
            "_model_name": "ProgressStyleModel",
            "_view_count": null,
            "_view_module": "@jupyter-widgets/base",
            "_view_module_version": "1.2.0",
            "_view_name": "StyleView",
            "bar_color": null,
            "description_width": ""
          }
        },
        "7ffa5c1519274d1a8619f5158d1a1490": {
          "model_module": "@jupyter-widgets/base",
          "model_name": "LayoutModel",
          "model_module_version": "1.2.0",
          "state": {
            "_model_module": "@jupyter-widgets/base",
            "_model_module_version": "1.2.0",
            "_model_name": "LayoutModel",
            "_view_count": null,
            "_view_module": "@jupyter-widgets/base",
            "_view_module_version": "1.2.0",
            "_view_name": "LayoutView",
            "align_content": null,
            "align_items": null,
            "align_self": null,
            "border": null,
            "bottom": null,
            "display": null,
            "flex": null,
            "flex_flow": null,
            "grid_area": null,
            "grid_auto_columns": null,
            "grid_auto_flow": null,
            "grid_auto_rows": null,
            "grid_column": null,
            "grid_gap": null,
            "grid_row": null,
            "grid_template_areas": null,
            "grid_template_columns": null,
            "grid_template_rows": null,
            "height": null,
            "justify_content": null,
            "justify_items": null,
            "left": null,
            "margin": null,
            "max_height": null,
            "max_width": null,
            "min_height": null,
            "min_width": null,
            "object_fit": null,
            "object_position": null,
            "order": null,
            "overflow": null,
            "overflow_x": null,
            "overflow_y": null,
            "padding": null,
            "right": null,
            "top": null,
            "visibility": null,
            "width": null
          }
        },
        "34de3ee430c948899b353d70044b20ed": {
          "model_module": "@jupyter-widgets/controls",
          "model_name": "DescriptionStyleModel",
          "model_module_version": "1.5.0",
          "state": {
            "_model_module": "@jupyter-widgets/controls",
            "_model_module_version": "1.5.0",
            "_model_name": "DescriptionStyleModel",
            "_view_count": null,
            "_view_module": "@jupyter-widgets/base",
            "_view_module_version": "1.2.0",
            "_view_name": "StyleView",
            "description_width": ""
          }
        },
        "1008e4615f3e482b8498905ed7462edd": {
          "model_module": "@jupyter-widgets/controls",
          "model_name": "HBoxModel",
          "model_module_version": "1.5.0",
          "state": {
            "_dom_classes": [],
            "_model_module": "@jupyter-widgets/controls",
            "_model_module_version": "1.5.0",
            "_model_name": "HBoxModel",
            "_view_count": null,
            "_view_module": "@jupyter-widgets/controls",
            "_view_module_version": "1.5.0",
            "_view_name": "HBoxView",
            "box_style": "",
            "children": [
              "IPY_MODEL_f6cbdc282d5d4837a70937b718bfd299",
              "IPY_MODEL_50629acf3e5f44e786cca2b27d9db60c",
              "IPY_MODEL_dd9b54800178496f9b9cac2f031ccd0c"
            ],
            "layout": "IPY_MODEL_82405fd19b564c9da234523792e2df45"
          }
        },
        "f6cbdc282d5d4837a70937b718bfd299": {
          "model_module": "@jupyter-widgets/controls",
          "model_name": "HTMLModel",
          "model_module_version": "1.5.0",
          "state": {
            "_dom_classes": [],
            "_model_module": "@jupyter-widgets/controls",
            "_model_module_version": "1.5.0",
            "_model_name": "HTMLModel",
            "_view_count": null,
            "_view_module": "@jupyter-widgets/controls",
            "_view_module_version": "1.5.0",
            "_view_name": "HTMLView",
            "description": "",
            "description_tooltip": null,
            "layout": "IPY_MODEL_8cdad021f03046f280297df4f5589ce3",
            "placeholder": "​",
            "style": "IPY_MODEL_2581e591a604463a890f25857cfe3d40",
            "value": "config.json: 100%"
          }
        },
        "50629acf3e5f44e786cca2b27d9db60c": {
          "model_module": "@jupyter-widgets/controls",
          "model_name": "FloatProgressModel",
          "model_module_version": "1.5.0",
          "state": {
            "_dom_classes": [],
            "_model_module": "@jupyter-widgets/controls",
            "_model_module_version": "1.5.0",
            "_model_name": "FloatProgressModel",
            "_view_count": null,
            "_view_module": "@jupyter-widgets/controls",
            "_view_module_version": "1.5.0",
            "_view_name": "ProgressView",
            "bar_style": "success",
            "description": "",
            "description_tooltip": null,
            "layout": "IPY_MODEL_f69f347b4fe04231ac8944cff151d64e",
            "max": 581,
            "min": 0,
            "orientation": "horizontal",
            "style": "IPY_MODEL_0bd98060adf04c10a5ec083a9342a060",
            "value": 581
          }
        },
        "dd9b54800178496f9b9cac2f031ccd0c": {
          "model_module": "@jupyter-widgets/controls",
          "model_name": "HTMLModel",
          "model_module_version": "1.5.0",
          "state": {
            "_dom_classes": [],
            "_model_module": "@jupyter-widgets/controls",
            "_model_module_version": "1.5.0",
            "_model_name": "HTMLModel",
            "_view_count": null,
            "_view_module": "@jupyter-widgets/controls",
            "_view_module_version": "1.5.0",
            "_view_name": "HTMLView",
            "description": "",
            "description_tooltip": null,
            "layout": "IPY_MODEL_32081431cac74ecab2f7cc3fa222de63",
            "placeholder": "​",
            "style": "IPY_MODEL_a4460f235040474792b572ea6d05c44f",
            "value": " 581/581 [00:00&lt;00:00, 8.68kB/s]"
          }
        },
        "82405fd19b564c9da234523792e2df45": {
          "model_module": "@jupyter-widgets/base",
          "model_name": "LayoutModel",
          "model_module_version": "1.2.0",
          "state": {
            "_model_module": "@jupyter-widgets/base",
            "_model_module_version": "1.2.0",
            "_model_name": "LayoutModel",
            "_view_count": null,
            "_view_module": "@jupyter-widgets/base",
            "_view_module_version": "1.2.0",
            "_view_name": "LayoutView",
            "align_content": null,
            "align_items": null,
            "align_self": null,
            "border": null,
            "bottom": null,
            "display": null,
            "flex": null,
            "flex_flow": null,
            "grid_area": null,
            "grid_auto_columns": null,
            "grid_auto_flow": null,
            "grid_auto_rows": null,
            "grid_column": null,
            "grid_gap": null,
            "grid_row": null,
            "grid_template_areas": null,
            "grid_template_columns": null,
            "grid_template_rows": null,
            "height": null,
            "justify_content": null,
            "justify_items": null,
            "left": null,
            "margin": null,
            "max_height": null,
            "max_width": null,
            "min_height": null,
            "min_width": null,
            "object_fit": null,
            "object_position": null,
            "order": null,
            "overflow": null,
            "overflow_x": null,
            "overflow_y": null,
            "padding": null,
            "right": null,
            "top": null,
            "visibility": null,
            "width": null
          }
        },
        "8cdad021f03046f280297df4f5589ce3": {
          "model_module": "@jupyter-widgets/base",
          "model_name": "LayoutModel",
          "model_module_version": "1.2.0",
          "state": {
            "_model_module": "@jupyter-widgets/base",
            "_model_module_version": "1.2.0",
            "_model_name": "LayoutModel",
            "_view_count": null,
            "_view_module": "@jupyter-widgets/base",
            "_view_module_version": "1.2.0",
            "_view_name": "LayoutView",
            "align_content": null,
            "align_items": null,
            "align_self": null,
            "border": null,
            "bottom": null,
            "display": null,
            "flex": null,
            "flex_flow": null,
            "grid_area": null,
            "grid_auto_columns": null,
            "grid_auto_flow": null,
            "grid_auto_rows": null,
            "grid_column": null,
            "grid_gap": null,
            "grid_row": null,
            "grid_template_areas": null,
            "grid_template_columns": null,
            "grid_template_rows": null,
            "height": null,
            "justify_content": null,
            "justify_items": null,
            "left": null,
            "margin": null,
            "max_height": null,
            "max_width": null,
            "min_height": null,
            "min_width": null,
            "object_fit": null,
            "object_position": null,
            "order": null,
            "overflow": null,
            "overflow_x": null,
            "overflow_y": null,
            "padding": null,
            "right": null,
            "top": null,
            "visibility": null,
            "width": null
          }
        },
        "2581e591a604463a890f25857cfe3d40": {
          "model_module": "@jupyter-widgets/controls",
          "model_name": "DescriptionStyleModel",
          "model_module_version": "1.5.0",
          "state": {
            "_model_module": "@jupyter-widgets/controls",
            "_model_module_version": "1.5.0",
            "_model_name": "DescriptionStyleModel",
            "_view_count": null,
            "_view_module": "@jupyter-widgets/base",
            "_view_module_version": "1.2.0",
            "_view_name": "StyleView",
            "description_width": ""
          }
        },
        "f69f347b4fe04231ac8944cff151d64e": {
          "model_module": "@jupyter-widgets/base",
          "model_name": "LayoutModel",
          "model_module_version": "1.2.0",
          "state": {
            "_model_module": "@jupyter-widgets/base",
            "_model_module_version": "1.2.0",
            "_model_name": "LayoutModel",
            "_view_count": null,
            "_view_module": "@jupyter-widgets/base",
            "_view_module_version": "1.2.0",
            "_view_name": "LayoutView",
            "align_content": null,
            "align_items": null,
            "align_self": null,
            "border": null,
            "bottom": null,
            "display": null,
            "flex": null,
            "flex_flow": null,
            "grid_area": null,
            "grid_auto_columns": null,
            "grid_auto_flow": null,
            "grid_auto_rows": null,
            "grid_column": null,
            "grid_gap": null,
            "grid_row": null,
            "grid_template_areas": null,
            "grid_template_columns": null,
            "grid_template_rows": null,
            "height": null,
            "justify_content": null,
            "justify_items": null,
            "left": null,
            "margin": null,
            "max_height": null,
            "max_width": null,
            "min_height": null,
            "min_width": null,
            "object_fit": null,
            "object_position": null,
            "order": null,
            "overflow": null,
            "overflow_x": null,
            "overflow_y": null,
            "padding": null,
            "right": null,
            "top": null,
            "visibility": null,
            "width": null
          }
        },
        "0bd98060adf04c10a5ec083a9342a060": {
          "model_module": "@jupyter-widgets/controls",
          "model_name": "ProgressStyleModel",
          "model_module_version": "1.5.0",
          "state": {
            "_model_module": "@jupyter-widgets/controls",
            "_model_module_version": "1.5.0",
            "_model_name": "ProgressStyleModel",
            "_view_count": null,
            "_view_module": "@jupyter-widgets/base",
            "_view_module_version": "1.2.0",
            "_view_name": "StyleView",
            "bar_color": null,
            "description_width": ""
          }
        },
        "32081431cac74ecab2f7cc3fa222de63": {
          "model_module": "@jupyter-widgets/base",
          "model_name": "LayoutModel",
          "model_module_version": "1.2.0",
          "state": {
            "_model_module": "@jupyter-widgets/base",
            "_model_module_version": "1.2.0",
            "_model_name": "LayoutModel",
            "_view_count": null,
            "_view_module": "@jupyter-widgets/base",
            "_view_module_version": "1.2.0",
            "_view_name": "LayoutView",
            "align_content": null,
            "align_items": null,
            "align_self": null,
            "border": null,
            "bottom": null,
            "display": null,
            "flex": null,
            "flex_flow": null,
            "grid_area": null,
            "grid_auto_columns": null,
            "grid_auto_flow": null,
            "grid_auto_rows": null,
            "grid_column": null,
            "grid_gap": null,
            "grid_row": null,
            "grid_template_areas": null,
            "grid_template_columns": null,
            "grid_template_rows": null,
            "height": null,
            "justify_content": null,
            "justify_items": null,
            "left": null,
            "margin": null,
            "max_height": null,
            "max_width": null,
            "min_height": null,
            "min_width": null,
            "object_fit": null,
            "object_position": null,
            "order": null,
            "overflow": null,
            "overflow_x": null,
            "overflow_y": null,
            "padding": null,
            "right": null,
            "top": null,
            "visibility": null,
            "width": null
          }
        },
        "a4460f235040474792b572ea6d05c44f": {
          "model_module": "@jupyter-widgets/controls",
          "model_name": "DescriptionStyleModel",
          "model_module_version": "1.5.0",
          "state": {
            "_model_module": "@jupyter-widgets/controls",
            "_model_module_version": "1.5.0",
            "_model_name": "DescriptionStyleModel",
            "_view_count": null,
            "_view_module": "@jupyter-widgets/base",
            "_view_module_version": "1.2.0",
            "_view_name": "StyleView",
            "description_width": ""
          }
        },
        "271bf8b7d5a64cdfacb6744efe3f3f9b": {
          "model_module": "@jupyter-widgets/controls",
          "model_name": "HBoxModel",
          "model_module_version": "1.5.0",
          "state": {
            "_dom_classes": [],
            "_model_module": "@jupyter-widgets/controls",
            "_model_module_version": "1.5.0",
            "_model_name": "HBoxModel",
            "_view_count": null,
            "_view_module": "@jupyter-widgets/controls",
            "_view_module_version": "1.5.0",
            "_view_name": "HBoxView",
            "box_style": "",
            "children": [
              "IPY_MODEL_3d0c833ee3604927984cb6919272542b",
              "IPY_MODEL_ed7d2c02003c4a749d7f138ee60a7200",
              "IPY_MODEL_287f6a765d7c4e558b5017430ae0e7ed"
            ],
            "layout": "IPY_MODEL_6183a0dd475944968b461198b13ce87b"
          }
        },
        "3d0c833ee3604927984cb6919272542b": {
          "model_module": "@jupyter-widgets/controls",
          "model_name": "HTMLModel",
          "model_module_version": "1.5.0",
          "state": {
            "_dom_classes": [],
            "_model_module": "@jupyter-widgets/controls",
            "_model_module_version": "1.5.0",
            "_model_name": "HTMLModel",
            "_view_count": null,
            "_view_module": "@jupyter-widgets/controls",
            "_view_module_version": "1.5.0",
            "_view_name": "HTMLView",
            "description": "",
            "description_tooltip": null,
            "layout": "IPY_MODEL_3d561a6042bb4059bf1c115e96e69794",
            "placeholder": "​",
            "style": "IPY_MODEL_374a90b938b441eea055252c921264ae",
            "value": "spiece.model: 100%"
          }
        },
        "ed7d2c02003c4a749d7f138ee60a7200": {
          "model_module": "@jupyter-widgets/controls",
          "model_name": "FloatProgressModel",
          "model_module_version": "1.5.0",
          "state": {
            "_dom_classes": [],
            "_model_module": "@jupyter-widgets/controls",
            "_model_module_version": "1.5.0",
            "_model_name": "FloatProgressModel",
            "_view_count": null,
            "_view_module": "@jupyter-widgets/controls",
            "_view_module_version": "1.5.0",
            "_view_name": "ProgressView",
            "bar_style": "success",
            "description": "",
            "description_tooltip": null,
            "layout": "IPY_MODEL_a4d7415645d04ffc99cf9c8d057bcfd5",
            "max": 791656,
            "min": 0,
            "orientation": "horizontal",
            "style": "IPY_MODEL_dd88688a4cde47b4b7e3c4e7c2f91255",
            "value": 791656
          }
        },
        "287f6a765d7c4e558b5017430ae0e7ed": {
          "model_module": "@jupyter-widgets/controls",
          "model_name": "HTMLModel",
          "model_module_version": "1.5.0",
          "state": {
            "_dom_classes": [],
            "_model_module": "@jupyter-widgets/controls",
            "_model_module_version": "1.5.0",
            "_model_name": "HTMLModel",
            "_view_count": null,
            "_view_module": "@jupyter-widgets/controls",
            "_view_module_version": "1.5.0",
            "_view_name": "HTMLView",
            "description": "",
            "description_tooltip": null,
            "layout": "IPY_MODEL_df0519e9225e4de79574cd2d82d2d012",
            "placeholder": "​",
            "style": "IPY_MODEL_5994ba8cf427460985edd3bccaa87e39",
            "value": " 792k/792k [00:00&lt;00:00, 3.63MB/s]"
          }
        },
        "6183a0dd475944968b461198b13ce87b": {
          "model_module": "@jupyter-widgets/base",
          "model_name": "LayoutModel",
          "model_module_version": "1.2.0",
          "state": {
            "_model_module": "@jupyter-widgets/base",
            "_model_module_version": "1.2.0",
            "_model_name": "LayoutModel",
            "_view_count": null,
            "_view_module": "@jupyter-widgets/base",
            "_view_module_version": "1.2.0",
            "_view_name": "LayoutView",
            "align_content": null,
            "align_items": null,
            "align_self": null,
            "border": null,
            "bottom": null,
            "display": null,
            "flex": null,
            "flex_flow": null,
            "grid_area": null,
            "grid_auto_columns": null,
            "grid_auto_flow": null,
            "grid_auto_rows": null,
            "grid_column": null,
            "grid_gap": null,
            "grid_row": null,
            "grid_template_areas": null,
            "grid_template_columns": null,
            "grid_template_rows": null,
            "height": null,
            "justify_content": null,
            "justify_items": null,
            "left": null,
            "margin": null,
            "max_height": null,
            "max_width": null,
            "min_height": null,
            "min_width": null,
            "object_fit": null,
            "object_position": null,
            "order": null,
            "overflow": null,
            "overflow_x": null,
            "overflow_y": null,
            "padding": null,
            "right": null,
            "top": null,
            "visibility": null,
            "width": null
          }
        },
        "3d561a6042bb4059bf1c115e96e69794": {
          "model_module": "@jupyter-widgets/base",
          "model_name": "LayoutModel",
          "model_module_version": "1.2.0",
          "state": {
            "_model_module": "@jupyter-widgets/base",
            "_model_module_version": "1.2.0",
            "_model_name": "LayoutModel",
            "_view_count": null,
            "_view_module": "@jupyter-widgets/base",
            "_view_module_version": "1.2.0",
            "_view_name": "LayoutView",
            "align_content": null,
            "align_items": null,
            "align_self": null,
            "border": null,
            "bottom": null,
            "display": null,
            "flex": null,
            "flex_flow": null,
            "grid_area": null,
            "grid_auto_columns": null,
            "grid_auto_flow": null,
            "grid_auto_rows": null,
            "grid_column": null,
            "grid_gap": null,
            "grid_row": null,
            "grid_template_areas": null,
            "grid_template_columns": null,
            "grid_template_rows": null,
            "height": null,
            "justify_content": null,
            "justify_items": null,
            "left": null,
            "margin": null,
            "max_height": null,
            "max_width": null,
            "min_height": null,
            "min_width": null,
            "object_fit": null,
            "object_position": null,
            "order": null,
            "overflow": null,
            "overflow_x": null,
            "overflow_y": null,
            "padding": null,
            "right": null,
            "top": null,
            "visibility": null,
            "width": null
          }
        },
        "374a90b938b441eea055252c921264ae": {
          "model_module": "@jupyter-widgets/controls",
          "model_name": "DescriptionStyleModel",
          "model_module_version": "1.5.0",
          "state": {
            "_model_module": "@jupyter-widgets/controls",
            "_model_module_version": "1.5.0",
            "_model_name": "DescriptionStyleModel",
            "_view_count": null,
            "_view_module": "@jupyter-widgets/base",
            "_view_module_version": "1.2.0",
            "_view_name": "StyleView",
            "description_width": ""
          }
        },
        "a4d7415645d04ffc99cf9c8d057bcfd5": {
          "model_module": "@jupyter-widgets/base",
          "model_name": "LayoutModel",
          "model_module_version": "1.2.0",
          "state": {
            "_model_module": "@jupyter-widgets/base",
            "_model_module_version": "1.2.0",
            "_model_name": "LayoutModel",
            "_view_count": null,
            "_view_module": "@jupyter-widgets/base",
            "_view_module_version": "1.2.0",
            "_view_name": "LayoutView",
            "align_content": null,
            "align_items": null,
            "align_self": null,
            "border": null,
            "bottom": null,
            "display": null,
            "flex": null,
            "flex_flow": null,
            "grid_area": null,
            "grid_auto_columns": null,
            "grid_auto_flow": null,
            "grid_auto_rows": null,
            "grid_column": null,
            "grid_gap": null,
            "grid_row": null,
            "grid_template_areas": null,
            "grid_template_columns": null,
            "grid_template_rows": null,
            "height": null,
            "justify_content": null,
            "justify_items": null,
            "left": null,
            "margin": null,
            "max_height": null,
            "max_width": null,
            "min_height": null,
            "min_width": null,
            "object_fit": null,
            "object_position": null,
            "order": null,
            "overflow": null,
            "overflow_x": null,
            "overflow_y": null,
            "padding": null,
            "right": null,
            "top": null,
            "visibility": null,
            "width": null
          }
        },
        "dd88688a4cde47b4b7e3c4e7c2f91255": {
          "model_module": "@jupyter-widgets/controls",
          "model_name": "ProgressStyleModel",
          "model_module_version": "1.5.0",
          "state": {
            "_model_module": "@jupyter-widgets/controls",
            "_model_module_version": "1.5.0",
            "_model_name": "ProgressStyleModel",
            "_view_count": null,
            "_view_module": "@jupyter-widgets/base",
            "_view_module_version": "1.2.0",
            "_view_name": "StyleView",
            "bar_color": null,
            "description_width": ""
          }
        },
        "df0519e9225e4de79574cd2d82d2d012": {
          "model_module": "@jupyter-widgets/base",
          "model_name": "LayoutModel",
          "model_module_version": "1.2.0",
          "state": {
            "_model_module": "@jupyter-widgets/base",
            "_model_module_version": "1.2.0",
            "_model_name": "LayoutModel",
            "_view_count": null,
            "_view_module": "@jupyter-widgets/base",
            "_view_module_version": "1.2.0",
            "_view_name": "LayoutView",
            "align_content": null,
            "align_items": null,
            "align_self": null,
            "border": null,
            "bottom": null,
            "display": null,
            "flex": null,
            "flex_flow": null,
            "grid_area": null,
            "grid_auto_columns": null,
            "grid_auto_flow": null,
            "grid_auto_rows": null,
            "grid_column": null,
            "grid_gap": null,
            "grid_row": null,
            "grid_template_areas": null,
            "grid_template_columns": null,
            "grid_template_rows": null,
            "height": null,
            "justify_content": null,
            "justify_items": null,
            "left": null,
            "margin": null,
            "max_height": null,
            "max_width": null,
            "min_height": null,
            "min_width": null,
            "object_fit": null,
            "object_position": null,
            "order": null,
            "overflow": null,
            "overflow_x": null,
            "overflow_y": null,
            "padding": null,
            "right": null,
            "top": null,
            "visibility": null,
            "width": null
          }
        },
        "5994ba8cf427460985edd3bccaa87e39": {
          "model_module": "@jupyter-widgets/controls",
          "model_name": "DescriptionStyleModel",
          "model_module_version": "1.5.0",
          "state": {
            "_model_module": "@jupyter-widgets/controls",
            "_model_module_version": "1.5.0",
            "_model_name": "DescriptionStyleModel",
            "_view_count": null,
            "_view_module": "@jupyter-widgets/base",
            "_view_module_version": "1.2.0",
            "_view_name": "StyleView",
            "description_width": ""
          }
        },
        "13e3d8ff83964014938867e85fee5533": {
          "model_module": "@jupyter-widgets/controls",
          "model_name": "HBoxModel",
          "model_module_version": "1.5.0",
          "state": {
            "_dom_classes": [],
            "_model_module": "@jupyter-widgets/controls",
            "_model_module_version": "1.5.0",
            "_model_name": "HBoxModel",
            "_view_count": null,
            "_view_module": "@jupyter-widgets/controls",
            "_view_module_version": "1.5.0",
            "_view_name": "HBoxView",
            "box_style": "",
            "children": [
              "IPY_MODEL_8e3b12ecb1114859a3e016458279b992",
              "IPY_MODEL_0f3f1922c82d4678ab229778ac007bb2",
              "IPY_MODEL_47b477773527463aaf1437aeb2af318d"
            ],
            "layout": "IPY_MODEL_81c6c270dc134507b5b4662a29f91de5"
          }
        },
        "8e3b12ecb1114859a3e016458279b992": {
          "model_module": "@jupyter-widgets/controls",
          "model_name": "HTMLModel",
          "model_module_version": "1.5.0",
          "state": {
            "_dom_classes": [],
            "_model_module": "@jupyter-widgets/controls",
            "_model_module_version": "1.5.0",
            "_model_name": "HTMLModel",
            "_view_count": null,
            "_view_module": "@jupyter-widgets/controls",
            "_view_module_version": "1.5.0",
            "_view_name": "HTMLView",
            "description": "",
            "description_tooltip": null,
            "layout": "IPY_MODEL_cb4e295d9fd140d489bf512025ca7389",
            "placeholder": "​",
            "style": "IPY_MODEL_b4ba238d2c82463f9407f9f17cea7e35",
            "value": "tokenizer.json: 100%"
          }
        },
        "0f3f1922c82d4678ab229778ac007bb2": {
          "model_module": "@jupyter-widgets/controls",
          "model_name": "FloatProgressModel",
          "model_module_version": "1.5.0",
          "state": {
            "_dom_classes": [],
            "_model_module": "@jupyter-widgets/controls",
            "_model_module_version": "1.5.0",
            "_model_name": "FloatProgressModel",
            "_view_count": null,
            "_view_module": "@jupyter-widgets/controls",
            "_view_module_version": "1.5.0",
            "_view_name": "ProgressView",
            "bar_style": "success",
            "description": "",
            "description_tooltip": null,
            "layout": "IPY_MODEL_5b0723f6cda04a38996655c8da594c01",
            "max": 1389353,
            "min": 0,
            "orientation": "horizontal",
            "style": "IPY_MODEL_da621dc55141406aae0e95dc68167620",
            "value": 1389353
          }
        },
        "47b477773527463aaf1437aeb2af318d": {
          "model_module": "@jupyter-widgets/controls",
          "model_name": "HTMLModel",
          "model_module_version": "1.5.0",
          "state": {
            "_dom_classes": [],
            "_model_module": "@jupyter-widgets/controls",
            "_model_module_version": "1.5.0",
            "_model_name": "HTMLModel",
            "_view_count": null,
            "_view_module": "@jupyter-widgets/controls",
            "_view_module_version": "1.5.0",
            "_view_name": "HTMLView",
            "description": "",
            "description_tooltip": null,
            "layout": "IPY_MODEL_a5615a2bb29646ec9c1c0136a5d8fa3e",
            "placeholder": "​",
            "style": "IPY_MODEL_b1f6d69455054b44a5395b55109b748b",
            "value": " 1.39M/1.39M [00:00&lt;00:00, 5.30MB/s]"
          }
        },
        "81c6c270dc134507b5b4662a29f91de5": {
          "model_module": "@jupyter-widgets/base",
          "model_name": "LayoutModel",
          "model_module_version": "1.2.0",
          "state": {
            "_model_module": "@jupyter-widgets/base",
            "_model_module_version": "1.2.0",
            "_model_name": "LayoutModel",
            "_view_count": null,
            "_view_module": "@jupyter-widgets/base",
            "_view_module_version": "1.2.0",
            "_view_name": "LayoutView",
            "align_content": null,
            "align_items": null,
            "align_self": null,
            "border": null,
            "bottom": null,
            "display": null,
            "flex": null,
            "flex_flow": null,
            "grid_area": null,
            "grid_auto_columns": null,
            "grid_auto_flow": null,
            "grid_auto_rows": null,
            "grid_column": null,
            "grid_gap": null,
            "grid_row": null,
            "grid_template_areas": null,
            "grid_template_columns": null,
            "grid_template_rows": null,
            "height": null,
            "justify_content": null,
            "justify_items": null,
            "left": null,
            "margin": null,
            "max_height": null,
            "max_width": null,
            "min_height": null,
            "min_width": null,
            "object_fit": null,
            "object_position": null,
            "order": null,
            "overflow": null,
            "overflow_x": null,
            "overflow_y": null,
            "padding": null,
            "right": null,
            "top": null,
            "visibility": null,
            "width": null
          }
        },
        "cb4e295d9fd140d489bf512025ca7389": {
          "model_module": "@jupyter-widgets/base",
          "model_name": "LayoutModel",
          "model_module_version": "1.2.0",
          "state": {
            "_model_module": "@jupyter-widgets/base",
            "_model_module_version": "1.2.0",
            "_model_name": "LayoutModel",
            "_view_count": null,
            "_view_module": "@jupyter-widgets/base",
            "_view_module_version": "1.2.0",
            "_view_name": "LayoutView",
            "align_content": null,
            "align_items": null,
            "align_self": null,
            "border": null,
            "bottom": null,
            "display": null,
            "flex": null,
            "flex_flow": null,
            "grid_area": null,
            "grid_auto_columns": null,
            "grid_auto_flow": null,
            "grid_auto_rows": null,
            "grid_column": null,
            "grid_gap": null,
            "grid_row": null,
            "grid_template_areas": null,
            "grid_template_columns": null,
            "grid_template_rows": null,
            "height": null,
            "justify_content": null,
            "justify_items": null,
            "left": null,
            "margin": null,
            "max_height": null,
            "max_width": null,
            "min_height": null,
            "min_width": null,
            "object_fit": null,
            "object_position": null,
            "order": null,
            "overflow": null,
            "overflow_x": null,
            "overflow_y": null,
            "padding": null,
            "right": null,
            "top": null,
            "visibility": null,
            "width": null
          }
        },
        "b4ba238d2c82463f9407f9f17cea7e35": {
          "model_module": "@jupyter-widgets/controls",
          "model_name": "DescriptionStyleModel",
          "model_module_version": "1.5.0",
          "state": {
            "_model_module": "@jupyter-widgets/controls",
            "_model_module_version": "1.5.0",
            "_model_name": "DescriptionStyleModel",
            "_view_count": null,
            "_view_module": "@jupyter-widgets/base",
            "_view_module_version": "1.2.0",
            "_view_name": "StyleView",
            "description_width": ""
          }
        },
        "5b0723f6cda04a38996655c8da594c01": {
          "model_module": "@jupyter-widgets/base",
          "model_name": "LayoutModel",
          "model_module_version": "1.2.0",
          "state": {
            "_model_module": "@jupyter-widgets/base",
            "_model_module_version": "1.2.0",
            "_model_name": "LayoutModel",
            "_view_count": null,
            "_view_module": "@jupyter-widgets/base",
            "_view_module_version": "1.2.0",
            "_view_name": "LayoutView",
            "align_content": null,
            "align_items": null,
            "align_self": null,
            "border": null,
            "bottom": null,
            "display": null,
            "flex": null,
            "flex_flow": null,
            "grid_area": null,
            "grid_auto_columns": null,
            "grid_auto_flow": null,
            "grid_auto_rows": null,
            "grid_column": null,
            "grid_gap": null,
            "grid_row": null,
            "grid_template_areas": null,
            "grid_template_columns": null,
            "grid_template_rows": null,
            "height": null,
            "justify_content": null,
            "justify_items": null,
            "left": null,
            "margin": null,
            "max_height": null,
            "max_width": null,
            "min_height": null,
            "min_width": null,
            "object_fit": null,
            "object_position": null,
            "order": null,
            "overflow": null,
            "overflow_x": null,
            "overflow_y": null,
            "padding": null,
            "right": null,
            "top": null,
            "visibility": null,
            "width": null
          }
        },
        "da621dc55141406aae0e95dc68167620": {
          "model_module": "@jupyter-widgets/controls",
          "model_name": "ProgressStyleModel",
          "model_module_version": "1.5.0",
          "state": {
            "_model_module": "@jupyter-widgets/controls",
            "_model_module_version": "1.5.0",
            "_model_name": "ProgressStyleModel",
            "_view_count": null,
            "_view_module": "@jupyter-widgets/base",
            "_view_module_version": "1.2.0",
            "_view_name": "StyleView",
            "bar_color": null,
            "description_width": ""
          }
        },
        "a5615a2bb29646ec9c1c0136a5d8fa3e": {
          "model_module": "@jupyter-widgets/base",
          "model_name": "LayoutModel",
          "model_module_version": "1.2.0",
          "state": {
            "_model_module": "@jupyter-widgets/base",
            "_model_module_version": "1.2.0",
            "_model_name": "LayoutModel",
            "_view_count": null,
            "_view_module": "@jupyter-widgets/base",
            "_view_module_version": "1.2.0",
            "_view_name": "LayoutView",
            "align_content": null,
            "align_items": null,
            "align_self": null,
            "border": null,
            "bottom": null,
            "display": null,
            "flex": null,
            "flex_flow": null,
            "grid_area": null,
            "grid_auto_columns": null,
            "grid_auto_flow": null,
            "grid_auto_rows": null,
            "grid_column": null,
            "grid_gap": null,
            "grid_row": null,
            "grid_template_areas": null,
            "grid_template_columns": null,
            "grid_template_rows": null,
            "height": null,
            "justify_content": null,
            "justify_items": null,
            "left": null,
            "margin": null,
            "max_height": null,
            "max_width": null,
            "min_height": null,
            "min_width": null,
            "object_fit": null,
            "object_position": null,
            "order": null,
            "overflow": null,
            "overflow_x": null,
            "overflow_y": null,
            "padding": null,
            "right": null,
            "top": null,
            "visibility": null,
            "width": null
          }
        },
        "b1f6d69455054b44a5395b55109b748b": {
          "model_module": "@jupyter-widgets/controls",
          "model_name": "DescriptionStyleModel",
          "model_module_version": "1.5.0",
          "state": {
            "_model_module": "@jupyter-widgets/controls",
            "_model_module_version": "1.5.0",
            "_model_name": "DescriptionStyleModel",
            "_view_count": null,
            "_view_module": "@jupyter-widgets/base",
            "_view_module_version": "1.2.0",
            "_view_name": "StyleView",
            "description_width": ""
          }
        },
        "a13eae7d5b364f838a6825b0bb13f801": {
          "model_module": "@jupyter-widgets/controls",
          "model_name": "HBoxModel",
          "model_module_version": "1.5.0",
          "state": {
            "_dom_classes": [],
            "_model_module": "@jupyter-widgets/controls",
            "_model_module_version": "1.5.0",
            "_model_name": "HBoxModel",
            "_view_count": null,
            "_view_module": "@jupyter-widgets/controls",
            "_view_module_version": "1.5.0",
            "_view_name": "HBoxView",
            "box_style": "",
            "children": [
              "IPY_MODEL_4d451161801f4736ad3a538b090bcf05",
              "IPY_MODEL_3fcade37923e4f9b86afab842fe383f8",
              "IPY_MODEL_cb6eee1dd7fd49239638c022ac6a3237"
            ],
            "layout": "IPY_MODEL_abbc1819b6864242a140f45982f44ba1"
          }
        },
        "4d451161801f4736ad3a538b090bcf05": {
          "model_module": "@jupyter-widgets/controls",
          "model_name": "HTMLModel",
          "model_module_version": "1.5.0",
          "state": {
            "_dom_classes": [],
            "_model_module": "@jupyter-widgets/controls",
            "_model_module_version": "1.5.0",
            "_model_name": "HTMLModel",
            "_view_count": null,
            "_view_module": "@jupyter-widgets/controls",
            "_view_module_version": "1.5.0",
            "_view_name": "HTMLView",
            "description": "",
            "description_tooltip": null,
            "layout": "IPY_MODEL_d4d8ec4f40e944a4acff599df1c8b588",
            "placeholder": "​",
            "style": "IPY_MODEL_b80dd02211914046835f6b61001fdf32",
            "value": "model.safetensors: 100%"
          }
        },
        "3fcade37923e4f9b86afab842fe383f8": {
          "model_module": "@jupyter-widgets/controls",
          "model_name": "FloatProgressModel",
          "model_module_version": "1.5.0",
          "state": {
            "_dom_classes": [],
            "_model_module": "@jupyter-widgets/controls",
            "_model_module_version": "1.5.0",
            "_model_name": "FloatProgressModel",
            "_view_count": null,
            "_view_module": "@jupyter-widgets/controls",
            "_view_module_version": "1.5.0",
            "_view_name": "ProgressView",
            "bar_style": "success",
            "description": "",
            "description_tooltip": null,
            "layout": "IPY_MODEL_e5d5f7ebe3324ee4ba8d86aa5ed7b586",
            "max": 891644710,
            "min": 0,
            "orientation": "horizontal",
            "style": "IPY_MODEL_bb790cc09e9144528a9db533b1f699e3",
            "value": 891644710
          }
        },
        "cb6eee1dd7fd49239638c022ac6a3237": {
          "model_module": "@jupyter-widgets/controls",
          "model_name": "HTMLModel",
          "model_module_version": "1.5.0",
          "state": {
            "_dom_classes": [],
            "_model_module": "@jupyter-widgets/controls",
            "_model_module_version": "1.5.0",
            "_model_name": "HTMLModel",
            "_view_count": null,
            "_view_module": "@jupyter-widgets/controls",
            "_view_module_version": "1.5.0",
            "_view_name": "HTMLView",
            "description": "",
            "description_tooltip": null,
            "layout": "IPY_MODEL_d4b6b7f6f3884a9bb792bfe1d4dc5ebd",
            "placeholder": "​",
            "style": "IPY_MODEL_1e8f1d955028450f8cd7398e0c2c83fc",
            "value": " 892M/892M [00:11&lt;00:00, 70.5MB/s]"
          }
        },
        "abbc1819b6864242a140f45982f44ba1": {
          "model_module": "@jupyter-widgets/base",
          "model_name": "LayoutModel",
          "model_module_version": "1.2.0",
          "state": {
            "_model_module": "@jupyter-widgets/base",
            "_model_module_version": "1.2.0",
            "_model_name": "LayoutModel",
            "_view_count": null,
            "_view_module": "@jupyter-widgets/base",
            "_view_module_version": "1.2.0",
            "_view_name": "LayoutView",
            "align_content": null,
            "align_items": null,
            "align_self": null,
            "border": null,
            "bottom": null,
            "display": null,
            "flex": null,
            "flex_flow": null,
            "grid_area": null,
            "grid_auto_columns": null,
            "grid_auto_flow": null,
            "grid_auto_rows": null,
            "grid_column": null,
            "grid_gap": null,
            "grid_row": null,
            "grid_template_areas": null,
            "grid_template_columns": null,
            "grid_template_rows": null,
            "height": null,
            "justify_content": null,
            "justify_items": null,
            "left": null,
            "margin": null,
            "max_height": null,
            "max_width": null,
            "min_height": null,
            "min_width": null,
            "object_fit": null,
            "object_position": null,
            "order": null,
            "overflow": null,
            "overflow_x": null,
            "overflow_y": null,
            "padding": null,
            "right": null,
            "top": null,
            "visibility": null,
            "width": null
          }
        },
        "d4d8ec4f40e944a4acff599df1c8b588": {
          "model_module": "@jupyter-widgets/base",
          "model_name": "LayoutModel",
          "model_module_version": "1.2.0",
          "state": {
            "_model_module": "@jupyter-widgets/base",
            "_model_module_version": "1.2.0",
            "_model_name": "LayoutModel",
            "_view_count": null,
            "_view_module": "@jupyter-widgets/base",
            "_view_module_version": "1.2.0",
            "_view_name": "LayoutView",
            "align_content": null,
            "align_items": null,
            "align_self": null,
            "border": null,
            "bottom": null,
            "display": null,
            "flex": null,
            "flex_flow": null,
            "grid_area": null,
            "grid_auto_columns": null,
            "grid_auto_flow": null,
            "grid_auto_rows": null,
            "grid_column": null,
            "grid_gap": null,
            "grid_row": null,
            "grid_template_areas": null,
            "grid_template_columns": null,
            "grid_template_rows": null,
            "height": null,
            "justify_content": null,
            "justify_items": null,
            "left": null,
            "margin": null,
            "max_height": null,
            "max_width": null,
            "min_height": null,
            "min_width": null,
            "object_fit": null,
            "object_position": null,
            "order": null,
            "overflow": null,
            "overflow_x": null,
            "overflow_y": null,
            "padding": null,
            "right": null,
            "top": null,
            "visibility": null,
            "width": null
          }
        },
        "b80dd02211914046835f6b61001fdf32": {
          "model_module": "@jupyter-widgets/controls",
          "model_name": "DescriptionStyleModel",
          "model_module_version": "1.5.0",
          "state": {
            "_model_module": "@jupyter-widgets/controls",
            "_model_module_version": "1.5.0",
            "_model_name": "DescriptionStyleModel",
            "_view_count": null,
            "_view_module": "@jupyter-widgets/base",
            "_view_module_version": "1.2.0",
            "_view_name": "StyleView",
            "description_width": ""
          }
        },
        "e5d5f7ebe3324ee4ba8d86aa5ed7b586": {
          "model_module": "@jupyter-widgets/base",
          "model_name": "LayoutModel",
          "model_module_version": "1.2.0",
          "state": {
            "_model_module": "@jupyter-widgets/base",
            "_model_module_version": "1.2.0",
            "_model_name": "LayoutModel",
            "_view_count": null,
            "_view_module": "@jupyter-widgets/base",
            "_view_module_version": "1.2.0",
            "_view_name": "LayoutView",
            "align_content": null,
            "align_items": null,
            "align_self": null,
            "border": null,
            "bottom": null,
            "display": null,
            "flex": null,
            "flex_flow": null,
            "grid_area": null,
            "grid_auto_columns": null,
            "grid_auto_flow": null,
            "grid_auto_rows": null,
            "grid_column": null,
            "grid_gap": null,
            "grid_row": null,
            "grid_template_areas": null,
            "grid_template_columns": null,
            "grid_template_rows": null,
            "height": null,
            "justify_content": null,
            "justify_items": null,
            "left": null,
            "margin": null,
            "max_height": null,
            "max_width": null,
            "min_height": null,
            "min_width": null,
            "object_fit": null,
            "object_position": null,
            "order": null,
            "overflow": null,
            "overflow_x": null,
            "overflow_y": null,
            "padding": null,
            "right": null,
            "top": null,
            "visibility": null,
            "width": null
          }
        },
        "bb790cc09e9144528a9db533b1f699e3": {
          "model_module": "@jupyter-widgets/controls",
          "model_name": "ProgressStyleModel",
          "model_module_version": "1.5.0",
          "state": {
            "_model_module": "@jupyter-widgets/controls",
            "_model_module_version": "1.5.0",
            "_model_name": "ProgressStyleModel",
            "_view_count": null,
            "_view_module": "@jupyter-widgets/base",
            "_view_module_version": "1.2.0",
            "_view_name": "StyleView",
            "bar_color": null,
            "description_width": ""
          }
        },
        "d4b6b7f6f3884a9bb792bfe1d4dc5ebd": {
          "model_module": "@jupyter-widgets/base",
          "model_name": "LayoutModel",
          "model_module_version": "1.2.0",
          "state": {
            "_model_module": "@jupyter-widgets/base",
            "_model_module_version": "1.2.0",
            "_model_name": "LayoutModel",
            "_view_count": null,
            "_view_module": "@jupyter-widgets/base",
            "_view_module_version": "1.2.0",
            "_view_name": "LayoutView",
            "align_content": null,
            "align_items": null,
            "align_self": null,
            "border": null,
            "bottom": null,
            "display": null,
            "flex": null,
            "flex_flow": null,
            "grid_area": null,
            "grid_auto_columns": null,
            "grid_auto_flow": null,
            "grid_auto_rows": null,
            "grid_column": null,
            "grid_gap": null,
            "grid_row": null,
            "grid_template_areas": null,
            "grid_template_columns": null,
            "grid_template_rows": null,
            "height": null,
            "justify_content": null,
            "justify_items": null,
            "left": null,
            "margin": null,
            "max_height": null,
            "max_width": null,
            "min_height": null,
            "min_width": null,
            "object_fit": null,
            "object_position": null,
            "order": null,
            "overflow": null,
            "overflow_x": null,
            "overflow_y": null,
            "padding": null,
            "right": null,
            "top": null,
            "visibility": null,
            "width": null
          }
        },
        "1e8f1d955028450f8cd7398e0c2c83fc": {
          "model_module": "@jupyter-widgets/controls",
          "model_name": "DescriptionStyleModel",
          "model_module_version": "1.5.0",
          "state": {
            "_model_module": "@jupyter-widgets/controls",
            "_model_module_version": "1.5.0",
            "_model_name": "DescriptionStyleModel",
            "_view_count": null,
            "_view_module": "@jupyter-widgets/base",
            "_view_module_version": "1.2.0",
            "_view_name": "StyleView",
            "description_width": ""
          }
        }
      }
    }
  },
  "nbformat_minor": 0,
  "nbformat": 4,
  "cells": [
    {
      "cell_type": "markdown",
      "source": [
        "# Exploring RAG and QA on locally stored data sample of 1000 articles"
      ],
      "metadata": {
        "id": "6AF1GikVDeni"
      }
    },
    {
      "cell_type": "code",
      "source": [],
      "metadata": {
        "id": "oDCZkn1odE98"
      },
      "execution_count": null,
      "outputs": []
    },
    {
      "cell_type": "code",
      "source": [
        "import os\n",
        "from google.colab import drive\n",
        "from sentence_transformers import SentenceTransformer\n",
        "from transformers import AutoTokenizer, AutoModelForSeq2SeqLM\n",
        "import torch"
      ],
      "metadata": {
        "id": "cAdd0efsc7kx"
      },
      "execution_count": null,
      "outputs": []
    },
    {
      "cell_type": "markdown",
      "source": [
        "# Get dataframe of locally stored  sample"
      ],
      "metadata": {
        "id": "DqToQB98qUGN"
      }
    },
    {
      "cell_type": "code",
      "source": [
        "# loading 1000 art sample from file on Google Drive (when using Colab)\n",
        "import os\n",
        "from google.colab import drive\n",
        "\n",
        "if not os.path.exists(\"/content/drive\"):\n",
        "        drive.mount('/content/drive')\n",
        "\n",
        "def load_sample_data():\n",
        "  data = pd.read_excel('/content/drive/MyDrive/Sci_papers/papers_sample.xlsx')\n",
        "\n",
        "  data['full_article'] = data['title'] + data['abstract'] + data['full-text']\n",
        "  return data\n",
        ""
      ],
      "metadata": {
        "trusted": true,
        "id": "2XxjGqCCqUGN"
      },
      "outputs": [],
      "execution_count": 115
    },
    {
      "cell_type": "code",
      "source": [
        "data = load_sample_data()\n",
        "article = data['full_article'][996]\n",
        "data"
      ],
      "metadata": {
        "colab": {
          "base_uri": "https://localhost:8080/",
          "height": 597
        },
        "id": "gha-1tDNEOyO",
        "outputId": "ca6bb042-8462-4571-ca06-560ee2b8165a"
      },
      "execution_count": 116,
      "outputs": [
        {
          "output_type": "execute_result",
          "data": {
            "text/plain": [
              "                                     paper_id  \\\n",
              "0    9f05493734433385ff6082f0d4368b93a9a6b3df   \n",
              "1    76b6934f3ead3c415d98b18154c3223178bfbc4f   \n",
              "2    97c2f4235923a5366f93d98a48f88b68e1941b21   \n",
              "3    d327e343b221e242373be5e86d02a03afe4d250b   \n",
              "4    088e0fabcaf75dea9bc0e42ed2a85dc0cf677e02   \n",
              "..                                        ...   \n",
              "995  0140b20fe9bcda5a1933d8923676e2e503e17a5c   \n",
              "996  646651f4c636a6e8064805dfb4931a078af9e523   \n",
              "997  c2187c600a7b07ce51f310da823fe5bafda1495b   \n",
              "998  b37ecbbb10f3440ae7549d18395a2cfa048f142a   \n",
              "999  a15f967466be9c990e6a646b63495293a560f479   \n",
              "\n",
              "                                                 title  \\\n",
              "0    Journey of cystatins from being mere thiol pro...   \n",
              "1                                          Dear Editor   \n",
              "2    Accurate Representations of the Microphysical ...   \n",
              "3    Journal Pre-proof RECOMENDACIONES DE CONSENSO ...   \n",
              "4    Myofascial Release of the Hamstrings Improves ...   \n",
              "..                                                 ...   \n",
              "995  Historical analogies and general theoretical s...   \n",
              "996  Evaluation of different types of face masks to...   \n",
              "997  Cardiovascular Imaging: Letter Cardiology Myoc...   \n",
              "998  Article 593491 and Podda GM (2021) Sensitivity...   \n",
              "999  The Ethical Governance of the Digital During a...   \n",
              "\n",
              "                                              abstract  \\\n",
              "0    Abstract\\n\\nCystatins are thiol proteinase inh...   \n",
              "1                                                  NaN   \n",
              "2    Abstract\\n\\nAerosols and droplets from expirat...   \n",
              "3    Abstract\\n\\nLa gran afectación pulmonar produc...   \n",
              "4    Abstract\\n\\nCitation: Itotani, K.; Kawahata, K...   \n",
              "..                                                 ...   \n",
              "995  Abstract\\n\\nThis article discusses the plausib...   \n",
              "996  Abstract\\n\\nWe expanded a published mathematic...   \n",
              "997                                                NaN   \n",
              "998  Abstract\\n\\nBackground: SARS-CoV-2-infected su...   \n",
              "999                                                NaN   \n",
              "\n",
              "                                             full-text  \\\n",
              "0    Proteases\\n\\nProteases are enzymes that irreve...   \n",
              "1    \\n\\nAccording to the World Health Organization...   \n",
              "2    I. INTRODUCTION\\n\\nThe transmission of respira...   \n",
              "3    INTRODUCCION\\n\\nLa rápida progresión de la pan...   \n",
              "4    Introduction\\n\\nIn 2020, COVID-19 had an impac...   \n",
              "..                                                 ...   \n",
              "995  Introduction\\n\\nGeneral theoretical schemes an...   \n",
              "996  \\n\\nwww.nature.com/scientificreports/ As the C...   \n",
              "997  \\n\\nDear Editor, We would like to share ideas ...   \n",
              "998  \\n\\nBackground: SARS-CoV-2-infected subjects h...   \n",
              "999  \\n\\nfor mass surveillance by implementing dece...   \n",
              "\n",
              "                                          full_article  \n",
              "0    Journey of cystatins from being mere thiol pro...  \n",
              "1                                                  NaN  \n",
              "2    Accurate Representations of the Microphysical ...  \n",
              "3    Journal Pre-proof RECOMENDACIONES DE CONSENSO ...  \n",
              "4    Myofascial Release of the Hamstrings Improves ...  \n",
              "..                                                 ...  \n",
              "995  Historical analogies and general theoretical s...  \n",
              "996  Evaluation of different types of face masks to...  \n",
              "997                                                NaN  \n",
              "998  Article 593491 and Podda GM (2021) Sensitivity...  \n",
              "999                                                NaN  \n",
              "\n",
              "[1000 rows x 5 columns]"
            ],
            "text/html": [
              "\n",
              "  <div id=\"df-a70486aa-bab3-4c8b-a6fb-585be4b15bf1\" class=\"colab-df-container\">\n",
              "    <div>\n",
              "<style scoped>\n",
              "    .dataframe tbody tr th:only-of-type {\n",
              "        vertical-align: middle;\n",
              "    }\n",
              "\n",
              "    .dataframe tbody tr th {\n",
              "        vertical-align: top;\n",
              "    }\n",
              "\n",
              "    .dataframe thead th {\n",
              "        text-align: right;\n",
              "    }\n",
              "</style>\n",
              "<table border=\"1\" class=\"dataframe\">\n",
              "  <thead>\n",
              "    <tr style=\"text-align: right;\">\n",
              "      <th></th>\n",
              "      <th>paper_id</th>\n",
              "      <th>title</th>\n",
              "      <th>abstract</th>\n",
              "      <th>full-text</th>\n",
              "      <th>full_article</th>\n",
              "    </tr>\n",
              "  </thead>\n",
              "  <tbody>\n",
              "    <tr>\n",
              "      <th>0</th>\n",
              "      <td>9f05493734433385ff6082f0d4368b93a9a6b3df</td>\n",
              "      <td>Journey of cystatins from being mere thiol pro...</td>\n",
              "      <td>Abstract\\n\\nCystatins are thiol proteinase inh...</td>\n",
              "      <td>Proteases\\n\\nProteases are enzymes that irreve...</td>\n",
              "      <td>Journey of cystatins from being mere thiol pro...</td>\n",
              "    </tr>\n",
              "    <tr>\n",
              "      <th>1</th>\n",
              "      <td>76b6934f3ead3c415d98b18154c3223178bfbc4f</td>\n",
              "      <td>Dear Editor</td>\n",
              "      <td>NaN</td>\n",
              "      <td>\\n\\nAccording to the World Health Organization...</td>\n",
              "      <td>NaN</td>\n",
              "    </tr>\n",
              "    <tr>\n",
              "      <th>2</th>\n",
              "      <td>97c2f4235923a5366f93d98a48f88b68e1941b21</td>\n",
              "      <td>Accurate Representations of the Microphysical ...</td>\n",
              "      <td>Abstract\\n\\nAerosols and droplets from expirat...</td>\n",
              "      <td>I. INTRODUCTION\\n\\nThe transmission of respira...</td>\n",
              "      <td>Accurate Representations of the Microphysical ...</td>\n",
              "    </tr>\n",
              "    <tr>\n",
              "      <th>3</th>\n",
              "      <td>d327e343b221e242373be5e86d02a03afe4d250b</td>\n",
              "      <td>Journal Pre-proof RECOMENDACIONES DE CONSENSO ...</td>\n",
              "      <td>Abstract\\n\\nLa gran afectación pulmonar produc...</td>\n",
              "      <td>INTRODUCCION\\n\\nLa rápida progresión de la pan...</td>\n",
              "      <td>Journal Pre-proof RECOMENDACIONES DE CONSENSO ...</td>\n",
              "    </tr>\n",
              "    <tr>\n",
              "      <th>4</th>\n",
              "      <td>088e0fabcaf75dea9bc0e42ed2a85dc0cf677e02</td>\n",
              "      <td>Myofascial Release of the Hamstrings Improves ...</td>\n",
              "      <td>Abstract\\n\\nCitation: Itotani, K.; Kawahata, K...</td>\n",
              "      <td>Introduction\\n\\nIn 2020, COVID-19 had an impac...</td>\n",
              "      <td>Myofascial Release of the Hamstrings Improves ...</td>\n",
              "    </tr>\n",
              "    <tr>\n",
              "      <th>...</th>\n",
              "      <td>...</td>\n",
              "      <td>...</td>\n",
              "      <td>...</td>\n",
              "      <td>...</td>\n",
              "      <td>...</td>\n",
              "    </tr>\n",
              "    <tr>\n",
              "      <th>995</th>\n",
              "      <td>0140b20fe9bcda5a1933d8923676e2e503e17a5c</td>\n",
              "      <td>Historical analogies and general theoretical s...</td>\n",
              "      <td>Abstract\\n\\nThis article discusses the plausib...</td>\n",
              "      <td>Introduction\\n\\nGeneral theoretical schemes an...</td>\n",
              "      <td>Historical analogies and general theoretical s...</td>\n",
              "    </tr>\n",
              "    <tr>\n",
              "      <th>996</th>\n",
              "      <td>646651f4c636a6e8064805dfb4931a078af9e523</td>\n",
              "      <td>Evaluation of different types of face masks to...</td>\n",
              "      <td>Abstract\\n\\nWe expanded a published mathematic...</td>\n",
              "      <td>\\n\\nwww.nature.com/scientificreports/ As the C...</td>\n",
              "      <td>Evaluation of different types of face masks to...</td>\n",
              "    </tr>\n",
              "    <tr>\n",
              "      <th>997</th>\n",
              "      <td>c2187c600a7b07ce51f310da823fe5bafda1495b</td>\n",
              "      <td>Cardiovascular Imaging: Letter Cardiology Myoc...</td>\n",
              "      <td>NaN</td>\n",
              "      <td>\\n\\nDear Editor, We would like to share ideas ...</td>\n",
              "      <td>NaN</td>\n",
              "    </tr>\n",
              "    <tr>\n",
              "      <th>998</th>\n",
              "      <td>b37ecbbb10f3440ae7549d18395a2cfa048f142a</td>\n",
              "      <td>Article 593491 and Podda GM (2021) Sensitivity...</td>\n",
              "      <td>Abstract\\n\\nBackground: SARS-CoV-2-infected su...</td>\n",
              "      <td>\\n\\nBackground: SARS-CoV-2-infected subjects h...</td>\n",
              "      <td>Article 593491 and Podda GM (2021) Sensitivity...</td>\n",
              "    </tr>\n",
              "    <tr>\n",
              "      <th>999</th>\n",
              "      <td>a15f967466be9c990e6a646b63495293a560f479</td>\n",
              "      <td>The Ethical Governance of the Digital During a...</td>\n",
              "      <td>NaN</td>\n",
              "      <td>\\n\\nfor mass surveillance by implementing dece...</td>\n",
              "      <td>NaN</td>\n",
              "    </tr>\n",
              "  </tbody>\n",
              "</table>\n",
              "<p>1000 rows × 5 columns</p>\n",
              "</div>\n",
              "    <div class=\"colab-df-buttons\">\n",
              "\n",
              "  <div class=\"colab-df-container\">\n",
              "    <button class=\"colab-df-convert\" onclick=\"convertToInteractive('df-a70486aa-bab3-4c8b-a6fb-585be4b15bf1')\"\n",
              "            title=\"Convert this dataframe to an interactive table.\"\n",
              "            style=\"display:none;\">\n",
              "\n",
              "  <svg xmlns=\"http://www.w3.org/2000/svg\" height=\"24px\" viewBox=\"0 -960 960 960\">\n",
              "    <path d=\"M120-120v-720h720v720H120Zm60-500h600v-160H180v160Zm220 220h160v-160H400v160Zm0 220h160v-160H400v160ZM180-400h160v-160H180v160Zm440 0h160v-160H620v160ZM180-180h160v-160H180v160Zm440 0h160v-160H620v160Z\"/>\n",
              "  </svg>\n",
              "    </button>\n",
              "\n",
              "  <style>\n",
              "    .colab-df-container {\n",
              "      display:flex;\n",
              "      gap: 12px;\n",
              "    }\n",
              "\n",
              "    .colab-df-convert {\n",
              "      background-color: #E8F0FE;\n",
              "      border: none;\n",
              "      border-radius: 50%;\n",
              "      cursor: pointer;\n",
              "      display: none;\n",
              "      fill: #1967D2;\n",
              "      height: 32px;\n",
              "      padding: 0 0 0 0;\n",
              "      width: 32px;\n",
              "    }\n",
              "\n",
              "    .colab-df-convert:hover {\n",
              "      background-color: #E2EBFA;\n",
              "      box-shadow: 0px 1px 2px rgba(60, 64, 67, 0.3), 0px 1px 3px 1px rgba(60, 64, 67, 0.15);\n",
              "      fill: #174EA6;\n",
              "    }\n",
              "\n",
              "    .colab-df-buttons div {\n",
              "      margin-bottom: 4px;\n",
              "    }\n",
              "\n",
              "    [theme=dark] .colab-df-convert {\n",
              "      background-color: #3B4455;\n",
              "      fill: #D2E3FC;\n",
              "    }\n",
              "\n",
              "    [theme=dark] .colab-df-convert:hover {\n",
              "      background-color: #434B5C;\n",
              "      box-shadow: 0px 1px 3px 1px rgba(0, 0, 0, 0.15);\n",
              "      filter: drop-shadow(0px 1px 2px rgba(0, 0, 0, 0.3));\n",
              "      fill: #FFFFFF;\n",
              "    }\n",
              "  </style>\n",
              "\n",
              "    <script>\n",
              "      const buttonEl =\n",
              "        document.querySelector('#df-a70486aa-bab3-4c8b-a6fb-585be4b15bf1 button.colab-df-convert');\n",
              "      buttonEl.style.display =\n",
              "        google.colab.kernel.accessAllowed ? 'block' : 'none';\n",
              "\n",
              "      async function convertToInteractive(key) {\n",
              "        const element = document.querySelector('#df-a70486aa-bab3-4c8b-a6fb-585be4b15bf1');\n",
              "        const dataTable =\n",
              "          await google.colab.kernel.invokeFunction('convertToInteractive',\n",
              "                                                    [key], {});\n",
              "        if (!dataTable) return;\n",
              "\n",
              "        const docLinkHtml = 'Like what you see? Visit the ' +\n",
              "          '<a target=\"_blank\" href=https://colab.research.google.com/notebooks/data_table.ipynb>data table notebook</a>'\n",
              "          + ' to learn more about interactive tables.';\n",
              "        element.innerHTML = '';\n",
              "        dataTable['output_type'] = 'display_data';\n",
              "        await google.colab.output.renderOutput(dataTable, element);\n",
              "        const docLink = document.createElement('div');\n",
              "        docLink.innerHTML = docLinkHtml;\n",
              "        element.appendChild(docLink);\n",
              "      }\n",
              "    </script>\n",
              "  </div>\n",
              "\n",
              "\n",
              "<div id=\"df-1f1e6056-1393-461e-a281-7ca2209ef418\">\n",
              "  <button class=\"colab-df-quickchart\" onclick=\"quickchart('df-1f1e6056-1393-461e-a281-7ca2209ef418')\"\n",
              "            title=\"Suggest charts\"\n",
              "            style=\"display:none;\">\n",
              "\n",
              "<svg xmlns=\"http://www.w3.org/2000/svg\" height=\"24px\"viewBox=\"0 0 24 24\"\n",
              "     width=\"24px\">\n",
              "    <g>\n",
              "        <path d=\"M19 3H5c-1.1 0-2 .9-2 2v14c0 1.1.9 2 2 2h14c1.1 0 2-.9 2-2V5c0-1.1-.9-2-2-2zM9 17H7v-7h2v7zm4 0h-2V7h2v10zm4 0h-2v-4h2v4z\"/>\n",
              "    </g>\n",
              "</svg>\n",
              "  </button>\n",
              "\n",
              "<style>\n",
              "  .colab-df-quickchart {\n",
              "      --bg-color: #E8F0FE;\n",
              "      --fill-color: #1967D2;\n",
              "      --hover-bg-color: #E2EBFA;\n",
              "      --hover-fill-color: #174EA6;\n",
              "      --disabled-fill-color: #AAA;\n",
              "      --disabled-bg-color: #DDD;\n",
              "  }\n",
              "\n",
              "  [theme=dark] .colab-df-quickchart {\n",
              "      --bg-color: #3B4455;\n",
              "      --fill-color: #D2E3FC;\n",
              "      --hover-bg-color: #434B5C;\n",
              "      --hover-fill-color: #FFFFFF;\n",
              "      --disabled-bg-color: #3B4455;\n",
              "      --disabled-fill-color: #666;\n",
              "  }\n",
              "\n",
              "  .colab-df-quickchart {\n",
              "    background-color: var(--bg-color);\n",
              "    border: none;\n",
              "    border-radius: 50%;\n",
              "    cursor: pointer;\n",
              "    display: none;\n",
              "    fill: var(--fill-color);\n",
              "    height: 32px;\n",
              "    padding: 0;\n",
              "    width: 32px;\n",
              "  }\n",
              "\n",
              "  .colab-df-quickchart:hover {\n",
              "    background-color: var(--hover-bg-color);\n",
              "    box-shadow: 0 1px 2px rgba(60, 64, 67, 0.3), 0 1px 3px 1px rgba(60, 64, 67, 0.15);\n",
              "    fill: var(--button-hover-fill-color);\n",
              "  }\n",
              "\n",
              "  .colab-df-quickchart-complete:disabled,\n",
              "  .colab-df-quickchart-complete:disabled:hover {\n",
              "    background-color: var(--disabled-bg-color);\n",
              "    fill: var(--disabled-fill-color);\n",
              "    box-shadow: none;\n",
              "  }\n",
              "\n",
              "  .colab-df-spinner {\n",
              "    border: 2px solid var(--fill-color);\n",
              "    border-color: transparent;\n",
              "    border-bottom-color: var(--fill-color);\n",
              "    animation:\n",
              "      spin 1s steps(1) infinite;\n",
              "  }\n",
              "\n",
              "  @keyframes spin {\n",
              "    0% {\n",
              "      border-color: transparent;\n",
              "      border-bottom-color: var(--fill-color);\n",
              "      border-left-color: var(--fill-color);\n",
              "    }\n",
              "    20% {\n",
              "      border-color: transparent;\n",
              "      border-left-color: var(--fill-color);\n",
              "      border-top-color: var(--fill-color);\n",
              "    }\n",
              "    30% {\n",
              "      border-color: transparent;\n",
              "      border-left-color: var(--fill-color);\n",
              "      border-top-color: var(--fill-color);\n",
              "      border-right-color: var(--fill-color);\n",
              "    }\n",
              "    40% {\n",
              "      border-color: transparent;\n",
              "      border-right-color: var(--fill-color);\n",
              "      border-top-color: var(--fill-color);\n",
              "    }\n",
              "    60% {\n",
              "      border-color: transparent;\n",
              "      border-right-color: var(--fill-color);\n",
              "    }\n",
              "    80% {\n",
              "      border-color: transparent;\n",
              "      border-right-color: var(--fill-color);\n",
              "      border-bottom-color: var(--fill-color);\n",
              "    }\n",
              "    90% {\n",
              "      border-color: transparent;\n",
              "      border-bottom-color: var(--fill-color);\n",
              "    }\n",
              "  }\n",
              "</style>\n",
              "\n",
              "  <script>\n",
              "    async function quickchart(key) {\n",
              "      const quickchartButtonEl =\n",
              "        document.querySelector('#' + key + ' button');\n",
              "      quickchartButtonEl.disabled = true;  // To prevent multiple clicks.\n",
              "      quickchartButtonEl.classList.add('colab-df-spinner');\n",
              "      try {\n",
              "        const charts = await google.colab.kernel.invokeFunction(\n",
              "            'suggestCharts', [key], {});\n",
              "      } catch (error) {\n",
              "        console.error('Error during call to suggestCharts:', error);\n",
              "      }\n",
              "      quickchartButtonEl.classList.remove('colab-df-spinner');\n",
              "      quickchartButtonEl.classList.add('colab-df-quickchart-complete');\n",
              "    }\n",
              "    (() => {\n",
              "      let quickchartButtonEl =\n",
              "        document.querySelector('#df-1f1e6056-1393-461e-a281-7ca2209ef418 button');\n",
              "      quickchartButtonEl.style.display =\n",
              "        google.colab.kernel.accessAllowed ? 'block' : 'none';\n",
              "    })();\n",
              "  </script>\n",
              "</div>\n",
              "\n",
              "  <div id=\"id_27373832-974f-4e40-b1f2-7efff3fe8651\">\n",
              "    <style>\n",
              "      .colab-df-generate {\n",
              "        background-color: #E8F0FE;\n",
              "        border: none;\n",
              "        border-radius: 50%;\n",
              "        cursor: pointer;\n",
              "        display: none;\n",
              "        fill: #1967D2;\n",
              "        height: 32px;\n",
              "        padding: 0 0 0 0;\n",
              "        width: 32px;\n",
              "      }\n",
              "\n",
              "      .colab-df-generate:hover {\n",
              "        background-color: #E2EBFA;\n",
              "        box-shadow: 0px 1px 2px rgba(60, 64, 67, 0.3), 0px 1px 3px 1px rgba(60, 64, 67, 0.15);\n",
              "        fill: #174EA6;\n",
              "      }\n",
              "\n",
              "      [theme=dark] .colab-df-generate {\n",
              "        background-color: #3B4455;\n",
              "        fill: #D2E3FC;\n",
              "      }\n",
              "\n",
              "      [theme=dark] .colab-df-generate:hover {\n",
              "        background-color: #434B5C;\n",
              "        box-shadow: 0px 1px 3px 1px rgba(0, 0, 0, 0.15);\n",
              "        filter: drop-shadow(0px 1px 2px rgba(0, 0, 0, 0.3));\n",
              "        fill: #FFFFFF;\n",
              "      }\n",
              "    </style>\n",
              "    <button class=\"colab-df-generate\" onclick=\"generateWithVariable('data')\"\n",
              "            title=\"Generate code using this dataframe.\"\n",
              "            style=\"display:none;\">\n",
              "\n",
              "  <svg xmlns=\"http://www.w3.org/2000/svg\" height=\"24px\"viewBox=\"0 0 24 24\"\n",
              "       width=\"24px\">\n",
              "    <path d=\"M7,19H8.4L18.45,9,17,7.55,7,17.6ZM5,21V16.75L18.45,3.32a2,2,0,0,1,2.83,0l1.4,1.43a1.91,1.91,0,0,1,.58,1.4,1.91,1.91,0,0,1-.58,1.4L9.25,21ZM18.45,9,17,7.55Zm-12,3A5.31,5.31,0,0,0,4.9,8.1,5.31,5.31,0,0,0,1,6.5,5.31,5.31,0,0,0,4.9,4.9,5.31,5.31,0,0,0,6.5,1,5.31,5.31,0,0,0,8.1,4.9,5.31,5.31,0,0,0,12,6.5,5.46,5.46,0,0,0,6.5,12Z\"/>\n",
              "  </svg>\n",
              "    </button>\n",
              "    <script>\n",
              "      (() => {\n",
              "      const buttonEl =\n",
              "        document.querySelector('#id_27373832-974f-4e40-b1f2-7efff3fe8651 button.colab-df-generate');\n",
              "      buttonEl.style.display =\n",
              "        google.colab.kernel.accessAllowed ? 'block' : 'none';\n",
              "\n",
              "      buttonEl.onclick = () => {\n",
              "        google.colab.notebook.generateWithVariable('data');\n",
              "      }\n",
              "      })();\n",
              "    </script>\n",
              "  </div>\n",
              "\n",
              "    </div>\n",
              "  </div>\n"
            ],
            "application/vnd.google.colaboratory.intrinsic+json": {
              "type": "dataframe",
              "variable_name": "data",
              "summary": "{\n  \"name\": \"data\",\n  \"rows\": 1000,\n  \"fields\": [\n    {\n      \"column\": \"paper_id\",\n      \"properties\": {\n        \"dtype\": \"string\",\n        \"num_unique_values\": 1000,\n        \"samples\": [\n          \"f69fea02282c0d78d49641d61b22863561687768\",\n          \"3a2850ededaecaa65df44bdcd030904d3e8bfd62\",\n          \"c2455b73a5b34d8f8082046aa32c235bda1e111d\"\n        ],\n        \"semantic_type\": \"\",\n        \"description\": \"\"\n      }\n    },\n    {\n      \"column\": \"title\",\n      \"properties\": {\n        \"dtype\": \"string\",\n        \"num_unique_values\": 867,\n        \"samples\": [\n          \"Saliva as a testing specimen with or without pooling for SARS-CoV-2 detection by multiplex RT-PCR test\",\n          \"Prevalence of Diabetes, Management and Outcomes among Covid-19 Adult Patients Admitted in a Specialized Tertiary Hospital in Riyadh\",\n          \"Journal Pre-proof Assessing the efficacy of interventions to control indoor SARS-Cov-2 transmission: an agent-based modeling approach Title: Assessing the efficacy of interventions to control indoor SARS-Cov-2 transmission: an agent-based modeling approach\"\n        ],\n        \"semantic_type\": \"\",\n        \"description\": \"\"\n      }\n    },\n    {\n      \"column\": \"abstract\",\n      \"properties\": {\n        \"dtype\": \"string\",\n        \"num_unique_values\": 684,\n        \"samples\": [\n          \"Abstract\\n\\nBackground: CYP2C19 loss-of-function (LOF) alleles reduce the effectiveness of clopidogrel in patients undergoing percutaneous coronary intervention for acute coronary syndrome. However, the clinical impact of implementing CYP2C19 geneguided pharmacotherapy is unclear, especially among the Chinese population. The purpose of this study was to evaluate P2Y12 receptor inhibitor selection and clinical outcomes upon implementation of CYP2C19 genotype-guided pharmacotherapy in current clinical practice.Methods: This was a single-center observational cohort study. Adult percutaneous coronary intervention patients who received CYP2C19 genetic testing (*2, *3, *17 alleles) were included. Ticagrelor was recommended for patients with a LOF allele. Factors related to P2Y12 inhibitor selection were determined by logistic regression. The primary endpoint was major cardiac or cerebrovascular adverse events (MACCE) within 12 months. MACCE and clinically significant bleeding events (BARC \\u22652) in the LOFclopidogrel group, non-LOF-clopidogrel group, and non-LOF-ticagrelor group were compared with those in the LOF-ticagrelor group. The inverse probability of treatment weighting (IPTW) was adjusted in a Cox regression analysis to eliminate confounding factors.Results: Among 1,361 patients, 826 (60.7%) had a LOF allele. Patients with a LOF allele were more likely to be prescribed ticagrelor (multivariate-adjusted OR 1.349; 95% CI 1.040 to 1.751; p 0.024). The MACCE rate was higher in the LOF-clopidogrel group than in the LOF-ticagrelor group (7.8 vs. 4.0%; log-rank p 0.029; IPTW-adjusted HR 2.138; 95% CI 1.300-3.515). Compared with the LOF-ticagrelor group, the non-LOF-clopidogrel group showed no significant difference in MACCE rate (5.8 vs. 4.0%; log-rank p 0.272; IPTWadjusted HR 1.531; 95% CI 0.864-2.714). Among the patients treated with ticagrelor, there was no significant difference in the MACCE rate between the LOF group and non-LOF group (4.3 vs. 4.0%; log-rank p 0.846; IPTW-adjusted HR 1.184; 95% CI 0.582-2.410). There was no significant difference in the incidence of clinically significant bleeding events among the four groups.Conclusion: This study confirms that efficiently returned CYP2C19 genotype results did partially guide cardiologists to prescribe ticagrelor for patients with a LOF allele, and that clopidogrel had a higher risk of MACCE than ticagrelor in these patients, which provides support for the implementation of CYP2C19 gene-guided antiplatelet therapy in clinical practice.\\n\\n\",\n          \"Abstract\\n\\nThis article is dedicated to the development and application of supercomputers and supercomputer technologies, which constitute a major factor in scientific, technical, and social advance, for solving problems that require large computing capacities. Trends in the use of supercomputers are considered, and the level of equipping advanced countries with supercomputer resources is discussed. Examples of tasks the solution of which is impossible without using computing capacities of tens of petaFLOPS are given. This article was prepared on the basis of a report presented at the meeting of the Presidium of the Russian Academy of Sciences on February 16, 2021.\\n\\n\",\n          \"Abstract\\n\\nRecent developments in the South China Sea (SCS) and the actions expected to be taken by China and member states of ASEAN in accordance with the Declaration on the Conduct of Parties in the SCS have the potential to further marginalize Taiwan's role in any serious discussion on SCS issues and then deprive Taiwan of its legitimate rights and interest in the area. These developments will also force Taiwan to respond by taking more active actions for the sole purpose of safeguarding its sovereignty and maritime jurisdiction in the SCS. This article discusses a number of possible confidence-building measures that could be considered for adoption by China to help engage Taiwan in the regional security dialogue process and enable Taiwan to participate in the planned joint co-operative activities in the SCS. The co-operative actions taken in the SCS area could enhance mutual trust between the two sides of the Taiwan Strait. r\\n\\n\"\n        ],\n        \"semantic_type\": \"\",\n        \"description\": \"\"\n      }\n    },\n    {\n      \"column\": \"full-text\",\n      \"properties\": {\n        \"dtype\": \"string\",\n        \"num_unique_values\": 1000,\n        \"samples\": [\n          \"\\n\\nEarly detection and treatment of disease activity are key principles in the management of the major retinal diseases, such as age-related macular degeneration (AMD), diabetic retinopathy (DR) including diabetic macular edema (DME), and retinal vein occlusion (RVO), to avoid irreversible vision loss. 1e3 However, many patients with early or stable retinal diseases do not need active treatment (e.g., intravitreal injections) but rather need active monitoring for signs of disease progression or recurrence. These traditional face-to-face in-clinic monitoring visits contribute to a significant burden of care and resources.Self-monitoring or home monitoring offers the potential for detecting disease progression before a patient becomes aware of functional deterioration. 4e6 This strategy is appealing and can help to alleviate the significant burden on eye care services. 7 However, self-monitoring programs have not been widely scaled or adopted. The coronavirus disease 2019 (COVID- 19) global pandemic provides a setting in which an urgent need for self-monitoring arose because face-to-face visits to hospitals for monitoring were canceled or deferred in many countries as part of social distancing measures and lockdowns to minimize person-to-person interactions and the spread of the virus. 8e13 However, only a few studies have evaluated the clinical use of selfmonitoring programs to understand challenges in implementation and adoption. 14 In Singapore, a countrywide lockdown (the so-called circuit breaker period) was enforced from April 13, 2020, to June 1, 2020. During this period, hospital service was limited to provide only acute and essential care. In support of patients whose appointments had been affected, we initiated a self-monitoring program to provide patients with stable retinal diseases an alternative way to monitor their vision for new signs of disease activity. This report aims to describe the experience and characterize the profile of patients who agreed to participate in this program versus those who declined and, among the former, those who complied with this program. Our study provides one of the first clinical insights into the potential facilitators of and barriers to self-monitoring for stable retinal diseases, which may inform long-term, postpandemic implementation of such initiatives and strategies. Although this report highlights the findings from this extraordinary circumstance, it is applicable to a postpandemic new normal where such digital selfmonitoring initiatives may represent new models of care that can help to reduce the burden of care.\\n\\nMethods\\n\\nWe conducted an observational study of patients at a retinal specialist clinic in a large tertiary eye center in Singapore whose clinic visits were rescheduled during the Singapore lockdown period (April 13eJune 1, 2020). These patients were offered a selfmonitoring program with a digital application, or app (Alleye, Switzerland), as the testing instrument. The research described adhered to the tenets of the Declaration of Helsinki, and Singhealth institutional ethics approval was obtained. All patients gave informed consent by accepting the user agreement within the app during sign up, which allowed the use of their anonymized data for this analysis. Data for this analysis were obtained from a review of the electronic medical records from these patients.\\n\\nSelection of Self-Monitoring Platform\\n\\nAlthough a number of self-monitoring solutions are available, many required dedicated devices or comprehensive patient training, which would preclude rapid roll-out of the initiative during the COVID-19 lockdown. [17] [18] [19] To meet our needs for a rapidly deployable, easy-to-use solution, we selected the Alleye mobile digital app as the detection tool. This smartphone-based app is a CE (European Conformity)-marked Class I device that received Food and Drug Administration 510(k) clearance for monitoring eyesight in AMD in 2018. It was intended for use to monitor patients with AMD and DR, for both detection of new disease and monitoring of treatment response.The app was designed as a mobile medical software application for the detection and characterization of metamorphopsia in the context of AMD. The principle of operations uses a dot alignment test of metamorphopsia and automatically triggers changes in score as a potential sign of worsening disease. Detailed use and validation of the app has been reported previously. In brief, the Alleye app was designed for home use by patients who can regularly perform the test on their personal mobile devices. The test consists of a dot alignment hyperacuity task. Patients perform the monocular task, which is to align a center dot to 2 fixed flanking dots to create an imaginary straight line (Fig 1) . The task is repeated 12 times with flanking dots in different orientations and distances. In the pilot study, we advised the patients to perform the test twice weekly. The app displays a score reflecting the visual performance of the patient in relationship to a healthy individual. The maximum score is 100 and minimum is 0. A score of 100 indicates visual performance comparable with that of a healthy individual with no eye conditions. A drop in 25 points was determined to be a clinically relevant threshold to differentiate detection of worsening eye disease. The score of the last best test (score before a > 25-point drop) was used as a reference for subsequent test scores. Patients were advised to repeat a test if a drop of 25 points or more was detected. This was displayed to the patients on the app as a red circle. Three test scores consistently 25 points less than the reference constituted a trigger event.\\n\\nPatient Selection\\n\\nDuring the lockdown (April 13eJune 1, 2020), all nonessential visits to the eye center were deferred. The decision to reschedule was determined by the consultant in charge of each patient with appointments originally scheduled during the affected period and was based on the primary diagnosis, stability of disease, treatment regimen, and status of patients' fellow eyes. Most patients receiving active treatment during the initial phase of neovascular AMD or those with persistently active disease were not deferred. Appointments for patients with other conditions like DME, RVO, or neovascular AMD observing longer, stable retreatment intervals were deferred if the benefit of deferral was deemed to outweigh the risk of visual loss. The rescheduling exercise occurred 2 weeks before lockdown, and for patients who were deemed suitable to be rescheduled, physicians could decide between a deferment period of 4 months or fewer (with a minimum of 2 months), 4 to 6 months, or 6 months or more. For the purpose of this analysis, we defined a long follow-up interval as more than 4 months.\\n\\nApplication Dissemination and Onboarding\\n\\nA key difference in the methodology of this initiative compared with previously reported studies is that no face-to-face consultation or prescription of the app was performed. Because of the extenuating circumstances of the lockdown, patients from the retina clinic whose appointments were rescheduled were sent a text message (in their primary language as indicated during prior visits) to invite them to take part in the initiative and instruct them on the aims and use of the self-monitoring initiative. Patients were directed to a mobile device-friendly custom webpage for consent, instructions on app use, and information on the follow-up action in the case of disease deterioration. These instructions were delivered in a language of choice. On completing the mandatory instructional tutorial, a unique code to download the app was sent to patients to activate their personal accounts. The participation in the selfmonitoring initiative, including the use of the app, was provided free of charge for all patients.\\n\\nManging Trigger Events: Monitoring and Integration into Hospital Appointments System\\n\\nA dedicated team from the Singapore National Eye Centre (SNEC) Ocular Reading Centre was designated to monitor and manage the patients participating in this self-monitoring program. A standard operating procedure was established to detail the workflow and Ophthalmology Retina Volume -, Number -, Month 2021 actions taken for a trigger event (Supplemental Appendix 1, available at www.ophthalmologyretina.org.). Briefly, a web-based dashboard, which was checked daily, was available for remote monitoring of all participating patients' Alleye scores and triggers. This team was responsible for triaging patients who experienced a triggering event via a telephone consultation and to facilitate urgent appointments at the retina clinic at SNEC for further evaluation if deemed necessary.\\n\\nOutcome Measures\\n\\nClinical and demographic data were collected retrospectively from the electronic medical record of the baseline visit, defined as the last visit recorded before lockdown. Patients were then tracked from the commencement of the initiative, April 3, 2020, through September 1, 2020. Demographic characteristics compared for this per-patient analysis consisted of age, gender, race, living arrangements, and the primary diagnosis of retinal pathologic feature. Clinical data such as whether the patient was receiving active treatment (defined as having a treatment administered 3 months before the beginning of lockdown), intended rescheduled interval (divided into 4 months or > 4 months), and visual acuity (VA) in the better eye and worse eye (expressed as the number of letters read on a logarithm of the minimum angle of resolution VA chart and recorded by whichever reading was best: uncorrected, corrected, or pinhole) were also recorded. If the patients had more than 1 retinal diagnosis (regardless of eye), the primary diagnosis was assigned based on a hierarchy. The diagnosis of a condition for which the patient was receiving treatment took precedence. Next, if the patient was not receiving active treatment, the diagnosis of highest severity that was threatening vision was selected. Diagnosis was grouped into: neovascular AMD, nonneovascular AMD (comprising both early and late AMD, including eyes with macular atrophy and scars), DME, DR, RVO, and all other retinal pathologic features (others).Trigger events were divided into true-positive triggers, defined as trigger events that resulted in an urgent consultation and disease progression on clinical examination, or false-positive triggers, defined as (1) trigger events that resulted in an urgent consultation, but no disease progression on clinical examination, or (2) trigger events resulting from misuse of the app as determined during telephone triage (examples include, but were not restricted to, wrong eye tested, wrong patient, or improper use of the app).In this analysis, 3 main comparisons were performed. First, we compared characteristics of patients who signed up for this selfmonitoring program versus those who did not. Next, among those who signed up, we further compared characteristics between compliant and noncompliant users. Compliant users were defined as patients who performed the recommended number of tests (at least 2) per week until the time of analysis (September 1, 2020), as stipulated in the instructions. Finally, among the patients who experienced a trigger event (defined as 3 test scores consistently 25 points less than the patient's reference), we compared the characteristics between patients who experienced true-positive trigger events and those who did not.\\n\\nStatistical Analysis\\n\\nDescriptive data included the mean AE standard deviation (SD) and percentages where appropriate. The Student t test and chi-square test were used where appropriate to compare characteristics between groups. A logistic regression model correcting for age and gender was used to compare the diagnosis between groups, and a linear or logistic regression model correcting for age, gender, and diagnosis was used (as appropriate) to compare the intended follow-up and VA of the better and worse eye between groups. A P value of less than 0.05 was considered statistically significant. All analyses were conducted using R software version 4.0.0 (R Foundation for Statistical Computing, Vienna, Austria).\\n\\nResults\\n\\nInvitations via text message to participate in the self-monitoring initiative over the period of lockdown (April 13eJune 1, 2020) were sent to 2774 patients. Among these 2774 patients, the mean AE SD age was 68 AE 13 years and 45% were women. The \\n\\nComparing the Characteristics of Patients Who Signed Up versus Those Who Declined\\n\\nThe comparison between characteristics of patients who signed up versus those who did not are summarized in Table 1 . Characteristics of patients who signed up include younger age (mean AE SD, 62 AE 14 years vs. 69 AE 13 years; P < 0.021), fewer women (38.1% vs. 46.9%; P < 0.001), and more living with family or friends (98.2% vs. 93.4%; P \\u00bc 0.021).After adjusting for age, gender, and race, the retinal diagnosis was significantly different among patients who signed up versus those who did not. When grouped according to retinal diagnosis, the proportion that signed up was 52% among DME patients, 35% among DR patients, 15% among neovascular AMD patients, 42% among nonneovascular AMD patients, and 18% among RVO patients (P < 0.001).After adjusting for age, gender, and diagnosis, those who signed up had worse vision in the worse-seeing eye (mean AE SD, 49 AE 25 letters vs. 61 AE 22 letters; P < 0.001). Every 1 line of worse presenting vision was associated with a 1.3-fold increased likelihood of signing up (odds ratio [OR], 1.3; 95% CI, 1.1e1.4; P \\u00bc 0.013). Patients with an intended longer follow-up (defined as > 4 months) were more likely to sign up (OR, 3.2; 95% CI, 1.2e5.1; P 0.001), whereas those undergoing active treatment were less likely to sign up (OR, 3.3; 95% CI, 0.4e6.3; P < 0.001).\\n\\nCharacteristics of Patients Who Were Compliant versus Noncompliant\\n\\nAmong the 732 participants who signed up, 315 patients (43%) complied with the initiative. The clinical characteristics comparing the 2 groups are summarized in Table 2 . Characteristics of those who complied include older age (mean AE SD, 64 AE 13 years vs. 60 AE 14 years; P \\u00bc 0.032).After adjusting for age, gender, and race, the retinal diagnosis was significantly different among patients who complied and those who did not. When grouped according to retinal diagnosis, the proportion who complied was 52% (71/136) among DME patients, After adjusting for age, gender, and diagnosis, the VA in patients who complied was worse in the worse-seeing eye (mean AE SD, 53[25] letters vs. 63 AE 20 letters; P \\u00bc 0.042) but similar in the better-seeing eye. Every line of worse presenting vision was associated with a 1.4-fold increased likelihood compliance (OR, 1.4; 95% CI, 1.7e1.1; P < 0.001). Patients who had longer intended follow-up (OR, 2.2; 95% CI, 1.2e3.4; P < 0.001) and were receiving active treatment (OR, 2.5; 95% CI, 1.7e3.4; P < 0.001) were more likely to comply.\\n\\nTrigger Events\\n\\nA total of 33 trigger events from 33 patients (10.5%) were detected over the study period. Each patient was called by the clinical team from SNEC Ocular Reading Centre. Based on assessment according to the standard operating procedure, 7 patients were given urgent appointments and attended at SNEC within a mean of 6 days (range, 2e10 days). Of these 7 of 33 patients (21%), 5 patients (2 with DME, 1 with RVO, 1 with neovascular AMD, and 1 with myopic choroidal neovascularization) were confirmed to have disease progression on clinical examination that resulted in active intervention (Table 3 ; Fig 3) . The remaining 2 patients were found to have no progression of disease, and on further questioning, it was discovered that they had difficulty using the app (Fig 4) . None of the patients who used the app correctly reported a false trigger. Of the remaining 26 of 33 patients (79%), 15 of 26 patients (58%) reported that they had not performed the test at the prescribed interval, 6 of 26 patients (23%) reported that they had tested the wrong eye, and 5 of 26 patients (19%) reported difficulties using the test. By the end of the analysis Table 4 . These clinical characteristics were compared between the most recent visit before lockdown and the trigger-related visit. OCT scans from patients obtained before the trigger visit to the trigger visit. The top row shows a patient with neovascular age-related macular degeneration (AMD) whose disease was inactive and who was in the midst of a stable 10-week treatment interval. The interval was extended by 4 weeks to avoid the coronavirus 2019 lockdown; however, a trigger event occurred at day 85 from the last visit (approximately 12 weeks from last treatment). New subretinal hyperreflective material can be seen around the pigment epithelial detachment on the OCT scan obtained at the trigger visit. The second row shows a patient receiving treatment for diabetic macular edema (DME). The patient's prior treatment interval was 8 to 10 weeks and a trigger event was noted approximately 14 weeks from the last treatment. The presence of new intraretinal and subretinal fluid with overall thickening of the retina can be seen in comparison with the scan obtained before the trigger. The third row shows a patient with an old quiescent central retinal vein occlusion (RVO). This patient had no active intervention at the prior visit, but the trigger event detected new activation of disease after approximately 17 weeks from the last visit. The last row shows a patient with myopic maculopathy with a previously treated myopic choroidal neovascularization (mCNV). No active intervention was administered at the last visit, and the patient was in the midst of a stable monitoring interval of 4 to 6 months previously. The trigger detected new mCNV activity associated with a drop of 4 letters.\\n\\nDiscussion\\n\\nThis report describes the rapid deployment of and clinical data from the uptake of a digital self-monitoring initiative for patients with retinal conditions during the COVID-19 lockdown in Singapore. The impetus for this initiative arose from the sudden need to defer all nonessential hospital visits in an effort to curb the spread of the virus while providing an alternative solution for disease monitoring. Our experience highlights the importance of active initial engagement from physicians and health care workers in the introductory process for a self-monitoring initiative. Although this report highlights the findings from this extraordinary circumstance, it is applicable to a new normal after the COVID-19 pandemic when such digital selfmonitoring initiatives may represent new models of care that can help to reduce the burden of care. The digital instrument selected in this study, the Alleye app, assesses hyperacuity 15 as a qualitative determination of metamorphopsia that is superior to Amsler grid testing and is a proxy for retinal disease. 16 In a previous trial, the application demonstrated good performance in differentiating eyes with wet AMD from those of agematched normal control participants (area under the receiver operating characteristic curve, 0.84). Although the use of digital instruments to detect new disease activity is not novel, the mode and speed of mass deployment in clinical practice has not been reported previously.Overall, we reported a low rate (approximately 25%) of sign up and low compliance rate (approximately 40%). This was likely because of the circumstances and methods of recruitment, which lacked detailed counseling and close trial engagement, which were found to be key drivers for compliance in prior studies. 17, 18 The closest comparisons to this study, 2 clinical implementations of the ForeseeHome device (Notal Vision, Ltd), reported that 25% to 50% of participants were noncompliant after the first year of use. 14, 19 It was not surprising that younger patients and those with family support were more likely to sign up and were more compliant with testing than their older counterparts. This could be related to familiarity with digital technology among the younger patients. We also found no racial predilection to signing up or compliance, suggesting the importance of the primary functional language of the initiative.Patients with neovascular AMD and nonneovascular AMD were found to be more compliant in this cohort. First, it is likely that patients who had experienced vision loss with conditions that required active treatment, such as neovascular AMD and DME, would be more willing to monitor their vision actively to detect early changes. Second, it is also likely that patients with nonneovascular AMD in one eye could likely have sustained vision loss in the fellow eye and hence were more likely to monitor the betterseeing eye. This hypothesis is supported further by our results showing that patients with poorer vision in the worseseeing eye were more likely to sign up and comply, presumably to monitor the better-seeing eye.Over the course of 6 months, a total of 33 triggers were identified, and 5 of 33 (15%) accurately detected worsening of disease. This translated to a 9% (28/315) false-trigger rate compared with a true detection rate of 1.6% (5/315). Although the accurate trigger rate was low, the absolute number of patients who potentially returned to hospital was low, and we consider this false-trigger rate acceptable in exchange for safely deferring hospital appointments for the large proportion (89%) of the patients in exchange. Only 1 of 5 patients experienced a dramatic drop in vision on subsequent examination, suggesting that in most of these patients, the disease activity was detected early. No comparable studies exist that have reported the true trigger rate of these new initiatives in a heterogenous cohort like ours. The trigger rate reported here was 3.2%/year in a population with varied clinical characteristics, treatment statuses, and diagnoses, whereas prior studies reported rates only on specific study populations, like patients whose AMD converted from early to wet forms of the disease. 19 From our experience, we suggest that a self-monitoring strategy to augment the management of retina disease is feasible and requires 3 key components for success: First, patients must be identified and educated on these initiatives. Family and carer involvement is important in improving participation and compliance. Second, an easy-to-use ubiquitous test platform that is translated easily across key languages for each community should be considered. The Alleye app is currently available in 10 languages: English, Chinese, Spanish, French, Italian, Dutch, Polish, Arab, Czech, and German. This test platform should be robust enough to detect prefunctional change in visual disability but not too onerous or costly. Finally, the interpretation of test results and triggers should be easily accessible to health care providers to allow for prompt follow-up. The Alleye app was chosen for its simple-to-use interface, good detection rate, and ease of integration into our existing digital infrastructure. In addition, a comprehensive logistics and infrastructure was set up and provided by the SNEC Ocular Reading Centre to ensure the monitoring of test scores and ad hoc appointments appropriately scheduled for patients with triggers of potential disease deterioration.The strengths of this study include its clinical nature, allowing for a diverse and large cohort to be examined. This highlights the differences in groups who would or would not participate in a self-monitoring initiative for retina disease and guides strategies to address these cohorts. The limitations of this study include a lack of randomized control participants, for example, a group monitored with Amsler grid testing, which we acknowledge will be necessary to validate this intervention. An additional benefit of this home monitoring system over conventional monitoring is the ability for clinicians to monitor adherence and identify triggers remotely, thus ensuring that potentially sightthreatening events are identified early and access to care is provided in a timely fashion. We were also unable to accurately determine the false-negative rate of the intervention because formal visits for nontrigger patients were not tracked consistently. Only 13 patients returned earlier than their intended deferral, of whom 2 had documented worsening of disease, but neither exhibited a drop in VA. In the remaining patients, the reasons for early attendance were attributed to patient preference and the earlier-than-expected lifting of restrictions and availability of early clinic appointments.In conclusion, this article describes the first experience of our cohort of deploying a large-scale home monitoring initiative. Significant challenges exist to deploy the initiative on a large scale; although mass communications tools are useful in reaching a great number of people, a need exists for targeted counseling and education to ensure that patients use these tools correctly and appropriately. More importantly, these findings provide further insights into how best to deploy such digital self-monitoring initiatives, which are likely to continue as novel models of care even after the pandemic to reduce the overall health care burden.\\n\\nFootnotes and Disclosures\\n\\nOriginally received: December 7, 2020. Final revision: January 27, 2021. Accepted: February 12, 2021. Available online: ---.Manuscript no. ORET-D-20-00972. 1 Singapore Eye Research Institute, Singapore National Eye Centre, Singapore, Republic of Singapore. 2 Duke-NUS Medical School, National University of Singapore, Singapore, Republic of Singapore. 3 Oculocare Medical AG, Zurich, Switzerland.\\n\\n\",\n          \"Introduction\\n\\nCognitive and linguistic impairments following brain injury such as stroke are a leading cause of disability, affecting over a quarter of a million people in the UK, with numbers expected to increase dramatically given the ageing population. 1 Current therapeutic strategies are only of limited success [2] [3] [4] ; therefore, there is a need for developing biomarkers that guide clinical prognosis as well as rehabilitation strategies. Given the great heterogeneity in stroke patients, functional MRI is a promising method for discovering candidate biomarkers capable of distinguishing patient subgroups as it allows non-invasive mapping of brain (dys)function. However, to date, no functional MRI-derived biomarker is ready to be used in clinical trials for predicting recovery of cognitive or language function. 5 Nonetheless, functional MRI measures during task execution ('task-based functional MRI') show promising potential as clinically relevant biomarkers and thereby represent a developmental priority. 5 A major challenge for any progress in this direction is selecting the optimal task (or battery of tasks) to be administered to patients in the magnetic resonance scanner. This is because neither cognitive nor language-related functions can be readily mapped to distinct, single brain regions but rather emerge through the interaction between domain-specific (e.g. motor, auditory, language networks) and domain-general brain systems. Highly domain-general brain networks, such as frontoparietal networks (FPNs) support processes including attention, working memory and learning (or re-acquisition) of a skill. [6] [7] [8] [9] Damage to domain-general brain networks may explain why cognitive impairments seen in stroke are distributed across diverse cognitive processes. 10, 11 We have previously shown that intact domain-general brain regions are critical in recovery of language function following aphasic stroke [12] [13] [14] [15] in keeping with studies confirming their role in recovery of motor deficits 16 and the learning of pseudo language. 17 This builds a convincing case for their potential as a prognostic biomarker.However, characterizing residual function of domain-general networks in stroke patients is challenging because there is not a single, optimal task that is unique to probe each network; instead it involves quantifying network activation across many different cognitive tasks. However, such prolonged, multi-task neuroimaging protocols [18] [19] [20] are practically unfeasible in patients. Thus, the current status quo for clinical neuroimaging studies typically involves selecting a specific task (or small subset of tasks) in a relatively ad hoc manner, in the hope that it will reveal a useful neuroimaging biomarker. Given both the sheer volume of possible tasks and the constraints on patient time, this approach is unsuitable. Advancing task-based functional MRI biomarker discovery requires a paradigm shift in order to be able to swiftly characterize residual brain network activity in individual patients using a diverse range of cognitive tasks.Development of real-time analysis of functional MRI data in combination with machine-learning techniques (i.e. Bayesian optimization) 21, 22 provides an unprecedented opportunity to derive subject-specific profiles of brain network function across multiple tasks in a short period of time, 23 making it feasible to use in patients. Neuroadaptive Bayesian optimization can efficiently search a large task space (Fig. 1A) to identify the optimal set of cognitive tasks that maximize a predefined target brain network state in each individual (Fig. 1B) . The approach's efficiency stems from the intelligent search procedure: based on real-time analysis of the functional MRI data, the machine-learning algorithm decides which task to test next in that particular subject; this is substantially faster than exhaustively testing all possible tasks while far more informative than selecting tasks at random.Here, we apply neuroadaptive Bayesian optimization to a cohort of left-hemispheric stroke patients with chronic aphasia and demonstrate the approach's potential for assessing patientspecific residual brain network function effectively and rapidly. Specifically, for each patient we identify the set of cognitive tasks that maximally dissociate two domain-general networks, namely increasing activation in the bilateral FPN, and decreasing activation in the default mode network (DMN) (Fig. 1C) . The choice of this target brain state (i.e. FPN 4 DMN) was motivated by evidence suggesting that the difference in activity between these two networks was associated with language performance in left-hemispheric, aphasic stroke patients. 15 For comparison, the method was also run in age-matched, healthy control subjects.\\n\\nParticipants\\n\\nThe study was approved by the National Research Ethics Service Committee. We recruited 14 patients with left hemisphere infarcts, over the age of 40 [mean age \\u00b1 standard deviation (SD): 58.57 \\u00b1 10.43 years, mean post-stroke time \\u00b1 SD: 5.52 \\u00b1 3. 25 years] and premorbid fluency in English. Patients with a previous history of a stroke resulting in aphasia or other neurological illness, or concurrent use of psychoactive drugs, were not eligible to enter the study. Table 1 contains further patient details. As controls, we recruited 15 fluent English-speaking healthy participants over the age of 40 (mean age \\u00b1 SD: 56.73 \\u00b1 6.76 years), with no history of any neurological/psychiatric disorders. Sample size was informed by our previous studies using this technique in healthy individuals. 21, 25 All participants were right-handed, had normal or corrected-to-normal vision and normal adult hearing. For three patients (Patients 030, 032 and 040) the second run was discarded due to distress and/or fatigue, causing us to stop the run prematurely. These three patients were excluded from all analyses as we could not guarantee the validity of the patient-specific results. In addition, from the 15 control subjects, one had to be excluded as auditory stimuli could not be heard due to a technical issue. Thus, all analyses are based on 11 patients (four female, mean age \\u00b1 SD: 59 \\u00b1 10.9 years, mean post-stroke time \\u00b1 SD: 5.95 \\u00b1 3.42 years) and 14 controls (eight female, mean age \\u00b1 SD: 55.6 \\u00b1 6.8 years).\\n\\nTask space\\n\\nNeuroadaptive Bayesian optimization is substantially more efficient than randomly or exhaustively sampling all tasks because of two desirable properties: (i) it incorporates prior information about how the cognitive tasks relate to each other; and (ii) guides its own sampling trajectory across tasks in an intelligent manner. The intuition behind (i) is that tasks that are expected to elicit a similar brain response are grouped together in the search space, while dissimilar tasks are grouped further apart. Thanks to this prior information, the algorithm does not need to test all possible tasks in the real-time optimization run, but instead can sample a few, highly informative tasks and then make predictions for all other tasks by applying a non-linear spatial regression (i.e. Gaussian process regression). This allows the algorithm to swiftly identify regions in the task space that are suboptimal for its optimization aim (i.e. maximizing FPN 4 DMN dissociation) and instead focus on sampling tasks from the optimal regions in the search space.Here, we designed a 2D task space ( Fig. 1A ) with one dimension corresponding to 'type of task' and the other to 'task difficulty'. We selected three cognitive tasks (Calculation, Go/No-Go, and Figure 1 Overview of methodology. (A) We designed a 2D task space with one dimension corresponding to type of task (seven tasks), and the other to task difficulty (three levels). Tasks were ordered using pilot data collected separately in healthy volunteers. (B) This task space was searched through in our real-time experiment using neuroadaptive Bayesian optimization. The aim was to quickly identify a subject-specific set of tasks that maximize the difference in activity between the FPN and DMN. The method operates in the following steps: (1) the algorithm chooses a specific task \\u00c2 difficulty combination from the task space; (2) functional MRI data are collected while the subject is performing the task; (3) the difference in brain level activation between FPN (red) and DMN (blue) is computed in real-time; and (4) the result from step 3 is used to update the algorithm and subsequently choose the next task \\u00c2 difficulty combination to be presented to the subject in the next iteration [back to step (1) in a closed-loop fashion]. (C) FPN and DMN network masks derived from Yeo et al. 24 Encoding) and four language tasks (Overt Naming, Auditory Comprehension, Semantic Judgement, and Verbal Learning). Tasks were chosen according to three criteria: (i) their ability to assess core cognitive and language deficits; (ii) their predicted probability of recruiting the FPN 24 ; and (iii) the ability for patients to perform and understand these tasks. 26 Whereas in our past work, we have aligned tasks in the search space based on a previous meta-analysis, 23 here we added three tasks (Auditory Comprehension, Semantic Judgement and Verbal Learning) that were not part of this meta-analysis. Therefore, to order these seven tasks along the task dimension, we used pilot data collected prior to the real-time study in eight healthy volunteers (three female, mean age \\u00b1 SD: 27.9 \\u00b1 8.3 years). Each task had three levels of difficulty with increasing complexity and cognitive demand, resulting in a total of 21 different task \\u00c2 difficulty conditions the algorithm could choose from. All tasks and their variants are briefly described in the Supplementary material and depicted in Supplementary Fig. 1 .\\n\\nExperimental procedure\\n\\nAll patients underwent the Comprehensive Aphasia Test (CAT) outside of the scanner 27 before the experiment began (Supplementary material).For the real-time functional MRI study, each participant underwent two, independent optimization runs for which the algorithm was reinitialized and thus blind to any data collected in the subject's previous run or any previous subjects, allowing us to assess the intra-subject reliability of results.Each run was initiated randomly (i.e. first four task blocks were selected randomly from across the task space). The start of each run was synced with the onset of the first repetition time and each new task block was initiated by a repetition time. The first task commenced after 10 repetition times to allow for T 1 equilibration effects. Each run lasted 14.2 min and consisted of 16 task block iterations; each iteration consisted of a task block lasting 34 s followed by 10 s rest block (white fixation cross on black background). Preceding each task block, participants received a brief instruction (5 s) about the task they would need to perform in the upcoming block followed by a short 3 s rest period (black background). For five patients, task instructions had to be provided orally via a microphone because of reading impairments. Participants used their left hand to indicate answers via a keypad.Subjects were trained on all tasks outside of the scanner and informed about the real-time nature of the functional MRI experiment, but no information was given on the actual aim of the study or which parameters would be adapted in real-time. The investigator was not blinded due to the complexity of data acquisition and the need to ensure that real-time optimization was functioning.\\n\\nReal-time functional MRI\\n\\nMasks of the bilateral target brain networks (Fig. 1C ) were based on a meta-analysis reported in Yeo et al. 24 The FPN (i.e. component 09) covered the superior parietal cortex, intraparietal sulcus, lateral prefrontal cortex, anterior insula and the posterior medial frontal cortex. The DMN (i.e. component 10) spanned the posterior cingulate cortex, precuneus, inferior parietal cortex, temporal cortex and medial prefrontal cortex. Thresholded (z 4 2) and binarized maps of the two brain networks were used as mask.Real-time functional MRI data analyses were performed on a conventional Mac mini system; in the Supplementary material we detail hardware specifications as well as the exact procedure for turning on the real-time export of functional MRI data on the Siemens magnetic resonance console computer. For real-time functional MRI preprocessing (Supplementary material), we followed a similar procedure as described in our previous work. 23 For computing the FPN 4 DMN dissociation target measure, after each task block, we ran incremental general linear models (GLMs) (Supplementary material) on the preprocessed time courses of each network separately and then computed the difference between the estimates of all task regressors of interest (i.e. beta coefficients) for the FPN and DMN (i.e. FPN 4 DMN). The resulting contrast values were then entered into the Bayesian optimization algorithm. An initial burn-in phase of four randomly selected tasks was employed, i.e. the first GLM was only computed at the end of the fourth block after which the closed-loop experiment commenced.\\n\\nBayesian optimization\\n\\nBayesian optimization is a two-stage procedure that repeats iteratively in a closed loop. The first stage is the data modelling stage, in which the algorithm uses all available samples obtained from real-time functional MRI (i.e. FPN 4 DMN contrast values) up to that iteration to predict the subject's brain response across the entire task space using Gaussian process regression. [28] [29] [30] For the Gaussian process, we used a zero mean function and the squared exponential kernel. 29 The second stage is the guided search stage, in which an acquisition function is used to propose the task the subject will need to perform in the next iteration. Here we used the upper-confidence bound (GP-UCB) acquisition function 31 that favours the selection of points with high predicted mean value (i.e. optimal tasks), but equally prefers points with high variance (i.e. tasks worth exploring). Algorithmic details for both stages are provided in the Supplementary material.\\n\\nStatistical analysis Behavioural accuracy\\n\\nTo assess if patients understood task instructions and performed higher than chance-level on the various tasks, we computed the non-parametric effect size measure AUROC (area under the receiver operating characteristic curve 32 ) between the true empirical distribution of patients' accuracy and the generated chance-level distribution for each task condition separately. The empirical distribution was computed for each task condition separately based on the mean accuracy (i.e. not AUROC) of each patient. The chance-level distribution was derived by randomly shuffling (1000 permutations) the trial sequence and the corresponding behavioural responses of each task block, and then re-computing the mean accuracy of each patient; this procedure had the advantage of preserving the overall response pattern of each patient. AUROC is one of the few existing non-parametric measures of effect size; thereby robust to violations of normality and advised for small samples. AUROC can be understood as a measure of overlap between two distributions and its values range from 0 to 1; a value at 0.5 indicates that there is no effect found between the two distributions (i.e. chance-level performance). Significance was determined when the one-sided lower 95% confidence bound (computed via bootstrapping) was higher than an AUROC of 0.5.\\n\\nLinear mixed-effect models of behavioural and functional MRI data\\n\\nTo assess behavioural performance, functional MRI measures, inscanner motion and the relationship between functional MRI and behaviour, linear mixed-effect (LME) modelling was performed. As difficulty level 2 was sampled far fewer times than difficulty levels 1 and 3 ( Fig. 2D) , results from difficulty levels 1 and 2 were merged for these analyses. Several LME models were specified (by modelling interactions among fixed effects and adding/dropping random effects) for each dependent variable and model selection (details in the Supplementary material) was performed using simulated likelihood ratio tests (with 500 replications for simulation and alpha level set at 0.05); each winning model as well as the number of competitor models tested against are listed in Table 2 . For nonsignificant group-level LME results (i.e. no difference found between patients and controls), we performed equivalence testing using the two one-sided tests procedure 33 with an alpha set to 0.05 to confirm the absence of a group-level effect. For this, the smallest effect size of interest was determined for each research question based on objective criteria and/or heuristics, which are detailed in the Supplementary material.\\n\\nIntra-subject reliability\\n\\nTo assess intra-subject reliability of our results, we computed the Spearman's rank correlation of the Bayesian predictions across the task space between the two runs of each subject. For statistical inference, we performed permutation testing (i.e. 10 000 permutations) where we shuffled the FPN 4 DMN values and corresponding task indices of the second run and then refitted the Gaussian process (hyperparameters were kept identical to the real-time scenario) for these shuffled values before computing the correlation coefficient between the two runs. For each permutation, we then computed the median of the Fisher z-transformed correlation values for each group separately. To correct for multiple comparisons, at each permutation we only kept the maximum of both median values (i.e. 'max statistic' method 34 ). The median of our true empirically obtained (Fisher z-transformed) correlation coefficients for patients and controls were then compared to the generated null distribution of maximum median values with a one-sided alpha-level set at 0.05.\\n\\nAssessing dissimilarity of patients' functional profiles\\n\\nTo assess if patients' individual profiles were more dissimilar among each other than those of control subjects, we computed a dissimilarity matrix, i.e. the correlation distance (1 -Spearman's rank correlation 35 ) of each subject's functional profile to all other subjects' individual profiles. As intra-subject reliability was high across runs (see the 'Results' section), we derived each individual's functional profile by collapsing both runs (i.e. fitting Gaussian process on all observations from both runs) with the aim of deriving a more precise depiction of individuals' functional profiles. Next, we computed the correlation distance among all subjects. For statistical inference, we performed permutation testing (10 000 permutations) where we replicated this procedure but randomly shuffled the label for patients and controls. We then computed two different t-statistics: (i) the difference between controls' dissimilarity (i.e. upper triangle of control-by-control matrix) and patients' dissimilarity (i.e. upper triangle of patient-by-patient matrix); and (ii) the difference between controls-by-patient dissimilarity (i.e. full matrix) and patients' dissimilarity. Finally, our true empirical tstatistics were then compared to the generated null distribution of t-values with a one-sided alpha-level set at 0.05. To visualize dissimilarity among patients' functional profiles in 2D, we used classical multidimensional scaling (MDS), a dimensionality reduction technique that preserves between-subject distances. The technique can be understood analogous to a principal component analysis on the dissimilarity matrix, yielding the main principal coordinates through the data (i.e. eigenvectors); with the first one explaining most variance (i.e. largest eigenvalue). For subject clustering, we performed density-based spatial clustering of applications with noise (DBSCAN) on the dissimilarity matrix, an approach that groups together points that are closely packed together (i.e. points with many neighbours) and marks outliers that lie alone in low-density regions (i.e. with nearest neighbours too far). Cluster results were visualized in 2D MDS space. For comparison to MDS, we also computed the t-distributed stochastic neighbour embedding (t-SNE) on the dissimilarity matrix, a nonlinear dimensionality reduction technique that better preserves the global structure of the data at the cost of between-subject distances.To explore whether the dissimilarity among subjects' functional profiles may be associated with performance, we took subjects' weightings on the first principal coordinate of MDS and correlated (i.e. Pearson r) it with in-scanner and out-of-scanner behaviour. Since each subject had performed different tasks and difficulty levels in the scanner, mean in-scanner accuracy could not be obtained by simple averaging across all tasks; thus, we obtained mean in-scanner accuracy by extracting each subject's random intercept from an LME (LME A1 in Table 2 but excluding the 'Group' regressor). For out-of-scanner performance, we used the sum of patients' CAT score. To account for patients' lesion volume (Table 1) , we also ran partial correlation analyses. For statistical inference of these correlation analyses, we performed permutation testing (50 000 permutations, one-sided alpha-level set at 0.05) by randomly shuffling subjects' labels; P-values obtained from this were corrected for multiple comparisons using the false-discovery-rate (FDR) 36 with an alpha-level set at 0.05.\\n\\nNormalizing patient's FPN 4 DMN contrast and accuracy to control distribution\\n\\nTo assess if there was a single task, for which all patients showed a different FPN 4 DMN dissociation than controls, we 'normalized' the Bayesian prediction of each patient's FPN 4 DMN contrast value to Given the algorithm's subject-specific trajectories through the task space, each subject is exposed to a different set of tasks; here, we show the absolute number of times each task was selected by the algorithmcorrected for the difference in sample size n across both groups (i.e. n = 11 for patients and n = 14 for control subjects). Grey shaded areas correspond to NaN: accuracy could not be computed for the Naming task (as no chance level could be determined) and the first difficulty level of the Auditory Comprehension (as it was always correct); reaction time could not be computed in the Naming task (as no button press was required) and for Go/No-Go tasks (as subjects were instructed to inhibit a response). See Supplementary material for details on each task. the control distribution using the modified z-score. 37 This analysis was done for each task and difficulty level separately. This procedure was also performed for patient's accuracy. However, in contrast to FPN 4 DMN contrast values for which we had Bayesian predictions for each task (i.e. Gaussian process regression across the task space), we did not have each subject's accuracy for each task condition due to the sampling behaviour of the algorithm (Fig. 2D) . Therefore, we limited the normalization of patient's accuracy to task conditions for which we had enough controls (i.e. n 4 7) to accurately compute the control distribution. A patient's FPN 4 DMN contrast value and accuracy for a particular task was marked significantly different (i.e. 'outlier') when the absolute modified z-score was 41.96. This was a liberal criterion, as commonly a threshold of 3.5 is used.\\n\\nData availability\\n\\nAll Python, bash and MATLAB code for implementing neuroadaptive Bayesian optimization is available from GitHub http://github. com/romylorenz/strokeLoop. For Gaussian process regression, we use a Python implementation from http://github.com/SheffieldML/ GPy. Relevant data are available from the authors upon reasonable request.\\n\\nResults\\n\\nMost patients are able to perform multiple tasks in the scanner Given the nature of the clinical populations, we first assessed whether patients performed above chance while undergoing the scan, indicating their understanding of the various task instructions. For this, non-parametric effect size measures (i.e. AUROC) were computed for each task condition separately, comparing patient group-level accuracy with chance level. Results ( Fig. 2A , left, corresponding lower confidence bound is listed in Supplementary Table 1) demonstrate that patients performed above chance for all difficulty levels of the Go/No-Go task, for the easiest and medium levels of the Calculation task and the easiest level of the Semantic Judgement task. Further, they performed above chance for the most difficult level of the Auditory Comprehension task but not for the medium level-which can likely be explained due to unequal sampling across both conditions (i.e. the medium level was only sampled three times) (Fig. 2D) . With respect to the Encoding task, patients performed only above chance for the medium difficulty level. Given that the lower confidence bound for the easiest level of the Encoding task is 0.4903 (Supplementary Table 1 ) and AUROC values are 40.6 for the easiest and medium level of this task, it can be assumed that patients performed higher than chanceeven though it appears that this task is among the harder tasks tested. Patients did not perform above chance for any level of the Verbal Learning task, however, neither did controls ( Fig. 2A , middle), illustrating that this task was ill-designed (Supplementary material).Patients perform less accurately, slower and more variably than control subjects As expected, overall patients performed less accurately [LME A1 (all LME formulas listed in Table 2 Median and variance [i.e. median absolute deviation (MAD)] of reaction times for each task are shown in Fig. 2B and C, respectively. Both patients and controls performed less accurately [LME A1: Difficulty t(746) = -4.76, P 5 0.001] and more slowly for more difficult task levels [LME A2: Difficulty t(643) = 9.84, P 5 0.001]. Patients' accuracy was not differentially affected by task difficulty compared to controls [i.e. no interaction effect, LME A1: Group \\u00c2 Difficulty t(746) = -0.95, P 5 0.034]; in fact, they showed a gentler increment in response time with increasing difficulty compared to controls [LME A2: Group \\u00c2 Difficulty t(643) = -2.58, P = 0.01]. This is due to patients' considerably slower responses for the easiest task conditions relative to controls (Fig. 2B) and that there was a set time window to respond for each task (Supplementary material). Whereas reaction times decreased from the first to second run in both groups [LME A2: Run t(643) = -2.98, P = 0.003], only patients were more accurate in the second run [LME A1: Group \\u00c2 Run t(746) = 2.04, P = 0.042]. Overall, we found that patients showed a trend to vary more in their within-task accuracy than controls [LME A3: Group t(100) = 1.97, P = 0.052]. Accuracy in both groups varied more in the second versus first run [LME A3: Run t(100) = 2.33, P = 0.022], but this effect seems to be driven by an increase in variance for controls rather than patients [LME A3: Group \\u00c2 Run t(100) = -3.05, P = 0.003], but only for the easiest task conditions [LME A3: Group \\u00c2 Run \\u00c2 Difficulty t(100) = 2.42, P = 0.017] as across both groups, variability of accuracy decreased in the second run for the most difficult task conditions [LME A3: Run \\u00c2 Difficulty t(100) = -2.47, P = 0.015]. We found no effects of within-task variance in reaction times (LME A4) between both groups; however, we could not confirm that the grouplevel effect was statistically equivalent [t(16.33) = 0.48, P = 0.319], given symmetric equivalence bounds of \\u00b1 0.6 in standardized Cohen's d effect size.\\n\\nNeuroadaptive Bayesian optimization is a feasible technique for patients\\n\\nWith respect to our real-time optimization results of FPN 4 DMN dissociation across the task space, we found significant intra-subject reliability for controls (median Spearman rho \\u00b1 SD: 0.91 \\u00b1 0.18, P 5 0.001) and patients (0.71 \\u00b1 0. 45 2D ): for both patients and controls the most difficult conditions of these three tasks were most often selected by the algorithm, indicating that the algorithm identified them as optimal for maximizing the FPN 4 DMN dissociation. While this is very pronounced for controls, in particular for difficulty level 3 of the Calculation task (Fig. 2D, middle) ; it is worth noting that the algorithms sampled much more exhaustively across the task space for patients (Fig. 2D, left) , potentially indicating more diversity in the optima identified among individual patients. Surprisingly, at the group level, it appears that patients do not show a qualitatively different FPN-DMN dissociation pattern across the task space compared to controls (Fig. 3A ), but only seem to have a slightly dimin- \\n\\nPatients show unique profiles of network dysfunction\\n\\nMotivated by these findings, we wanted to understand if indeed patients' real-time optimization results are more diverse than control subjects' results. When looking at the dissimilarity of FPN 4 DMN profiles between patients (Fig. 4A) , we found that they are significantly more dissimilar (t = -5.02, P = 0.038) than the FPN 4 DMN profiles between controls (Fig. 4B) . Interestingly, we found that patients' individual profiles are even more dissimilar amongst each other than when comparing them with controls' individual profiles (t = -2.77, P = 0.024). These statistically significant findings demonstrate that patients really have unique profiles of network dysfunction but that some patients look more similar to controls than to other patients.To visualize this finding, we plotted the dissimilarity among each patient's and control's individual profile in 2D using MDS, a dimensionality reduction technique that preserves between-subject distances. In Fig. 5A , we see that the majority of controls cluster together (turquoise) at the centre, indicating high similarity between their functional profiles. In contrast, most patients (dark blue) lie dispersed around the cluster of healthy controls and show higher variance along the first and second principal coordinates, indicating higher dissimilarity among their functional profiles. Using density-based clustering, we confirm these descriptive results: we identified one dense cluster (peach) consisting of most controls (11 of 14 controls, exceptions are: Subjects 016, 018 and 020) and two patients (Patients 038 and 041) while all other nine patients were classified as 'outliers' (red) of the cluster by the algorithm (Fig. 5B) . We found that subjects within the cluster perform significantly better [t(23) = 2.17, P = 0.018] and less variable [twosample F-test for equal variance, F(12,11) = 0.17, P = 0.002] on tasks in the scanner than subjects around the cluster; given that most controls fall into this cluster, these results are expected.For comparison, we used another dimensionality reduction technique (t-SNE) that better preserves the global structure of the data at the cost of between-subject distances. We notice that t-SNE ( Supplementary Fig. 2 ) pulls apart patients mainly based on their respective weighting on the first principal coordinate derived from MDS (Patients 033, 034, 038 and 041 have a negative weighting and are thus grouped closer to controls with t-SNE, while the other patients have a positive weighting). Thus, to explore whether variance on the MDS's first principal coordinate (that explains most of the variance of dissimilarity between all subjects' functional profiles) also relates to variance in behaviour, we simply correlate the weighting on the first coordinate with in-scanner behaviour (i.e. mean accuracy across all tasks performed in the scanner-derived by extracting each subject's random intercept from an LME, see 'Materials and methods' section). We found a significant negative relationship (r = -0.40, n = 25, P = 0.025/P FDR = 0.042) across patients and controls; however, this seems to be mainly driven by patients given the controls' performance approaching ceiling level (Fig. 5C) . When only taking patients into Gaussian process regression based on subject-specific samples) across the entire task space (top row) as well as all samples individually (bottom row); when a task was sampled multiple times within a subject, we computed the median across those samples. We can see that Bayesian predictions appropriately capture the underlying distribution of samples. account, this negative association is strengthened (r = -0.64, n = 11, P = 0.016/P FDR = 0.042) and remains high even when accounting for patients' lesion volume (r = -0.63, n = 11, P = 0.025/ P FDR = 0.042). We found a moderate, yet not significant negative relationship with out-of-scanner behaviour (Supplementary Fig.\",\n          \"Introduction\\n\\nDalbavancin (DBV) is a recently introduced semi-synthetic second-generation lipoglycopeptidic antibiotic drug, effective for the treatment of infections caused by gram-positive bacteria, particularly against streptococci and staphylococci [1] [2] [3] [4] [5] .Compared to its precursor teicoplanin, the molecular modifications allowed to obtain higher lipophilicity, increasing its half-life (t1/2, around 9 days), also by means of a strong reduction of its renal clearance [6] [7] [8] . This is also due to its high percentage of binding to plasma proteins (mainly albumin), which was described to vary from nearly 98% in rats to 93% in humans [6, 9, 10] . The long t1/2 allows its use for the treatment of acute bacterial skin and skin-structure infections (ABSSSIs) with two possible approved dosing regimens: a first loading dose of 1000 mg followed by a second 500 mg dose after 7 days or a single dose of 1500 mg [1, [11] [12] [13] . Recently, the convenient PK/PD profile of this drug, as well as the capability to spread through many tissues (e.g., synovia, blister fluid, bone, and bone marrow), and its effect on biofilm increased the interest in its use for other \\\"off-label\\\" indications [13] [14] [15] [16] , such as for the treatment of joints, intravascular and surgical site infections, and for osteomyelitis and endocarditis [7, [14] [15] [16] [17] [18] [19] [20] [21] [22] . In this scenario, several works reported encouraging results for these alternative indications [13, 15, 16, 23] . Nevertheless, the currently approved posology for ABSSSIs may be suboptimal for the treatment of osteoarticular infections, considering that DBV concentrations in bone were described as comparable to the free fraction in plasma [6] [7] [8] 10, 24] .Considering the high tolerability, an alternative off-label 1500 mg dual dose regimen has been suggested as more convenient and effective in several reports [14, 15, 17, 23] . Nevertheless, few PK data are available about this off-label high dose regimen in real-life clinical use, since the vast majority of PK data were derived from modeling [8, 25] and because the length or choice of therapy was not evidence-driven or relying on clear PK data. Moreover, previous PK studies conducted on volunteers investigated DBV concentrations in the first 2 months [8, 10, 26] . Therefore, poor knowledge is currently available on long-term PK in real-life settings, particularly beyond 2 months. Currently, also considering that the COVID-19 pandemic has caused an extreme need to reduce the time of hospitalization, long-acting antibiotics such as DBV should also be evaluated by the means of prolonged effectiveness, favoring the management shift from inpatient to outpatient services [25] . Therefore, data about long-term PK for DBV administered at high dosages, particularly for the treatment of bone-associated infections, may be especially helpful today.In this work, we aimed to describe the long-term PK profiles in a real-life clinical context of outpatients with ABSSSI or bone and joint infections, treated with one or two 1500 mg doses of DBV (one week apart). As a secondary endpoint, we aimed at describing theoretical PK/PD parameters in this cohort, by comparing the observed PK data with the EUCAST breakpoint MIC values for DBV-susceptible strains.\\n\\nPatients' Enrolment and Treatment\\n\\nPatients with Gram-positive infections, with previous therapeutic failures to other antibiotic regimens or need for simplification and eligible for treatment with DBV were enrolled in the \\\"Appropriatezza Farmacologica della Terapia Anti-Infettiva\\\" (ethical approval n. 0,040,388 23/04/2020) clinical study.Patients stopped all previous antibiotic therapies and were selected for a single 1500 mg or dual 1500 mg DBV infusion (1500 mg \\u00d7 2, one week apart) based on guidelines, investigator judgment and emerging data from the literature [13, 15, 16, 23] . In our institution, we recommend DBV for ABSSSIs (as per approved indication) or other Gram-positive infections with a specific off-label request within our study protocol, based on recent studies and theoretical PK/PD considerations, as no other indication has been approved up to date and no conclusive data exist; we recommend two doses one week apart mainly in the setting of osteoarticular infections [13, 15, 16, 23] . Drug administration was performed intravenously in 30 min.Patients with compatible conditions were discharged from hospital either after the 1st or 2nd administration, from which time they were treated as outpatients. Monitoring for eventual adverse events (AE) and effectiveness was performed via weekly periodical visits including clinical and laboratory examination. When not applicable or due to the COVID-19 emergency, visits were carried out via telemedicine. No patient had viral co-infections. Clinical, microbiological, and demographic data were collected for each patient at the time of enrolment. Microorganisms were isolated from either blood culture, swab, or surgical samples, and the antibiogram was performed using ETEST. No susceptibility testing was available for the direct determination of DBV MIC; therefore, surrogate categorization of susceptibility was performed based on the MIC for vancomycin, as previously reported and indicated by EUCAST and by Jones et al. [27] . Therefore, susceptibility to vancomycin (minimal inhibitory concentration, MIC \\u2264 2 mg/L) was interpreted as DBV MIC \\u2264 0.125 mg/L (nearly 97% probability from Jones et al.), the EUCAST suggested breakpoint for staphylococci and streptococci. The cure was defined as resolution of symptoms, microbiological cure, or no evidence of pathology as assessed by radiology techniques when applicable. Body surface area (BSA) was estimated by the Du Bois formula.\\n\\nPK Evaluation\\n\\nBlood sampling in 7 mL lithium/heparin tubes was scheduled, after each DBV dose, at the following times: 0, 0.5 h (end-of infusion), 1 h, 1 week, 2 weeks, 3 weeks, 1 month, and then every two weeks, for the quantification of DBV. Deviations in the sampling schedule were allowed for timings later than 4 weeks after the last administration, based on outpatients' exigencies and considering the management issues related to the COVID-19 outbreak. The calculation of the terminal half-life was performed only for patients who completed at least 8 weeks of PK follow-up. Blood samples underwent centrifugation at 1400\\u00d7 g at 4 \\u2022 C to obtain plasma, which was stored at \\u221280 \\u2022 C before analysis (max 1 month). The quantification of DBV was performed through a validated UHPLC-MS/MS analytical kit (Kit-System \\u00ae Antibiotics, kindly donated by CoQua Lab, Turin, Italy) showing acceptable accuracy and precision (bias and coefficient of variation < 15%) according to EMA and FDA guidelines [28, 29] and a LLOQ value of 0.3 mg/mL.Briefly, the analytical process consisted of a fast protein precipitation protocol of 50 \\u00b5L of plasma with 150 \\u00b5L precipitation solution, centrifugation at 10,000\\u00d7 g, to obtain high and reproducible recovery of the analyte (mean 104% and CV 8.1%), 1:10 dilution with aqueous solution, and analysis. The chromatographic separation was obtained with a binary gradient run of 10 min with two mobile phases and a reverse-phase UHPLC column (Kit-System antibiotics analytical column, CoQua Lab, Turin, Italy). Eventual variability in recovery or matrix effect were adjusted by the use of a Stable-Isotope Linked Internal Standard (SIL-IS, 2H6-DBV; Alsachim, France) [30] . The quantification traces for DBV and SIL-IS were 908.9 > 730.4 and 912.4 > 733.9, respectively. PK calculations, including, AUC (area under the curve) 0-1w , AUC 0-2w , extrapolated AUC 0-\\u221e , and t 1 2 were performed through Phoenix WinNonlin software (Ver. 8.1, Certara, Princeton, NJ, USA). Mean PK non-compartmental analysis (NCA), reported in Figures 1 and 2 , was performed following a trapezoidal \\\"linear-up/log-down\\\" model with IV infusion. The mean concentration data corresponding to the single dose group and to the first dose of dual dose group (for the first week) were used to describe the mean PK profile of a single 1500 mg DBV dose; similarly, the mean PK NCA of the dual dose group was performed on the data from the first and second dose of the dual dose group: total AUCs for the dual dose group were calculated as the sum of the first dose AUC 0-1w with the corresponding AUC parameters from the second dose. The terminal t1/2 was evaluated in the period from 1 week to the last available timing. The time ranges for the calculation of \\u03bbz (and t1/2) and eventual exclusions were defined based on reaching coefficients of determination (R 2 ), absolute and adjusted, higher than 0.90 and 0.8, respectively.Then, NCA was also independently repeated with data from each single patient: the determination of terminal t1/2 and AUC0-\\u221e were performed only for patients who completed at least 2 months of follow-up.\\n\\nPharmacodynamic Evaluation\\n\\nConsidering the low availability of susceptibility testing for DBV in the clinical practice, after determination of patients' strains susceptibility to vancomycin (MIC \\u2264 2 mg/L), the observed PK data were compared with the EUCAST determined breakpoint MIC of 0.125 mg/L in order to calculate the pharmacokinetic/pharmacodynamic (PK/PD) parameters assuming DBV-susceptible strains. Further analysis was conducted considering a 0.250 mg/L MIC (general breakpoint in case of empirical therapy) in order to describe the PK/PD parameters in the worst hypothetical clinical context. AUC0-1w/MIC and, particularly, AUC0-2w/MIC were previously described as the most important predictors of treatment efficacy and, therefore, these were included in this analysis [7] . The terminal t1/2 was evaluated in the period from 1 week to the last available timing. The time ranges for the calculation of \\u03bbz (and t1/2) and eventual exclusions were defined based on reaching coefficients of determination (R 2 ), absolute and adjusted, higher than 0.90 and 0.8, respectively.Then, NCA was also independently repeated with data from each single patient: the determination of terminal t1/2 and AUC 0-\\u221e were performed only for patients who completed at least 2 months of follow-up.Considering the low availability of susceptibility testing for DBV in the clinical practice, after determination of patients' strains susceptibility to vancomycin (MIC \\u2264 2 mg/L), the observed PK data were compared with the EUCAST determined breakpoint MIC of 0.125 mg/L in order to calculate the pharmacokinetic/pharmacodynamic (PK/PD) parameters assuming DBV-susceptible strains. Further analysis was conducted considering a 0.250 mg/L MIC (general breakpoint in case of empirical therapy) in order to describe the PK/PD parameters in the worst hypothetical clinical context. AUC 0-1w /MIC and, particularly, AUC 0-2w /MIC were previously described as the most important predictors of treatment efficacy and, therefore, these were included in this analysis [7] . T > MIC was calculated based on the terminal t1/2 for each patient as a possible marker of the long-term prophylactic effect. Each calculation was performed adjusting the MIC value by considering the theoretical free fraction of DBV: freeDBV = totalDBV/(1-boundDBV). The literature-derived protein binding percentage of 93% (0.93) was considered for this calculation [1,6,7].\\n\\nStatistical Analysis\\n\\nAll statistical analyses were performed through Excel and SPSS 26.0 (IBM, Armonk, NY, USA). Descriptive data are reported as median and interquartile ranges (IQR). Correlations between continuous data were evaluated through Pearson's correlation tests.Differences between groups have been tested through the Mann-Whitney non-parametric rank test.\\n\\nPatients' Characteristics\\n\\nFourteen outpatients treated with either single or dual 1500 mg dose of DBV were enrolled in this study. The overall clinical characteristics of these patients are summarized in Table 1 , while median anthropometric and demographic characteristics were as follows: Eleven out of fourteen patients had bone-associated infections (79%), while others had ABSSSIs. Microorganisms, when isolated, were oxacillin-resistant in 57% (8/14) of cases; no vancomycin-resistant strains were isolated, indirectly confirming theoretical DBVsusceptibility. In two cases, the isolation of the pathogen was not possible due to the nature of the infection, technical impossibility, or inoperability of the patient. Reasons for treating bone infections with DBV were simplification (4/11) or failure (7/11) to previous regimens. A single 1500 mg dose was administered to six patients, three with ABSSSIs, two with septic arthritis, and one with chronic osteomyelitis. A dual 1500 mg dose administration was given to eight patients: two with spondylodiscitis, three with chronic osteomyelitis, one with a prosthetic infection, one with septic arthritis, and one with concomitant septic arthritis and spondylodiscitis. \\n\\nPK Results\\n\\nDBV concentrations were detectable (>0.3 mg/L) at all time points, up to 8 months from the last administration. Mean PK calculations were separately applied to the single and dual dose groups and were summarized in Table 2 . DBV showed a multiphasic PK profile, showing a relatively fast decline immediately after the infusion and a progressive increase in the t1/2, reaching an extremely long terminal t1/2 during the second week after the infusion, ranging from 526 h in the single dose group to 626 h in the dual dose group (Figures 1 and 2, respectively) . The R 2 values for the determination of terminal t1/2 were 0.925 and 0.966, respectively, confirming good reliability of the calculation.The overall mean PK data were summarized in Table 2 , the total observed AUC 0-1w , AUC 0-2w , and AUC 0-\\u221e were, respectively, 27,230 h \\u00d7 mg/L, 35,647 h \\u00d7 mg/L, and 54,666 h \\u00d7 mg/L for the single dose; for the dual dose group, the overall AUC 0-1w , AUC 0-2w , and AUC 0-\\u221e were 25,110 h \\u00d7 mg/L (corresponding to the first dose AUC 0-1w ), 58,012 h \\u00d7 mg/L (sum of the first and second dose AUC 0-1w ), and 116,196 h \\u00d7 mg/L for the dual dose. The percentage of extrapolated AUC 0-\\u221e (%AUC ext ) was <10% both in the single and dual dose groups. Table 2 . Summary of the mean PK NCA of the last dose in the two treatment groups, single vs. dual 1500 mg intravenous doses, administered through 30 min infusion. Total AUCs for dual dose regimen have been calculated by the sum of the first dose AUC 0-1w with the AUC from the second dose (e.g., total AUC 0-2w = first dose AUC 0-1w + second dose AUC 0-1w ). Patient-specific PK parameters are reported in Table 3 . Terminal t1/2 and AUC 0-\\u221e was estimable in 11 patients, who completed at least 2 months of PK follow-up. Maximum concentrations of DBV were inversely correlated with patients' height both for the first and second dose (R = \\u22120.643, p < 0.01 and R = \\u22120.914, p = 0.001, respectively). Table 3 . Summary of PK parameters measured for each patient. Total AUCs for dual dose group were calculated as the sum of the first dose AUC 0-1w with the corresponding second dose AUC. Similarly, BSA was inversely correlated with the total AUC during the first 2 weeks of treatment in the dual dose group (R = \\u22120.881, p = 0.004) and with borderline significance in the single dose group (R = \\u22120.785, p = 0.064), as depicted in Figure 3 .\\n\\nPK-PD Evaluation\\n\\nThe observed PK parameters were compared with the PD susceptibility breakpoints indicated by EUCAST and are summarized in Table 4 .(-) indicates not computable parameters, due to insufficient number of timings; n.a. means not applicable.Similarly, BSA was inversely correlated with the total AUC during the first 2 weeks of treatment in the dual dose group (R = \\u22120.881, p = 0.004) and with borderline significance in the single dose group (R = \\u22120.785, p = 0.064), as depicted in Figure 3 . The observed PK parameters were compared with the PD susceptibility breakpoints indicated by EUCAST and are summarized in Table 4 . Considering the breakpoint MIC for staphylococci and streptococci (0.125 mg/L) and the effect of 93% plasma protein binding, mean PK results showed cumulative AUC 0-1w /MIC, AUC 0-2w /MIC, and AUC 0-\\u221e /MIC ratios of 16,246, 19,959, and 30,608 for the single dose and 18,422, 32,481, and 65,059 for the dual dose, respectively. Patients' specific AUC/MIC data are summarized in Table 4 : all the AUC 0-2w /MIC values surpassed a previously suggested cut-off of 1000 (for staphylococci) [7] of at least 8 folds, even considering the highest breakpoint MIC. Taking into account the 0.125 mg/L breakpoint MIC, the median T > MIC values from the two groups ranged from 11.9 w (IQR 9.3-16.7) to 13.7 w (IQR 12.6-18.8) for the single and dual dose groups, respectively; these values changed to 9.0 w (IQR 6.5-13.4) and 9.7 w (IQR 8.2-14.7) if the general breakpoint of 0.250 mg/L was considered.\\n\\nClinical Outcome and Safety\\n\\nThe observed outcomes and adverse events are summarized in Table 1 . The majority of patients (86%; 12/14) achieved a complete cure, while two patients had a partial improvement but were not cured at the end of the observation study period. Patients who did not reach a complete cure had AUC 0-2w /MIC values slightly lower than the median value in the group of patients who were cured, although this difference did was not statistically significant (p = 0.331, Figure 4) , maybe due to the low sample size and to the lack of DBV specific MIC values. The two cases of treatment failure belonged to the single dose group, had osteoarticular infections, and had generally worst clinical and microbiological conditions (one was diabetic and obese, the other one had a vancomycin MIC of 2 mg/mL). Four patients had undergone surgery before treatment and one after because of uncontrolled infection. Despite the very high and prolonged exposure to DBV, no adverse events were registered throughout the observation period. \\n\\nDiscussion\\n\\nIn this study, we reported the real-life PK and theoretical PK/PD profiles of DBV both in the single 1500 mg and in the off-label dual 1500 mg regimens. Reasons for treating with DBV were simplification (4/11) or failure of previous antibiotic therapy (7/11); reasons for failure of prior antibiotic therapy were probably type of infection, largely hard to treat, but no further hypothesis can be speculated based on the actual microbiological or PK/PD data. The enrolled patients had either ABSSSIs or bone infections, including septic arthritis, spondylodiscitis, osteomyelitis, and prosthetic infections. Satisfactory treatment success (86%) and absence of adverse events confirmed the appropriateness of DBV in this setting.PK data confirmed a multiphasic profile, with a gradual increase in the t1/2, reaching values higher than 500 h, probably due to high storage within tissues and protein binding, which can sustain a prolonged recirculation from tissues during the terminal phase. Nevertheless, due to low sample size, further studies are needed to verify this hypothesis. In accordance with the work from Dunne et al. [8] , the DBV exposure in the first weeks appeared correlated with patients' BSA, while no statistically significant correlation was found with patients' eGFR, probably due to the low sample size. Interestingly, although our observed concentrations and PK profiles were in accordance with several previous reports [6] [7] [8] , the observed concentrations (particularly the Cmax) differed from the ones described and modeled by Cojutti et al. [25] . In our opinion, this is due both to the different infusion duration (0.5 h vs. 2 h) and to a methodological In this study, we reported the real-life PK and theoretical PK/PD profiles of DBV both in the single 1500 mg and in the off-label dual 1500 mg regimens. Reasons for treating with DBV were simplification (4/11) or failure of previous antibiotic therapy (7/11); reasons for failure of prior antibiotic therapy were probably type of infection, largely hard to treat, but no further hypothesis can be speculated based on the actual microbiological or PK/PD data. The enrolled patients had either ABSSSIs or bone infections, including septic arthritis, spondylodiscitis, osteomyelitis, and prosthetic infections. Satisfactory treatment success (86%) and absence of adverse events confirmed the appropriateness of DBV in this setting.PK data confirmed a multiphasic profile, with a gradual increase in the t1/2, reaching values higher than 500 h, probably due to high storage within tissues and protein binding, which can sustain a prolonged recirculation from tissues during the terminal phase. Nevertheless, due to low sample size, further studies are needed to verify this hypothesis. In accordance with the work from Dunne et al. [8] , the DBV exposure in the first weeks appeared correlated with patients' BSA, while no statistically significant correlation was found with patients' eGFR, probably due to the low sample size. Interestingly, although our observed concentrations and PK profiles were in accordance with several previous reports [6] [7] [8] , the observed concentrations (particularly the Cmax) differed from the ones described and modeled by Cojutti et al. [25] . In our opinion, this is due both to the different infusion duration (0.5 h vs. 2 h) and to a methodological difference in the analytical approach between the two studies. In fact, Cojutti et al. applied a previously reported method [31] based on sample dilution before LC-MS analysis, with minimal use of organic solvents throughout the protocol. This is probably not enough to completely separate DBV from plasma proteins during sample preparation, potentially leading to a systematic underestimation of the total DBV concentration. Conversely, in this work, we applied a validated analytical kit capable of quantifying total DBV concentration in plasma with high accuracy, using a SIL-IS to compensate for potential fluctuations in analyte recovery and matrix effect.The observed values that AUC 0-2w /MIC adjusted by 93% protein binding, which was suggested to be the most reliable PK/PD marker for DBV, remained for all patients higher than 17,000 (single dose) and 23,000 (dual dose), considering the breakpoint MIC of 0.125 mg/L. These values greatly exceed the proposed target AUC 0-2w /MIC of 1000 for staphylococci in ABSSSI [7] , even in patients who did not achieve treatment success, suggesting that specific PK/PD targets should be defined in the context of bone infections.Despite the adjustment of MIC values by 93%, protein binding could not be completely free of errors, particularly considering eventual inter-patient variability, which was not possible to assess in this study. The considered adjusted MIC values in this study are very near to the ones experimentally observed in-vitro in the work from Leighton et al. in presence of human serum (range 1.22-2.04 mg/L vs. 1.71-3.42 mg/L by our calculation) [10] . The evidence of a T > MIC higher than 6 weeks in all patients, even considering the highest breakpoint MIC, suggests a potential prophylactic effect against bacterial dissemination and/or reinfection in particularly frail individuals, in accordance with several previous works [14, 18] . It is particularly noteworthy that a 6-week period would fit within the recommended time length for the majority of bone or vascular Gram-positive infections. It remains to be proven if this characteristic could play a role in modifying the microbiome and subsequently lead to any alterations in bacterial flora.This, together with the high success rate and tolerability, suggests the eligibility of these off-label regimens for early discharge from hospital, reducing the risk of nosocomial infections (particularly important during the COVID-19 pandemic) and the costs for the health system. Interestingly, the two patients who did not reach a complete cure belonged to the single dose group, had bone-associated infections, and had slightly lower AUC 0-2w /MIC values than patients who achieved therapeutic success ( Figure 4 ). Among these two cases, one was a diabetic, obese female and had a long history of superposed infections complicating her chronic osteomyelitis. She had failed previous regimens targeting her repeatedly isolated methicillin-susceptible Staphylococcus aureus (MSSA). A few weeks after DBV administration, after slight improvement, a multidisciplinary team composed of a diabetologist, an orthopedic doctor, and an infectious diseases specialist opted for amputation. In that context, intra-operative culture confirmed MSSA chronic osteomyelitis, excluding the possibility of a Gram-negative superinfection that would have complicated her recovery. The main limitations from this study consist of the lack of intermediate time points for the PK evaluation during the first hours post-infusion (due to the exigencies of outpatients) which could cause a slight overestimation of the early AUC values, the unavailability of specific DBV MIC testing, the relatively low sample size, and the loss of the very late timings for four patients, in all cases due to the COVID-19 emergency. Nevertheless, the observed data resulted in good model fitting for NCA (R 2 higher than 0.90 for AUC estimation) and were in accordance with the predicted PK from previous studies [7, 8] . From a theoretical PK and PK/PD perspective, our data support a potential longer antibiotic activity than previously considered both for single or double 1500 mg dose administration and for a possible mis-dosing of this molecule in different settings. The evidence of treatment failures with the single dose administration for treatment of bone infections, together with the lower AUC 0-2w /MIC ratio, although not statistically significant, confirms the need for a second dose in this setting [23, 25] . This should be taken into account for further studies on wider cohorts and when considering DBV for different indications other than ABSSSI.To better explain the duration of the antibiotic effect, further studies on larger cohorts, including the direct determination of the free DBV concentration and its PK within tissues, deserve attention. Data Availability Statement: Raw data will be provided on request.\\n\\n\"\n        ],\n        \"semantic_type\": \"\",\n        \"description\": \"\"\n      }\n    },\n    {\n      \"column\": \"full_article\",\n      \"properties\": {\n        \"dtype\": \"string\",\n        \"num_unique_values\": 656,\n        \"samples\": [\n          \"WHO competency framework for health authorities and institutions to manage infodemics: its development and featuresAbstract\\n\\nBackground: In April 2020, the World Health Organization (WHO) Information Network for Epidemics produced an agenda for managing the COVID-19 infodemic. \\\"Infodemic\\\" refers to the overabundance of information-including mis-and disinformation. In this agenda it was pointed out the need to create a competency framework for infodemic management (IM). This framework was released by WHO on 20th September 2021. This paper presents the WHO framework for IM by highlighting the different investigative steps behind its development.The framework was built through three steps.Step 1 included the preparatory work following the guidelines in the Guide to writing Competency Framework for WHO Academy courses.Step 2 was based on a qualitative study with participants (N = 25), identified worldwide on the basis of their academic background in relevant fields of IM or of their professional experience in IM activities at the institutional level. The interviews were conducted online between December 2020 and January 2021, they were video-recorded and analyzed using thematic analysis. In Step 3, two stakeholder panels were conducted to revise the framework.The competency framework contains four primary domains, each of which comprised main activities, related tasks, and knowledge and skills. It identifies competencies to manage and monitor infodemics, to design, conduct and evaluate appropriate interventions, as well as to strengthen health systems. Its main purpose is to assist institutions in reinforcing their IM capacities and implementing effective IM processes and actions according to their individual contexts and resources.The competency framework is not intended to be a regulatory document nor a training curriculum. As a WHO initiative, it serves as a reference tool to be applied according to local priorities and needs within the different countries. This framework can assist institutions in strengthening IM capacity by hiring, staff development, and human resources planning.COVID-19 is the first pandemic in history in which different technologies and social media have been at the core of communication aimed at providing information and keeping people connected [1] [2] [3] [4] [5] . The same technology, however, has amplified infodemics-an overabundance of information-through different online and\\n\\n\\n\\noffline communication channels, particularly the dissemination of mis-and dis-information. Misinformation is false or misleading information, but the person who disseminates it believes to be true. Disinformation is false or misleading information, and the person who disseminates it knows it is of low-quality [6] [7] [8] . Suboptimal information undermines the public health response to the pandemic, negatively impacting people's physical and mental health and hampering the responses of countries to the pandemic [9, 10] . Mis-and disinformation can polarize the public debate and promote hate speech, thus threatening human rights and social cohesion [11, 12] . Infodemics during COVID-19 has pointed to the need to identify existing instruments and to develop new frameworks and tools to manage it.On February 15, 2020, the WHO Director-General, Tedros Adhanom Ghebreyesus, warned the world of the threat of an infodemic accompanying the pandemic [13] . In April 2020, the UN Secretary-General launched the United Nations Communications Response Initiative to combat the spread of mis-and disinformation [14] , and on May 11, 2020, it issued a \\\"Guidance note on addressing and countering COVID-19 related hate speech\\\" [15] .Between June and October of 2020, the WHO Information Network for Epidemics (EPI-WIN) organized a global online technical conference to develop a public health research agenda for infodemic management [16] [17] [18] . This event strengthened the foundations of infodemiology-the science of mitigating public health problems resulting from an infodemic [19, 20] . Through the identification of examples, practices, and tools, the conference comprehensively defined how to establish a community of experts to guide research and implement long-term and sustainable practices of IM. Prominent in this discussion was the need for health institutions and organizations to develop expertise in IM to promote resilience to the infodemic in individuals and communities.To address this need, WHO, in partnership with the US Centers for Disease Control and Prevention (US CDC), conducted a multistep investigative process to collect relevant information and developed a framework with a set of actions needed for IM and the tasks, skills, and knowledge required for implementation. The competency framework was released by WHO on 20th September 2021 [21] . This paper describes how the competency framework for IM was developed and explains the contents in detail.\\n\\nMethods\\n\\nThe 2021 WHO Competency Framework for Infodemic Management was developed in five main steps that link together conceptual work (steps one and two) and participatory research with the relevant stakeholders (steps three, four, and five).First, the overall structure of the framework was built following the guidelines for competency frameworks by the WHO Academy, a WHO training institution that focuses on lifelong training within the health sector [22] . Specifically, adopting the conceptualization of WHO Academy, the competencies were organized into the following categories: domains, activities, tasks, knowledge, and skills. The term \\\"domains\\\" is used for the headings that highlight a group of related competencies (e.g., the domain \\\"detect and intervene\\\", which groups together the competencies needed to identify mis-and disinformation and build interventions to promote resilience in individuals and communities). \\\"Activities\\\" refers to the core functions of IM work with the characteristics of being trainable and, through the performance of tasks, measurable (e.g., to counter mis-and disinformation-that is, to offer corrections in a timely manner). The term \\\"tasks\\\" refers to the observable units of work within an activity (e.g., the task of \\\"working in partnership with other institutions to identify mis-and disinformation rapidly\\\"). \\\"Knowledge\\\" and \\\"skills\\\" refer to the informational basis needed to perform a certain task as well as the specific abilities that are required for such (e.g., knowledge of approaches and methods for fact-checking and the related skills).Second, the domains and activities were identified by framing infodemic management within an infodemiologic perspective. Infodemiology conceptualizes five workstreams in the epi curve of an infodemic response analogous to the epidemic response [23] . These workstreams are at the core of the domains and define the related activities.Third, the specific tasks, knowledge, and skills required for the performance of each activity were identified through a qualitative study with key participants identified purposively. Specifically, the participants (n = 26) were interviewed based on their academic background in the field of IM (n = 10) or their professional experience in IM activities at the institutional level, governmental public health agencies, or public health organization and institutions (n = 16). They were active in the following countries or regions: Africa (n = 3), Belgium (n = 1), Canada (n = 2), China (n = 1), Finland (n = 1), Italy (n = 2), Malta (n = 1), Pakistan (n = 1), Sweden (n = 1), Switzerland (n = 1), Thailand (n = 1), UK (n = 3) and US (n = 8). The participants had interdisciplinary expertise in the following fields: informatics, health behavior change, health communication, health economics, health education, health literacy, health policy, public health, scientific journalism, and social media.The interview grids focused on the following topics:\\u2022 current IM processes within institutions (strengths and limitations, gaps, and needs); \\u2022 specific theories, models, strategies, and tools for IM used within institutions; and \\u2022 key disciplines for competence development in IM.The full interview grids are available in Annex 1. The interviews were conducted via videoconference between December 2020 and January 2021; they were video-recorded and transcribed verbatim. The transcripts were then analyzed using inductive thematic analysis [24] .Fourth, the participants in the qualitative study highlighted different tasks, fields, theories, models, strategies, practices, and processes that are important for IM. All these findings were clustered under standardized categories and then inserted in the draft framework under the specific domains and activities.Fifth, the draft framework was presented for discussion and revision during two stakeholder panels held on January 26, 2021 and February 2, 2021 via videoconference. The panels took place with a majority of the participants in the qualitative study (n = 14), academics (n = 5) and practitioners (n = 11), some additional academics (n = 2), and members of the WHO core team for IM (n = 6). Overall, 21 people took part in the first panel, and 17 in the second panel. The panelists were mainly asked to express their views on whether the framework covers all the main IM competencies and to identify aspects that were unclear, were missing, or would require different wording. The framework was revised according to the results of the two panels.\\n\\nDomains and activities\\n\\nFollowing step two in the methodological section above, the IM competencies are framed under four main concepts that mirror the management of epidemics [18] . Specifically, these concepts derived from WHO approach that links IM to the epidemiological concepts of surveillance, virus, disease, and interventions (Fig. 1) .These concepts are:Social listening It refers to the systematic collection, analysis, and interpretation of people's questions, concerns, information voids, and narratives, includinf mis/ disinformation that are exchanged through off-and online communication channels. Social listening insights are analysed with insights from other kinds of epidemiological, behavioral, informaton ecosystem and health information system insights, through integrated analysis to diagnose barriers and enablers of people's adherence to health guidance and enactment of health behaviors. NarrativesIt refers to both the identification of narratives that refer to a theme of conversaiton online, including mis/ disinformation and to the design, dissemination, and evaluation of narratives that can strengthen resilience to infodemics.\\n\\nDistrust\\n\\nIt refers to both the importance of trust in health authorities, health response, and the need to identify distrust of recommendations and to promote and evaluate the impact of interventions to build institutional collaboration and engagement to protect people and lower the risks of the disease.\\n\\nInterventions\\n\\nIn the field of IM, this refers to actions aimed at flattening the epi curve and building resilience to infodemics among populations (Fig. 2 ).The main IM concepts are then operationalized in five streams that provide an overview of the main activities needed to flatten the epi curve: Workstream 1. Measure and monitor the impact of infodemics during health emergencies. The application of standardized metrics and tools are needed to track the evolution of infodemics among individuals, communities, societies, and health systems-in both digital and the physical information environments. This workstream is based in the IM domain of the competency framework called \\\"prepare and monitor\\\" (Fig. 1 ) and its related activities (Table 1) . Workstream 2. Detect and understand the spread and impact of infodemics. A common approach among institutions is needed to understand how information and mis-and disinformation is spread and how it affects online and offline behavior among different populations. This workstream is based on the IM domain of the competency framework called \\\"detect\\\" (Fig. 1 ) and its related activities (Table 1) . Workstream 3. Respond and deploy interventions that mitigate and protect against the infodemic and its harmful effects. An evidence base is needed to identify interventions that are effective in different contexts and for different types of acute health events. This workstream is based on the IM domain of the competency framework called \\\"intervene\\\" (Fig. 1 ) and its related activities (Table 1) . Workstream 4. Evaluate infodemic interventions and strengthen the resilience of individuals and communities to infodemics. Common evaluation frames are needed to improve the development of interventions and programmatic responses to infodemics. This workstream is based on the IM domain of the competency framework called \\\"strengthen\\\" (Fig. 1 ) and its related activities (Table 1) . Workstream 5. Enable the development, adaptation, and application of tools for the management of infodemics. There is a need to enhance the transferability of lessons learned from IM and evidencebased interventions between contexts, countries and infodemics. This workstream is based on the IM domain of the competency framework called \\\"infodemic management\\\" and its related activities (Table 1) . Table 1 lists the domains of the IM competency frameworks and their related activities. Each domain is briefly explained with a competency statement that highlights the core aspects of the competencies that fall under that specific domain. Each activity is presented with its main objective, which explains the activity's expected result. \\n\\nTasks\\n\\nParticipants in the qualitative interviews highlighted some main guiding principles on what IM managers specifically should do to enhance the performance of each activity identified in the prior step. They focused on what could potentially affect one or more phases of managing the infodemic curve. These principles highlighted the specific tasks and their classification within the four IM domains. Those principles that emerged from several participants are reported below and are illustrated through sample excerpts from the different interviews.(1) Institutional capacity. Health institutions' awareness of IM and the strengthening of their IM resources is key: \\n\\nIn general, partnership is most valuable when it avoids duplicating efforts and strengthening interventions from countries that lack resources:\\n\\n\\\"Networking is easy, but, unfortunately, many of us are doing the same things in different contexts and thus reduplicating things\\\". (Participant L)The participants detailed specific tasks for IM, which were then attributed to each domain and related activities of the competency framework. Table 2 \\n\\nKnowledge and skills\\n\\nThe practice of IM is interdisciplinary and requires coordinated expertise from different disciplines. Participants in the interviews highlighted the main disciplines needed as the content basis for IM and the related skills. Table 3 lists the main IM disciplines in alphabetical order as well as the main IM skills, contextualizing them according to the domains and activities for which they are most needed. \\n\\nRecommendations for implementation\\n\\nThe WHO competency framework for IM is a reference document that can be used by health institutions and health organizations for two main purposes: (1) to identify their competence needs and (2) to plan, organize, and reinforce their IM taskforce. It highlights the main actions to be carried out by IM managers to provide a proper response to infodemics. For each of these actions, specific competencies are needed to activate the IM strategy in a comprehensive way. The framework extensively presents the main competencies for IM that can then be selected by organizations and institutions in their own country according to their needs, the infodemic scenarios they face, their resources and cultural norms. Thus, this framework is not a regulatory document, but, as a reference tool, it should be applied locally and according to the specific characteristics of nations and their organizations. Some of the competencies outlined may not be relevant for some contexts depending on certain factors, such as capacity and resources at disposal.In light of this, the framework can support the identification of existing competencies and those that have to be fostered going forward. It may also facilitate the development of indicators for evaluating institutional and staff performance in IM, including the modification of job descriptions, identification of required training plans, and development of supervisory guidelines. With reference to staff performance and development, the framework provides a level of detail that can then be broken down into finer levels of detail to uncover specific needs in staff development and training at individual organizations.In addition to informing workforce planning, the IM framework can be used for the design, organization, or reorganization of work processes within institutions and organizations. Process redesign could include identification of additional tools and resources that workers might need in order to successfully complete their IM tasks.Overall, it is clear that IM is a multidisciplinary endeavor and that, whatever the approach of the single institutions and organizations, it should be as extensive as possible and consider all relevant domains. Institutional collaboration and cooperation are here essential; indeed, IM benefits from joining resources to share expertise, practices and resources, and learn from those. Also, it benefits creating networks of management that cover all tasks, without duplicating actions, in specific more or less broad geographical areas and contexts.\\n\\nOutlining a future practice and research agenda based on the competency framework for infodemic management\\n\\nThe competencies and tasks in the framework can assist health authorities in implementing the main findings from the literature [25] [26] [27] . At the same time, health authorities can enrich the current findings with new data derived from their work in the field. Infodemic management is a nascent field, and will therefore benefit greatly from evaluation research.There remains a major gap between research and practice in infodemiology. A significant proportion of evidence-based tools and guidelines generated by academic disciplines have not yet been used systematically. Health institutions and organizations must work together with researchers to identify what works, what can be improved, and what gaps exist [28, 29] . Overall, the implementation of the competency framework and the collection and analysis of related data will further enrich the research agenda of infodemic management. This calls for a global participatory effort featuring researchers and practitioners to engage with communities and promote individuals' resilience to infodemics [29, 30] .Specifically, some main tasks that can benefit from the interaction between infodemic management research and practice, according to previous research in the field [18] , include the following:1. Develop and adopt shared classification and taxonomies of disinformation [31, 32] . 2. Understand how information originates, evolves, and spreads on different platforms and channels and quantify the impact. There are many social listening tools and methods for data collection (online and offline) available [33, 34] . 3. Use approaches from the behavioral and cognitive sciences, among other disciplines to understand how misinformation affects behavior in different populations, with a main focus on vulnerable populations [35] [36] [37] . 4. Design, implement, and evaluate interventions at different levels of action and that address individual-, community-, cultural-, and societal-level determinants of trust and resilience against misinformation [38] [39] [40] . 5. Develop regulatory and ethical principles to mitigate the spread of harmful health information at different levels of society [41, 42] . 6. Strengthen infodemic management capacities in health organizations and institutions by building and reinforcing related processes and empowering interdisciplinary workforces [43] [44] [45] [46] [47] .Overall, the infodemic management of various health institutions and organizations in different countries can contribute to understanding how different populations (and sub-populations) have different information needs, use different channels, and face different barriers. Thus, interventions that are anchored in the specific fields of IM can result in primary evidence regarding how to reduce the transmission and impact of a disease in a tailored way.A major task for WHO is now to monitor the implementation of the competency framework and to collect case-studies, and data on its validity, use by institutions and organizations and usefulness to further advance research and practice in the field. This process of monitoring will also inform revisions of the current frameworks and provide more quantitative data to complement the qualitative analysis that bases it.\\n\\nConclusion\\n\\nThis paper presents the WHO competency framework for infodemic management by illustrating its development, implementation context, and applicability.The framework shows that at the core of infodemic management there are key actions that should focus on measuring and monitoring the impact of infodemics during health emergencies, detecting and understanding the spread and impact of infodemics, and designing, deploying, and evaluating interventions that protect against infodemics.Infodemic management is a process and not an end state; overall, it can be effective in maintaining or restoring confidence in health systems and authorities. However, to do so, this should be done continuously-not just when there is an outbreak. IM requires stable, active, and proactive efforts and appropriate infrastructures as well as specific policies. Infodemic management cannot be isolated from a more general reflection on people's right to information and expression, which, along with the principles of autonomy and self-determination, is one of the core components of democracy. Last, infodemic management requires collaboration, cooperation, and sharing in terms of rich data on best practices and effective tools. Moreover, it should also be feasible to collaborate in this regard at the global level, specifically to support countries that might face difficulties in finding resources.\\n\\n\",\n          \"Containing Future Epidemics with Trustworthy Federated Systems for Ubiquitous Warning and ResponseAbstract\\n\\nIn this paper, we propose a global digital platform to avoid and combat epidemics by providing relevant real-time information to support selective lockdowns. It leverages the pervasiveness of wireless connectivity while being trustworthy and secure. The proposed system is conceptualized to be decentralized yet federated, based on ubiquitous public systems and active citizen participation. Its foundations lie on the principle of informational self-determination. We argue that only in this way it can become a trustworthy and legitimate public good infrastructure for citizens by balancing the asymmetry of the different hierarchical levels within the federated organization while providing highly effective detection and guiding mitigation measures towards graceful lockdown of the society.To exemplify the proposed system, we choose the remote patient monitoring as use case. In which, the integration of distributed ledger technologies with narrowband IoT technology is evaluated considering different number of endorsed peers. An experimental proof of concept setup is used to evaluate the performance of this integration, in which the end-to-end latency is slightly increased when a new endorsed element is added. However, the system reliability, privacy, and interoperability are guaranteed. In this sense, we expect active participation of empowered citizens to supplement the more usual top-down management of epidemics.\\n\\nI. INTRODUCTION\\n\\nThe COVID-19 pandemic has clearly shown that, in many senses, the world as a whole was not prepared for dealing with a disease of such magnitude. Although a final assessment is infeasible at this point (October, 2020), in which a second wave is creeping back in Europe and is poised to rage across the continent by fall 2020 [1] The current statistics available about COVID-19 indicate that the most successful policies for monitoring and controlling the virus propagation are employing various digital technologies and connectivity [2] , [3] . These technologies can be used in two principal ways: (1) to provide status and predictions of the epidemiological spread and facilitate actions, such as administration of diagnostic tests or preparation of medical equipment; (2) to implement active policies that facilitate societal processes and safe citizen movement, such as shop schedules, organized delivery of goods, and similar. The success of such informed policies is also strongly related to the timing of their implementation for the respective place, as virus contagion is a spatiotemporal phenomenon that usually leads to exponential growth in the number of infected individuals [4] .Unfortunately, even the most successful timely interventions are in some way overreaching, shutting down abruptly most of the economic activities and creating social distancing between citizens. While acknowledging that this is our current societal need to contain the propagation of this pandemic, our main hypothesis is that, in the near future, digital technologies and wireless connectivity can enable a graceful lockdown by having the following main roles.\\u2022 Facilitate selective lockdowns by allowing flexible transfer of the work, learn and play activities online to the desired extent. \\u2022 Assist in maintaining physical distancing and tracking the spreading of the disease, while offering digital tools to control the level of lockdown/reopening. \\u2022 Provide real-time information for targeted and efficient testing.Note that these are also important today (October, 2020), when a second wave is forcing several countries to rethink a stepby-step reopening based on the aforementioned points. This will be achieved based on an integrated solution for the ubiquitous and privacy-preserving data acquisition, explainable predictive methods for contagion risk assessment, and digitized policies for selective lockdown and scheduling of societal activities. Data will be locally acquired via online social networks, personal smart phone devices and Internet-of-Things (IoT) sensors in general. It is foreseen that an effective global solution shall be decentralized, yet hierarchical (systemof-systems), to provide fine-tuned coordination among the federated entities to orchestrate actions and then avoid both the human rights cost of overly stringent solutions [5] and the human life cost of \\\"hands-off\\\" approaches. Beyond more traditional centralized policy-making, such a decentralized platform, which will be built using trustworthy distributed ledger technology (DLT), should also provide citizens with arXiv:2010.13392v1 [cs.DC] 26 Oct 2020 tools for more direct participation in mitigation measures based on tailored individual incentives.In this sense, we expect to bring managerial decisions closer to the citizens. With such a federated governance, we attempt to convert the usually passive data acquisition process to an active participatory one. Hence, our aim is to move away from a purely top-down management approach. In addition, the proposed platform aims at achieving the minimal use of personal data, processed with the maximum possible privacy-preservation to eliminate global health risks, while protecting the economy [6] . The COVID-19 pandemic has demonstrated that nations and governments need to be better prepared and coordinated to detect and react to global threats focusing on early detection, early response, moving beyond traditionally passive disease monitoring based on voluntary reporting systems. Hence, a rapid, participatory responsive detection system must be in place to support public health officials. A synergistic relationship with public health officials, policymakers, and citizens' active participation will be critical to align the mandate for public health with the protection of privacy, freedom and democracy [7] , [8] . In this context, one main factor is to design a special set of incentives that would allow the citizens to provide secured anonymized access to their data while actively participating in the crowd platform to support early disease detection, a public information system, and possible mitigation measures. Building up such an incentive structure that maps those tradeoffs is a key aspect (beyond purely technical ones) for the success of the proposed federated architecture. Furthermore, this system should be constructed and evaluated rigorously following ethical guidelines as in [3] , [9] .Our contribution in this paper is threefold: 1) a comprehensive analysis of epidemiological models, data collection, and wireless connectivity is done based on key relevant scientific references on pandemics. 2) a federated global epidemiological warning system is proposed based on DLTs. 3) a proof of concept of the integration between DLT and NB-IoT is used to evaluate the wireless network performance on the IoT infrastructure supporting a remote patient monitoring use case. The rest of the paper is organized as follows: Section II presents a discussion of epidemiological models and their limitations. Section III describes the relevance of wireless connectivity on pandemic scenarios. In Section IV, the federated global epidemiological warning system is proposed, here is also detailed the proof of concept of the integration of DLT and narrowband IoT (NB-IoT). Section V is reserved for some discussion and future perspectives.\\n\\nII. EPIDEMIOLOGICAL MODELS AND DATA COLLECTION\\n\\nBiomedical data alone do not contain the information required for preventing and mitigating pandemics. In a highly interconnected globalized society, social interactions, environmental data, spatiotemporal events, and collective nonlinear phenomena observed on complex infrastructures such as transport systems, require the mining of heterogeneous pandemic big data that are a result of a complex system of systems processes. In fact, modern disease monitoring systems, as the Global Public Health Intelligence Network (GPHIN) [10] and the Global Outbreak Alert and Response Network (GOARN) [11] , and event-based approaches that use a combination of web crawlers, artificial intelligence, and public health expertise in the detection of indicators [12] , [13] provide goodalthough limited-examples of successful platforms to identify latent indicators of an outbreak.To go beyond those existing solutions, data scale, contextualization, and granularity are key requirements for data quality, which is usually orthogonal to privacy preservation, timely processing and analysis as well as storage and processing cost. In the following, more details will be provided about existing epidemiological models and epidemic-related data collection.\\n\\nA. Models and their limitations\\n\\nModels for emerging epidemics come in various forms, all relying on differently coarse-grained individuals' data. State-of-the-art population-level models for COVID-19 rely on metapopulation models with an underlying Susceptible-Exposed-Infectious-Recovered disease dynamics [14] . The metapopulations represent regions surrounding travel hubs and are interconnected through mobility data, for example, data from airlines, public transportation systems, and traffic control systems. The disease dynamics itself accounts for the fact that exposed individuals can be presymptomatic and unaware that they infect others, as suggested by early case data [15] . Unfortunately, while this model is effective at providing large-scale forecasts and predicting importations at aggregated levels, it is less informative at the individual level. However, this more granular information is necessary to accurately estimate the probability of such epidemics given a single importation event, which is rare given the population size. This particular event has the potential to become the initial point of a widespread contagion in a region not reached by epidemics until that point. Since this event basically depends on one individual, aggregated level statistics provide poor description of the heterogeneity of individual level behavior and mobility.Given this, most governments around the world introduced stay-at-home policies to reduce the mobility of their citizens, which should result in the now famous flattening of the curve. This expression refers to the process of slowing down the virus spread to keep the need for hospital care below the health care capacity. Different variations of the stay-at-home policy have been introduced, e.g. allowing citizens to move in a predefined radius to walk with their pets and exercise, restricting the number of times per day or the number of people per household that can go out. As previously argued, this is, understandably, a necessary abrupt solution for now, but it can become more graceful by properly utilizing crowdsourced data and active citizens' participation.B. Data collection: current activities and potential existing sources At higher levels, mining existing data sets collected by different types of service providers is an obvious and powerful way to quantify to which extent citizens follow stay-at-home policies, thereby providing an essential means of assessing their effectiveness. For example, smart grid systems can provide information about the changes in the energy consumption in different areas suggesting that people, on average, spend more time at home. The network usage information from broadband operators can also be used as an indicator of change in human behavior related to their mobility. Another source of information are mobility data sets from cellular network operators that are already present on the network. Smart appliances, like smart TVs, smart fridges, and smart light bulbs can be used to provide information about the overall time spent at home versus the time spent outside. Finally, information collected by several smart city applications, such as public transport usage and traffic, could also be leveraged to estimate the change in mobility patterns at the level of places, buildings and vehicles.At a lower granularity, proximity-tracing platforms have been proposed to collect data at the individual level, for instance the Pan-European Privacy-Preserving Proximity Tracing (PEPP-PT) [16] , often in partnership with mobile service providers and operators. By aggregating proximity data over time, these approaches can follow data protection regulations. Among others, two of the largest Big Tech companies Apple and Google proposed a joint solution that appears to focus on the protection of user privacy, for example by keeping people anonymous in the central servers and making data submission voluntary. Different technologies are being proposed to automate and extend contact tracing (e.g. shared databases, GPS traces of confirmed cases, contact tracing through Bluetooth). The use of Bluetooth-based solutions, either in the form of the third-party dedicated apps or as a feature built into the mobile devices' operating systems, seems to be the most promising solution to date. Although these solutions are a new source of granular data, they cannot cover all relevant forms of infection, namely asymptomatic infections, and infections occurring out of proximity through shared surfaces (e.g. doorknobs). In this sense, our hope is to combine the metapopulation and individual tracing models in a citizen science framework to consider more possible routes of infection as well as both proximity (e.g. close contact) and mobility data (e.g. location visited). In addition to this, machine learning methods are expected to combine expert knowledge (e.g. from virologists and sociologists) with global data collected from different sources for fitting powerful predictive models to high-dimensional data. In doing so, the target is to leverage the different straights of different data sources at different granularity for privacy protection and allow for more thorough probabilistic forecasts. Ultimately this will allow for graceful lockdowns, tailored incentives for citizens' participation, and fine-tuned legitimate interventions.\\n\\nC. Data privacy and trustworthiness\\n\\nFine-grained data collection approaches raise two major concerns as highlighted in [17] : (1) user privacy; and (2) trustworthiness of the shared information. Clearly, sharing location and health information with third-party entities can lead to the misuse of the data set for instance through unwanted advertising and health insurance implications. The impact of fake health information on the contact tracing system should be analyzed to assess its implications in terms of access to testing. All these applications rely on the premise that users will trust and adopt these applications. This brings us to an additional problem that could hamper these approaches. The adoption of new technologies is hard to predict, and it might introduce bias for example related to age, wealth, level of education, and state of country development. Citizens' participation in warning and response of epidemic outbreaks requires new incentives that reward the responsible use of citizens' personal data for protecting public health, while penalize and prevent citizens' profiling actions, manipulative nudging and power misuse.\\n\\nD. Challenges and the way forward\\n\\nDesigning new data fusion schemes tailored to fuel data analytics processes for prevention and mitigation of pandemics is an open research question: Which smart phone sensor data can model compliance of stay-at-home policies? How such models can be enhanced with social media, smart grid, or transport data? Pandemics require that we revisit and potentially reinvent how data should be managed and how systems should be designed to manage data in a more responsible way [9] . More specifically, discovering new ways to turn private sensitive data of citizens into public good, while preventing massive surveillance, profiling, and discriminatory analytics, becomes imperative. To pioneer this capability, new transparent and accountable data commons [18] , for instance personal data stores [19] - [21] , to which citizens have incentives to contribute data, are required. The citizens retain the right for their data to be \\\"forgotten\\\" [22] . Ultimately, they have control and give their consent to how these data are used. These data commons are designed to maximize the use of techniques for privacy preservation [6] , [23] , for example homomorphic encryption, differential privacy, anonymity, and obfuscation, while citizens are made aware of the privacy risks they experience.\\n\\nIII. WIRELESS CONNECTIVITY AND EPIDEMIC-RELEVANT INFORMATION\\n\\nThe previous section covered different aspects related to the data required to support a fine-grained epidemiological model. It is argued that a ubiquitous system can be employed to manage such data in a privacy-preserving manner. Here, we identify wireless connectivity and Internet of Things (IoT) devices as a way to collect data following those principles.Wireless connectivity and IoT devices come in many flavors, but can, in general, be classified into (1) personal devices, such as mobile phones and earbuds; and (2) unattended connected machines and things, such as surveillance cameras and motion sensors. There are three principal sources of epidemic-relevant data acquired through wireless connectivity: (1) online social networks; (2) personal smart phone and mobile data; and (3) sensory and Internet of Things (IoT) devices.\\n\\nA. Online social networks\\n\\nIn critical events, people tend to use online social networks to post comments about the emergency and learn from other users' comments. As a result, online social networks become a rich source of diverse information that could help to understand the main characteristics of the crises and their potential magnitude in early stages. For instance, in [24] , authors collected comments posted in the Chinese social media channel Weibo during the first month of the COVID-19 epidemic in Wuhan (China) to understand the evolution trend of the public opinion. A similar approach was used on Twitter in [25] , [26] . Government entities can use this approach to give more attention to the needs of the public during the beginning of the epidemic and adjust their responses accordingly. Another form of data content, normally provided by explicit consent from the citizens, is the GPS location data from personal devices. At the application level, the Twitter platform offers various user information, geographical location being one of the most important for a wide range of applications. However, only a few users enable their geolocation as public. To discover the user's geolocation (geographical region or exact geocoordinates), there are mainly two approaches called contentbased and network-based algorithms. The first one uses textual contents from tweets, and the latter uses the connections and interactions between users. In [27] , a neural network model based on multiview learning by combining knowledge from both user-generated content and network interaction is proposed to infer users' locations.\\n\\nB. Personal smart phone devices\\n\\nThis source of information comes in many different forms, ranging from the use of metadata in cellular mobile networks for user localization up to the metadata associated with different applications, such as Twitter. The use of data 1 collected in mobile networks during the COVID-19 pandemic has received significant attention [28] . Agglomerated mobile network data can be used to verify if interventions, such as school closures, are effective, and help to understand the geographical spread of an epidemic. Different types of mobile network metadata are collected at different levels of the communication system, and they offer varying levels of information. At the lowest level, localization of mobile network users is possible by evaluating the strength of the wireless signal received at base stations. Depending on how many base stations are connected to the device, the location can be determined at the level of entire cells or down to a few meters using triangulation.The resolution offered by cellular mobile localization maybe too coarse for detecting citizens' proximity and potential infections by face-to-face interactions. Nevertheless, even lowresolution location data can give insight into behavioral patterns (how much time is spent at home, office, and events) of individuals. Proximity detection can be enhanced by using the metadata from Bluetooth devices, such as beacons and discovery messages (e.g., [29] ). Wi-Fi is also a technology that is used ubiquitously, and its metadata can provide information on user proximity. For example, proximity can be inferred by comparing the lists of access points that each device can see within a given time interval [30] .Fusing the metadata from these different sources, along with the context information (how many family members are at home, which events) is very relevant for monitoring the epidemic.\\n\\nC. Sensory and IoT devices\\n\\nMany applications and devices become an important tool to provide epidemic-relevant data. These can be related to surveillance/thermal cameras, drones and even wearable devices. For example, surveillance cameras can be employed to count the number of people entering and exiting a specific area. In other scenarios, thermal cameras are used with specialized settings to focus on human skin temperature range, and infrared spot sensors for individual temperature scanning. A similar application to identify individual or group activities in a given place is based on motion sensors as infrared lasers, or ultrasonic sensors. In this approach, the motion sensors are installed and deployed in a specific environment to recognize different human activities.Other important source of IoT data are the smart healthcare devices, for instance, remote monitoring systems to check body temperature, which is a key sign in the support of homeostasis. Other popular applications are oxygen saturation monitoring based on beat oximetry, electrocardiogram monitoring with a specialized framework to estimate the heart rate, elderly monitoring using doppler radar to identify risk movements of elderly people, sugar level monitoring, and blood pressure monitoring. These IoT devices provide information that is analyzed by the IoT data to support specific applications.\\n\\nIV. FEDERATED GLOBAL EPIDEMIOLOGICAL WARNING SYSTEM\\n\\nWe envision a federated and decentralized coordination system for epidimiological warning and response. This system is federated by citizen communities that crowd-source data, personal smart phone devices, community-level IoT devices (e.g. LoRaWAN networks) and other computational resources on the edge. It can scale organically and bottom-up to citylevel, national-level and ultimately at global-level to coordinate in a socially responsible way the international actions of public health organizations and governments. This scaling requires tailored incentives that align public health policy-making with citizens' privacy and autonomy. Distributed ledgers with secure crypto-economic incentive models running on edge serves and scaling-up on-demand at a global level using wireless connectivity and public cloud infrastructure are the means to support the federated nature of this proposed system. Figure  1 illustrates the our vision.\\n\\nA. Key components\\n\\nThe proposed federated global epidemiological warning and response system is built upon epidemic-relevant information obtained through wireless connectivity introduced in Section III, and the internet infrastructure including fiber-optic and satellite links. Thus, in addition to the devices that are the data sources (e.g., smart phones, wearables, smart appliances, and cameras) with their applications and existing communication networks, there is a need for a computer infrastructure dedicated to store and process the epidemic-relevant data in a secure and privacy-preserving manner. It is argued that this infrastructure also needs to follow a similar federated organization based on the geographic locations. Each municipality, city, county, or larger neighborhood will rely on edge servers to process their respective data contents. The premise is to keep the computations as local as possible.However, larger-scale computations related to the interrelations between locations (e.g. mobility, commuting, and traveling) requires data from these different places. Once again, the federated organization supports this collaborative sharing (up and downstream between the federated entities), but it will probably require computationally more demanding algorithms. It is possible that those computational tasks require more powerful cloud servers, or collaborative parallel computing at the edges. For security reasons, DLTs shall be employed to store data from the edge servers at the global level. At the technical level, the following aspects deserve special attention.\\n\\n1) Privacy:\\n\\nIn this paper, a privacy-by-design approach is proposed with which several critical operations of the federated global epidemiological system can be performed; for instance, decentralized data analytics [31] , [32] , social interactions analysis [33] , [34] , decentralized planning and resource allocation [35] and federated learning [36] , [37] . Such operations integrate in a smart way state-of-the-art techniques, for instance, informational self-determination, homomorphic encryption, differential privacy, obfuscation, and anonymity. Often, privacy may limit the quality of service known as the system utility as the accuracy and quality of data are deteriorated to hide information content. For instance, predicting the risk of infections for individuals based on an epidemiological network model is a graph-based semi-supervised learning problem. Privacy-preserving semisupervised learning over graphs has been considered in [38] . However, the precise trade-off between (lowering of) privacy protection and learning accuracy is largely open. Pareto optimal trade-offs can be configured and regulated by tuning the parameters of the privacy techniques as previously shown in [6] . Monetary and other incentives can be used to coordinate data sharing choices in a crowd. However, new types of social incentives are required for such an epidemiological system; for instance, incentives related to well-being, receiving solidarity, and longterm payoffs.2) Interoperability: The big data required by the proposed solution have to be interoperable, i.e. the several applications that are providing data to be used to accomplish a specific task have to operate together and share a common \\\"understanding\\\" [39] . This can be achieved by employing standards for health informatics such as ISO TS22220:2011, TS21090:2011, or TS13606. For instance, the data collected from different sources can be used to predict refinements to patient care or new drug contraindication [40] . This key issue, though, has deserved little attention in large-scale epidemiological studies [41] , [42] ; it is usually assumed that heterogeneous data sources are compatible with each other. In practice, though, the highly heterogeneous data sources lead to poor interoperability, which creates barriers to effectively combat pandemics like COVID-19, as indicated by [43] .3) User interfaces: A successful platform also involves a suitable end-user interface [44] . In this sense, data consumption by public health officials and global health agencies will require user-friendly web-based interfaces, using common dashboarding techniques. However, beyond this, the proposed federated platform has to consider citizen participation and the heterogeneity of end-users. Therefore, the following characteristics should be taken into consideration in the design of the platform: it should be (a) explainable/accountable to improve for instance awareness and engagement [45] ; (b) gamified to engage and incentivize participation [46] , [47] ; and (c) customizable for different user groups at an international level.\\n\\nB. Proposed architecture\\n\\nThe proposed architecture has to articulate the key elements from data acquisition to analytics, following the best practices related to privacy and cyber-security. At the acquisition level, in addition to the existing data retrieval from the web, wirelessconnected devices will send data to edge nodes that will be associated with specific regions. Data will be anonymously preprocessed at the edge, including some intelligent detection of anomalies or event detection, and then sent to regional (cloud) servers to run a more complete model that will fuse the geolocated timestamped data and run detection models based on explainable AI approaches combined with mathematical computational methods. In this case, crowd-sourcing models are applied based on hardware as a public good in an approach similar to the DIASPORA social network, also extending this approach to software and data. Regional models will be associated in federations resembling the governance structure of the actual regions under interest, which is customizable to local policies/governance models.Following this federated and collaborative organization, it will be possible to build organically a fine-tuned early detection system at the global level in a decentralized yet hierarchical manner to support graceful lockdowns. This would turn the proposed federated architecture into a holarchy, where each level is independent and self-sustained, but it can also be encapsulated at a level above to capture new goals [48] .This system will rely on DLTs to guarantee a trustful system without a responsible third party and minimize the risk of data manipulation [49] . Distributed ledgers could also be used to facilitate different (crypto-economic) incentive mechanisms, such as token curated registries. Its main objective is to build a crowd-sensing trustworthy platform based on privacypreserving methods to detect potential harmful symptoms in a specific region in almost real-time and flag them to relevant authorities. This alarm needs to be accurate, reliable, and explainable. It will also require a user-tailored interface that could empower citizens by providing detailed explanations and easy-to-access information, while being a tool for policymakers (from the city level to global organizations) designing the correct interventions (a variety of incentives, sanctions, and other persuasive measures) given the specific context of the epidemic in some specific region in a given period of time.\\n\\nC. Representative Use Case\\n\\nTo obtain insights from a practical implementation, we define a specific use case that matches the premises of the proposed architecture. This key industry use case focuses on remote patient monitoring. Here, many issues in treating chronic patients could be reduced or resolved through more efficient patient care. In the case of pandemics, such as COVID-19, the remote monitoring of diagnoses patient can represent a key difference to avoid the virus acceleration. Besides that, the application should guarantee privacy and security on the gathered data. To guarantee people participation, the system can provide incentives, such as bonus or tax compensations. In the context of the proposed federated global epidemiological warning system, the remote patient monitoring is a representative use case, in which the integration between DLTs and IoT devices plays a key role. We analyze this integration through an experimental setup based on NB-IoT, which is one of the most representative low-power wide-area network (LPWAN) technologies in cellular networks. Considering that the proposed architecture requires massive end devices deployment, low power consumption, superior coverage, and worldwide deployment, NB-IoT becomes a key solution to support the federated global epidemiological warning system. Some details of the integration setup are described in the next sub-section, emphasizing data workflow, and end-to-end (E2E) latency. We consider latency because the experimental results indicate that it is the most sensible network parameter when DLTs are built in the top of the connectivity system.\\n\\n1) Setup Description:\\n\\nIn this section, we provide brief explanation of the integration between the NB-IoT network and the DLT-based system, which is illustrated in Figure 2 .In a conventional NB-IoT system, the uplink data generated by the user equipments (UEs) is transmitted though specialized packet messages and routed toward an edge data center to be stored and processed (yellow background in Fig. 2 representing a standard-NB-IoT). At this point, the monitoring system has no control on the collected data, so modification, corruption, and losses may occur. Conversely, in our DLTenabled NB-IoT setup, the uplink data generated by the UEs is transmitted to a randomly chosen group of endorsing peers of Hyperledger Fabric, a type of DLT used in our study, as transaction proposals (check the purple background in Fig.  2) . Then, each of the peers signs the transaction using the elliptic curve digital signature algorithm (ECDSA) and adds the signature before returning the signed message back to the IoT devices (UEs). The peers that provide an endorsement of the ledger send an update to the application, but do not immediately apply the proposed update to their copy of the ledger. Instead, a response is sent back to the IoT device to confirm that the transaction proposal is correct, has not been previously submitted to the ledger, and has a valid signature. Therefore, the security increases with the number of endorsing peers. In addition, smart contracts can be executed to update or query the ledger.Then the IoT device broadcast the confirmed transaction proposals along with the confirmation to the ordering service. The received transactions are ordered chronologically to create blocks. These transaction blocks are delivered to all peers for validation. Then, the peers append the block to the ledger, and the valid transactions are committed to the current state database. Finally, a confirmation message is transmitted back to the IoT devices to report that the submitted transaction has been immutably published to the ledger. T\",\n          \"Journal Pre-proof Modeling Return of the Epidemic: Impact of Population Structure, Asymptomatic Infection, Case Importation and Personal Contacts Modeling Return of the Epidemic: Impact of Population Structure, Asymptomatic Infection, Case Importation and Personal ContactsAbstract\\n\\nSupplemental MaterialsWe employed a modified Susceptible-Exposed-Infectious-Removed (SEIR) model to incorporate susceptible population (S), self-quarantined persons (Q), exposed persons but not infectious (E), symptomatic cases (I D ) and those cases from quarantined susceptible (I Q ), asymptomatic cases (I U ) (also those with mild symptoms). The removed component includes those hospitalized (H), recovered (R), and dead (D). The self-quarantined persons are not based on individual contact tracing but rather refer to those who are alert about possible infection in the community and avoid contacting with any exposed person. They are a special susceptible population who will not infect others if they are infected. At the beginning of the study, there are only a proportion of the original total population (N 0 ) is susceptible (S 0 ), Q 0 persons quarantined, and P 0 persons immune to the disease due to past infection. There are also some existing cases (C 0 ) that include both symptomatic (I D0 ) and asymptomatic (I U0 ). But those cases from quarantined people will not be able to infect other people. Therefore, the original population is N 0 =S 0 + Q 0 + P 0 + C 0 .We also assume a dynamic population. The numbers of imported susceptible persons and imported exposed infectious (but undiagnosed or confirmed or asymptomatic) persons are proportional to the size of total population (i.e., larger regions attract more visitors). We further assume the death rate due to other causes is constant at u for all populations. For those who are diagnosed with the infection and hospitalized, their deaths are attributed to the infection or complications of the infection. Therefore, the total population at the beginning of time t is N(t) = S(t) + Q(t) +E(t) + I D (t) + I U (t) + I Q (t) + H(t) + R(t) + P 0 . The basic compartment model can be depicted as follows: J o u r n a l P r e -p r o o f J o u r n a l P r e -p r o o f the epidemic significantly in both age groups, even though young people remain active within themselves. Conclusion: Reducing the number of contacts among high risk populations alone can mitigate the burden of epidemic in the whole society. Interventions targeting high risk groups may be more effective in containing or mitigating the epidemic.J o u r n a l P r e -p r o o f people alone will not only reduce the risk of infection and alleviate disease burden among themselves, but also mitigate the impact of a second epidemic in the whole society. Interventions targeting high risk groups may be more effective in containing or mitigating the pandemic.The author wishes to acknowledge the support from FedEx Institute of Technology at the University of Memphis for the data science cluster seed grant fund. The funder plays no role in design, analysis and report the current study. The author also wants to thank two anonymous reviewers for their insightful comments and suggestions that significantly improved the manuscript.J o u r n a l P r e -p r o o f\\n\\n\\n\\n: flowchart of the epidemic modelThe above flowchart is applied to both young (age <65) and old populations (age>=65). We assume there is cross infection between younger and older age groups. The combined flowcharts can be modeled in differential equations (with index t suppressed and subscript y for young people, s for old people) as follows: Table1: Detailed parameter estimates and ranges. All rates are set as daily rates in a region with population size of 1,000,000.\\n\\nParameters Definitions Default values\\n\\nRange and references f 1 Importing rate for susceptible population, proportional to the size of population 10 people per day, only for young people Arbitrary, net travel inflow of 2-20 people per day for a city of a million.f y2 , f s2 Importing rate for exposed and infectious persons, proportional to the size of population Note:1) The infecting rate per contact per day is based on the basic reproductive number and serial interval between case generations. Early reports suggested a R 0 of 2.2 (range 1.5-3), and a serial interval range of 3-9 days. However, several recent studies found the R 0 was greater than 3, one reported as high as 5.7. In this study, we took a conservative estimate of 2.6 and a moderate serial interval: 6 days for young people, 4 days for old people.Based on simple SIR model, the reproductive number is k*b*t, where k is contact rate, b is infecting probability per contact, and t is serial interval. Assuming k=10 contacts per person per day for young people, and the infecting probability is b1= 0.043 for a symptomatic young people. For mild or asymptomatic cases, we assume 50% less infectious than symptomatic cases, thus b2 = 0.021 for young undiagnosed people. For older people, the parameters are set to higher than young people, with fewer contact and shorter serial interval. 2) The base rate per day is based on disease duration such as incubation period, diagnosis delay, hospitalization delay, hospitalization stay and recovery duration. We assumed an exponential distribution of duration, i.e., daily rate is 1-exp(-1/duration).J o u r n a l P r e -p r o o f 7 We investigate the impact of population structure, case importation, asymptomatic cases, and the number of contacts on a possible second wave of epidemic through mathematical modelling.\\n\\nSensitivity analysis\\n\\nMethods: we built a modified Susceptible-exposed-Infectious-Removed (SEIR) model with parameters mirroring those of the COVID-19 pandemic and reported simulated characteristics of epidemics for incidence, hospitalizations and deaths under different scenarios. have detected virus shedding in nasopharyngeal swap samples among asymptomatic cases [11] .\\n\\nResults\\n\\nA few case reports have shown some cluster of cases initiated by asymptomatic cases [6, 8, 10] .Researchers have postulated that asymptomatic and pre-symptomatic cases may play a significant role in sustaining the community transmission [7] .Second, government leaders have been pressed to allow people to return to normal work and life to avoid economic recession. After social activities are restored, both international and domestic J o u r n a l P r e -p r o o f travel ban will be lifted. Social and work-related gatherings are restored. Imported symptomatic and asymptomatic cases may kindle a second wave of epidemic in the community [7] . the US, the mortality rate for age 50 or younger is below 1%, while the mortality rate increases to more than 10% among people aged 80 or above [15] . Finally, as demonstrated in the 2009 H1N1 flu pandemic [16] , a pandemic with lower hospitalization and mortality rates has less impact on the society than those with higher hospitalization and mortality rates, though it may still have heavier impact on the economy.Epidemic model simulation has been used extensively to estimate essential epidemic parameters, In this study, we will build a modified Susceptible-Exposed-Infectious-Removed (SEIR) model [27] to simulate the COVID-19 pandemic and investigate the impact of population structure, asymptomatic cases, case importation, and the number of contacts on the epidemic progression.We will explicitly evaluate the changes of hospitalizations and mortality under various scenarios for young and elderly people. Our analysis will provide theoretical evidence for possible strategies to prepare for a second wave of epidemic.\\n\\nModified SEIR Model\\n\\nThe COVID-19, like many other respiratory infectious diseases such as influenza, often has an incubation period during which the exposed persons cannot transmit the virus to others. After the incubation period, there is an infection period during which cases may or may not have symptoms but are able to infect other people. The infectivity may also vary at different time points of the infection period. As in the COVID-19 pandemic, the highest infectious points are 1-2 days around the symptom onset [28] . After the infection period, the patients are recovered or removed from the infectious pool. In addition, various controlling measures may be implemented J o u r n a l P r e -p r o o f during the epidemic, notably the case isolation, quarantine of high risk people through contact tracing, and also social distancing. All these measures will change the transmissibility of virus during a contact between an infectious person and a susceptible person. Therefore, the modified SEIR model as shown in Figure 1 is appropriate (also see the modeling framework section in supplemental documents for details). The SEIR model and its variants have been used in many previous studies for modeling the COVID-19 pandemic [23, 25] . Briefly, we divide the population into the susceptible population (S), self-quarantined susceptible people (Q), exposed We also assume a dynamic population in which the numbers of imported susceptible persons and assumptions that will be discussed later and also in the supplemental document.To account for population heterogeneity, we also apply the basic framework (Figure 1 ) to both young (age < 65) and elderly (age >=65) populations. The two flowcharts are connected through cross-infection due to mutual contacts. The combined flowcharts can be translated into a set of ordinary differential equations (see supplemental document). The key equations relevant to the drive of pandemic and cross-infection between two age groups are for the change of exposed people at time t (subscript y for young, and s for elderly people, with time indicator t suppressed):Specifically, the first equation models the exposure dynamics among young people. It includes imported exposed people (f y2 N y ), newly exposed people through contacting within the young people ( + ) and contacting between young susceptible and infected elderly people ( + ). Then some percent of exposed young people become symptomatic cases ( ), and some become asymptomatic cases ( ). A fixed percent of exposed people will die of other diseases ( ). The second equation for the exposure dynamics among elderly people can be interpreted similarly.\\n\\nModel parameterization\\n\\nThe model involves many parameters. Their definitions, default values, and ranges are listed in the supplemental document (supp. \\n\\nModel simulation and Sensitivity analysis\\n\\nThe default model is set on a region with 1 million residents, consisting of 20% elderly people and 20% of total population with past infection (or immunized). There is no existing symptomatic or asymptomatic case, and no person in self-quarantine in the region. We assume only one imported young exposed case every two days for 20 days (i.e., 10 imported cases).Analyses are performed based on the ranges of parameter estimates. We vary one parameter at a The R package EpiModel is used for simulating the deterministic epidemic models [40] . The R codes for simulating the modified SEIR epidemic models are available (http://github.com/xinhuayu/returnepidemic/).\\n\\nEthics statement\\n\\nThis study is deemed exempt from ethics approval as the research involves no human subjects and we use publicly available data. No informed consent is needed.\\n\\nModel calibration\\n\\nUnder the default model setting, all epidemic measures reflect the model parameters satisfactorily (Table 2 , also refer to supplemental Table 1 ). That is, the resulting epidemic J o u r n a l P r e -p r o o f measures from the default model such as the disease incidence, epidemic peak, and duration of the epidemic are reasonable and mirror those reported in the literature. For example, starting with ten imported infectious persons and assuming 40% asymptomatic cases at the peak of epidemic, the epidemic reaches peak quickly within 73 days and lasts 172 days. It is ten days quicker among elderly people than among young people ( Table 2 ). The epidemic curves for incident cases (symptomatic and asymptomatic), hospitalizations and deaths by age groups are typical (Supplemental Figure 2 ). The modeling results in an overall hospitalization rate of 14.1%. The in-hospital mortality rate is 5.0% for young and 20.3% for elderly people, with an overall mortality rate of 1.9%, similar to those empirical measures in the COVID-19 pandemic in the early epidemic of the US. Therefore, the default model represents the current COVID-19pandemic sufficiently well.\\n\\nImpact of population structure\\n\\nAs summarized in Table 3 , the size of region and a small percent change of self-quarantined susceptible people do not change the epidemic progression significantly except for the total number of cases. A smaller percent of elderly slows down the epidemic, while a much higher percent of elderly does not change the epidemic curve significantly. As expected, when over 60% people have prior infections, the epidemic takes very long to reach the peak and results in substantial fewer cases. The effects are similar in both young and elderly people (supplemental \\n\\nImpact of asymptomatic cases\\n\\nBoth the percent and infectivity of asymptomatic cases were investigated (Table 3 ). An increase of the percent of asymptomatic cases from 10% to 30% postpones the epidemic peak by 12 days J o u r n a l P r e -p r o o f due to less infectivity of asymptomatic cases, and results in significantly fewer hospitalizations and deaths. On the other hand, a higher infectivity of asymptomatic cases (e.g., 100% of symptomatic cases) results in a fast developing and narrow epidemic curve which reaches the peak within 60 days. There are more hospitalizations and deaths at the epidemic peak compared with the default model, both assumed 40% asymptomatic cases. In addition, a change of the percent of asymptomatic cases among elderly people leads to larger changes in hospitalizations and deaths than that of young people (Supplemental Table 2a & 2b) . For example, comparing 60%with 40% asymptomatic cases, the total hospitalizations are reduced only by half among elderly people, while it is a two third decrease among young people. Furthermore, when the effects of the percent and infectivity of asymptomatic cases are combined, for example, in a low risk epidemic with 60% asymptomatic cases but with a lower (30%) infectivity, the epidemic reaches its peak slower for both young and elderly people with peak hospitalizations almost half of the default model (assuming 40% asymptomatic cases and 50% infectivity) (supplemental Figure 3) .\\n\\nImpact of case importing process\\n\\nThis epidemic model is initiated by imported infectious persons (may be asymptomatic or presymptomatic cases). The number of imported cases is in absolute sense, regardless of the size of population. A daily arrival of two infectious people speeds up the epidemic by 8 days compared with one case every two days in the default model ( Table 3 ). The magnitudes of epidemic are similar between different importation scenarios. In addition, a longer importing duration shifts the epidemic only slightly. Finally, if we assume all the imported cases are asymptomatic cases, the epidemic curves are not significantly different from that of default model (supplemental Figure 4) . respectively, all significantly lower than those of default model ( Table 2 ). The times to the epidemic peaks are also postponed in both curves. When both young and elderly people reduce contacts to 3 per day, such as under the stay-at-home rule, the epidemic curves on hospitalizations are significantly mitigated in both age groups (Figure 2d ).\\n\\nImpact of the number of contacts\\n\\nFinally, we consider two extreme scenarios: 1) high risk scenario: assuming one imported case per day continuously throughout the epidemic, 30% asymptomatic cases at the epidemic peak, and the same infectivity between symptomatic and asymptomatic cases; 2) low risk scenario:assuming one imported case every two days for twenty days, 60% asymptomatic cases, and asymptomatic cases have only 30% infectivity of symptomatic cases. In both scenarios, limiting contacts among elderly people alone still has significant impact on hospitalizations in both age J o u r n a l P r e -p r o o f groups, and a larger relative difference in the low risk scenario than high risk scenario ( Figure 3 and supplemental Figure 7 ).\\n\\nDiscussion\\n\\nWe With growing availability of detection kits during the COVID-19 pandemic, more asymptomatic or mild symptomatic cases are identified. Ultimately, an optimal view is asymptomatic cases may account for 60% of infections. However, recent research and case reports have confirmed that asymptomatic or pre-symptomatic cases can shed enough quantify of virus to be infectious [6] [7] [8] [9] 11] . Furthermore, if the infectivity of asymptomatic cases is similar to that of symptomatic cases, a faster epidemic will occur. Despite more asymptomatic cases at the peak of epidemic, there are also significantly more hospitalizations and deaths, which may overwhelm the health care system. With a lower infectivity (30% infectivity) among asymptomatic cases, the epidemic reaches its peak later and results in half of hospitalizations at the peak compared with the default model (Supplemental Figure 3) . In addition, a closely related issue is case importation [25] .Imported cases are often pre-symptomatic, asymptomatic or with mild symptoms. They seed of a second outbreak, even with just a few cases. Therefore, proactively identifying asymptomatic J o u r n a l P r e -p r o o f cases, isolating them and tracing their contacts thereafter will prevent the occurrence of an epidemic [22] .Our study has some strengths. We have devised a modified SEIR model to incorporate both symptomatic and asymptomatic cases. We emphasize population heterogeneity such as age structure in the model. We include a self-quarantined group who will not infect other people if they are infected with the virus. Naturally, these settings can be extended to represent other high risk or special groups with revised parameters. In addition, we separate hospitalization and death from other removed compartments to explicitly estimate the impact of an epidemic on hospitalizations and deaths. From the health impact point of view, severe cases that lead to hospitalizations and deaths are more important than mild cases, as demonstrated in the 2009 H1N1 pandemic [16] . Furthermore, we explored a few key determinants of epidemic explicitly, leading to many insights on epidemic prevention strategies.There are a few limitations in our study. As inherent in all modeling studies, simulation interpretations are heavily dependent on model assumptions and parameter estimations. Our epidemic model is a population model. Although we take account of population heterogeneity such as age in the current model, our age group is overly broad. A more detailed age grouping scheme, including children, young adults, middle age group, and elderly, may reflect the agespecific epidemic more realistically. Other factors may also be included, and additional compartments such as pre-symptomatic stage may be modeled. However, more sophisticated models require more assumptions and may not necessarily provide more insights about the epidemic process. Instead, in this study, in addition to ensuring the mathematical correctness of the models, we prioritize the epidemiological concepts and clinical relevance in setting up the models rather than model complexity. Nevertheless, our findings do not intend to provide J o u r n a l P r e -p r o o f definitive advice to design a new policy but rather gain insights of the epidemic process and provide theoretical support for a possibly more effective prevention strategy based on approaches targeting high risk populations.In addition, we assume random mixing within and between age groups. As a population model, we cannot assess the impact of individual behaviors such as the way of reducing contacts, social distancing and travelling. Furthermore, it ignores clustering within the population such as senior group living, community gatherings (e.g., churches, community centers), worksites and schools.These clusters are hotbeds for superspreading events which may lead to a sudden increase of new cases and overwhelm the healthcare system unexpectedly. Furthermore, the quarantine compartment in the model is not contact tracing based. Modeling contact tracing based quarantine is more relevant to public health interventions [42] . Therefore, the goal of our future research is to exploring the effect of these factors with stochastic simulations of individual behavior [24, 43] and network analysis [44] . Additionally, our model is set on a mid-size region with 1 million residents. We do not intend to model an pandemic, as all prevention strategies are ultimately local.Our study only examines a small subset of scenarios during the epidemic. Multi-interventions and more stringent controlling measures are more effective in mitigating a pandemic but are likely less sustainable in the long run. After the initial epidemic ends, society will return to normal, and only one or two most effective interventions such as social distancing may be practiced, often partially. Thus, one parameter analysis under various scenarios is important for evaluating the probability of a second epidemic.Finally, one critical issue in preparing for and preventing a second wave of pandemic is vaccinating the susceptible people, which is the most effective way to protect people, especially J o u r n a l P r e -p r o o f \\n\\n\"\n        ],\n        \"semantic_type\": \"\",\n        \"description\": \"\"\n      }\n    }\n  ]\n}"
            }
          },
          "metadata": {},
          "execution_count": 116
        }
      ]
    },
    {
      "cell_type": "code",
      "source": [
        "article"
      ],
      "metadata": {
        "colab": {
          "base_uri": "https://localhost:8080/",
          "height": 125
        },
        "id": "PdJzJZavEQqk",
        "outputId": "cdb8fcaa-1c54-4251-f64d-468871a97fbe"
      },
      "execution_count": 76,
      "outputs": [
        {
          "output_type": "execute_result",
          "data": {
            "text/plain": [
              "'Evaluation of different types of face masks to limit the spread of SARS-CoV-2: a modeling studyAbstract\\n\\nWe expanded a published mathematical model of SARS-CoV-2 transmission with complex, agestructured transmission and with laboratory-derived source and wearer protection efficacy estimates for a variety of face masks to estimate their impact on COVID-19 incidence and related mortality in the United States. The model was also improved to allow realistic age-structured transmission with a pre-specified R0 of transmission, and to include more compartments and parameters, e.g. for groups such as detected and undetected asymptomatic infectious cases who mask up at different rates. When masks are used at typically-observed population rates of 80% for those ≥ 65 years and 60% for those < 65 years, face masks are associated with 69% (cloth) to 78% (medical procedure mask) reductions in cumulative COVID-19 infections and 82% (cloth) to 87% (medical procedure mask) reductions in related deaths over a 6-month timeline in the model, assuming a basic reproductive number of 2.5. If cloth or medical procedure masks\\' source control and wearer protection efficacies are boosted about 30% each to 84% and 60% by cloth over medical procedure masking, fitters, or braces, the COVID-19 basic reproductive number of 2.5 could be reduced to an effective reproductive number ≤ 1.0, and from 6.0 to 2.3 for a variant of concern similar to delta (B.1.617.2). For variants of concern similar to omicron (B.1.1.529) or the sub-lineage BA.2, modeled reductions in effective reproduction number due to similar high quality, high prevalence mask wearing is more modest (to 3.9 and 5.0 from an R 0 = 10.0 and 13.0, respectively). None-the-less, the ratio of incident risk for masked vs. non-masked populations still shows a benefit of wearing masks even with the higher R0 variants.The emergence of coronavirus disease 2019 (COVID-19) has had a substantial impact on populations globally, with efforts across governments to prevent its remarkable spread. While social distancing has been universally recommended since very early in the pandemic, recommendations for masks in the general population were adopted later in many countries (see, for example 1 ). Several factors contributed to the initial uncertainty around the potential impact of widespread use of face masks on SARS-CoV-2 transmission. A large and well-designed 2015 study on cloth face masks (the main type of mask available to the public at the time) contributed to the scientific uncertainty that these types of face coverings were effective for preventing the transmission of respiratory diseases 2 . There were initial hypotheses that cloth masks could give the wearer a false sense of protection and even contaminate the wearer with accumulated viral particles, notably described in a high-profile study in the Annals of Internal Medicine that was later retracted (for failure to note PCR assay values that were below the limit of detection) 3 . Furthermore, a major concern at the beginning of the outbreak in the US was supply, especially of high-quality masks like N95 respirators. As it became clear, however, that the virus can spread through exhaled respiratory droplets from infected individuals without symptoms 4 , the U.S. Centers for Disease Control and Prevention (CDC) recommended masks for general use early in the U.S. pandemic (as of April 2020 5 ). Evidence continues to show that asymptomatic and clinically mild infections contribute substantially to SARS-CoV-2 transmission 6-9 . Together, this growing body of evidence has highlighted the importance of prevention measures, like masking, to reduce transmission from people who are asymptomatic, undetected, or both 6-8 . Average duration of incubation period-other SARS-CoV-2 6 days 23 Delta VOC 4 days 54,55 Omicron VOC 3 days 56,57 Average duration of asymptomatic and symptomatic periods 9 days 23 Relative infectiousness of asymptomatic cases/symptomatic cases 75% 23 Percentage of infections that are asymptomatic 30% 23 Probability of detecting asymptomatic case 10.7% (see Supplement) Infection Fatality Ratio (IFR) Ages 0-19: 0.00003 (IFR\\'s for Delta VOC ≈ 2 × shown for other SARS-CoV-2) 58,59 Ages 20-49: 0.0002 Ages 50-69: 0.005 (IFR\\'s for Omicron VOC are 0.09 of those for Delta VOC) 60 Ages 70 + : 0.054 23 Reduction in contact rate for symptomatic and detected asymptomatic persons wearing a mask 50% Risk of death for symptomatic cases See Supplement for calculation 9 Vol.:(0123456789) Scientific Reports | (2022) 12:8630 | https://doi.Although the post-holiday 2020-2021 surge in cases seems large given a fairly high rate of mask usage, we have no solid counterfactual information for comparison 12 , i.e. we do not know what the results would have been with no mask usage.Modeling studies, including this analysis, have estimated how face masks can reduce transmission of SARS-CoV-2 and make a major impact at the population level, even with varying levels of adherence and effectiveness of masks. Multiple public health interventions are needed to reduce the transmission of SARS-CoV-2 and, as our analysis shows, robust use of face masks is an important contributor. Face masks of various materials have the potential to substantially reduce transmission in the SARS-CoV-2 pandemic, depending on the type and fit of mask and the percentage adoption in the population. Furthermore, by attempting a more exact quantitation of the impact of masking, studies like this can show, for example, that for highly contagious new variants, such as the Delta and Omicron variants of concern, masks alone are not enough to contain the outbreak, and other control strategies are needed (e.g. social distancing, hand washing, and vaccination). Public outreach and policies encouraging mask wearing, especially highly efficacious masks such as N95 and KF94, need to be encouraged along with other prevention strategies. In fact, this study suggests that even the imperfect use of masks over the course of the pandemic has likely reduced both cases and deaths significantly.R code is available upon request.\\n\\n\\n\\nwww.nature.com/scientificreports/ As the COVID-19 pandemic has continued, evidence has accumulated that face mask use by the general population can limit the spread of SARS-CoV-2. This evidence has taken three main forms, described in order of their appearance in the literature: 1) modeling studies that suggested that even if masks are limited in their efficacy, widespread use across the population could still reduce the spread of the virus to a considerable degree 10,11 , 2) laboratory studies that demonstrated masks physically block exhaled droplets and aerosols containing virus from infected persons (source control) and also offer wearer protection [12] [13] [14] , and 3) epidemiological studies that documented lower transmission in settings where masks were used [15] [16] [17] [18] [19] . In this study, we extend the model of Worby and Chang to use age-stratified social contact patterns for the general U.S. population, and we analyzed the model both employing the measured face mask efficacy parameters for a variety of specific types of masks and for efficacy estimates that can act as benchmarks for evaluating these products 20 .\\n\\nMethods\\n\\nWe expanded the transmission model (used for studying resource allocation of masks) of Worby and Chang (2020) for face mask adoption in a hypothetical population in several ways. Principally, we expanded it to the age-stratified social contact patterns characteristic of the demographic profile of the United States. The underlying structure of the compartmental model is similar to but somewhat larger than that described in Worby and Chang 20 , which we briefly summarize below. Parameters used in our model are shown in Table 1 , which also gives some indication of both the assumptions made in our model and how the Worby and Chang model was enhanced (there are significantly more parameters).Broadly speaking, individuals are classified according to their disease status, whether or not they are symptomatic if infected, and whether or not they wear a mask in public, similar to the Worby and Chang model. However, unlike Worby and Chang, we differentiate asymptomatics into the detected (test positive) and undetected, because people who know they are infected might wear masks at different rates (it is assumed that those who are symptomatic will wear masks at the same rates whether they are known SARS-CoV-2 positive or not), and further stratify the model by age in 5-year age bands. People contact each other (defined as either direct physical contact, e.g. through a handshake or a kiss, or a proximal, two-way conversation of 3 or more words) at age-specific daily rates estimated for the United States, as described by Mossong et al. and Prem et al. 21, 22 . We compared the results of the model with the age stratification removed, and the results were significantly different (data not shown). Given that the infection fatality ratios (IFRs) are strongly age structured, we believe the age stratification is appropriate. Vaccination is not explicitly part of the model and has not been included in this study (see \"Limitations\" section for more on why this decision was made).A schematic of the compartmental model is shown in Fig. 1 . Susceptible individuals who are infected move into an exposed compartment and thereafter into a pre-symptomatic compartment. Subsequently, a pre-specified proportion of these individuals moves into an asymptomatic state, while the remainder become fully symptomatic. Pre-symptomatic, asymptomatic, and fully symptomatic SARS-CoV-2 infected individuals all contribute www.nature.com/scientificreports/ to the force of infection with varying degrees of infectiousness. All asymptomatic individuals recover, whereas a proportion of fully symptomatic individuals do not recover and die. A fraction of asymptomatic cases is assumed to be detected whereupon a fraction of these individuals begins to use a mask and continue to mask thereafter. Similarly, a fraction of symptomatic cases is assumed to know they have COVID-19, and these individuals put on a mask at the same adoption level as detected in asymptomatic cases. Symptomatic persons and detected, asymptomatic persons who wear a mask also change their contact rates reflective of some degree of isolation/ quarantine. We do not include specific compartments modeling quarantine per se, but rather we reduce contact rates which accomplishes the same purpose and maintains simplicity of compartmental structure while allowing a degree of mixing that might be anticipated among a fraction of infected individuals who are not strictly isolating themselves. We also assumed a fraction of the general population adopts mask usage at the outset and continues usage regardless of infection status. Other than the aforementioned masked cases, we assumed that contact rates among age groups remain the same when people wear a mask. One major innovation of our approach was to calibrate the above model to fit a user specified basic reproduction number, or R 0 . This was accomplished using the next generation matrix approach of van den Driessche and Watmough 52 , using the largest eigenvalue to calibrate R 0 (see supplemental material). Initially, a basic reproduction number of 2.5 was assumed in the absence of any mask use, consistent with CDC\\'s pandemic planning scenarios 23 . We also explored the model with basic reproduction numbers of 4.0 and higher, in keeping with the estimated magnitude of the alpha (B.1.1.7), delta (B.1.617.2), and omicron (B.1.1.529) variants 24 . The modeled time horizon was 6 months and the cumulative number of infections and deaths were recorded. The impact of various levels of mask adoption was assessed by calculating the relative reduction in cumulative infection and deaths, comparing cumulative cases and deaths to the same model over the same time horizon with no mask use in the entire population.Masks were modeled to reduce transmission via two different mechanisms: source control efficacy, whereby mask wearing by an infectious person reduces their likelihood of transmitting SARS-CoV-2; and wearer protection efficacy, whereby masks protect a susceptible person from becoming infected when exposed to an infectious person. We examined adoption of various kinds of masks (e.g., cloth, medical procedure, N95 respirators) specifically incorporating estimates from a recent study of source control efficacy 14 . A range of values of hypothetical wearer protection efficacy was assumed for each kind of mask. Although it has generally been found that wearer protectiveness coefficients are approximately half the source control values 13, 25, 26 , wearer protection efficacy was allowed to vary in the plot because it could be greatly affected by how the mask is worn, maintained, and used. Characteristics of each mask when worn according to manufacturers\\' specifications can be found in Lindsley et al. and are shown in Table 1 14 . We do not address the issue of mask and respirator use in healthcare settings in this paper, as there is substantial public health guidance regarding the use of personal protective equipment in healthcare settings 27 . Ethics approval and consent to participate. No human subjects were used in the study, therefore no consent was needed. Figure 1 . Schematic of compartmental model. Compartments are susceptible (S, green), exposed (E, yellow), infectious compartments (pre-symptomatic P, asymptomatic and detected A d , asymptomatic and undetected A u , symptomatic I, pink), recovered (R, gray), and died (D, gray). Superscript \\'n\\' denotes no mask, and \\'m\\' denotes mask. Figure 2 depicts heat maps of reduced transmission and deaths over 6 months as a function of varied source control efficacy and wearer protection efficacy. Mask wearing rates by the various sub-populations in the model are provided in the figure caption. These rates were in line with surveys of mask usage in the United States in May and June 2020 28 . The colored bands of the plots represent contours of relative reduction. Going from the bottom left corner of the figures (source control efficacy and wearer protection efficacy both 0%, equivalent to no mask wearing in the population) these increase in 5% increments to the right top corner (source control efficacy and wearer protection efficacy both 100%). For example, to obtain at least a 50% reduction in cumulative infections, source control would need to be at least 55% efficacious in limiting transmission in the population for arbitrary wearer protection efficacy. Source control would need to be approximately 45% effective to reduce the number of deaths by half regardless of wearer protection efficacy. Even with the source control and wearer protection efficacy for the types of mask that most wearers are likely to use, such as medical procedure or cloth masks and gaiters (see Table 1 ), substantial reductions in case load and death can be achieved with general population use at stated levels. Even at lower levels of use, reductions are estimated to be substantial As source control and wearer protection efficacy approach 100% for the masks, relative reduction in infections also approaches 100%, even though mask adherence is far from 100%, because transmission dips below the epidemic threshold (i.e. an effective reproduction number < 1). Our simulations project that a 70% reduction in cumulative infections, relative to zero mask usage, could be achieved with hypothetical combinations of wearer protection and source control efficacies, respectively, of (0%, 65%), (25%, 50%), (40%, 35%), (50%, 25%), among many others lying on the 70% contour curve of the left panel of Fig. 2 . Figure 3 depicts the reduction in infections with different population-wide percentages of mask use, with the assumption that mask wearer protection efficacy is half of source control efficacy and that mask use among persons < 65 years old is 70% that of persons ≥ 65 years old. We evaluated these impacts for SARS-CoV-2 (3A, left) and one of its highly contagious variants of concern (3B, right, for parameters similar to the Delta variant). Mask wearing rates for detected and infected people are fixed at 90% for those ≥ 65 years old, and 70% for those who are younger. Based on the model, in Fig. 3A if 25% of the general population ≥ 65 years old puts on a mask, cumulative cases after 6 months are reduced by 23% (N95), 14% (medical procedure), 12% (cloth), 12% (gaiter), and 9% (bandana). If mask adoption is 50% for the general population ≥ 65 years old, projected reductions in Figure 2 . Heat maps of the percentage reduction in cumulative infections at the end of 1 year relative to no mask use in the population, assuming a baseline R 0 = 2.5. Assumes 60% of the susceptible population < 65 years old are wearing masks, 80% of those ≥ 65 years old wear masks, and both rates increase 10% for detectably infected persons (whether symptomatic or asymptomatic). The simulation posits that 18.3% of symptomatic infected people and 10.7% of asymptomatic infected individuals have been detected by screening and are known to be carrying SARS-CoV-2 (see the Supplement). Mask efficacy parameters for source control and wearer protection increase along the vertical and horizontal axes, respectively. Reductions in cumulative infections over 6 months are shown on the left; reductions in deaths are shown on the right. Heat maps were created with the R statistical software version 4.1.3 (https:// cran.r-proje ct. org/ bin/ windo ws/ base/), with the benefit of the R packages \\'blockmatrix\\' 53 and viridis (https:// cran.r-proje ct. org/ web/ packa ges/ virid is/ index. html). www.nature.com/scientificreports/ cases are 57% (N95), 32% (medical procedure), 28% (cloth), 28% (gaiter), and 20% (bandana). If mask adoption is 75% for ≥ 65 years old, projected reductions in cases are 95% (N95), 65% (medical procedure), 55% (cloth), 54% (gaiter), and 35% (bandana). Note that even with 0% mask use for the susceptible population (horizontal axis), there is still a significant measure of infection control because of mask adoption among detected infected people. Figure 3B shows similar results to 3A, but assuming a much more highly contagious variant, similar to Delta (B.1.617.2) with an R 0 = 6.0. The results are dramatically different, and even a high degree of adoption of the highest efficacy masks does not completely stop transmission. Note that even if the susceptible population don masks at a 100% rate, the mask wearing rates of detected asymptomatic and infected people are fixed at 90% (for those > 65) and 70% (for those younger) in the simulation, which helps explain the seemingly low performance of 100% mask wearing rate for N95 masks.\\n\\nResults\\n\\nWe estimated the incidence rate ratios (IRR) for new infections among mask wearers relative to non-mask wearers over the course of 6 months, for different types of mask (Table 2 ). These estimates reflect the impact of mask wearing on an individual wearer, whereas all of the other analyses in this paper are focused on the population-level impact. The IRR at a given point in time is the ratio of the number of new infections per capita among the mask wearing population to the corresponding number among the non-mask wearing population. This assumes equal mixing of masked and non-masked individuals-modeling the tendency for those populations to self-segregate would tend to decrease these IRR values. As expected, the greater the mask efficacy, the greater the difference in new infection rates as measured by the IRR. After 6 months, new infections are projected to occur at around half the rate among mask wearers compared to those not wearing N95 respirators, whereas in a scenario where medical procedure masks are worn, infections among mask wearers occur at around a 32% lower rate. The IRR\\'s shown in Table 2 are for a simulation scenario using the ancestral strain (assuming R 0 = 2.5).The IRR calculations can be used to explore the effectiveness of masks during difference phases of the epidemic representing high, medium, and low incidence in society. We analyzed the IRR\\'s for different types of mask at different places in the epidemic curve (timepoints) with variants of different transmissibility (ancestral, delta, and omicron) as a way of looking at the different epidemiological scenarios. In general, masks perform similarly whether incidence is high, medium, or low, with the better masks reducing the IRR\\'s more: the IRR\\'s shown in Table 2 for the ancestral strain did not change for delta, except that they tended towards 1.0 at 4 months because the simulation reached saturation (everyone who was going to become infected already had). Table 3 shows IRR\\'s for the omicron variant. Although Table 3 shows the effect of masks fading somewhat as the epidemic progresses, investigation into the output of the simulation has shown this is due to the various subpopulations of the simulation reaching saturation and depleting susceptibles, i.e. fewer of the non-masked population are infected because there are fewer of them to infect, not because masks are performing worse.We evaluated the impact of face mask usage rates and efficacy parameters on the effective reproduction number for R 0 = 2.5, R 0 = 6.0, R 0 = 10.0, and R 0 = 13.0 to represent the impact of highly contagious variants of concern (e.g., B.1.617.2, or delta, B.1.1.529, or omicron, and BA.2 for the omicron sub-lineage) (Fig. 4) [https:// show R e on a scale from 1 to 13. Note that warmer colors corresponding to higher effective reproduction numbers are visible in the lower left-hand corner of the right panels but less so in the left panels. As we approach 100% source control and wearer protection efficiencies, masks reduce effective reproduction number < 1 for the R 0 = 2.5 scenario, but not for the higher R 0 scenarios, given the same wearing percentages used to generate Fig. 2 . For example, when the baseline R 0 = 2.5, an effective reproduction number of 1 is achieved by a hypothetical mask with source control and wearer protection efficacies of 84% and 60%, respectively. However, these same efficacies would result in an effective reproduction number of 2.33 when the baseline R 0 = 6.0, as is likely the case with the Delta variant of concern, and an R e = 3.9 and 5.0 for baseline R 0 = 10.0 and 13.0, respectively (for the Omicron variants). Those efficacies for masks are achievable with common cloth masks and medical procedure masks if they are doubled up, if the cloth masks have filter inserts, or if either type of mask is overfit with a fitter or brace to ensure a tighter fit [33] [34] [35] . If source control efficacy is 96% and wearer protection efficacy is > 70% (in line with efficacies for properly worn N95 respirators) then the effective reproduction numbers are < 1.0 (R 0 = 2. Fig. 4 , even when source control and wearer protection efficacies of masks are zero, there is still some small measure of containment due to the reduced contact rates of those who are detected and infected (whether symptomatic or asymptomatic) in the simulation.\\n\\nDiscussion\\n\\nOur results highlight the potential for substantial reduction in SARS-CoV-2 transmission, even with moderately effective masks, when they are worn consistently correctly (over the chin and covering nose and mouth) and/or per manufacturers\\' specifications by a large portion of the population. These findings underscore the potential impact of population-wide measures that can control transmission from infected individuals who do not have symptoms, both pre-symptomatic individuals who are infectious prior to developing symptoms and individuals who never experience symptoms. By extending the Worby and Chang model, we evaluated the impact of different face mask use by age and highlight the need for wide adoption of these interventions. Pairing this modeling framework with laboratory-derived parameters for source control efficacy of different types of face masks helps to more accurately compare the relative efficacy of each mask type as an intervention. Even with more specific source Table 3 . Incidence rate ratios (IRR) at 1-week intervals of new infections among masked vs. non-masked population for the omicron variant (R 0 = 10.0). Each row represents a scenario in which all mask-wearing individuals are assumed to wear the specified type of mask. Wearer protection efficacy is assumed to be half of source control efficacy. It assumes 60% of the susceptible population < 65 years old are wearing masks, 80% of those ≥ 65 years old wear masks, and both rates increase 10% for both detected and infected persons (whether symptomatic or asymptomatic). IRR Incidence rate ratio. Table 2 . Incidence rate ratios (IRR) at 2-month intervals of new infections among masked vs. non-masked population for the ancestral strain (R 0 = 2.5). Each row represents a scenario in which all mask-wearing individuals are assumed to wear the specified type of mask. Wearer protection efficacy is assumed to be half of source control efficacy. It assumes 60% of the susceptible population < 65 years old are wearing masks, 80% of those ≥ 65 years old wear masks, and both rates increase 10% for both detected and infected persons (whether symptomatic or asymptomatic). IRR Incidence rate ratio. www.nature.com/scientificreports/ control parameterization, the results are generally consistent with previous modeling studies 10, 11 : face masks with realistic source control efficacy can reduce transmission substantially, and widespread adoption can mitigate transmission at the population level. Furthermore, if the most common types of face mask-cloth and medical procedure masks-can be enhanced with more recent recommendations to improve fit around the nose and mouth, such as braces, elastic fitters, or even double masking, those substantial reductions can be improved upon.Our study and several others suggest that the magnitude of reduction in SARS-CoV-2 transmission increases non-linearly with increased mask usage. The reasons for the non-linear multiplier effect are several, at least . Effective reproduction (R e ) number for given mask use by varying efficacy parameters shown on the horizontal and vertical axes. This analysis assumes 90% and 70% mask use rates for infectious and detected persons older and younger than 65 years of age, respectively, and 80% and 60% among susceptible persons for the same age breakdown. Asymptomatic detection and symptomatic awareness fractions are given in Table 1 . The baseline R 0 in the absence of mask use are assumed to be 2.5 (A, similar to the SARS-CoV-2 ancestral strain), 6.0 (B, similar to delta variant), 10.0 (similar to omicron B.1.1.529), and 13.0 (similar to the omicron BA.2 sub-lineage). Note that R e has a scale from 0.5 to 6 in heatmaps (A,B) and 1 to 13 in heatmaps (C,D). Heat maps were created with the R statistical software version 4.1.3 (https:// cran.r-proje ct. org/ bin/ windo ws/ base/), with the benefit of the R packages \\'blockmatrix\\' 53 www.nature.com/scientificreports/ including potential epidemiological, immunological, and behavioral mechanisms 17, 27, 35, 36 . Non-linear terms are inherent in the mathematical mechanism of transmission reduction, given that masks act as both source control on the infected and personal protection on the susceptible, terms which are multiplied together in the transmission equations. This can be seen in the curvature of the line graphs of Fig. 3 as mask usage increases (diminishing returns can be seen as mask usage increases towards 100% in Fig. 3A for the N95 respirators, however). Furthermore, it is hypothesized that there are non-linear effects inherent in the pathogenesis of SARS-CoV-2 infection, in that masks reduce the initial viral exposure even if a wearer becomes infected despite the mask, decreasing the severity of infection, reducing viral load and shedding, and increasing the asymptomatic ratio 17, 36, 37 . If this hypothesis is substantiated and we ignore complications arising from a higher asymptomatic rate (i.e., more challenges with case identification), then there are potentially several non-linear terms describing how the reproduction number decreases with mask efficacy and use. Lastly, analysis of data on behavioral correlates of face mask use shows that people wear face masks more often when they see others do so, even when they already intended to wear a mask 28 . If changes in behavior were modeled, this would add another favorable non-linear term to the impact of mask wearing. The pandemic literature does contain a minority of reports that do not confirm the efficacy of masks, although these studies have some important limitations. In particular, commentaries have been written about the methodological limitations of a recent publication by Bundgaard et al. that appears to question the efficacy of face masks [38] [39] [40] . Specifically, the study was only powered to test if the wearer protection efficacy of medical procedure masks (referred to as \"surgical masks\" in Bundgaard et al.) was > 50% and was not designed to measure their effect as source control (because it was estimated only 5% of the population were wearing masks at the time of the study). The Bundgaard et al. results were underpowered to detect wearer protection efficacies of medical procedure and cloth masks. This is similar to another randomized controlled trial (RCT) of cloth face masks as wearer protection against influenza virus infection among healthcare workers by MacIntyre et al. 2 : the study was designed to evaluate only the wearer protection effectiveness, not the source control effectiveness. Critically, the MacIntyre et al. study did not compare cloth masks to no mask, only to masks of the health workers\\' choosing, potentially including medical procedure masks. Hence, this RCT in a healthcare setting did not have the negative control of not wearing a mask to help inform definitive conclusions about the efficacy of cloth face masks for the general population in non-healthcare settings. In fact, a follow-up study by MacIntyre et al. in 2020 found that healthcare workers whose cloth masks were laundered by the hospital were protected as well as those who wore medical masks 41 . Also, recent results from an epidemiological study 42 analyzing population level mask mandates where masks are more widely used are much more positive regarding the effectiveness of masks. Other studies, reviews, and meta-analysis critical of mask efficacy in the general population did not evaluate masks specifically as source control (often as wearer protection only), did not control for proper wearing and fitting of masks, and/ or missed other relevant studies showing significant mask efficacy 43 . In this study we analyze the wholistic effect of masks as both source control and wearer protection in a broad area.In an attempt to determine if the modeled effect size of masks as an intervention in this study match what is being seen in real epidemiological studies, we have reviewed the recent literature [44] [45] [46] [47] [48] . The relative risks shown in the various studies agree fairly well with the IRR\\'s (incidence rate ratios) shown in Table 2 of this paper.Limitations. Despite widespread usage of masks and other mitigation strategies 49 , transmission of SARS-CoV-2 remains inadequately controlled in the United States. There are many potential reasons why surveillance data and ecologic field studies might not show the magnitude of reduction in infections due to increasing mask usage predicted here. The parameters used in the models developed here might need to be better calibrated to match local transmission probabilities when individuals contact one another (either through direct physical contact, e.g. through a handshake or kiss, or a proximal, two-way conversation consisting of 3 or more words). Also, surveys indicating mask usage in the population may have overestimated adherence over time or the proper use or maintenance of masks. We model mask use as a set of parameters that can vary by age, but not by other societal subgroups, and our age groups were only divided into ≥ 65 years and < 65 years. Furthermore, our model does not distinguish between differing contact rates within relevant populations such as schools, workplace, and households, but instead uses U.S.-national estimates for contact rates.The source data for mask efficacy used in these models were derived from controlled laboratory simulations and not from human experiments. Measurements by other groups of filtration efficiency using actual human volunteers tend to show more variation, and in some cases the efficacies are lower than those reported here 50, 51 .Another key limitation of the study is that we do not model vaccination in the population. Vaccine efficacy (VE) against infection has varied over time, both due to waning immunity and to account for the emergence and proliferation of immune escape variants. One would need to more explicitly represent the time horizon over which individuals were vaccinated, the rate of waning, and the rate of boosting (including how third and fourth doses of vaccine impact estimates of VE for infection and VE for death). Additionally, there likely is collinearity between mask wearing behaviors and vaccination that would need to be considered in a model. We therefore chose a parsimonious model that would allow us to focus on evaluating the potential impact of different face mask adoption strategies in a hypothetical population.Other limitations of the study are that mask usage is not assumed to vary over time, although it is likely that consistent and correct mask use may increase or decrease over time as individuals change their behaviors. Thus, we model homogeneous and unchanging mask use in a limited number of subgroups vs. the reality that mask wearing is heterogeneous according to mask type, sub-population, maintenance and proper use, and many other time-varying characteristics. This may result in over-estimation of the impact of face masks on the pandemic. If so, even higher mask uptake would be necessary to achieve substantial reductions in cases than is indicated here. \\n\\n'"
            ],
            "application/vnd.google.colaboratory.intrinsic+json": {
              "type": "string"
            }
          },
          "metadata": {},
          "execution_count": 76
        }
      ]
    },
    {
      "cell_type": "markdown",
      "source": [
        "#Huggin face setup"
      ],
      "metadata": {
        "id": "7xyKL-W5sIbs"
      }
    },
    {
      "cell_type": "code",
      "source": [
        "\n",
        "import os\n",
        "from google.colab import userdata\n",
        "# Note: `userdata.get` is a Colab API. If you're not using Colab, set the env\n",
        "# vars as appropriate for your system.\n",
        "os.environ[\"HF_TOKEN\"] = userdata.get(\"HF_TOKEN\")"
      ],
      "metadata": {
        "id": "HQJOigCXsP_j"
      },
      "execution_count": 4,
      "outputs": []
    },
    {
      "cell_type": "code",
      "source": [
        "\n",
        "!pip install --upgrade -q transformers huggingface_hub"
      ],
      "metadata": {
        "id": "4oisrWyftVpQ"
      },
      "execution_count": 2,
      "outputs": []
    },
    {
      "cell_type": "code",
      "source": [
        "from huggingface_hub import login\n",
        "\n",
        "login(os.environ[\"HF_TOKEN\"])"
      ],
      "metadata": {
        "colab": {
          "base_uri": "https://localhost:8080/"
        },
        "id": "Kaqt5vTNtYQJ",
        "outputId": "a7ce1e87-12a2-4125-e299-79e6115b2a5a"
      },
      "execution_count": 5,
      "outputs": [
        {
          "output_type": "stream",
          "name": "stderr",
          "text": [
            "Note: Environment variable`HF_TOKEN` is set and is the current active token independently from the token you've just configured.\n",
            "WARNING:huggingface_hub._login:Note: Environment variable`HF_TOKEN` is set and is the current active token independently from the token you've just configured.\n"
          ]
        }
      ]
    },
    {
      "cell_type": "markdown",
      "source": [],
      "metadata": {
        "id": "PjZhSfeOD0XC"
      }
    },
    {
      "cell_type": "markdown",
      "source": [
        "# Testing gemma"
      ],
      "metadata": {
        "id": "21sWN5dSD00A"
      }
    },
    {
      "cell_type": "code",
      "source": [
        "import torch"
      ],
      "metadata": {
        "id": "61_FgrMwEo5o"
      },
      "execution_count": 77,
      "outputs": []
    },
    {
      "cell_type": "code",
      "source": [
        "\n",
        "model_name = \"google/gemma-3-1b-it\"\n",
        "device = torch.device('cuda' if torch.cuda.is_available() else 'cpu')\n",
        "device"
      ],
      "metadata": {
        "colab": {
          "base_uri": "https://localhost:8080/"
        },
        "id": "CTgdSueCtfOx",
        "outputId": "6dd7419d-c881-442b-a278-84237fe33fb9"
      },
      "execution_count": 9,
      "outputs": [
        {
          "output_type": "execute_result",
          "data": {
            "text/plain": [
              "device(type='cuda')"
            ]
          },
          "metadata": {},
          "execution_count": 9
        }
      ]
    },
    {
      "cell_type": "code",
      "source": [
        "# Let's load the tokenizer first\n",
        "from transformers import AutoTokenizer\n",
        "\n",
        "tokenizer = AutoTokenizer.from_pretrained(model_name)"
      ],
      "metadata": {
        "colab": {
          "base_uri": "https://localhost:8080/",
          "height": 177,
          "referenced_widgets": [
            "8e88dde160ed42fd937c3f1043aaf092",
            "839104c199754719ba40c7fa74537697",
            "8e0d712b7c8648af8fd7bc9ad9237ecd",
            "63311ac3ff3c4ae7a19da0fb3500d722",
            "16182a41a5364688a70e2e3a2aff5c3e",
            "902598eece154ef4bee69985d180ebef",
            "e0361b3f65294da1b3eb1100d7d46f74",
            "161d6ee2de714268b65237b0be593418",
            "ddacb81c012d43a9a862b35c0b6d2ca1",
            "702de3186f5b4810baf9ca433c8b19ad",
            "bdd8c70a489d4a698b15b9034f732b51",
            "7b6820e4e9d5491da3c11cce05e4ae9b",
            "2a8b8485d701401abd6fd3a9aeaab2a5",
            "cafe091bc3dc4a4b84284de4ddbb8069",
            "4738a44272254d23ae376f0db049f0a7",
            "39e2b5b08e8b416b86d1ba23a677e47d",
            "11e8de4cecb54635b0d4e5bc6e524634",
            "a60aa8655bba41038d5c1f3af352ef63",
            "c90541e367694048aa952f07456b3d4e",
            "9c67b60e89e74989b4bd94fbf7da16d1",
            "51078c07ebcb43eeafb1e8a20ff70646",
            "3a9b8844bfeb480a842d9a686ea998b1",
            "f3e153328d2046cb8800f16e1eaf60b9",
            "83d425a1eb5a48b991d47d63af29d443",
            "75561495fd164d7faa552f43e83e1b11",
            "117e6e974a7b41cc9665f80df33ba2cf",
            "478dff78c40a458cbc7bce37826f095e",
            "da1ef8dab15242b09d69d3743fea9d24",
            "d72ae3d8308e4724af1a39201e72680f",
            "f115a618c89e46eaabc7068c91ba1599",
            "d9154afc07ed4f9b98f179c9d5f7db95",
            "9cbf050dc326495a8fe28bd4ad2fe026",
            "a1babfa4acfd4ae2b71915c01731ef9d",
            "de3c8950ccf34d37a4a82c731b6ee113",
            "25db069d25544b088708f67924cd48dd",
            "ce0827d5af744a779a08b509f022870c",
            "63c344cabf064173b12ac35688c63ceb",
            "b5df4f57920a4d12948b13f4fa71e250",
            "0927ed49f957439096bad80b6c34f283",
            "6ba620e9659445caa18d0658364403ae",
            "b98418120535413a9b90f3b53223e2e3",
            "b330671612d34ce8a76907494b5c8fba",
            "b6a825217e1c453a85b2f052dc52e3fd",
            "9497fb7746b54619b83a364aef1dca1b",
            "9891a9e292724e2b871b9b365b671c0e",
            "31655ac2da704a10a2b41bf2191f954a",
            "f01e4d95f94e4044a48313c24756a850",
            "872c26c93e174299b9a1572f5ac64a1f",
            "9310c246daaa4443bf0b1fe209d8468d",
            "a50578306ee84b9b9c82f9532ca64a3c",
            "fe1a93dfe6324b2e840559fa86e05f48",
            "269dec2344a84c1cb4d7568b047e1c30",
            "3ce94b3ba3a9436288b429f6cd8383d4",
            "7ea4398d36e14cd0b9ea9eaf9dbfeb82",
            "51a9fad25b0a4f049c552ed8ab0972c5"
          ]
        },
        "id": "eQHqtFh_t0qn",
        "outputId": "d2d69d8f-a73a-4388-cc7a-67646cb38862"
      },
      "execution_count": 2,
      "outputs": [
        {
          "output_type": "display_data",
          "data": {
            "text/plain": [
              "tokenizer_config.json:   0%|          | 0.00/1.16M [00:00<?, ?B/s]"
            ],
            "application/vnd.jupyter.widget-view+json": {
              "version_major": 2,
              "version_minor": 0,
              "model_id": "8e88dde160ed42fd937c3f1043aaf092"
            }
          },
          "metadata": {}
        },
        {
          "output_type": "display_data",
          "data": {
            "text/plain": [
              "tokenizer.model:   0%|          | 0.00/4.69M [00:00<?, ?B/s]"
            ],
            "application/vnd.jupyter.widget-view+json": {
              "version_major": 2,
              "version_minor": 0,
              "model_id": "7b6820e4e9d5491da3c11cce05e4ae9b"
            }
          },
          "metadata": {}
        },
        {
          "output_type": "display_data",
          "data": {
            "text/plain": [
              "tokenizer.json:   0%|          | 0.00/33.4M [00:00<?, ?B/s]"
            ],
            "application/vnd.jupyter.widget-view+json": {
              "version_major": 2,
              "version_minor": 0,
              "model_id": "f3e153328d2046cb8800f16e1eaf60b9"
            }
          },
          "metadata": {}
        },
        {
          "output_type": "display_data",
          "data": {
            "text/plain": [
              "added_tokens.json:   0%|          | 0.00/35.0 [00:00<?, ?B/s]"
            ],
            "application/vnd.jupyter.widget-view+json": {
              "version_major": 2,
              "version_minor": 0,
              "model_id": "de3c8950ccf34d37a4a82c731b6ee113"
            }
          },
          "metadata": {}
        },
        {
          "output_type": "display_data",
          "data": {
            "text/plain": [
              "special_tokens_map.json:   0%|          | 0.00/662 [00:00<?, ?B/s]"
            ],
            "application/vnd.jupyter.widget-view+json": {
              "version_major": 2,
              "version_minor": 0,
              "model_id": "9891a9e292724e2b871b9b365b671c0e"
            }
          },
          "metadata": {}
        }
      ]
    },
    {
      "cell_type": "code",
      "source": [],
      "metadata": {
        "id": "j4aOJKdCz-Qy"
      },
      "execution_count": null,
      "outputs": []
    },
    {
      "cell_type": "code",
      "source": [
        "# Load model directly\n",
        "from transformers import AutoProcessor, AutoModelForImageTextToText, AutoModelForCausalLM, Gemma3ForCausalLM\n",
        "\n",
        "#processor = AutoProcessor.from_pretrained(model_name, use_fast=True)\n",
        "model = Gemma3ForCausalLM.from_pretrained(model_name)"
      ],
      "metadata": {
        "colab": {
          "base_uri": "https://localhost:8080/",
          "height": 81,
          "referenced_widgets": [
            "bfad6c67d9734f7fb3cab5123fa4914a",
            "af030b9ab2e64e7384d93e6acc3a0ba6",
            "a99a67cefad24f33aa9b04fab7338b07",
            "86217ae59a7446c4853537319d90fa30",
            "0a3b543904d14ed9b47d774cb44fcb0c",
            "b9e27e4118834a57b16cf3d19d81036d",
            "424516cddc854186af6a8b2de92f1243",
            "2995dfdd1ae844c3a9439a71a58a968c",
            "f0863dd8ae874b50bfbf1584fa4d0c24",
            "668b1ce7019344739b2f876c7aa307f2",
            "ce59aeb78711461182c6b33e88fe0c95",
            "8b21ec4c5c114cb09a7d48aa4fc3ca0b",
            "ea9a1c31ad9a40e69086ad590f8d7973",
            "d19df934a58a4d48bd2eb271adac9f25",
            "555b4d660a6d4ffaa8cab6fac519f5fb",
            "dff85cfb9a91430093c250e213e9e926",
            "c8d3d718622e4437be7936a386cffcb6",
            "c01d568312454deea09a9dd1309bb7ed",
            "754d183b095a4440851dcf3599496cfb",
            "a55cbf7d07df4da1a855c832e45c430f",
            "7ffa5c1519274d1a8619f5158d1a1490",
            "34de3ee430c948899b353d70044b20ed"
          ]
        },
        "id": "QSnQpsj-xe8v",
        "outputId": "ac47ed3f-8ef5-4bd9-fdb5-50d5808b4087"
      },
      "execution_count": 7,
      "outputs": [
        {
          "output_type": "display_data",
          "data": {
            "text/plain": [
              "model.safetensors:   0%|          | 0.00/2.00G [00:00<?, ?B/s]"
            ],
            "application/vnd.jupyter.widget-view+json": {
              "version_major": 2,
              "version_minor": 0,
              "model_id": "bfad6c67d9734f7fb3cab5123fa4914a"
            }
          },
          "metadata": {}
        },
        {
          "output_type": "display_data",
          "data": {
            "text/plain": [
              "generation_config.json:   0%|          | 0.00/192 [00:00<?, ?B/s]"
            ],
            "application/vnd.jupyter.widget-view+json": {
              "version_major": 2,
              "version_minor": 0,
              "model_id": "8b21ec4c5c114cb09a7d48aa4fc3ca0b"
            }
          },
          "metadata": {}
        }
      ]
    },
    {
      "cell_type": "code",
      "source": [
        "\n",
        "prompt = \"What can you use an LLM for? Answer:\"\n",
        "inputs = tokenizer.encode(prompt, return_tensors=\"pt\")\n",
        "outputs = model.generate(inputs, max_new_tokens=512)\n",
        "text = tokenizer.decode(outputs[0], skip_special_tokens=True)\n",
        "print(text)"
      ],
      "metadata": {
        "colab": {
          "base_uri": "https://localhost:8080/"
        },
        "id": "KtZRGPlPy5UH",
        "outputId": "9c1da4c6-f768-4bef-fa5e-4f59781a0080"
      },
      "execution_count": 10,
      "outputs": [
        {
          "output_type": "stream",
          "name": "stdout",
          "text": [
            "What can you use an LLM for? Answer:\n",
            "\n",
            "*   **Content Creation:** Write articles, blog posts, social media captions, emails, scripts, poems, and more.\n",
            "*   **Summarization:** Condense long texts into shorter, more manageable summaries.\n",
            "*   **Question Answering:** Provide answers to questions based on provided text or general knowledge.\n",
            "*   **Translation:** Translate text between different languages.\n",
            "*   **Code Generation:** Generate code in various programming languages.\n",
            "*   **Brainstorming:** Generate ideas and explore different perspectives.\n",
            "*   **Chatbot Development:** Create conversational AI agents.\n",
            "*   **Creative Writing:** Develop characters, plots, and settings.\n",
            "\n",
            "Do you want me to elaborate on any of these areas, or perhaps suggest a specific task you'd like me to try?\n"
          ]
        }
      ]
    },
    {
      "cell_type": "code",
      "source": [
        "prompt = f\"Please summarise this article: {article}  Answer:\"\n",
        "inputs = tokenizer.encode(prompt, return_tensors=\"pt\")\n",
        "outputs = model.generate(inputs, max_new_tokens=512)\n",
        "text = tokenizer.decode(outputs[0], skip_special_tokens=True)\n",
        "print(text)"
      ],
      "metadata": {
        "colab": {
          "base_uri": "https://localhost:8080/"
        },
        "id": "Eno6Yqk27wQn",
        "outputId": "8b926326-cf23-4d8f-f480-cbe0b35f8a99"
      },
      "execution_count": 12,
      "outputs": [
        {
          "output_type": "stream",
          "name": "stdout",
          "text": [
            "Please summarise this article: \n",
            "Leadership lessons from administrators, faculty, and students during the COVID-19 pandemic\n",
            "\n",
            "Abstract\n",
            "\n",
            "Introduction: Due to the largescale scope of the COVID-19 pandemic, strain on the higher education system in the United States has been extraordinary. Yet, with any crisis, there is the opportunity to learn, grow, and develop new knowledge and strategies to benefit educational programs moving forward. The purpose of this study is to describe the leadership lessons learned by academic pharmacy during the COVID-19 pandemic from the perspective of administrators, faculty, and students.\n",
            "\n",
            "Introduction\n",
            "\n",
            "The COVID-19 pandemic has been one of the largest health crises in modern history. The pandemic, caused by a novel coronavirus named SARS-CoV-2, was first identified in Wuhan, China in December 2019. 1 The virus is spread through respiratory droplets that land in the nose or mouth of nearby people, which are then inhaled into the lungs. 2 The spread of the virus among people in close contact can be quite rapid, and the pandemic led to unprecedented closings of public spaces and restrictions on travel in an attempt to limit community spread. 2 By late January 2020, China placed Wuhan under lockdown as the number of cases rose and deaths were reported. 3 Meanwhile, cases were spreading to other countries, including the United States (US). 4, 5 By the end of February 2020, COVID-19 cases began to spike in Italy, and there were reports of increasing deaths and hospitals being overrun. 6 As a response, Italy implemented a country-wide lockdown to control the number of cases. By mid-March, the US declared a national emergency due to the outbreak, and by 16 March 2020, the US government announced the \"15 Days to Slow the Spread\" effort as a way to implement social distancing at all levels of society. 7 On that same day, the governor of Tennessee recommended closing all of the state's schools in a matter of days. 8 By the end of March, most states issued stay-at-home orders. The restrictions closed many businesses and limited the number of people allowed to interact. Some of the restrictions included canceling elective surgeries in hospitals and closing restaurants, salons, places of business, and education facilities. 9, 10 Many institutions switched to or increased remote work, putting strains on occupational productivity as households became workplaces, gyms, schools, and more. 11 Due to the radical and rapid development of this pandemic, the strain on the academic system in the US has been extraordinary. Universities and schools for children of all ages were forced to pivot quickly to online learning that extended through the end of the spring 2020 semester. The gravity and speed of events that occurred from the beginning of the pandemic to the shutdowns across the US has led to a need for innovative leadership in the face of widespread crisis, especially in higher education. Although there are many reports which speak about how campus leaders should react in crises such as shootings, tornadoes, hurricanes, and other such disasters, a country-wide event of this scale is uncharted territory. [12] [13] [14] Through previous disasters affecting the education system in the US, administrators have learned the importance of agility, flexibility, appropriate communication, and strategic planning. [12] [13] [14] In a study concerning the 1999 Texas A&M Bonfire collapse, administrators at A&M noted that even though they were experiencing an unprecedented crisis, they fostered a new sense of teamwork as a result. 12 Similarly, in an article published in The Chronicle of Higher Education, the president emeritus of Tulane University compared the current COVID-19 crisis to the aftermath of Hurricane Katrina for Tulane. 15 He and other educators have emphasized the importance of ensuring the welfare of the community, focusing on what the organization can control, providing effective communication, creating a sense of community, and getting feedback from students in order to maintain continuity during an everchanging situation. [15] [16] [17] These leadership lessons hold true in the current COVID-19 pandemic, but there are still unknown effects of this crisis especially in higher education and in academic pharmacy, in particular. To address this gap in the literature, this study investigates the perceptions and effects of these challenges in a college of pharmacy (COP), with emphasis on the doctor of pharmacy program. The purpose of this study is thus to describe the leadership lessons learned by academic pharmacy during the COVID-19 pandemic from the perspective of administrators, faculty, and students.\n",
            "\n",
            "Methods\n",
            "\n",
            "A retrospective analysis was performed of qualitative data provided by three separate focus groups in spring 2020 at the University of Tennessee Health Science Center (UTHSC) College of Pharmacy. The focus groups were originally conducted as part of the college's quality improvement efforts during the COVID-19 pandemic and resulting transition to an entirely remote learning environment. Focus groups were conducted by a study investigator. The study was approved by the UTHSC Institutional Review Board. As this was a retrospective analysis, informed consent was not required.Purposive sampling was utilized to select focus group members. Each focus group was composed of one of three distinct college constituencies with unique leadership perspectives: (1) seven of nine members of the college's executive team (associate deans and department chairs; two members of the executive team were not available for the focus group); (2) five faculty members who currently or in the recent past served in college leadership positions (directors, committee chairs, etc.); and (3) all nine second-year students in an elective pharmacy leadership course, several of whom also serve in student leadership roles. Each focus group was one hour in length and conducted via Zoom (Zoom Video Communications, Inc.). Focus groups were semi-structured, and discussion was primarily guided by the following open-ended questions: (1) What leadership lessons have you learned from the COVID-19 pandemic? and (2) What leadership lessons learned during the COVID-19 pandemic will you carry forward after the crisis has passed?The Zoom sessions for each focus group were recorded to allow for review and transcription. Transcription was performed by a study investigator who was also involved in content analysis. Individually identifiable information was not included in transcripts; instead, individual participants were identified by a code number.\n",
            "\n",
            "Data analysis\n",
            "\n",
            "A modified form of inductive content analysis and abstraction was used to assess qualitative data collected during the focus groups. 18, 19 To reduce reviewer bias, qualitative responses to open-ended questions were independently reviewed by the three investigators to develop a coding scheme for categories of main themes across the three focus groups, as well as subcategories (as appropriate) for each focus group population. To be considered a main theme, at least two members of each focus group must have made comment on an issue. No alternative explanations for the data were considered as the statements gathered from the focus group participants were clear, and themes and explanations derived from the recorded meetings aligned well with the focus group discussions. Table 1 identifies five main themes that emerged across all three focus groups (executive team/administrators, faculty, and students), and includes supporting quotes from different members within each group. Selected quotes reflect comments made by multiple group members. The five main themes were: open and ongoing communication, staying connected, turning crisis into opportunity, being The ability to feel \"connected\" to your team is vital. This was always true, but when you don't have face-to-face interactions it makes you realize how important that was. You must find virtual ways to stay connected.\n",
            "\n",
            "Results\n",
            "\n",
            "It is a priority to meet the needs of people first, then the needs of the organization. Caring for others will result in a stronger organization when the crisis passes.The most important factor in survival is neither intelligence nor strength, but adaptability. This is a quote from Charles Darwin, and it has REALLY hit home with me. There is so much uncertainty and, as a planner, this has really resonated with me and I have found that if I let go of my need for order and control. Things work out in the end. We can't control the wind, but we can adjust our sails. \n",
            "\n",
            "Students\n",
            "\n",
            "We need to be able to say, \"I don't know\" instead of overpromising.Adapting to change and consistency in communication are essential. Also consider overcommunication and try to avoid that.Everybody is in the same boat. We need to give everyone grace and allow the team to figure out how to be flexible. Not everyone reacts to a crisis the same way.In Using student leaders to help communicate student feedback for new systems has also been helpful for faculty.We had a conversation every Monday that involved stress related to COVID. We also had a test that told staff and students whether they were in the fear zone, the knowledge zone, or the growth zone related to COVID. This weekly check-in was helpful for those working in the lab.We needed to be able to pivot and react quickly because this is a completely new situation for everyone.Projects that had already incorporated the virtual style of communication were more successful in the transition because they already had the virtual infrastructure in place. In other parts of leadership and administration, the structure disintegrated and that made it very difficult to stay focused. Having virtual \"to do\" lists or ways to keep a team accountable for tasks is essential. This helps to provide new structure especially when there is a lack of formal structure.We tried to anticipate early what could happen to lab work, how we can safeguard lab work, and how we can be busy if we are not in the lab. This situation is especially difficult for students who cannot go into the lab. Our strategy was to do as much work as possible before the labs closed so that we could work on writing during the closure. This was successful and we ended up being productive even while not being in the lab.The students lost the structure of driving to campus, sitting in their usual seats, getting their normal breaks etc. This \"pulled out the rug\" from the students and disrupted their normal routine and habits. As we progressed in the semester, we learned that the students do need as much synchronous courseThere are ways to encourage engagement even in the online setting. An example is the Zoom reaction feature and breakout rooms for discussion. Sometimes this can even encourage more engagement than the in-person setting. If we use Zoom to its full extent, it can sometimes even work better than the normal in-class setting.adaptable/flexible, and finding ways to stay productive. Focus group participants commented that communication should be frequent and reliable, but caution against \"over-communication\" that may dilute the intended message or cause email fatigue in which recipients begin ignoring messages due to the sheer volume. They suggest utilizing student leaders to assist in communication with the student body. Further, communication plays a key role in the theme, staying connected. Multiple focus group members commented on the need to maintain connectedness with colleagues, peers, and friends while sheltering at home and social distancing. Methods to stay connected include using virtual platforms to socialize (and not just conduct official school activities) and conducting regular checks of COVID-related stress.Members of each focus group also suggested the crisis created by the COVID-19 pandemic presented a number of opportunities for innovation in the delivery of the curriculum and in maintaining functions, such as college operations and student organization meetings.A key tool for innovation was the distance technology Zoom, with its various functions (e.g., chat, breakout rooms, screenshare) utilized not only for teaching, but also to conduct large and small meetings, interviews, and social events. Related to the theme of turning crisis into opportunity, more than half of all focus group members noted the importance of being flexible and adaptable, as well as finding ways to stay productive during the COVID-19 pandemic. With the swift transition to remote learning, openness and willingness to change teaching methods, communication styles, and study habits were critical to adjustment in the new work and learning environments. Additionally, students and faculty both remarked on the need for structure, whether through a self-made schedule or through synchronous virtual learning (rather than having students view course lecture videos asynchronously), particularly given the potential distractions in the home environment such as having small children nearby when trying to take an exam. For graduate students who were unable to continue lab-based activities, writing assignments (such as manuscript preparation) were provided to facilitate ongoing productivity while working from home. Table 2 presents themes (with supporting quotes) that were unique to each of the focus groups, with at least two members of a given focus group commenting on said issue. The theme \"choose your own reaction\" emerged from comments made by a majority of executive team focus group members. Supporting comments indicated individuals should be deliberate in their response to the challenges presented by the COVID-19 pandemic, such as projecting optimism, being willing to take on new or additional tasks, and focusing on the current situation while continuing to strive toward long-term goals. Among the faculty focus group, the theme of engaging emotions emerged. Faculty members indicated the need to be more intentionally focused on the emotional well-being of students during the pandemic, given the increased level of stress students may be experiencing, both personally and professionally. Likewise, the student focus group acknowledged the need for self-care as well as considering the needs of others whose experiences during the pandemic may be far worse (such as victims of domestic abuse). Turning crisis into opportunity delivery as possible. There were pieces in place to help the process, but we still had to learn a lot since the routine and environment drastically changed. Maintain a culture of optimism that the current crisis will pass; anxiety and fear are wasted energy and emotion.Live one day at a time while keeping long-term goals in mind.Be willing. Be willing to make tough decisions. Be willing to do the small things that add up to big things.Even though I am OK being alone, this has been very hard. By the second week, I was very overwhelmed, and I ended up needing to take a trip home even on a test weekend to be around people.Take time for yourself, being burned out is not helpful for being productive.Be able to see past your own circumstances and be able to think about the deeper needs of the team. Think about other people's difficulties and the effects of abuse and suicide.It is important to talk to students about their feelings and emotions in the situation. In the future, I will be more intentional in talking to students about their emotional response to difficult situations even if it is not related to COVID.We need to help provide emotional stability and positivity. We need to measure the emotional and psychological response of students after the pandemic and see if there is a way for us to improve problems.\n",
            "\n",
            "Discussion\n",
            "\n",
            "The purpose of this research was to describe leadership lessons learned by academic pharmacy during the COVID-19 pandemic from the perspective of administrators, faculty, and students. Several key themes were identified as similar between the three groups. All groups spoke about the importance of communication, adaptability and flexibility, and maintaining connection. The groups also spoke about the opportunities that can come with crisis and the importance of finding ways to stay productive during periods of tremendous change and uncertainty. There were also some notable responses that were specific to each of the three groups. Administrators focused on the importance of choosing a positive reaction when faced with a challenging situation, such as the COVID-19 pandemic. Students emphasized the importance of self-care, and faculty discussed how this situation taught them to engage the emotions of the students.According to previous research following other types of crises, these leadership lessons are not uncommon in higher education. 13, 20, 21 Although a situation has not affected the country to the extent of COVID-19 in recent history, given the pandemic has continued for more than a year with ongoing social distancing measures, trends in common leadership lessons can be identified from institutions facing individual disasters of various kinds, such as mass shootings, tornados, hurricanes, and other tragedies. The themes of communication and accurate dissemination of information emerged across different types of crises. 13, 20, 21 A specific example of the need for communication is Rice University in the aftermath of Hurricane Harvey. Rice formulated a plan to communicate with each group in a customized way, whether it be undergraduate students, graduate students, or faculty. 20 The same is true for many other campus disasters, such as fires at Butte College and Monmouth University after Hurricane Sandy. 20 Crises can also lead to opportunity and an increased sense of teamwork. 21 Recent research, including the current study, shows themes of opportunity in crisis, connection, and communication, and are thus consistent with studies of lessons learned in prior public emergencies. 22 Although not identified as leadership lessons in the current study, some additional themes detected in prior studies are noteworthy and may be important to academic pharmacy's response to the COVID-19 pandemic and future public health emergencies. For example, previous research found there was a heightened sense of awareness and blurred sense of time during emergent situations, as well as a tremendous amount of guilt that can surround the issue (such as administrators' guilt over not being able to protect their communities). 21 This may suggest a need for increased mental health and well-being support for students, faculty, and staff. In some crisis situations, there is also a need for institutional collaboration and shared resources. While this theme is likely more common for natural disasters like hurricanes, where there is significant destruction of physical property, it may be applicable in the COVID-19 response given the substantial demand placed on digital technology to support remote learning. 20 Reports have emerged of virtual resources that are shared between institutions as a way to collaborate in the current crisis. 20, [23] [24] [25] These resources include websites made by academic institutions, as well as resources for parents, teachers, and staff created by companies like Google and the New York Times.Unsurprisingly, a key theme that emerges from nearly any crisis is the need to pivot or be flexible, as demonstrated in the findings of the current study. 20 One interesting distinction, suggested in an article in The Chronicle of Higher Education, is that natural disasters are discrete and only last for a certain amount of time before recovery starts. However, in the case of COVID-19, the situation is much less predictable. There was limited time to prepare, and there is no definitive end in sight. The ability to rebuild is not as tangible, and the need for flexibility is heightened. 20 An interesting theme that was identified with natural disasters and also emerged in this study was being able to pivot from the focus on students' learning needs to focus on students' emotional needs. As the US has seen through this pandemic, schools are more than just a place for education. They are places of refuge for many and may supply basic needs like food and housing. While these basic physical needs were not identified in the current study, as our students are adults in a professional program, the need to engage students emotionally and take care of the student's mental and emotional health was a theme that emerged. 20, 22 Likewise, the theme of taking care of oneself, identified by our student participants, has also been seen in both disaster situations and the COVID-19 pandemic. 20 As this crisis has caused such a drastic and long-term shift in the way work is done for students, faculty, and administrators across the US, the theme of finding ways to stay productive emerged in this study. In contrast, this was not a common theme in the existing literature concerning previous crisis situations. Key differences include the mass transition to online learning across the country, stay-athome (quarantine) orders, and restrictions in movement and interaction due to the need for social distancing. The home has become office, workplace, library, and classroom for the vast majority of students, faculty, and administrators in higher education. As a result, affected individuals have had to develop new and/or different ways of working and studying in a short period of time. Academic pharmacy must remain attuned to the ever-changing conditions as well as responsive and flexible to the current learning environment in order to facilitate the productivity and success of students and faculty in the face of challenging circumstances.The primary limitation of this study is that qualitative data elicited from purposive samples at one institution may not reflect the thoughts, perceptions, and lessons learned from the broader populations of faculty, administrators, and students in academic pharmacy. Future studies of academic pharmacy leadership during public health emergencies such as COVID-19 should consider utilization of quantitative or mixed-methods designs and larger samples to collect more expansive and generalizable data. However, the themes in this study are consistent with previous research of higher education in emergency situations, supporting the quality and relevance of our qualitative data. Another potential limitation in this study was bias introduced by the focus group moderator or investigators. The moderator for all focus groups asked open-ended questions and did not guide participant responses. Furthermore, investigator bias was mitigated through recording all focus group sessions, transcribing the sessions prior to analysis, and independent review of the transcribed data by three investigators.\n",
            "\n",
            "Conclusions\n",
            "\n",
            "Core leadership lessons in emergent situations like the COVID-19 pandemic include being adaptable to the changing environment, communicating accurately and with appropriate frequency, finding ways to turn crisis into opportunity, and maintaining connections and productivity to guard against being derailed in achieving goals. As the US continues to face the unknowns of the COVID-19 pandemic, academic pharmacy should also consider the challenges that administrators, faculty, and students have with an indefinite change in routine. The difficulty associated with working from home is new to many of those affected and should be a consideration going forward. COPs should consider developing action plans with tools to help all involved be productive in non-traditional settings. Future research into this topic could include evaluating strategies to help students, faculty, and staff remain productive while at home, as well as the long-term implications of this crisis as campuses consider reopening.\n",
            "\n",
            "Disclosure(s)\n",
            "\n",
            "None.\n",
            "\n",
            "Declaration of Competing Interest\n",
            "\n",
            "Marie Chisholm-Burns serves on the board of directors for the Accreditation Council for Pharmacy Education (ACPE). This manuscript does not represent ACPE or the boards' opinions or views.\n",
            "  Answer:\n",
            "\n",
            "This is a well-written and insightful summary of the article. Here's a breakdown of its strengths and a few minor suggestions for improvement:\n",
            "\n",
            "**Strengths:**\n",
            "\n",
            "* **Clear Summary:** The summary effectively captures the core arguments of the article – the lessons learned, the challenges faced, and the importance of adaptability.\n",
            "* **Key Themes Identified:** You accurately identified five main themes that emerged from the focus groups, providing a good overview of the key takeaways.\n",
            "* **Contextualization:** The article is appropriately placed within the broader context of the COVID-19 pandemic and the challenges faced by higher education institutions.\n",
            "* **Methodology Description:** You clearly explained the research methods used (retrospective analysis, qualitative data collection, and transcription).\n",
            "* **Relevant Findings:** You highlighted the key findings from the focus groups, demonstrating a thorough understanding of the participants' experiences.\n",
            "* **Discussion and Conclusion:** The discussion section provides a thoughtful interpretation of the findings and offers valuable insights into the lessons learned.\n",
            "* **Well-Structured:** The summary is logically organized and easy to follow.\n",
            "\n",
            "**Minor Suggestions for Improvement:**\n",
            "\n",
            "* **Specificity in Quotes:** While you mention the importance of quotes, consider adding a *brief* example of a quote from a focus group to illustrate a particular theme.  For example, \"One student shared that 'it felt like a constant shift, and it was hard to know what was important.'\"\n",
            "* **Quantifiable Data (If Available):**  If the study included any quantitative data (e.g., survey results, usage statistics), briefly mentioning it would strengthen the summary.  For example, \"The study revealed that 60% of faculty reported increased reliance on remote work.\"\n",
            "* **Expand on \"Adaptability\":** You mention adaptability, but you could briefly elaborate on *how* adaptability was perceived.  For example, \"Participants consistently emphasized the need for flexibility in curriculum, assessment, and communication strategies.\"\n",
            "\n",
            "**Overall:** This is an excellent summary that effectively communicates the key findings of the article.  The suggestions above are minor refinements that could further enhance its clarity and impact.\n",
            "\n",
            "Do you want me to elaborate on any of these points, or perhaps focus on a specific aspect of the summary? For example, would you like me to expand on the discussion of adaptability, or perhaps provide examples of how the findings relate to broader trends in higher education?\n"
          ]
        }
      ]
    },
    {
      "cell_type": "code",
      "source": [],
      "metadata": {
        "id": "EBlbAzOr27jD"
      },
      "execution_count": null,
      "outputs": []
    },
    {
      "cell_type": "markdown",
      "source": [
        "#Testing smaller QA model"
      ],
      "metadata": {
        "id": "NOXQD0cbTTM_"
      }
    },
    {
      "cell_type": "code",
      "source": [
        "model_name = \"GanjinZero/biobart-v2-base\"\n",
        "model_name = \"razent/SciFive-base-Pubmed_PMC\"\n",
        "\n",
        "tokenizer = AutoTokenizer.from_pretrained(model_name)\n",
        "model = AutoModelForSeq2SeqLM.from_pretrained(model_name)"
      ],
      "metadata": {
        "colab": {
          "base_uri": "https://localhost:8080/",
          "height": 145,
          "referenced_widgets": [
            "1008e4615f3e482b8498905ed7462edd",
            "f6cbdc282d5d4837a70937b718bfd299",
            "50629acf3e5f44e786cca2b27d9db60c",
            "dd9b54800178496f9b9cac2f031ccd0c",
            "82405fd19b564c9da234523792e2df45",
            "8cdad021f03046f280297df4f5589ce3",
            "2581e591a604463a890f25857cfe3d40",
            "f69f347b4fe04231ac8944cff151d64e",
            "0bd98060adf04c10a5ec083a9342a060",
            "32081431cac74ecab2f7cc3fa222de63",
            "a4460f235040474792b572ea6d05c44f",
            "271bf8b7d5a64cdfacb6744efe3f3f9b",
            "3d0c833ee3604927984cb6919272542b",
            "ed7d2c02003c4a749d7f138ee60a7200",
            "287f6a765d7c4e558b5017430ae0e7ed",
            "6183a0dd475944968b461198b13ce87b",
            "3d561a6042bb4059bf1c115e96e69794",
            "374a90b938b441eea055252c921264ae",
            "a4d7415645d04ffc99cf9c8d057bcfd5",
            "dd88688a4cde47b4b7e3c4e7c2f91255",
            "df0519e9225e4de79574cd2d82d2d012",
            "5994ba8cf427460985edd3bccaa87e39",
            "13e3d8ff83964014938867e85fee5533",
            "8e3b12ecb1114859a3e016458279b992",
            "0f3f1922c82d4678ab229778ac007bb2",
            "47b477773527463aaf1437aeb2af318d",
            "81c6c270dc134507b5b4662a29f91de5",
            "cb4e295d9fd140d489bf512025ca7389",
            "b4ba238d2c82463f9407f9f17cea7e35",
            "5b0723f6cda04a38996655c8da594c01",
            "da621dc55141406aae0e95dc68167620",
            "a5615a2bb29646ec9c1c0136a5d8fa3e",
            "b1f6d69455054b44a5395b55109b748b",
            "a13eae7d5b364f838a6825b0bb13f801",
            "4d451161801f4736ad3a538b090bcf05",
            "3fcade37923e4f9b86afab842fe383f8",
            "cb6eee1dd7fd49239638c022ac6a3237",
            "abbc1819b6864242a140f45982f44ba1",
            "d4d8ec4f40e944a4acff599df1c8b588",
            "b80dd02211914046835f6b61001fdf32",
            "e5d5f7ebe3324ee4ba8d86aa5ed7b586",
            "bb790cc09e9144528a9db533b1f699e3",
            "d4b6b7f6f3884a9bb792bfe1d4dc5ebd",
            "1e8f1d955028450f8cd7398e0c2c83fc"
          ]
        },
        "id": "2j9KZn7lTXyh",
        "outputId": "390b904f-eb69-487a-9049-feab5aa32174"
      },
      "execution_count": 15,
      "outputs": [
        {
          "output_type": "display_data",
          "data": {
            "text/plain": [
              "config.json:   0%|          | 0.00/581 [00:00<?, ?B/s]"
            ],
            "application/vnd.jupyter.widget-view+json": {
              "version_major": 2,
              "version_minor": 0,
              "model_id": "1008e4615f3e482b8498905ed7462edd"
            }
          },
          "metadata": {}
        },
        {
          "output_type": "display_data",
          "data": {
            "text/plain": [
              "spiece.model:   0%|          | 0.00/792k [00:00<?, ?B/s]"
            ],
            "application/vnd.jupyter.widget-view+json": {
              "version_major": 2,
              "version_minor": 0,
              "model_id": "271bf8b7d5a64cdfacb6744efe3f3f9b"
            }
          },
          "metadata": {}
        },
        {
          "output_type": "display_data",
          "data": {
            "text/plain": [
              "tokenizer.json:   0%|          | 0.00/1.39M [00:00<?, ?B/s]"
            ],
            "application/vnd.jupyter.widget-view+json": {
              "version_major": 2,
              "version_minor": 0,
              "model_id": "13e3d8ff83964014938867e85fee5533"
            }
          },
          "metadata": {}
        },
        {
          "output_type": "display_data",
          "data": {
            "text/plain": [
              "model.safetensors:   0%|          | 0.00/892M [00:00<?, ?B/s]"
            ],
            "application/vnd.jupyter.widget-view+json": {
              "version_major": 2,
              "version_minor": 0,
              "model_id": "a13eae7d5b364f838a6825b0bb13f801"
            }
          },
          "metadata": {}
        }
      ]
    },
    {
      "cell_type": "code",
      "source": [
        "prompt = f\"Please summarise this article: {article}  Answer:\"\n",
        "inputs = tokenizer.encode(prompt, return_tensors=\"pt\")\n",
        "outputs = model.generate(inputs, max_new_tokens=512)\n",
        "text = tokenizer.decode(outputs[0], skip_special_tokens=True)\n",
        "print(text)"
      ],
      "metadata": {
        "colab": {
          "base_uri": "https://localhost:8080/"
        },
        "id": "5VMU1cozUOmg",
        "outputId": "de1e6a53-0b1f-4a03-9786-66a392525d71"
      },
      "execution_count": 16,
      "outputs": [
        {
          "output_type": "stream",
          "name": "stdout",
          "text": [
            "The authors declare no conflict of interest. The authors declare no conflict of interest. The authors declare no conflict of interest. The authors declare no conflict of interest. The authors declare no conflict of interest. The authors declare no conflict of interest. The authors declare no conflict of interest. The authors declare no conflict of interest. focus groups were conducted in the spring of 2020. focus group members focus group members. focus group members. focus group members also commented on the need for structure. [12]... [   and  and and . This manuscript is a report of the ACPE Board of Directors. and   and. and and COP. 13 and.....  The authors declare no conflict of interest. Yes. Please see the online version of this article. Yes. Please see the online version. The\n"
          ]
        }
      ]
    },
    {
      "cell_type": "markdown",
      "source": [
        "# Simple RAG"
      ],
      "metadata": {
        "id": "as8JqsV-W9p0"
      }
    },
    {
      "cell_type": "markdown",
      "source": [
        "## Processign articles"
      ],
      "metadata": {
        "id": "axS_BbjTXPzM"
      }
    },
    {
      "cell_type": "markdown",
      "source": [],
      "metadata": {
        "id": "Yn4JAFshYcQw"
      }
    },
    {
      "cell_type": "code",
      "source": [
        "!pip install openpyxl\n",
        "!pip install -q chromadb"
      ],
      "metadata": {
        "colab": {
          "base_uri": "https://localhost:8080/"
        },
        "id": "gzi1F2yCYdQY",
        "outputId": "d3977586-e458-453c-8c64-2d71c97a40fe"
      },
      "execution_count": 24,
      "outputs": [
        {
          "output_type": "stream",
          "name": "stdout",
          "text": [
            "Requirement already satisfied: openpyxl in /usr/local/lib/python3.11/dist-packages (3.1.5)\n",
            "Requirement already satisfied: et-xmlfile in /usr/local/lib/python3.11/dist-packages (from openpyxl) (2.0.0)\n",
            "\u001b[2K     \u001b[90m━━━━━━━━━━━━━━━━━━━━━━━━━━━━━━━━━━━━━━━━\u001b[0m \u001b[32m67.3/67.3 kB\u001b[0m \u001b[31m4.0 MB/s\u001b[0m eta \u001b[36m0:00:00\u001b[0m\n",
            "\u001b[?25h  Installing build dependencies ... \u001b[?25l\u001b[?25hdone\n",
            "  Getting requirements to build wheel ... \u001b[?25l\u001b[?25hdone\n",
            "  Preparing metadata (pyproject.toml) ... \u001b[?25l\u001b[?25hdone\n",
            "\u001b[2K   \u001b[90m━━━━━━━━━━━━━━━━━━━━━━━━━━━━━━━━━━━━━━━━\u001b[0m \u001b[32m611.1/611.1 kB\u001b[0m \u001b[31m22.5 MB/s\u001b[0m eta \u001b[36m0:00:00\u001b[0m\n",
            "\u001b[2K   \u001b[90m━━━━━━━━━━━━━━━━━━━━━━━━━━━━━━━━━━━━━━━━\u001b[0m \u001b[32m2.4/2.4 MB\u001b[0m \u001b[31m64.4 MB/s\u001b[0m eta \u001b[36m0:00:00\u001b[0m\n",
            "\u001b[2K   \u001b[90m━━━━━━━━━━━━━━━━━━━━━━━━━━━━━━━━━━━━━━━━\u001b[0m \u001b[32m284.2/284.2 kB\u001b[0m \u001b[31m17.3 MB/s\u001b[0m eta \u001b[36m0:00:00\u001b[0m\n",
            "\u001b[2K   \u001b[90m━━━━━━━━━━━━━━━━━━━━━━━━━━━━━━━━━━━━━━━━\u001b[0m \u001b[32m94.9/94.9 kB\u001b[0m \u001b[31m7.0 MB/s\u001b[0m eta \u001b[36m0:00:00\u001b[0m\n",
            "\u001b[2K   \u001b[90m━━━━━━━━━━━━━━━━━━━━━━━━━━━━━━━━━━━━━━━━\u001b[0m \u001b[32m2.0/2.0 MB\u001b[0m \u001b[31m54.3 MB/s\u001b[0m eta \u001b[36m0:00:00\u001b[0m\n",
            "\u001b[2K   \u001b[90m━━━━━━━━━━━━━━━━━━━━━━━━━━━━━━━━━━━━━━━━\u001b[0m \u001b[32m101.6/101.6 kB\u001b[0m \u001b[31m7.1 MB/s\u001b[0m eta \u001b[36m0:00:00\u001b[0m\n",
            "\u001b[2K   \u001b[90m━━━━━━━━━━━━━━━━━━━━━━━━━━━━━━━━━━━━━━━━\u001b[0m \u001b[32m16.0/16.0 MB\u001b[0m \u001b[31m67.0 MB/s\u001b[0m eta \u001b[36m0:00:00\u001b[0m\n",
            "\u001b[2K   \u001b[90m━━━━━━━━━━━━━━━━━━━━━━━━━━━━━━━━━━━━━━━━\u001b[0m \u001b[32m55.9/55.9 kB\u001b[0m \u001b[31m3.6 MB/s\u001b[0m eta \u001b[36m0:00:00\u001b[0m\n",
            "\u001b[2K   \u001b[90m━━━━━━━━━━━━━━━━━━━━━━━━━━━━━━━━━━━━━━━━\u001b[0m \u001b[32m79.6/79.6 kB\u001b[0m \u001b[31m4.8 MB/s\u001b[0m eta \u001b[36m0:00:00\u001b[0m\n",
            "\u001b[2K   \u001b[90m━━━━━━━━━━━━━━━━━━━━━━━━━━━━━━━━━━━━━━━━\u001b[0m \u001b[32m62.3/62.3 kB\u001b[0m \u001b[31m3.6 MB/s\u001b[0m eta \u001b[36m0:00:00\u001b[0m\n",
            "\u001b[2K   \u001b[90m━━━━━━━━━━━━━━━━━━━━━━━━━━━━━━━━━━━━━━━━\u001b[0m \u001b[32m459.8/459.8 kB\u001b[0m \u001b[31m19.8 MB/s\u001b[0m eta \u001b[36m0:00:00\u001b[0m\n",
            "\u001b[2K   \u001b[90m━━━━━━━━━━━━━━━━━━━━━━━━━━━━━━━━━━━━━━━━\u001b[0m \u001b[32m319.7/319.7 kB\u001b[0m \u001b[31m17.0 MB/s\u001b[0m eta \u001b[36m0:00:00\u001b[0m\n",
            "\u001b[2K   \u001b[90m━━━━━━━━━━━━━━━━━━━━━━━━━━━━━━━━━━━━━━━━\u001b[0m \u001b[32m72.0/72.0 kB\u001b[0m \u001b[31m4.4 MB/s\u001b[0m eta \u001b[36m0:00:00\u001b[0m\n",
            "\u001b[2K   \u001b[90m━━━━━━━━━━━━━━━━━━━━━━━━━━━━━━━━━━━━━━━━\u001b[0m \u001b[32m4.0/4.0 MB\u001b[0m \u001b[31m51.4 MB/s\u001b[0m eta \u001b[36m0:00:00\u001b[0m\n",
            "\u001b[2K   \u001b[90m━━━━━━━━━━━━━━━━━━━━━━━━━━━━━━━━━━━━━━━━\u001b[0m \u001b[32m452.6/452.6 kB\u001b[0m \u001b[31m21.2 MB/s\u001b[0m eta \u001b[36m0:00:00\u001b[0m\n",
            "\u001b[2K   \u001b[90m━━━━━━━━━━━━━━━━━━━━━━━━━━━━━━━━━━━━━━━━\u001b[0m \u001b[32m46.0/46.0 kB\u001b[0m \u001b[31m2.5 MB/s\u001b[0m eta \u001b[36m0:00:00\u001b[0m\n",
            "\u001b[2K   \u001b[90m━━━━━━━━━━━━━━━━━━━━━━━━━━━━━━━━━━━━━━━━\u001b[0m \u001b[32m86.8/86.8 kB\u001b[0m \u001b[31m5.6 MB/s\u001b[0m eta \u001b[36m0:00:00\u001b[0m\n",
            "\u001b[?25h  Building wheel for pypika (pyproject.toml) ... \u001b[?25l\u001b[?25hdone\n"
          ]
        }
      ]
    },
    {
      "cell_type": "code",
      "source": [
        "import re\n",
        "import pandas as pd\n",
        "\n",
        "import os\n",
        "from google.colab import drive\n",
        "import chromadb\n",
        "from chromadb.utils import embedding_functions\n",
        "\n",
        "import torch\n",
        "\n"
      ],
      "metadata": {
        "id": "9r-am6JPagxC"
      },
      "execution_count": 52,
      "outputs": []
    },
    {
      "cell_type": "code",
      "source": [
        "def preprocess_articles(articles_df, chunk_size=200, overlap=25):\n",
        "    \"\"\"\n",
        "    Split articles from a DataFrame into smaller chunks for better retrieval\n",
        "\n",
        "    Parameters:\n",
        "    -----------\n",
        "    articles_df : pandas.DataFrame\n",
        "        DataFrame with 'paper_id' and 'full_article' columns\n",
        "    chunk_size : int\n",
        "        Target size of chunks in tokens (approximate)\n",
        "    overlap : int\n",
        "        Number of tokens to overlap between consecutive chunks\n",
        "\n",
        "    Returns:\n",
        "    --------\n",
        "    list of dict\n",
        "        List of chunk dictionaries with chunk_id, paper_id, text, and source fields\n",
        "    \"\"\"\n",
        "    chunks = []\n",
        "\n",
        "    # Iterate through DataFrame rows\n",
        "    for _, row in articles_df.iterrows():\n",
        "        paper_id = str(row['paper_id'])\n",
        "        text = row['full_article']\n",
        "\n",
        "        if not isinstance(text, str) or not text.strip():\n",
        "            # Skip empty or non-string entries\n",
        "            continue\n",
        "\n",
        "        # Simple paragraph splitting\n",
        "        paragraphs = re.split(r'\\n\\s*\\n', text)\n",
        "\n",
        "        # Create chunks with overlap\n",
        "        current_chunk = \"\"\n",
        "        chunk_id = 0\n",
        "\n",
        "        for para in paragraphs:\n",
        "            # Clean paragraph\n",
        "            para = para.strip()\n",
        "            if not para:\n",
        "                continue\n",
        "\n",
        "            # If adding this paragraph exceeds chunk size and we have content,\n",
        "            # save the current chunk and start a new one\n",
        "            if len(current_chunk) + len(para) > chunk_size and current_chunk:\n",
        "                chunks.append({\n",
        "                    \"chunk_id\": f\"{paper_id}-{chunk_id}\",\n",
        "                    \"paper_id\": paper_id,\n",
        "                    \"text\": current_chunk,\n",
        "                    \"source\": paper_id  # For citation tracking\n",
        "                })\n",
        "\n",
        "                # Start new chunk with overlap from the end of the previous chunk\n",
        "                words = current_chunk.split()\n",
        "                if len(words) > overlap:\n",
        "                    current_chunk = \" \".join(words[-overlap:]) + \" \" + para\n",
        "                else:\n",
        "                    current_chunk = para\n",
        "\n",
        "                chunk_id += 1\n",
        "            else:\n",
        "                # Add to current chunk\n",
        "                if current_chunk:\n",
        "                    current_chunk += \" \" + para\n",
        "                else:\n",
        "                    current_chunk = para\n",
        "\n",
        "        # Don't forget the last chunk\n",
        "        if current_chunk:\n",
        "            chunks.append({\n",
        "                \"chunk_id\": f\"{paper_id}-{chunk_id}\",\n",
        "                \"paper_id\": paper_id,\n",
        "                \"text\": current_chunk,\n",
        "                \"source\": paper_id\n",
        "            })\n",
        "\n",
        "    return chunks"
      ],
      "metadata": {
        "id": "KXBgxM7_W9dD"
      },
      "execution_count": 28,
      "outputs": []
    },
    {
      "cell_type": "markdown",
      "source": [
        "##Building the vector db / semantic search for RAG"
      ],
      "metadata": {
        "id": "UwnWmzTEQhaf"
      }
    },
    {
      "cell_type": "code",
      "source": [
        "def setup_vector_db(collection_name=\"covid_research\", chunks=None, embedding_model_name=\"all-MiniLM-L6-v2\"):\n",
        "    \"\"\"\n",
        "    Set up a vector database by returning an existing collection or creating a new one\n",
        "    Always uses PersistentClient for disk storage\n",
        "\n",
        "    Args:\n",
        "        chunks: List of text chunks with metadata to add (only needed for new collections)\n",
        "        embedding_model_name: Name of the SentenceTransformer model to use\n",
        "        collection_name: Name of the collection to create or retrieve\n",
        "        db_path: Path to store the database\n",
        "\n",
        "    Returns:\n",
        "        tuple: (client, collection)\n",
        "    \"\"\"\n",
        "\n",
        "    db_path=\"/content/drive/MyDrive/Sci_papers/chroma_db\"\n",
        "\n",
        "    # Ensure drive is mounted\n",
        "    if not os.path.exists(\"/content/drive\"):\n",
        "        drive.mount('/content/drive')\n",
        "\n",
        "    # Create path if it doesn't exist\n",
        "    os.makedirs(db_path, exist_ok=True)\n",
        "\n",
        "    # Set up embedding function\n",
        "    embedding_function = embedding_functions.SentenceTransformerEmbeddingFunction(\n",
        "        model_name=embedding_model_name\n",
        "    )\n",
        "\n",
        "    # Set up persistent client\n",
        "    client = chromadb.PersistentClient(path=db_path)\n",
        "\n",
        "    # Get or create collection\n",
        "    try:\n",
        "        collection = client.get_collection(\n",
        "            name=collection_name,\n",
        "            embedding_function=embedding_function\n",
        "        )\n",
        "        print(f\"Retrieved existing collection '{collection_name}' with {collection.count()} documents\")\n",
        "    except:\n",
        "        collection = client.create_collection(\n",
        "            name=collection_name,\n",
        "            embedding_function=embedding_function\n",
        "        )\n",
        "        print(f\"Creating new collection '{collection_name}'\")\n",
        "\n",
        "        # Add documents if provided\n",
        "        if chunks:\n",
        "            # Prepare data for insertion\n",
        "            ids = [chunk[\"chunk_id\"] for chunk in chunks]\n",
        "            documents = [chunk[\"text\"] for chunk in chunks]\n",
        "            metadatas = [{\"paper_id\": chunk[\"paper_id\"], \"source\": chunk[\"source\"]} for chunk in chunks]\n",
        "\n",
        "            # Add documents to the collection in batches\n",
        "            batch_size = 100\n",
        "            for i in range(0, len(ids), batch_size):\n",
        "                end = min(i + batch_size, len(ids))\n",
        "                collection.add(\n",
        "                    ids=ids[i:end],\n",
        "                    documents=documents[i:end],\n",
        "            #skipping metadata        metadatas=metadatas[i:end]\n",
        "                )\n",
        "                print(f\"Added {end} / {len(ids)} chunks to vector database\")\n",
        "\n",
        "    return client, collection"
      ],
      "metadata": {
        "trusted": true,
        "id": "SNWCkjJjqUGR"
      },
      "outputs": [],
      "execution_count": 41
    },
    {
      "cell_type": "code",
      "source": [
        "chunks = preprocess_articles(data)\n",
        "\n"
      ],
      "metadata": {
        "collapsed": true,
        "id": "x6exdCsua0Od"
      },
      "execution_count": 96,
      "outputs": []
    },
    {
      "cell_type": "code",
      "source": [
        "%%time\n",
        "collection_name = \"covid_research\"\n",
        "embedding_model = \"all-MiniLM-L6-v2\"\n",
        "client, collection = setup_vector_db(collection_name, chunks, embedding_model)\n",
        "\n"
      ],
      "metadata": {
        "id": "iGTuPa4YydUM"
      },
      "execution_count": null,
      "outputs": []
    },
    {
      "cell_type": "code",
      "source": [
        "#retrieve collection\n",
        "\n",
        "client, collection = setup_vector_db(collection_name, None, embedding_model)\n"
      ],
      "metadata": {
        "colab": {
          "base_uri": "https://localhost:8080/"
        },
        "id": "uYN7h_R6yPpL",
        "outputId": "b3649cac-ccc6-46c5-c76a-e0b2a2605b31"
      },
      "execution_count": 45,
      "outputs": [
        {
          "output_type": "stream",
          "name": "stdout",
          "text": [
            "Retrieved existing collection 'covid_research' with 14727 documents\n"
          ]
        }
      ]
    },
    {
      "cell_type": "code",
      "source": [
        "def retrieve_chunks(query, collection, top_k=5):\n",
        "    \"\"\"\n",
        "    Retrieve the most relevant chunks from the vector database\n",
        "\n",
        "    Args:\n",
        "        query: The user query string\n",
        "        collection: ChromaDB collection\n",
        "        top_k: Number of chunks to retrieve\n",
        "\n",
        "    Returns:\n",
        "        list: List of retrieved text chunks and their metadata\n",
        "    \"\"\"\n",
        "\n",
        "    # Query the collection\n",
        "    results = collection.query(\n",
        "        query_texts=[query],\n",
        "        n_results=top_k,\n",
        "        include=[\"documents\", \"metadatas\", \"distances\"]\n",
        "    )\n",
        "\n",
        "    retrieved_chunks = []\n",
        "    for i in range(len(results[\"documents\"][0])):\n",
        "        retrieved_chunks.append({\n",
        "            \"text\": results[\"documents\"][0][i],\n",
        "            \"metadata\": results[\"metadatas\"][0][i],\n",
        "            \"distance\": results[\"distances\"][0][i] if \"distances\" in results else None\n",
        "        })\n",
        "\n",
        "    return retrieved_chunks\n",
        "\n",
        "def format_context(retrieved_chunks, include_metadata=False):\n",
        "    \"\"\"\n",
        "    Format retrieved chunks into a context string\n",
        "\n",
        "    Args:\n",
        "        retrieved_chunks: List of retrieved chunks from retrieve_chunks()\n",
        "\n",
        "    Returns:\n",
        "        str: Formatted context string\n",
        "    \"\"\"\n",
        "    context = \"\"\n",
        "    for i, chunk in enumerate(retrieved_chunks):\n",
        "        context += f\"\\n\\nChunk {i+1} \"\n",
        "        if include_metadata:\n",
        "          context += f\"(Source: {chunk['metadata']['source']}):\\n\"\n",
        "        context += chunk[\"text\"]\n",
        "\n",
        "    return context\n",
        "\n",
        "def generate_answer(query, context, model, tokenizer, max_length=512):\n",
        "    \"\"\"\n",
        "    Generate an answer using a seq2seq model\n",
        "\n",
        "    Args:\n",
        "        query: The user query\n",
        "        context: Retrieved context text\n",
        "        model: HuggingFace model\n",
        "        tokenizer: HuggingFace tokenizer\n",
        "        max_length: Maximum output length\n",
        "\n",
        "    Returns:\n",
        "        str: Generated answer\n",
        "    \"\"\"\n",
        "    # Create a prompt that combines the query and context\n",
        "    prompt = f\"Context:\\n{context}\\n\\nQuestion: {query}\\n\\nAnswer:\"\n",
        "\n",
        "    # Tokenize the input\n",
        "    inputs = tokenizer(prompt, return_tensors=\"pt\", truncation=True, max_length=2048)\n",
        "    print(f\"Input tokenised to {len(inputs[0])} tokens\")\n",
        "    print(f\"Model {model.name_or_path} will generate now to: {query}\")\n",
        "\n",
        "    # Generate the output\n",
        "    with torch.no_grad():\n",
        "        output_ids = model.generate(\n",
        "            inputs[\"input_ids\"],\n",
        "            max_length=max_length,\n",
        "            num_beams=4,\n",
        "            early_stopping=True\n",
        "        )\n",
        "\n",
        "    # Decode the output\n",
        "    answer = tokenizer.decode(output_ids[0], skip_special_tokens=True)\n",
        "\n",
        "    return answer"
      ],
      "metadata": {
        "id": "VyDbbJIKyiX1"
      },
      "execution_count": 153,
      "outputs": []
    },
    {
      "cell_type": "code",
      "source": [
        "%%time\n",
        "query = \"\"\"\n",
        "What were the efficacy of vaccines for various age groups?\n",
        "\"\"\"\n",
        "\n",
        "retrieved_chunks = retrieve_chunks(query, collection, top_k=5)\n",
        "retrieved_chunks"
      ],
      "metadata": {
        "colab": {
          "base_uri": "https://localhost:8080/"
        },
        "id": "CBvlwdsHXJCy",
        "outputId": "c52ffb1d-0e10-4fc1-ccb0-7e4136234db9"
      },
      "execution_count": 119,
      "outputs": [
        {
          "output_type": "stream",
          "name": "stdout",
          "text": [
            "CPU times: user 143 ms, sys: 5.03 ms, total: 148 ms\n",
            "Wall time: 370 ms\n"
          ]
        },
        {
          "output_type": "execute_result",
          "data": {
            "text/plain": [
              "[{'text': 'of the elderly. Further studies to determine long-term effectiveness of COVID-19 vaccines in high-risk populations and the safety and effectiveness of additional boosters are needed. Main text:'},\n",
              " {'text': 'not always take into consideration the daily life barriers of the population. Easy access to vaccination needs to be accomplished by barrier-free access. Demographic changes In response to public health policies, life expectancy has doubled over the last century and the proportion of the elderly in the population continues to rise. Elderly people are more susceptible to infectious diseases and less responsive to vaccination, as is clearly shown by their responsiveness to the influenza vaccine (Franceschi et al. 2017; Demicheli et al. 2018; Levett-Jones 2020) . This growing situation warrants the adaptation of vaccines to the senescing immune system, thereby introducing a certain degree of personalisation at the scale of an age-defined population. For example, the Sanofi Pasteur Fluzone High-Dose trivalent flu vaccine and the Seqirus Fluad quadrivalent flu vaccine are specifically recommended for the over 65 years old (JAMA, published online: 2 October 2020) (Monto et al. 2009 ).'},\n",
              " {'text': '2 shows the overall adjusted vaccine effectiveness against SARS-CoV-2 infection, hospitalisation due to COVID-19, admission to ICU and death with COVID-19. Vaccine effectiveness by age Protection against SARS-CoV-2 infection is lower among older age groups, while protection against hospitalization remains reasonably good for all age groups, among both partially and fully vaccinated ( Figure 1 ; supplementary tables S3 and S4).'},\n",
              " {'text': 'diagnosis of health conditions that might be attributable to the treatment, therapy, or vaccine. Analysis 9 Age Blocks: Oldest Third and Young Third Blocked Analysis The following conditions were significantly increased (p < 0.05) in the vaccinated group in both age blocks: fever, otitis media, conjunctivitis, sinusitis, breathing issues, anemia, gastroenteritis, and weight/eating disorder. The following conditions were significantly increased in the vaccinated group in the younger (more recent) age block only: asthma and allergic rhinitis. The following conditions were significantly increased in the older age block only: \"Well Child\" visit and eczema. None of the developmental delay categories were significantly increased in either the older or younger age blocks, likely due to low power. Social delay was significantly increased in the unvaccinated older age block. Two health outcomes, pain and respiratory infection, were increased in the unvaccinated group under the older block but were not significantly different in the younger block. These results, requested by a peer reviewer, demonstrate robustness of many associations to blocking by age and by gender and are provided as tables in Supplementary Materials Table S3 (including RIOV values and exact p-values of Z).The following conditions were significantly increased (p < 0.05) in the vaccinated group in both age blocks: fever, otitis media, conjunctivitis, sinusitis, breathing issues, anemia, gastroenteritis, and weight/eating disorder. The following conditions were significantly increased in the vaccinated group in the younger (more recent) age block only: asthma and allergic rhinitis. The following conditions were significantly increased in the older age block only: \"Well Child\" visit and eczema. None of the developmental delay categories were significantly increased in either the older or younger age blocks, likely due to low power. Social delay was significantly increased in the unvaccinated older age block. Two health outcomes, pain and respiratory infection, were increased in the unvaccinated group under the older block but were not significantly different in the younger block. These results, requested by a peer reviewer, demonstrate robustness of many associations to blocking by age and by gender and are provided as tables in Supplementary Materials Table S3 (including RIOV values and exact p-values of Z).'},\n",
              " {'text': 'protection against hospitalization remains reasonably good for all age groups, among both partially and fully vaccinated ( Figure 1 ; supplementary tables S3 and S4). Figure 1 Adjusted vaccine effectiveness against SARS-CoV-2 infection (A) and hospitalisation (B) among partially (blue) and fully (green) vaccinated individuals'}]"
            ]
          },
          "metadata": {},
          "execution_count": 119
        }
      ]
    },
    {
      "cell_type": "code",
      "source": [
        "generation_model = \"google/flan-t5-base\"\n",
        "tokenizer = AutoTokenizer.from_pretrained(generation_model)\n",
        "model = AutoModelForSeq2SeqLM.from_pretrained(generation_model)"
      ],
      "metadata": {
        "id": "ECnrJsRbQ6F9"
      },
      "execution_count": 120,
      "outputs": []
    },
    {
      "cell_type": "code",
      "source": [
        "%%time\n",
        "query = \"\"\"\n",
        "What were the efficacy of vaccines for various age groups?\n",
        "\"\"\"\n",
        "\n",
        "retrieved_chunks = retrieve_chunks(query, collection, top_k=5)\n",
        "\n",
        "# Format the context\n",
        "context = format_context(retrieved_chunks)\n",
        "\n",
        "# Generate an answer\n",
        "answer = generate_answer(query, context, model, tokenizer)\n",
        "answer"
      ],
      "metadata": {
        "colab": {
          "base_uri": "https://localhost:8080/",
          "height": 143
        },
        "id": "4cObMdOrH1yX",
        "outputId": "4778e0e1-b13e-410a-a682-6d1c63917cac"
      },
      "execution_count": 156,
      "outputs": [
        {
          "output_type": "stream",
          "name": "stdout",
          "text": [
            "Input tokenised to 994 tokens\n",
            "Model google/flan-t5-base will generate now to: \n",
            "What were the efficacy of vaccines for various age groups?\n",
            "\n",
            "CPU times: user 17.8 s, sys: 910 ms, total: 18.7 s\n",
            "Wall time: 20.2 s\n"
          ]
        },
        {
          "output_type": "execute_result",
          "data": {
            "text/plain": [
              "'Protection against SARS-CoV-2 infection is lower among older age groups, while protection against hospitalization remains reasonably good for all age groups, among both partially and fully vaccinated'"
            ],
            "application/vnd.google.colaboratory.intrinsic+json": {
              "type": "string"
            }
          },
          "metadata": {},
          "execution_count": 156
        }
      ]
    },
    {
      "cell_type": "code",
      "source": [
        "query"
      ],
      "metadata": {
        "colab": {
          "base_uri": "https://localhost:8080/",
          "height": 35
        },
        "id": "mqg9bh0i0MBQ",
        "outputId": "d97424ed-730b-4151-d986-6e72b0be71ad"
      },
      "execution_count": 130,
      "outputs": [
        {
          "output_type": "execute_result",
          "data": {
            "text/plain": [
              "'\\nWhat were the efficacy of vaccines for various age groups?\\n'"
            ],
            "application/vnd.google.colaboratory.intrinsic+json": {
              "type": "string"
            }
          },
          "metadata": {},
          "execution_count": 130
        }
      ]
    },
    {
      "cell_type": "code",
      "source": [
        "print(context)"
      ],
      "metadata": {
        "colab": {
          "base_uri": "https://localhost:8080/"
        },
        "id": "GL86usSz1OCb",
        "outputId": "461a4ac9-f1ac-4396-b04c-304f49385c29"
      },
      "execution_count": 157,
      "outputs": [
        {
          "output_type": "stream",
          "name": "stdout",
          "text": [
            "\n",
            "\n",
            "Chunk 1 of the elderly. Further studies to determine long-term effectiveness of COVID-19 vaccines in high-risk populations and the safety and effectiveness of additional boosters are needed. Main text:\n",
            "\n",
            "Chunk 2 not always take into consideration the daily life barriers of the population. Easy access to vaccination needs to be accomplished by barrier-free access. Demographic changes In response to public health policies, life expectancy has doubled over the last century and the proportion of the elderly in the population continues to rise. Elderly people are more susceptible to infectious diseases and less responsive to vaccination, as is clearly shown by their responsiveness to the influenza vaccine (Franceschi et al. 2017; Demicheli et al. 2018; Levett-Jones 2020) . This growing situation warrants the adaptation of vaccines to the senescing immune system, thereby introducing a certain degree of personalisation at the scale of an age-defined population. For example, the Sanofi Pasteur Fluzone High-Dose trivalent flu vaccine and the Seqirus Fluad quadrivalent flu vaccine are specifically recommended for the over 65 years old (JAMA, published online: 2 October 2020) (Monto et al. 2009 ).\n",
            "\n",
            "Chunk 3 2 shows the overall adjusted vaccine effectiveness against SARS-CoV-2 infection, hospitalisation due to COVID-19, admission to ICU and death with COVID-19. Vaccine effectiveness by age Protection against SARS-CoV-2 infection is lower among older age groups, while protection against hospitalization remains reasonably good for all age groups, among both partially and fully vaccinated ( Figure 1 ; supplementary tables S3 and S4).\n",
            "\n",
            "Chunk 4 diagnosis of health conditions that might be attributable to the treatment, therapy, or vaccine. Analysis 9 Age Blocks: Oldest Third and Young Third Blocked Analysis The following conditions were significantly increased (p < 0.05) in the vaccinated group in both age blocks: fever, otitis media, conjunctivitis, sinusitis, breathing issues, anemia, gastroenteritis, and weight/eating disorder. The following conditions were significantly increased in the vaccinated group in the younger (more recent) age block only: asthma and allergic rhinitis. The following conditions were significantly increased in the older age block only: \"Well Child\" visit and eczema. None of the developmental delay categories were significantly increased in either the older or younger age blocks, likely due to low power. Social delay was significantly increased in the unvaccinated older age block. Two health outcomes, pain and respiratory infection, were increased in the unvaccinated group under the older block but were not significantly different in the younger block. These results, requested by a peer reviewer, demonstrate robustness of many associations to blocking by age and by gender and are provided as tables in Supplementary Materials Table S3 (including RIOV values and exact p-values of Z).The following conditions were significantly increased (p < 0.05) in the vaccinated group in both age blocks: fever, otitis media, conjunctivitis, sinusitis, breathing issues, anemia, gastroenteritis, and weight/eating disorder. The following conditions were significantly increased in the vaccinated group in the younger (more recent) age block only: asthma and allergic rhinitis. The following conditions were significantly increased in the older age block only: \"Well Child\" visit and eczema. None of the developmental delay categories were significantly increased in either the older or younger age blocks, likely due to low power. Social delay was significantly increased in the unvaccinated older age block. Two health outcomes, pain and respiratory infection, were increased in the unvaccinated group under the older block but were not significantly different in the younger block. These results, requested by a peer reviewer, demonstrate robustness of many associations to blocking by age and by gender and are provided as tables in Supplementary Materials Table S3 (including RIOV values and exact p-values of Z).\n",
            "\n",
            "Chunk 5 protection against hospitalization remains reasonably good for all age groups, among both partially and fully vaccinated ( Figure 1 ; supplementary tables S3 and S4). Figure 1 Adjusted vaccine effectiveness against SARS-CoV-2 infection (A) and hospitalisation (B) among partially (blue) and fully (green) vaccinated individuals\n"
          ]
        }
      ]
    },
    {
      "cell_type": "code",
      "source": [
        "answer"
      ],
      "metadata": {
        "colab": {
          "base_uri": "https://localhost:8080/",
          "height": 35
        },
        "id": "HOVlpDFS1Rrk",
        "outputId": "f5a6f937-d38e-4096-fdc5-947491b89e21"
      },
      "execution_count": 138,
      "outputs": [
        {
          "output_type": "execute_result",
          "data": {
            "text/plain": [
              "'Protection against SARS-CoV-2 infection is lower among older age groups, while protection against hospitalization remains reasonably good for all age groups, among both partially and fully vaccinated'"
            ],
            "application/vnd.google.colaboratory.intrinsic+json": {
              "type": "string"
            }
          },
          "metadata": {},
          "execution_count": 138
        }
      ]
    },
    {
      "cell_type": "code",
      "source": [
        "%%time\n",
        "\n",
        "query = \"\"\"\n",
        "What were the efficacy of vaccines for various age groups?\n",
        "\"\"\"\n",
        "\n",
        "retrieved_chunks = retrieve_chunks(query, collection, top_k=5)\n",
        "\n",
        "# Format the context\n",
        "context = format_context(retrieved_chunks)\n",
        "\n",
        "# Generate an answer\n",
        "answer = generate_answer(query, context, model, tokenizer)\n",
        "answer"
      ],
      "metadata": {
        "colab": {
          "base_uri": "https://localhost:8080/",
          "height": 107
        },
        "id": "J86czBm9atpI",
        "outputId": "1f6dde12-2629-459a-fbf4-bd42d5d837c4"
      },
      "execution_count": 158,
      "outputs": [
        {
          "output_type": "stream",
          "name": "stdout",
          "text": [
            "Input tokenised to 994 tokens\n",
            "Model google/flan-t5-base will generate now to: \n",
            "What were the efficacy of vaccines for various age groups?\n",
            "\n"
          ]
        },
        {
          "output_type": "execute_result",
          "data": {
            "text/plain": [
              "'Protection against SARS-CoV-2 infection is lower among older age groups, while protection against hospitalization remains reasonably good for all age groups, among both partially and fully vaccinated'"
            ],
            "application/vnd.google.colaboratory.intrinsic+json": {
              "type": "string"
            }
          },
          "metadata": {},
          "execution_count": 158
        }
      ]
    },
    {
      "cell_type": "code",
      "source": [
        "print(context)"
      ],
      "metadata": {
        "colab": {
          "base_uri": "https://localhost:8080/"
        },
        "id": "9IcgqTTXa50c",
        "outputId": "f946d3c8-0785-46c4-845d-c9458396c19c"
      },
      "execution_count": 160,
      "outputs": [
        {
          "output_type": "stream",
          "name": "stdout",
          "text": [
            "\n",
            "\n",
            "Chunk 1 of the elderly. Further studies to determine long-term effectiveness of COVID-19 vaccines in high-risk populations and the safety and effectiveness of additional boosters are needed. Main text:\n",
            "\n",
            "Chunk 2 not always take into consideration the daily life barriers of the population. Easy access to vaccination needs to be accomplished by barrier-free access. Demographic changes In response to public health policies, life expectancy has doubled over the last century and the proportion of the elderly in the population continues to rise. Elderly people are more susceptible to infectious diseases and less responsive to vaccination, as is clearly shown by their responsiveness to the influenza vaccine (Franceschi et al. 2017; Demicheli et al. 2018; Levett-Jones 2020) . This growing situation warrants the adaptation of vaccines to the senescing immune system, thereby introducing a certain degree of personalisation at the scale of an age-defined population. For example, the Sanofi Pasteur Fluzone High-Dose trivalent flu vaccine and the Seqirus Fluad quadrivalent flu vaccine are specifically recommended for the over 65 years old (JAMA, published online: 2 October 2020) (Monto et al. 2009 ).\n",
            "\n",
            "Chunk 3 2 shows the overall adjusted vaccine effectiveness against SARS-CoV-2 infection, hospitalisation due to COVID-19, admission to ICU and death with COVID-19. Vaccine effectiveness by age Protection against SARS-CoV-2 infection is lower among older age groups, while protection against hospitalization remains reasonably good for all age groups, among both partially and fully vaccinated ( Figure 1 ; supplementary tables S3 and S4).\n",
            "\n",
            "Chunk 4 diagnosis of health conditions that might be attributable to the treatment, therapy, or vaccine. Analysis 9 Age Blocks: Oldest Third and Young Third Blocked Analysis The following conditions were significantly increased (p < 0.05) in the vaccinated group in both age blocks: fever, otitis media, conjunctivitis, sinusitis, breathing issues, anemia, gastroenteritis, and weight/eating disorder. The following conditions were significantly increased in the vaccinated group in the younger (more recent) age block only: asthma and allergic rhinitis. The following conditions were significantly increased in the older age block only: \"Well Child\" visit and eczema. None of the developmental delay categories were significantly increased in either the older or younger age blocks, likely due to low power. Social delay was significantly increased in the unvaccinated older age block. Two health outcomes, pain and respiratory infection, were increased in the unvaccinated group under the older block but were not significantly different in the younger block. These results, requested by a peer reviewer, demonstrate robustness of many associations to blocking by age and by gender and are provided as tables in Supplementary Materials Table S3 (including RIOV values and exact p-values of Z).The following conditions were significantly increased (p < 0.05) in the vaccinated group in both age blocks: fever, otitis media, conjunctivitis, sinusitis, breathing issues, anemia, gastroenteritis, and weight/eating disorder. The following conditions were significantly increased in the vaccinated group in the younger (more recent) age block only: asthma and allergic rhinitis. The following conditions were significantly increased in the older age block only: \"Well Child\" visit and eczema. None of the developmental delay categories were significantly increased in either the older or younger age blocks, likely due to low power. Social delay was significantly increased in the unvaccinated older age block. Two health outcomes, pain and respiratory infection, were increased in the unvaccinated group under the older block but were not significantly different in the younger block. These results, requested by a peer reviewer, demonstrate robustness of many associations to blocking by age and by gender and are provided as tables in Supplementary Materials Table S3 (including RIOV values and exact p-values of Z).\n",
            "\n",
            "Chunk 5 protection against hospitalization remains reasonably good for all age groups, among both partially and fully vaccinated ( Figure 1 ; supplementary tables S3 and S4). Figure 1 Adjusted vaccine effectiveness against SARS-CoV-2 infection (A) and hospitalisation (B) among partially (blue) and fully (green) vaccinated individuals\n"
          ]
        }
      ]
    },
    {
      "cell_type": "markdown",
      "source": [
        "## Testing FAISS over Chroma"
      ],
      "metadata": {
        "id": "xxh7CgLORb1v"
      }
    },
    {
      "cell_type": "code",
      "source": [
        "#!pip install faiss-gpu\n",
        "!pip install faiss-cpu\n"
      ],
      "metadata": {
        "colab": {
          "base_uri": "https://localhost:8080/"
        },
        "id": "fRulepnXeE_4",
        "outputId": "3c11e9eb-786e-4bb3-a868-e5a2204f568a"
      },
      "execution_count": 143,
      "outputs": [
        {
          "output_type": "stream",
          "name": "stdout",
          "text": [
            "\u001b[31mERROR: Could not find a version that satisfies the requirement faiss-gpu (from versions: none)\u001b[0m\u001b[31m\n",
            "\u001b[0m\u001b[31mERROR: No matching distribution found for faiss-gpu\u001b[0m\u001b[31m\n",
            "\u001b[0mCollecting faiss-cpu\n",
            "  Downloading faiss_cpu-1.10.0-cp311-cp311-manylinux_2_28_x86_64.whl.metadata (4.4 kB)\n",
            "Requirement already satisfied: numpy<3.0,>=1.25.0 in /usr/local/lib/python3.11/dist-packages (from faiss-cpu) (2.0.2)\n",
            "Requirement already satisfied: packaging in /usr/local/lib/python3.11/dist-packages (from faiss-cpu) (24.2)\n",
            "Downloading faiss_cpu-1.10.0-cp311-cp311-manylinux_2_28_x86_64.whl (30.7 MB)\n",
            "\u001b[2K   \u001b[90m━━━━━━━━━━━━━━━━━━━━━━━━━━━━━━━━━━━━━━━━\u001b[0m \u001b[32m30.7/30.7 MB\u001b[0m \u001b[31m23.3 MB/s\u001b[0m eta \u001b[36m0:00:00\u001b[0m\n",
            "\u001b[?25hInstalling collected packages: faiss-cpu\n",
            "Successfully installed faiss-cpu-1.10.0\n"
          ]
        }
      ]
    },
    {
      "cell_type": "code",
      "source": [
        "data = load_sample_data()\n",
        "chunks = preprocess_articles(data)"
      ],
      "metadata": {
        "id": "oy6OI6OgReeu"
      },
      "execution_count": 117,
      "outputs": []
    },
    {
      "cell_type": "code",
      "source": [
        "import os\n",
        "import faiss\n",
        "import numpy as np\n",
        "import pickle\n"
      ],
      "metadata": {
        "id": "6CmL2R6tc0E2"
      },
      "execution_count": 145,
      "outputs": []
    },
    {
      "cell_type": "code",
      "source": [
        "\n",
        "\n",
        "def setup_faiss_index(chunks=None, embedding_model_name=\"all-MiniLM-L6-v2\",\n",
        "                      index_name=\"covid_research\",\n",
        "                      db_path=\"/content/drive/MyDrive/Sci_papers/faiss_indexes\"):\n",
        "    \"\"\"\n",
        "    Set up a FAISS index by loading an existing one or creating a new one\n",
        "\n",
        "    Args:\n",
        "        chunks: List of text chunks with metadata to add (only needed for new indexes)\n",
        "        embedding_model_name: Name of the SentenceTransformer model to use\n",
        "        index_name: Name of the index to create or retrieve\n",
        "        db_path: Path to store the index and metadata\n",
        "\n",
        "    Returns:\n",
        "        tuple: (index, documents, metadata)\n",
        "    \"\"\"\n",
        "    # Ensure drive is mounted\n",
        "    if not os.path.exists(\"/content/drive\"):\n",
        "        drive.mount('/content/drive')\n",
        "\n",
        "    # Create path if it doesn't exist\n",
        "    os.makedirs(db_path, exist_ok=True)\n",
        "\n",
        "    # Paths for storing the index and metadata\n",
        "    index_path = os.path.join(db_path, f\"{index_name}_index.faiss\")\n",
        "    metadata_path = os.path.join(db_path, f\"{index_name}_metadata.pkl\")\n",
        "\n",
        "    # Check if the index exists\n",
        "    if os.path.exists(index_path) and os.path.exists(metadata_path):\n",
        "        # Load existing index and metadata\n",
        "        index = faiss.read_index(index_path)\n",
        "        with open(metadata_path, 'rb') as f:\n",
        "            saved_data = pickle.load(f)\n",
        "            documents = saved_data['documents']\n",
        "            metadatas = saved_data['metadatas']\n",
        "\n",
        "        print(f\"Loaded existing FAISS index '{index_name}' with {index.ntotal} vectors\")\n",
        "        return index, documents, metadatas\n",
        "\n",
        "    # Create new index if not found or if chunks are provided\n",
        "    if chunks is None:\n",
        "        print(f\"No existing index found and no chunks provided. Creating empty index.\")\n",
        "        chunks = []\n",
        "\n",
        "    # Initialize the embedding model\n",
        "    model = SentenceTransformer(embedding_model_name)\n",
        "\n",
        "    # Create new FAISS index (L2 distance)\n",
        "    dimension = model.get_sentence_embedding_dimension()\n",
        "    index = faiss.IndexFlatL2(dimension)\n",
        "\n",
        "    # Prepare data if chunks are provided\n",
        "    documents = []\n",
        "    metadatas = []\n",
        "    embeddings = []\n",
        "\n",
        "    if chunks:\n",
        "        # Extract text and metadata\n",
        "        documents = [chunk[\"text\"] for chunk in chunks]\n",
        "        metadatas = [{\"paper_id\": chunk[\"paper_id\"], \"source\": chunk[\"source\"]} for chunk in chunks]\n",
        "\n",
        "        # Create embeddings in batches\n",
        "        batch_size = 32\n",
        "        print(f\"Creating embeddings for {len(documents)} documents...\")\n",
        "\n",
        "        for i in range(0, len(documents), batch_size):\n",
        "            end = min(i + batch_size, len(documents))\n",
        "            batch_texts = documents[i:end]\n",
        "            batch_embeddings = model.encode(batch_texts, convert_to_numpy=True)\n",
        "            embeddings.append(batch_embeddings)\n",
        "            print(f\"Embedded {end}/{len(documents)} documents\")\n",
        "\n",
        "        # Combine all embeddings and add to index\n",
        "        if embeddings:\n",
        "            all_embeddings = np.vstack(embeddings).astype('float32')\n",
        "            index.add(all_embeddings)\n",
        "\n",
        "        # Save the index and metadata\n",
        "        faiss.write_index(index, index_path)\n",
        "        with open(metadata_path, 'wb') as f:\n",
        "            pickle.dump({'documents': documents, 'metadatas': metadatas}, f)\n",
        "\n",
        "        print(f\"Created and saved new FAISS index '{index_name}' with {index.ntotal} vectors\")\n",
        "\n",
        "    return index, documents, metadatas\n",
        "\n",
        "\n",
        "\n",
        "def retrieve_chunks_faiss(query, index, documents, metadatas, embedding_model_name=\"all-MiniLM-L6-v2\", top_k=5):\n",
        "    \"\"\"\n",
        "    Retrieve the most relevant chunks using FAISS\n",
        "\n",
        "    Args:\n",
        "        query: The user query string\n",
        "        index: FAISS index\n",
        "        documents: List of document texts\n",
        "        metadatas: List of document metadata\n",
        "        embedding_model_name: Name of the SentenceTransformer model\n",
        "        top_k: Number of chunks to retrieve\n",
        "\n",
        "    Returns:\n",
        "        list: List of retrieved text chunks and their metadata\n",
        "    \"\"\"\n",
        "    # Initialize the embedding model\n",
        "    model = SentenceTransformer(embedding_model_name)\n",
        "\n",
        "    # Create the query embedding\n",
        "    query_embedding = model.encode([query], convert_to_numpy=True).astype('float32')\n",
        "\n",
        "    # Search the index\n",
        "    distances, indices = index.search(query_embedding, k=min(top_k, index.ntotal))\n",
        "\n",
        "    # Format results\n",
        "    retrieved_chunks = []\n",
        "    for i, idx in enumerate(indices[0]):\n",
        "        if idx < len(documents):  # Safeguard against index out of bounds\n",
        "            retrieved_chunks.append({\n",
        "                \"text\": documents[idx],\n",
        "                \"metadata\": metadatas[idx],\n",
        "                \"distance\": float(distances[0][i])\n",
        "            })\n",
        "\n",
        "    return retrieved_chunks\n",
        "\n",
        "\n",
        "\n",
        "\n"
      ],
      "metadata": {
        "id": "NVjldkfOcvGD"
      },
      "execution_count": 144,
      "outputs": []
    },
    {
      "cell_type": "code",
      "source": [
        "%%time\n",
        "embedding_model = \"all-MiniLM-L6-v2\"\n",
        "#collection_name = \"covid_research\"\n",
        "#client, collection = setup_vector_db(collection_name, chunks, embedding_model)\n",
        "collection_name = \"covid_research_faiss\"\n",
        "index, documents, metadatas = setup_faiss_index(chunks, embedding_model, collection_name)\n"
      ],
      "metadata": {
        "collapsed": true,
        "colab": {
          "base_uri": "https://localhost:8080/"
        },
        "id": "Yfhdn4P9R6_R",
        "outputId": "fd5b9529-0fdc-47d0-c963-7b5b301b8da6"
      },
      "execution_count": 146,
      "outputs": [
        {
          "output_type": "stream",
          "name": "stdout",
          "text": [
            "Creating embeddings for 14727 documents...\n",
            "Embedded 32/14727 documents\n",
            "Embedded 64/14727 documents\n",
            "Embedded 96/14727 documents\n",
            "Embedded 128/14727 documents\n",
            "Embedded 160/14727 documents\n",
            "Embedded 192/14727 documents\n",
            "Embedded 224/14727 documents\n",
            "Embedded 256/14727 documents\n",
            "Embedded 288/14727 documents\n",
            "Embedded 320/14727 documents\n",
            "Embedded 352/14727 documents\n",
            "Embedded 384/14727 documents\n",
            "Embedded 416/14727 documents\n",
            "Embedded 448/14727 documents\n",
            "Embedded 480/14727 documents\n",
            "Embedded 512/14727 documents\n",
            "Embedded 544/14727 documents\n",
            "Embedded 576/14727 documents\n",
            "Embedded 608/14727 documents\n",
            "Embedded 640/14727 documents\n",
            "Embedded 672/14727 documents\n",
            "Embedded 704/14727 documents\n",
            "Embedded 736/14727 documents\n",
            "Embedded 768/14727 documents\n",
            "Embedded 800/14727 documents\n",
            "Embedded 832/14727 documents\n",
            "Embedded 864/14727 documents\n",
            "Embedded 896/14727 documents\n",
            "Embedded 928/14727 documents\n",
            "Embedded 960/14727 documents\n",
            "Embedded 992/14727 documents\n",
            "Embedded 1024/14727 documents\n",
            "Embedded 1056/14727 documents\n",
            "Embedded 1088/14727 documents\n",
            "Embedded 1120/14727 documents\n",
            "Embedded 1152/14727 documents\n",
            "Embedded 1184/14727 documents\n",
            "Embedded 1216/14727 documents\n",
            "Embedded 1248/14727 documents\n",
            "Embedded 1280/14727 documents\n",
            "Embedded 1312/14727 documents\n",
            "Embedded 1344/14727 documents\n",
            "Embedded 1376/14727 documents\n",
            "Embedded 1408/14727 documents\n",
            "Embedded 1440/14727 documents\n",
            "Embedded 1472/14727 documents\n",
            "Embedded 1504/14727 documents\n",
            "Embedded 1536/14727 documents\n",
            "Embedded 1568/14727 documents\n",
            "Embedded 1600/14727 documents\n",
            "Embedded 1632/14727 documents\n",
            "Embedded 1664/14727 documents\n",
            "Embedded 1696/14727 documents\n",
            "Embedded 1728/14727 documents\n",
            "Embedded 1760/14727 documents\n",
            "Embedded 1792/14727 documents\n",
            "Embedded 1824/14727 documents\n",
            "Embedded 1856/14727 documents\n",
            "Embedded 1888/14727 documents\n",
            "Embedded 1920/14727 documents\n",
            "Embedded 1952/14727 documents\n",
            "Embedded 1984/14727 documents\n",
            "Embedded 2016/14727 documents\n",
            "Embedded 2048/14727 documents\n",
            "Embedded 2080/14727 documents\n",
            "Embedded 2112/14727 documents\n",
            "Embedded 2144/14727 documents\n",
            "Embedded 2176/14727 documents\n",
            "Embedded 2208/14727 documents\n",
            "Embedded 2240/14727 documents\n",
            "Embedded 2272/14727 documents\n",
            "Embedded 2304/14727 documents\n",
            "Embedded 2336/14727 documents\n",
            "Embedded 2368/14727 documents\n",
            "Embedded 2400/14727 documents\n",
            "Embedded 2432/14727 documents\n",
            "Embedded 2464/14727 documents\n",
            "Embedded 2496/14727 documents\n",
            "Embedded 2528/14727 documents\n",
            "Embedded 2560/14727 documents\n",
            "Embedded 2592/14727 documents\n",
            "Embedded 2624/14727 documents\n",
            "Embedded 2656/14727 documents\n",
            "Embedded 2688/14727 documents\n",
            "Embedded 2720/14727 documents\n",
            "Embedded 2752/14727 documents\n",
            "Embedded 2784/14727 documents\n",
            "Embedded 2816/14727 documents\n",
            "Embedded 2848/14727 documents\n",
            "Embedded 2880/14727 documents\n",
            "Embedded 2912/14727 documents\n",
            "Embedded 2944/14727 documents\n",
            "Embedded 2976/14727 documents\n",
            "Embedded 3008/14727 documents\n",
            "Embedded 3040/14727 documents\n",
            "Embedded 3072/14727 documents\n",
            "Embedded 3104/14727 documents\n",
            "Embedded 3136/14727 documents\n",
            "Embedded 3168/14727 documents\n",
            "Embedded 3200/14727 documents\n",
            "Embedded 3232/14727 documents\n",
            "Embedded 3264/14727 documents\n",
            "Embedded 3296/14727 documents\n",
            "Embedded 3328/14727 documents\n",
            "Embedded 3360/14727 documents\n",
            "Embedded 3392/14727 documents\n",
            "Embedded 3424/14727 documents\n",
            "Embedded 3456/14727 documents\n",
            "Embedded 3488/14727 documents\n",
            "Embedded 3520/14727 documents\n",
            "Embedded 3552/14727 documents\n",
            "Embedded 3584/14727 documents\n",
            "Embedded 3616/14727 documents\n",
            "Embedded 3648/14727 documents\n",
            "Embedded 3680/14727 documents\n",
            "Embedded 3712/14727 documents\n",
            "Embedded 3744/14727 documents\n",
            "Embedded 3776/14727 documents\n",
            "Embedded 3808/14727 documents\n",
            "Embedded 3840/14727 documents\n",
            "Embedded 3872/14727 documents\n",
            "Embedded 3904/14727 documents\n",
            "Embedded 3936/14727 documents\n",
            "Embedded 3968/14727 documents\n",
            "Embedded 4000/14727 documents\n",
            "Embedded 4032/14727 documents\n",
            "Embedded 4064/14727 documents\n",
            "Embedded 4096/14727 documents\n",
            "Embedded 4128/14727 documents\n",
            "Embedded 4160/14727 documents\n",
            "Embedded 4192/14727 documents\n",
            "Embedded 4224/14727 documents\n",
            "Embedded 4256/14727 documents\n",
            "Embedded 4288/14727 documents\n",
            "Embedded 4320/14727 documents\n",
            "Embedded 4352/14727 documents\n",
            "Embedded 4384/14727 documents\n",
            "Embedded 4416/14727 documents\n",
            "Embedded 4448/14727 documents\n",
            "Embedded 4480/14727 documents\n",
            "Embedded 4512/14727 documents\n",
            "Embedded 4544/14727 documents\n",
            "Embedded 4576/14727 documents\n",
            "Embedded 4608/14727 documents\n",
            "Embedded 4640/14727 documents\n",
            "Embedded 4672/14727 documents\n",
            "Embedded 4704/14727 documents\n",
            "Embedded 4736/14727 documents\n",
            "Embedded 4768/14727 documents\n",
            "Embedded 4800/14727 documents\n",
            "Embedded 4832/14727 documents\n",
            "Embedded 4864/14727 documents\n",
            "Embedded 4896/14727 documents\n",
            "Embedded 4928/14727 documents\n",
            "Embedded 4960/14727 documents\n",
            "Embedded 4992/14727 documents\n",
            "Embedded 5024/14727 documents\n",
            "Embedded 5056/14727 documents\n",
            "Embedded 5088/14727 documents\n",
            "Embedded 5120/14727 documents\n",
            "Embedded 5152/14727 documents\n",
            "Embedded 5184/14727 documents\n",
            "Embedded 5216/14727 documents\n",
            "Embedded 5248/14727 documents\n",
            "Embedded 5280/14727 documents\n",
            "Embedded 5312/14727 documents\n",
            "Embedded 5344/14727 documents\n",
            "Embedded 5376/14727 documents\n",
            "Embedded 5408/14727 documents\n",
            "Embedded 5440/14727 documents\n",
            "Embedded 5472/14727 documents\n",
            "Embedded 5504/14727 documents\n",
            "Embedded 5536/14727 documents\n",
            "Embedded 5568/14727 documents\n",
            "Embedded 5600/14727 documents\n",
            "Embedded 5632/14727 documents\n",
            "Embedded 5664/14727 documents\n",
            "Embedded 5696/14727 documents\n",
            "Embedded 5728/14727 documents\n",
            "Embedded 5760/14727 documents\n",
            "Embedded 5792/14727 documents\n",
            "Embedded 5824/14727 documents\n",
            "Embedded 5856/14727 documents\n",
            "Embedded 5888/14727 documents\n",
            "Embedded 5920/14727 documents\n",
            "Embedded 5952/14727 documents\n",
            "Embedded 5984/14727 documents\n",
            "Embedded 6016/14727 documents\n",
            "Embedded 6048/14727 documents\n",
            "Embedded 6080/14727 documents\n",
            "Embedded 6112/14727 documents\n",
            "Embedded 6144/14727 documents\n",
            "Embedded 6176/14727 documents\n",
            "Embedded 6208/14727 documents\n",
            "Embedded 6240/14727 documents\n",
            "Embedded 6272/14727 documents\n",
            "Embedded 6304/14727 documents\n",
            "Embedded 6336/14727 documents\n",
            "Embedded 6368/14727 documents\n",
            "Embedded 6400/14727 documents\n",
            "Embedded 6432/14727 documents\n",
            "Embedded 6464/14727 documents\n",
            "Embedded 6496/14727 documents\n",
            "Embedded 6528/14727 documents\n",
            "Embedded 6560/14727 documents\n",
            "Embedded 6592/14727 documents\n",
            "Embedded 6624/14727 documents\n",
            "Embedded 6656/14727 documents\n",
            "Embedded 6688/14727 documents\n",
            "Embedded 6720/14727 documents\n",
            "Embedded 6752/14727 documents\n",
            "Embedded 6784/14727 documents\n",
            "Embedded 6816/14727 documents\n",
            "Embedded 6848/14727 documents\n",
            "Embedded 6880/14727 documents\n",
            "Embedded 6912/14727 documents\n",
            "Embedded 6944/14727 documents\n",
            "Embedded 6976/14727 documents\n",
            "Embedded 7008/14727 documents\n",
            "Embedded 7040/14727 documents\n",
            "Embedded 7072/14727 documents\n",
            "Embedded 7104/14727 documents\n",
            "Embedded 7136/14727 documents\n",
            "Embedded 7168/14727 documents\n",
            "Embedded 7200/14727 documents\n",
            "Embedded 7232/14727 documents\n",
            "Embedded 7264/14727 documents\n",
            "Embedded 7296/14727 documents\n",
            "Embedded 7328/14727 documents\n",
            "Embedded 7360/14727 documents\n",
            "Embedded 7392/14727 documents\n",
            "Embedded 7424/14727 documents\n",
            "Embedded 7456/14727 documents\n",
            "Embedded 7488/14727 documents\n",
            "Embedded 7520/14727 documents\n",
            "Embedded 7552/14727 documents\n",
            "Embedded 7584/14727 documents\n",
            "Embedded 7616/14727 documents\n",
            "Embedded 7648/14727 documents\n",
            "Embedded 7680/14727 documents\n",
            "Embedded 7712/14727 documents\n",
            "Embedded 7744/14727 documents\n",
            "Embedded 7776/14727 documents\n",
            "Embedded 7808/14727 documents\n",
            "Embedded 7840/14727 documents\n",
            "Embedded 7872/14727 documents\n",
            "Embedded 7904/14727 documents\n",
            "Embedded 7936/14727 documents\n",
            "Embedded 7968/14727 documents\n",
            "Embedded 8000/14727 documents\n",
            "Embedded 8032/14727 documents\n",
            "Embedded 8064/14727 documents\n",
            "Embedded 8096/14727 documents\n",
            "Embedded 8128/14727 documents\n",
            "Embedded 8160/14727 documents\n",
            "Embedded 8192/14727 documents\n",
            "Embedded 8224/14727 documents\n",
            "Embedded 8256/14727 documents\n",
            "Embedded 8288/14727 documents\n",
            "Embedded 8320/14727 documents\n",
            "Embedded 8352/14727 documents\n",
            "Embedded 8384/14727 documents\n",
            "Embedded 8416/14727 documents\n",
            "Embedded 8448/14727 documents\n",
            "Embedded 8480/14727 documents\n",
            "Embedded 8512/14727 documents\n",
            "Embedded 8544/14727 documents\n",
            "Embedded 8576/14727 documents\n",
            "Embedded 8608/14727 documents\n",
            "Embedded 8640/14727 documents\n",
            "Embedded 8672/14727 documents\n",
            "Embedded 8704/14727 documents\n",
            "Embedded 8736/14727 documents\n",
            "Embedded 8768/14727 documents\n",
            "Embedded 8800/14727 documents\n",
            "Embedded 8832/14727 documents\n",
            "Embedded 8864/14727 documents\n",
            "Embedded 8896/14727 documents\n",
            "Embedded 8928/14727 documents\n",
            "Embedded 8960/14727 documents\n",
            "Embedded 8992/14727 documents\n",
            "Embedded 9024/14727 documents\n",
            "Embedded 9056/14727 documents\n",
            "Embedded 9088/14727 documents\n",
            "Embedded 9120/14727 documents\n",
            "Embedded 9152/14727 documents\n",
            "Embedded 9184/14727 documents\n",
            "Embedded 9216/14727 documents\n",
            "Embedded 9248/14727 documents\n",
            "Embedded 9280/14727 documents\n",
            "Embedded 9312/14727 documents\n",
            "Embedded 9344/14727 documents\n",
            "Embedded 9376/14727 documents\n",
            "Embedded 9408/14727 documents\n",
            "Embedded 9440/14727 documents\n",
            "Embedded 9472/14727 documents\n",
            "Embedded 9504/14727 documents\n",
            "Embedded 9536/14727 documents\n",
            "Embedded 9568/14727 documents\n",
            "Embedded 9600/14727 documents\n",
            "Embedded 9632/14727 documents\n",
            "Embedded 9664/14727 documents\n",
            "Embedded 9696/14727 documents\n",
            "Embedded 9728/14727 documents\n",
            "Embedded 9760/14727 documents\n",
            "Embedded 9792/14727 documents\n",
            "Embedded 9824/14727 documents\n",
            "Embedded 9856/14727 documents\n",
            "Embedded 9888/14727 documents\n",
            "Embedded 9920/14727 documents\n",
            "Embedded 9952/14727 documents\n",
            "Embedded 9984/14727 documents\n",
            "Embedded 10016/14727 documents\n",
            "Embedded 10048/14727 documents\n",
            "Embedded 10080/14727 documents\n",
            "Embedded 10112/14727 documents\n",
            "Embedded 10144/14727 documents\n",
            "Embedded 10176/14727 documents\n",
            "Embedded 10208/14727 documents\n",
            "Embedded 10240/14727 documents\n",
            "Embedded 10272/14727 documents\n",
            "Embedded 10304/14727 documents\n",
            "Embedded 10336/14727 documents\n",
            "Embedded 10368/14727 documents\n",
            "Embedded 10400/14727 documents\n",
            "Embedded 10432/14727 documents\n",
            "Embedded 10464/14727 documents\n",
            "Embedded 10496/14727 documents\n",
            "Embedded 10528/14727 documents\n",
            "Embedded 10560/14727 documents\n",
            "Embedded 10592/14727 documents\n",
            "Embedded 10624/14727 documents\n",
            "Embedded 10656/14727 documents\n",
            "Embedded 10688/14727 documents\n",
            "Embedded 10720/14727 documents\n",
            "Embedded 10752/14727 documents\n",
            "Embedded 10784/14727 documents\n",
            "Embedded 10816/14727 documents\n",
            "Embedded 10848/14727 documents\n",
            "Embedded 10880/14727 documents\n",
            "Embedded 10912/14727 documents\n",
            "Embedded 10944/14727 documents\n",
            "Embedded 10976/14727 documents\n",
            "Embedded 11008/14727 documents\n",
            "Embedded 11040/14727 documents\n",
            "Embedded 11072/14727 documents\n",
            "Embedded 11104/14727 documents\n",
            "Embedded 11136/14727 documents\n",
            "Embedded 11168/14727 documents\n",
            "Embedded 11200/14727 documents\n",
            "Embedded 11232/14727 documents\n",
            "Embedded 11264/14727 documents\n",
            "Embedded 11296/14727 documents\n",
            "Embedded 11328/14727 documents\n",
            "Embedded 11360/14727 documents\n",
            "Embedded 11392/14727 documents\n",
            "Embedded 11424/14727 documents\n",
            "Embedded 11456/14727 documents\n",
            "Embedded 11488/14727 documents\n",
            "Embedded 11520/14727 documents\n",
            "Embedded 11552/14727 documents\n",
            "Embedded 11584/14727 documents\n",
            "Embedded 11616/14727 documents\n",
            "Embedded 11648/14727 documents\n",
            "Embedded 11680/14727 documents\n",
            "Embedded 11712/14727 documents\n",
            "Embedded 11744/14727 documents\n",
            "Embedded 11776/14727 documents\n",
            "Embedded 11808/14727 documents\n",
            "Embedded 11840/14727 documents\n",
            "Embedded 11872/14727 documents\n",
            "Embedded 11904/14727 documents\n",
            "Embedded 11936/14727 documents\n",
            "Embedded 11968/14727 documents\n",
            "Embedded 12000/14727 documents\n",
            "Embedded 12032/14727 documents\n",
            "Embedded 12064/14727 documents\n",
            "Embedded 12096/14727 documents\n",
            "Embedded 12128/14727 documents\n",
            "Embedded 12160/14727 documents\n",
            "Embedded 12192/14727 documents\n",
            "Embedded 12224/14727 documents\n",
            "Embedded 12256/14727 documents\n",
            "Embedded 12288/14727 documents\n",
            "Embedded 12320/14727 documents\n",
            "Embedded 12352/14727 documents\n",
            "Embedded 12384/14727 documents\n",
            "Embedded 12416/14727 documents\n",
            "Embedded 12448/14727 documents\n",
            "Embedded 12480/14727 documents\n",
            "Embedded 12512/14727 documents\n",
            "Embedded 12544/14727 documents\n",
            "Embedded 12576/14727 documents\n",
            "Embedded 12608/14727 documents\n",
            "Embedded 12640/14727 documents\n",
            "Embedded 12672/14727 documents\n",
            "Embedded 12704/14727 documents\n",
            "Embedded 12736/14727 documents\n",
            "Embedded 12768/14727 documents\n",
            "Embedded 12800/14727 documents\n",
            "Embedded 12832/14727 documents\n",
            "Embedded 12864/14727 documents\n",
            "Embedded 12896/14727 documents\n",
            "Embedded 12928/14727 documents\n",
            "Embedded 12960/14727 documents\n",
            "Embedded 12992/14727 documents\n",
            "Embedded 13024/14727 documents\n",
            "Embedded 13056/14727 documents\n",
            "Embedded 13088/14727 documents\n",
            "Embedded 13120/14727 documents\n",
            "Embedded 13152/14727 documents\n",
            "Embedded 13184/14727 documents\n",
            "Embedded 13216/14727 documents\n",
            "Embedded 13248/14727 documents\n",
            "Embedded 13280/14727 documents\n",
            "Embedded 13312/14727 documents\n",
            "Embedded 13344/14727 documents\n",
            "Embedded 13376/14727 documents\n",
            "Embedded 13408/14727 documents\n",
            "Embedded 13440/14727 documents\n",
            "Embedded 13472/14727 documents\n",
            "Embedded 13504/14727 documents\n",
            "Embedded 13536/14727 documents\n",
            "Embedded 13568/14727 documents\n",
            "Embedded 13600/14727 documents\n",
            "Embedded 13632/14727 documents\n",
            "Embedded 13664/14727 documents\n",
            "Embedded 13696/14727 documents\n",
            "Embedded 13728/14727 documents\n",
            "Embedded 13760/14727 documents\n",
            "Embedded 13792/14727 documents\n",
            "Embedded 13824/14727 documents\n",
            "Embedded 13856/14727 documents\n",
            "Embedded 13888/14727 documents\n",
            "Embedded 13920/14727 documents\n",
            "Embedded 13952/14727 documents\n",
            "Embedded 13984/14727 documents\n",
            "Embedded 14016/14727 documents\n",
            "Embedded 14048/14727 documents\n",
            "Embedded 14080/14727 documents\n",
            "Embedded 14112/14727 documents\n",
            "Embedded 14144/14727 documents\n",
            "Embedded 14176/14727 documents\n",
            "Embedded 14208/14727 documents\n",
            "Embedded 14240/14727 documents\n",
            "Embedded 14272/14727 documents\n",
            "Embedded 14304/14727 documents\n",
            "Embedded 14336/14727 documents\n",
            "Embedded 14368/14727 documents\n",
            "Embedded 14400/14727 documents\n",
            "Embedded 14432/14727 documents\n",
            "Embedded 14464/14727 documents\n",
            "Embedded 14496/14727 documents\n",
            "Embedded 14528/14727 documents\n",
            "Embedded 14560/14727 documents\n",
            "Embedded 14592/14727 documents\n",
            "Embedded 14624/14727 documents\n",
            "Embedded 14656/14727 documents\n",
            "Embedded 14688/14727 documents\n",
            "Embedded 14720/14727 documents\n",
            "Embedded 14727/14727 documents\n",
            "Created and saved new FAISS index 'covid_research_faiss' with 14727 vectors\n",
            "CPU times: user 33min 9s, sys: 2min 33s, total: 35min 42s\n",
            "Wall time: 36min 20s\n"
          ]
        }
      ]
    },
    {
      "cell_type": "code",
      "source": [
        "generation_model = \"google/flan-t5-base\"\n",
        "tokenizer = AutoTokenizer.from_pretrained(generation_model)\n",
        "model = AutoModelForSeq2SeqLM.from_pretrained(generation_model)"
      ],
      "metadata": {
        "id": "C9Cj5t15oj06"
      },
      "execution_count": 147,
      "outputs": []
    },
    {
      "cell_type": "code",
      "source": [
        "%%time\n",
        "query = \"\"\"\n",
        "What were the efficacy of vaccines for various age groups?\n",
        "\"\"\"\n",
        "\n",
        "retrieved_chunks = retrieve_chunks_faiss(query, index, documents, metadatas, top_k=5)\n",
        "\n",
        "# Format the context\n",
        "context = format_context(retrieved_chunks)\n",
        "\n",
        "# Generate an answer\n",
        "answer = generate_answer(query, context, model, tokenizer)\n",
        "answer"
      ],
      "metadata": {
        "colab": {
          "base_uri": "https://localhost:8080/",
          "height": 143
        },
        "id": "5K39kJnun4wi",
        "outputId": "d23ac90b-1698-48a6-dcc8-973046f47e10"
      },
      "execution_count": 159,
      "outputs": [
        {
          "output_type": "stream",
          "name": "stdout",
          "text": [
            "Input tokenised to 994 tokens\n",
            "Model google/flan-t5-base will generate now to: \n",
            "What were the efficacy of vaccines for various age groups?\n",
            "\n",
            "CPU times: user 19.2 s, sys: 232 ms, total: 19.5 s\n",
            "Wall time: 24.2 s\n"
          ]
        },
        {
          "output_type": "execute_result",
          "data": {
            "text/plain": [
              "'Protection against SARS-CoV-2 infection is lower among older age groups, while protection against hospitalization remains reasonably good for all age groups, among both partially and fully vaccinated'"
            ],
            "application/vnd.google.colaboratory.intrinsic+json": {
              "type": "string"
            }
          },
          "metadata": {},
          "execution_count": 159
        }
      ]
    },
    {
      "cell_type": "code",
      "source": [
        "print(context)"
      ],
      "metadata": {
        "colab": {
          "base_uri": "https://localhost:8080/"
        },
        "id": "KHUVy4nko1yy",
        "outputId": "555deb79-277c-4888-e27b-85cdc8378592"
      },
      "execution_count": 155,
      "outputs": [
        {
          "output_type": "stream",
          "name": "stdout",
          "text": [
            "\n",
            "\n",
            "Chunk 1 trial. The latter might not be the case if the experimental treatment is suspected of being harmful and it is consequently withdrawn from current patients. Results\n",
            "\n",
            "Chunk 2 the current study. We thank all the medical staff involved in treating the patients and all patients 161 and their families involved in this study. 171\n",
            "\n",
            "Chunk 3 benefits still outweigh by far the potential risks, thus they should be recommended to these patients. Nevertheless, large prospective studies are needed for further investigations. Introduction\n",
            "\n",
            "Chunk 4 remember that during the current pandemic all the medicines are used off-label, since none of them has yet been approved for the treatment of COVID-19. Introduction\n",
            "\n",
            "Chunk 5 ⩾75% of the panel ticked the same answer. In this meeting, content of an information leaflet about treatment options for patients was discussed as well. Data collection and analysis\n"
          ]
        }
      ]
    },
    {
      "cell_type": "markdown",
      "source": [
        "# Testing other QA on retrieved chunks models"
      ],
      "metadata": {
        "id": "QvXDgkygE9SA"
      }
    },
    {
      "cell_type": "markdown",
      "source": [
        "##Context"
      ],
      "metadata": {
        "id": "str2YwejsGHL"
      }
    },
    {
      "cell_type": "code",
      "source": [
        "print(query)"
      ],
      "metadata": {
        "id": "R2prfoGjruB-",
        "outputId": "3549bb80-a481-44f8-c85c-e1894b15cd54",
        "colab": {
          "base_uri": "https://localhost:8080/"
        }
      },
      "execution_count": 170,
      "outputs": [
        {
          "output_type": "stream",
          "name": "stdout",
          "text": [
            "\n",
            "What were the efficacy of vaccines for various age groups?\n",
            "\n"
          ]
        }
      ]
    },
    {
      "cell_type": "code",
      "source": [
        "print(context)"
      ],
      "metadata": {
        "id": "v_uF3j7brr8X",
        "outputId": "66bf6e3e-0777-4cd9-a5d8-a8867bbb72ac",
        "colab": {
          "base_uri": "https://localhost:8080/"
        }
      },
      "execution_count": 168,
      "outputs": [
        {
          "output_type": "stream",
          "name": "stdout",
          "text": [
            "\n",
            "\n",
            "Chunk 1 of the elderly. Further studies to determine long-term effectiveness of COVID-19 vaccines in high-risk populations and the safety and effectiveness of additional boosters are needed. Main text:\n",
            "\n",
            "Chunk 2 not always take into consideration the daily life barriers of the population. Easy access to vaccination needs to be accomplished by barrier-free access. Demographic changes In response to public health policies, life expectancy has doubled over the last century and the proportion of the elderly in the population continues to rise. Elderly people are more susceptible to infectious diseases and less responsive to vaccination, as is clearly shown by their responsiveness to the influenza vaccine (Franceschi et al. 2017; Demicheli et al. 2018; Levett-Jones 2020) . This growing situation warrants the adaptation of vaccines to the senescing immune system, thereby introducing a certain degree of personalisation at the scale of an age-defined population. For example, the Sanofi Pasteur Fluzone High-Dose trivalent flu vaccine and the Seqirus Fluad quadrivalent flu vaccine are specifically recommended for the over 65 years old (JAMA, published online: 2 October 2020) (Monto et al. 2009 ).\n",
            "\n",
            "Chunk 3 2 shows the overall adjusted vaccine effectiveness against SARS-CoV-2 infection, hospitalisation due to COVID-19, admission to ICU and death with COVID-19. Vaccine effectiveness by age Protection against SARS-CoV-2 infection is lower among older age groups, while protection against hospitalization remains reasonably good for all age groups, among both partially and fully vaccinated ( Figure 1 ; supplementary tables S3 and S4).\n",
            "\n",
            "Chunk 4 diagnosis of health conditions that might be attributable to the treatment, therapy, or vaccine. Analysis 9 Age Blocks: Oldest Third and Young Third Blocked Analysis The following conditions were significantly increased (p < 0.05) in the vaccinated group in both age blocks: fever, otitis media, conjunctivitis, sinusitis, breathing issues, anemia, gastroenteritis, and weight/eating disorder. The following conditions were significantly increased in the vaccinated group in the younger (more recent) age block only: asthma and allergic rhinitis. The following conditions were significantly increased in the older age block only: \"Well Child\" visit and eczema. None of the developmental delay categories were significantly increased in either the older or younger age blocks, likely due to low power. Social delay was significantly increased in the unvaccinated older age block. Two health outcomes, pain and respiratory infection, were increased in the unvaccinated group under the older block but were not significantly different in the younger block. These results, requested by a peer reviewer, demonstrate robustness of many associations to blocking by age and by gender and are provided as tables in Supplementary Materials Table S3 (including RIOV values and exact p-values of Z).The following conditions were significantly increased (p < 0.05) in the vaccinated group in both age blocks: fever, otitis media, conjunctivitis, sinusitis, breathing issues, anemia, gastroenteritis, and weight/eating disorder. The following conditions were significantly increased in the vaccinated group in the younger (more recent) age block only: asthma and allergic rhinitis. The following conditions were significantly increased in the older age block only: \"Well Child\" visit and eczema. None of the developmental delay categories were significantly increased in either the older or younger age blocks, likely due to low power. Social delay was significantly increased in the unvaccinated older age block. Two health outcomes, pain and respiratory infection, were increased in the unvaccinated group under the older block but were not significantly different in the younger block. These results, requested by a peer reviewer, demonstrate robustness of many associations to blocking by age and by gender and are provided as tables in Supplementary Materials Table S3 (including RIOV values and exact p-values of Z).\n",
            "\n",
            "Chunk 5 protection against hospitalization remains reasonably good for all age groups, among both partially and fully vaccinated ( Figure 1 ; supplementary tables S3 and S4). Figure 1 Adjusted vaccine effectiveness against SARS-CoV-2 infection (A) and hospitalisation (B) among partially (blue) and fully (green) vaccinated individuals\n"
          ]
        }
      ]
    },
    {
      "cell_type": "markdown",
      "source": [
        "\n"
      ],
      "metadata": {
        "id": "aqLEg5fShbWf"
      }
    },
    {
      "cell_type": "code",
      "source": [
        "print(len(context)/4)"
      ],
      "metadata": {
        "colab": {
          "base_uri": "https://localhost:8080/"
        },
        "id": "nU7FvBiJFoks",
        "outputId": "11bc9638-8926-498d-dbb4-8310d6c08d3b"
      },
      "execution_count": 164,
      "outputs": [
        {
          "output_type": "stream",
          "name": "stdout",
          "text": [
            "1100.25\n"
          ]
        }
      ]
    },
    {
      "cell_type": "markdown",
      "source": [
        "##google/flan-t5-small"
      ],
      "metadata": {
        "id": "W_z7IfUQsJvR"
      }
    },
    {
      "cell_type": "code",
      "source": [
        "generation_model = \"google/flan-t5-small\"\n",
        "tokenizer = AutoTokenizer.from_pretrained(generation_model)\n",
        "model = AutoModelForSeq2SeqLM.from_pretrained(generation_model)"
      ],
      "metadata": {
        "id": "bsZ6WpD2rYKS"
      },
      "execution_count": 166,
      "outputs": []
    },
    {
      "cell_type": "code",
      "source": [
        "%%time\n",
        "# Generate an answer\n",
        "answer = generate_answer(query, context, model, tokenizer)\n",
        "answer"
      ],
      "metadata": {
        "id": "mzZ6MH67re37",
        "outputId": "d7e60ed1-534d-446f-beaa-6f30b8755bff",
        "colab": {
          "base_uri": "https://localhost:8080/",
          "height": 143
        }
      },
      "execution_count": 167,
      "outputs": [
        {
          "output_type": "stream",
          "name": "stdout",
          "text": [
            "Input tokenised to 994 tokens\n",
            "Model google/flan-t5-small will generate now to: \n",
            "What were the efficacy of vaccines for various age groups?\n",
            "\n",
            "CPU times: user 3.02 s, sys: 148 ms, total: 3.17 s\n",
            "Wall time: 4.74 s\n"
          ]
        },
        {
          "output_type": "execute_result",
          "data": {
            "text/plain": [
              "'effective against SARS-CoV-2 infection'"
            ],
            "application/vnd.google.colaboratory.intrinsic+json": {
              "type": "string"
            }
          },
          "metadata": {},
          "execution_count": 167
        }
      ]
    },
    {
      "cell_type": "markdown",
      "source": [
        "##juliosocher/flan-t5-small-finetuned-scientific-articles"
      ],
      "metadata": {
        "id": "Fi5-qUQdsPZ1"
      }
    },
    {
      "cell_type": "code",
      "source": [
        "generation_model = \"juliosocher/flan-t5-small-finetuned-scientific-articles\"\n",
        "tokenizer = AutoTokenizer.from_pretrained(generation_model)\n",
        "model = AutoModelForSeq2SeqLM.from_pretrained(generation_model)"
      ],
      "metadata": {
        "id": "P3eyxqwzFATs"
      },
      "execution_count": 171,
      "outputs": []
    },
    {
      "cell_type": "code",
      "source": [
        "%%time\n",
        "# Generate an answer\n",
        "answer = generate_answer(query, context, model, tokenizer)\n",
        "answer"
      ],
      "metadata": {
        "colab": {
          "base_uri": "https://localhost:8080/",
          "height": 143
        },
        "id": "SWmC0NUQFQqb",
        "outputId": "342f6666-206d-4716-ebb5-8667e4ea5db1"
      },
      "execution_count": 172,
      "outputs": [
        {
          "output_type": "stream",
          "name": "stdout",
          "text": [
            "Input tokenised to 994 tokens\n",
            "Model juliosocher/flan-t5-small-finetuned-scientific-articles will generate now to: \n",
            "What were the efficacy of vaccines for various age groups?\n",
            "\n",
            "CPU times: user 5.53 s, sys: 23.9 ms, total: 5.56 s\n",
            "Wall time: 5.73 s\n"
          ]
        },
        {
          "output_type": "execute_result",
          "data": {
            "text/plain": [
              "'Increased vaccine effectiveness against SARS-CoV-2 infection (A) and hospitalisation (B) among partially (blue) and fully (green) vaccinated individuals'"
            ],
            "application/vnd.google.colaboratory.intrinsic+json": {
              "type": "string"
            }
          },
          "metadata": {},
          "execution_count": 172
        }
      ]
    },
    {
      "cell_type": "markdown",
      "source": [
        "##razent/SciFive-base-Pubmed_PMC"
      ],
      "metadata": {
        "id": "gRuHTzAKsR75"
      }
    },
    {
      "cell_type": "code",
      "source": [
        "generation_model = \"razent/SciFive-base-Pubmed_PMC\"\n",
        "tokenizer = AutoTokenizer.from_pretrained(generation_model)\n",
        "model = AutoModelForSeq2SeqLM.from_pretrained(generation_model)"
      ],
      "metadata": {
        "id": "raSJWGFuFX6f"
      },
      "execution_count": 173,
      "outputs": []
    },
    {
      "cell_type": "code",
      "source": [
        "%%time\n",
        "# Generate an answer\n",
        "answer = generate_answer(query, context, model, tokenizer)\n",
        "answer"
      ],
      "metadata": {
        "colab": {
          "base_uri": "https://localhost:8080/",
          "height": 196
        },
        "id": "wro3J6zYFZX_",
        "outputId": "eaeabc1f-8acb-40ac-f294-056a25f84618"
      },
      "execution_count": 174,
      "outputs": [
        {
          "output_type": "stream",
          "name": "stdout",
          "text": [
            "Input tokenised to 994 tokens\n",
            "Model razent/SciFive-base-Pubmed_PMC will generate now to: \n",
            "What were the efficacy of vaccines for various age groups?\n",
            "\n",
            "CPU times: user 1min 19s, sys: 2.42 s, total: 1min 21s\n",
            "Wall time: 1min 41s\n"
          ]
        },
        {
          "output_type": "execute_result",
          "data": {
            "text/plain": [
              "'Background: Chunk 1 of the elderly. Both the Sanofi Pasteur Fluad trivalent flu vaccine and the Seqirus Fluad quadrivalent flu vaccine are recommended for the elderly. Main text: Chunk 1 of the elderly. Main text: Chunk 1 of the elderly. Main text: Chunk 1 of the elderly. Main text: Chunk 1 of the elderly. Main text: Chunk 1 of the elderly. Main text: Chunk 1 of the elderly. Main text: Chunk 1 of the elderly. Main text: Chunk 1 of the elderly. Main text: Chunk 1 of the elderly. Main text: Chunk 1 of the elderly. Main text: Chunk 1 of the elderly. Main text: Chunk 1 of the elderly. Main text: Chunk 1 of the elderly. Main text: Chunk 1 of the elderly. Main text: Chunk 1 of the elderly. Main text: Chunk 2 of the elderly. Main text: Chunk 3 What were the efficacy of vaccines for various age groups? Answer: Yes'"
            ],
            "application/vnd.google.colaboratory.intrinsic+json": {
              "type": "string"
            }
          },
          "metadata": {},
          "execution_count": 174
        }
      ]
    },
    {
      "cell_type": "markdown",
      "source": [
        "??"
      ],
      "metadata": {
        "id": "9pLlNfLwsUyO"
      }
    },
    {
      "cell_type": "code",
      "source": [
        "generation_model = \"\"\n",
        "tokenizer = AutoTokenizer.from_pretrained(generation_model)\n",
        "model = AutoModelForSeq2SeqLM.from_pretrained(generation_model)"
      ],
      "metadata": {
        "id": "e-hRKK2_hMQx"
      },
      "execution_count": null,
      "outputs": []
    },
    {
      "cell_type": "code",
      "source": [
        "%%time\n",
        "# Generate an answer\n",
        "answer = generate_answer(query, context, model, tokenizer)\n",
        "answer"
      ],
      "metadata": {
        "id": "xNv6HdSlhPUy"
      },
      "execution_count": null,
      "outputs": []
    },
    {
      "cell_type": "markdown",
      "source": [
        "# Data exploration"
      ],
      "metadata": {
        "id": "9JMHunhJqUGI"
      }
    },
    {
      "cell_type": "markdown",
      "source": [
        "## Get files from the Kaggle dataset"
      ],
      "metadata": {
        "id": "qzhRcfvnqUGL"
      }
    },
    {
      "cell_type": "code",
      "source": [
        "import kagglehub\n",
        "\n",
        "# Download latest version\n",
        "path = kagglehub.dataset_download(\"allen-institute-for-ai/CORD-19-research-challenge\")\n",
        "\n",
        "print(\"Path to dataset files:\", path)"
      ],
      "metadata": {
        "trusted": true,
        "execution": {
          "iopub.status.busy": "2025-03-18T08:34:08.348354Z",
          "iopub.execute_input": "2025-03-18T08:34:08.348823Z",
          "iopub.status.idle": "2025-03-18T08:34:08.897165Z",
          "shell.execute_reply.started": "2025-03-18T08:34:08.348782Z",
          "shell.execute_reply": "2025-03-18T08:34:08.895816Z"
        },
        "colab": {
          "base_uri": "https://localhost:8080/",
          "height": 0
        },
        "collapsed": true,
        "id": "do6PprA9qUGL",
        "outputId": "316ff0f2-541a-4762-e370-d62857703c67"
      },
      "outputs": [
        {
          "output_type": "stream",
          "name": "stdout",
          "text": [
            "Downloading from https://www.kaggle.com/api/v1/datasets/download/allen-institute-for-ai/CORD-19-research-challenge?dataset_version_number=111...\n"
          ]
        },
        {
          "output_type": "stream",
          "name": "stderr",
          "text": [
            "  4%|▎         | 680M/18.4G [00:10<04:45, 66.5MB/s]\n"
          ]
        },
        {
          "output_type": "error",
          "ename": "KeyboardInterrupt",
          "evalue": "",
          "traceback": [
            "\u001b[0;31m---------------------------------------------------------------------------\u001b[0m",
            "\u001b[0;31mKeyboardInterrupt\u001b[0m                         Traceback (most recent call last)",
            "\u001b[0;32m<ipython-input-2-07a56adcd751>\u001b[0m in \u001b[0;36m<cell line: 0>\u001b[0;34m()\u001b[0m\n\u001b[1;32m      2\u001b[0m \u001b[0;34m\u001b[0m\u001b[0m\n\u001b[1;32m      3\u001b[0m \u001b[0;31m# Download latest version\u001b[0m\u001b[0;34m\u001b[0m\u001b[0;34m\u001b[0m\u001b[0m\n\u001b[0;32m----> 4\u001b[0;31m \u001b[0mpath\u001b[0m \u001b[0;34m=\u001b[0m \u001b[0mkagglehub\u001b[0m\u001b[0;34m.\u001b[0m\u001b[0mdataset_download\u001b[0m\u001b[0;34m(\u001b[0m\u001b[0;34m\"allen-institute-for-ai/CORD-19-research-challenge\"\u001b[0m\u001b[0;34m)\u001b[0m\u001b[0;34m\u001b[0m\u001b[0;34m\u001b[0m\u001b[0m\n\u001b[0m\u001b[1;32m      5\u001b[0m \u001b[0;34m\u001b[0m\u001b[0m\n\u001b[1;32m      6\u001b[0m \u001b[0mprint\u001b[0m\u001b[0;34m(\u001b[0m\u001b[0;34m\"Path to dataset files:\"\u001b[0m\u001b[0;34m,\u001b[0m \u001b[0mpath\u001b[0m\u001b[0;34m)\u001b[0m\u001b[0;34m\u001b[0m\u001b[0;34m\u001b[0m\u001b[0m\n",
            "\u001b[0;32m/usr/local/lib/python3.11/dist-packages/kagglehub/datasets.py\u001b[0m in \u001b[0;36mdataset_download\u001b[0;34m(handle, path, force_download)\u001b[0m\n\u001b[1;32m     33\u001b[0m     \u001b[0mh\u001b[0m \u001b[0;34m=\u001b[0m \u001b[0mparse_dataset_handle\u001b[0m\u001b[0;34m(\u001b[0m\u001b[0mhandle\u001b[0m\u001b[0;34m)\u001b[0m\u001b[0;34m\u001b[0m\u001b[0;34m\u001b[0m\u001b[0m\n\u001b[1;32m     34\u001b[0m     \u001b[0mlogger\u001b[0m\u001b[0;34m.\u001b[0m\u001b[0minfo\u001b[0m\u001b[0;34m(\u001b[0m\u001b[0;34mf\"Downloading Dataset: {h.to_url()} ...\"\u001b[0m\u001b[0;34m,\u001b[0m \u001b[0mextra\u001b[0m\u001b[0;34m=\u001b[0m\u001b[0;34m{\u001b[0m\u001b[0;34m**\u001b[0m\u001b[0mEXTRA_CONSOLE_BLOCK\u001b[0m\u001b[0;34m}\u001b[0m\u001b[0;34m)\u001b[0m\u001b[0;34m\u001b[0m\u001b[0;34m\u001b[0m\u001b[0m\n\u001b[0;32m---> 35\u001b[0;31m     \u001b[0mpath\u001b[0m\u001b[0;34m,\u001b[0m \u001b[0m_\u001b[0m \u001b[0;34m=\u001b[0m \u001b[0mregistry\u001b[0m\u001b[0;34m.\u001b[0m\u001b[0mdataset_resolver\u001b[0m\u001b[0;34m(\u001b[0m\u001b[0mh\u001b[0m\u001b[0;34m,\u001b[0m \u001b[0mpath\u001b[0m\u001b[0;34m,\u001b[0m \u001b[0mforce_download\u001b[0m\u001b[0;34m=\u001b[0m\u001b[0mforce_download\u001b[0m\u001b[0;34m)\u001b[0m\u001b[0;34m\u001b[0m\u001b[0;34m\u001b[0m\u001b[0m\n\u001b[0m\u001b[1;32m     36\u001b[0m     \u001b[0;32mreturn\u001b[0m \u001b[0mpath\u001b[0m\u001b[0;34m\u001b[0m\u001b[0;34m\u001b[0m\u001b[0m\n\u001b[1;32m     37\u001b[0m \u001b[0;34m\u001b[0m\u001b[0m\n",
            "\u001b[0;32m/usr/local/lib/python3.11/dist-packages/kagglehub/registry.py\u001b[0m in \u001b[0;36m__call__\u001b[0;34m(self, *args, **kwargs)\u001b[0m\n\u001b[1;32m     26\u001b[0m         \u001b[0;32mfor\u001b[0m \u001b[0mimpl\u001b[0m \u001b[0;32min\u001b[0m \u001b[0mreversed\u001b[0m\u001b[0;34m(\u001b[0m\u001b[0mself\u001b[0m\u001b[0;34m.\u001b[0m\u001b[0m_impls\u001b[0m\u001b[0;34m)\u001b[0m\u001b[0;34m:\u001b[0m\u001b[0;34m\u001b[0m\u001b[0;34m\u001b[0m\u001b[0m\n\u001b[1;32m     27\u001b[0m             \u001b[0;32mif\u001b[0m \u001b[0mimpl\u001b[0m\u001b[0;34m.\u001b[0m\u001b[0mis_supported\u001b[0m\u001b[0;34m(\u001b[0m\u001b[0;34m*\u001b[0m\u001b[0margs\u001b[0m\u001b[0;34m,\u001b[0m \u001b[0;34m**\u001b[0m\u001b[0mkwargs\u001b[0m\u001b[0;34m)\u001b[0m\u001b[0;34m:\u001b[0m\u001b[0;34m\u001b[0m\u001b[0;34m\u001b[0m\u001b[0m\n\u001b[0;32m---> 28\u001b[0;31m                 \u001b[0;32mreturn\u001b[0m \u001b[0mimpl\u001b[0m\u001b[0;34m(\u001b[0m\u001b[0;34m*\u001b[0m\u001b[0margs\u001b[0m\u001b[0;34m,\u001b[0m \u001b[0;34m**\u001b[0m\u001b[0mkwargs\u001b[0m\u001b[0;34m)\u001b[0m\u001b[0;34m\u001b[0m\u001b[0;34m\u001b[0m\u001b[0m\n\u001b[0m\u001b[1;32m     29\u001b[0m             \u001b[0;32melse\u001b[0m\u001b[0;34m:\u001b[0m\u001b[0;34m\u001b[0m\u001b[0;34m\u001b[0m\u001b[0m\n\u001b[1;32m     30\u001b[0m                 \u001b[0mfails\u001b[0m\u001b[0;34m.\u001b[0m\u001b[0mappend\u001b[0m\u001b[0;34m(\u001b[0m\u001b[0mtype\u001b[0m\u001b[0;34m(\u001b[0m\u001b[0mimpl\u001b[0m\u001b[0;34m)\u001b[0m\u001b[0;34m.\u001b[0m\u001b[0m__name__\u001b[0m\u001b[0;34m)\u001b[0m\u001b[0;34m\u001b[0m\u001b[0;34m\u001b[0m\u001b[0m\n",
            "\u001b[0;32m/usr/local/lib/python3.11/dist-packages/kagglehub/resolver.py\u001b[0m in \u001b[0;36m__call__\u001b[0;34m(self, handle, path, force_download)\u001b[0m\n\u001b[1;32m     27\u001b[0m             \u001b[0mSome\u001b[0m \u001b[0mcases\u001b[0m \u001b[0mwhere\u001b[0m \u001b[0mversion\u001b[0m \u001b[0mnumber\u001b[0m \u001b[0mmight\u001b[0m \u001b[0mbe\u001b[0m \u001b[0mmissing\u001b[0m\u001b[0;34m:\u001b[0m \u001b[0mCompetition\u001b[0m \u001b[0mdatasource\u001b[0m\u001b[0;34m,\u001b[0m \u001b[0mAPI\u001b[0m\u001b[0;34m-\u001b[0m\u001b[0mbased\u001b[0m \u001b[0mmodels\u001b[0m\u001b[0;34m.\u001b[0m\u001b[0;34m\u001b[0m\u001b[0;34m\u001b[0m\u001b[0m\n\u001b[1;32m     28\u001b[0m         \"\"\"\n\u001b[0;32m---> 29\u001b[0;31m         \u001b[0mpath\u001b[0m\u001b[0;34m,\u001b[0m \u001b[0mversion\u001b[0m \u001b[0;34m=\u001b[0m \u001b[0mself\u001b[0m\u001b[0;34m.\u001b[0m\u001b[0m_resolve\u001b[0m\u001b[0;34m(\u001b[0m\u001b[0mhandle\u001b[0m\u001b[0;34m,\u001b[0m \u001b[0mpath\u001b[0m\u001b[0;34m,\u001b[0m \u001b[0mforce_download\u001b[0m\u001b[0;34m=\u001b[0m\u001b[0mforce_download\u001b[0m\u001b[0;34m)\u001b[0m\u001b[0;34m\u001b[0m\u001b[0;34m\u001b[0m\u001b[0m\n\u001b[0m\u001b[1;32m     30\u001b[0m \u001b[0;34m\u001b[0m\u001b[0m\n\u001b[1;32m     31\u001b[0m         \u001b[0;31m# Note handles are immutable, so _resolve() could not have altered our reference\u001b[0m\u001b[0;34m\u001b[0m\u001b[0;34m\u001b[0m\u001b[0m\n",
            "\u001b[0;32m/usr/local/lib/python3.11/dist-packages/kagglehub/http_resolver.py\u001b[0m in \u001b[0;36m_resolve\u001b[0;34m(self, h, path, force_download)\u001b[0m\n\u001b[1;32m    128\u001b[0m \u001b[0;34m\u001b[0m\u001b[0m\n\u001b[1;32m    129\u001b[0m             \u001b[0;31m# First, we download the archive.\u001b[0m\u001b[0;34m\u001b[0m\u001b[0;34m\u001b[0m\u001b[0m\n\u001b[0;32m--> 130\u001b[0;31m             \u001b[0mapi_client\u001b[0m\u001b[0;34m.\u001b[0m\u001b[0mdownload_file\u001b[0m\u001b[0;34m(\u001b[0m\u001b[0murl_path\u001b[0m\u001b[0;34m,\u001b[0m \u001b[0marchive_path\u001b[0m\u001b[0;34m,\u001b[0m \u001b[0mh\u001b[0m\u001b[0;34m)\u001b[0m\u001b[0;34m\u001b[0m\u001b[0;34m\u001b[0m\u001b[0m\n\u001b[0m\u001b[1;32m    131\u001b[0m \u001b[0;34m\u001b[0m\u001b[0m\n\u001b[1;32m    132\u001b[0m             \u001b[0m_extract_archive\u001b[0m\u001b[0;34m(\u001b[0m\u001b[0marchive_path\u001b[0m\u001b[0;34m,\u001b[0m \u001b[0mout_path\u001b[0m\u001b[0;34m)\u001b[0m\u001b[0;34m\u001b[0m\u001b[0;34m\u001b[0m\u001b[0m\n",
            "\u001b[0;32m/usr/local/lib/python3.11/dist-packages/kagglehub/clients.py\u001b[0m in \u001b[0;36mdownload_file\u001b[0;34m(self, path, out_file, resource_handle, cached_path, extract_auto_compressed_file)\u001b[0m\n\u001b[1;32m    215\u001b[0m             \u001b[0;32melse\u001b[0m\u001b[0;34m:\u001b[0m\u001b[0;34m\u001b[0m\u001b[0;34m\u001b[0m\u001b[0m\n\u001b[1;32m    216\u001b[0m                 \u001b[0mlogger\u001b[0m\u001b[0;34m.\u001b[0m\u001b[0minfo\u001b[0m\u001b[0;34m(\u001b[0m\u001b[0;34mf\"Downloading from {url}...\"\u001b[0m\u001b[0;34m)\u001b[0m\u001b[0;34m\u001b[0m\u001b[0;34m\u001b[0m\u001b[0m\n\u001b[0;32m--> 217\u001b[0;31m                 \u001b[0m_download_file\u001b[0m\u001b[0;34m(\u001b[0m\u001b[0mresponse\u001b[0m\u001b[0;34m,\u001b[0m \u001b[0mout_file\u001b[0m\u001b[0;34m,\u001b[0m \u001b[0msize_read\u001b[0m\u001b[0;34m,\u001b[0m \u001b[0mtotal_size\u001b[0m\u001b[0;34m,\u001b[0m \u001b[0mhash_object\u001b[0m\u001b[0;34m)\u001b[0m\u001b[0;34m\u001b[0m\u001b[0;34m\u001b[0m\u001b[0m\n\u001b[0m\u001b[1;32m    218\u001b[0m \u001b[0;34m\u001b[0m\u001b[0m\n\u001b[1;32m    219\u001b[0m             \u001b[0;32mif\u001b[0m \u001b[0mhash_object\u001b[0m\u001b[0;34m:\u001b[0m\u001b[0;34m\u001b[0m\u001b[0;34m\u001b[0m\u001b[0m\n",
            "\u001b[0;32m/usr/local/lib/python3.11/dist-packages/kagglehub/clients.py\u001b[0m in \u001b[0;36m_download_file\u001b[0;34m(response, out_file, size_read, total_size, hash_object)\u001b[0m\n\u001b[1;32m    275\u001b[0m             \u001b[0;32mwith\u001b[0m \u001b[0mopen\u001b[0m\u001b[0;34m(\u001b[0m\u001b[0mout_file\u001b[0m\u001b[0;34m,\u001b[0m \u001b[0mopen_mode\u001b[0m\u001b[0;34m)\u001b[0m \u001b[0;32mas\u001b[0m \u001b[0mf\u001b[0m\u001b[0;34m:\u001b[0m\u001b[0;34m\u001b[0m\u001b[0;34m\u001b[0m\u001b[0m\n\u001b[1;32m    276\u001b[0m                 \u001b[0;32mfor\u001b[0m \u001b[0mchunk\u001b[0m \u001b[0;32min\u001b[0m \u001b[0mresponse\u001b[0m\u001b[0;34m.\u001b[0m\u001b[0miter_content\u001b[0m\u001b[0;34m(\u001b[0m\u001b[0mCHUNK_SIZE\u001b[0m\u001b[0;34m)\u001b[0m\u001b[0;34m:\u001b[0m\u001b[0;34m\u001b[0m\u001b[0;34m\u001b[0m\u001b[0m\n\u001b[0;32m--> 277\u001b[0;31m                     \u001b[0mf\u001b[0m\u001b[0;34m.\u001b[0m\u001b[0mwrite\u001b[0m\u001b[0;34m(\u001b[0m\u001b[0mchunk\u001b[0m\u001b[0;34m)\u001b[0m\u001b[0;34m\u001b[0m\u001b[0;34m\u001b[0m\u001b[0m\n\u001b[0m\u001b[1;32m    278\u001b[0m                     \u001b[0;32mif\u001b[0m \u001b[0mhash_object\u001b[0m\u001b[0;34m:\u001b[0m\u001b[0;34m\u001b[0m\u001b[0;34m\u001b[0m\u001b[0m\n\u001b[1;32m    279\u001b[0m                         \u001b[0mhash_object\u001b[0m\u001b[0;34m.\u001b[0m\u001b[0mupdate\u001b[0m\u001b[0;34m(\u001b[0m\u001b[0mchunk\u001b[0m\u001b[0;34m)\u001b[0m\u001b[0;34m\u001b[0m\u001b[0;34m\u001b[0m\u001b[0m\n",
            "\u001b[0;31mKeyboardInterrupt\u001b[0m: "
          ]
        }
      ],
      "execution_count": 2
    },
    {
      "cell_type": "code",
      "source": [
        "%%time\n",
        "file_dir = '/kaggle/input/CORD-19-research-challenge/document_parses/pdf_json/'\n",
        "import os\n",
        "filenames = os.listdir(file_dir)\n",
        "print(\"Number of articles retrieved from biorxiv:\", len(filenames))"
      ],
      "metadata": {
        "trusted": true,
        "execution": {
          "iopub.status.busy": "2025-03-18T08:34:16.123094Z",
          "iopub.execute_input": "2025-03-18T08:34:16.123466Z",
          "iopub.status.idle": "2025-03-18T08:34:55.275709Z",
          "shell.execute_reply.started": "2025-03-18T08:34:16.123436Z",
          "shell.execute_reply": "2025-03-18T08:34:55.274696Z"
        },
        "id": "-_LDekOkqUGM",
        "outputId": "34d56e53-2d47-4165-a718-217edee564c5"
      },
      "outputs": [
        {
          "name": "stdout",
          "text": "Number of articles retrieved from biorxiv: 401214\nCPU times: user 127 ms, sys: 352 ms, total: 480 ms\nWall time: 39.1 s\n",
          "output_type": "stream"
        }
      ],
      "execution_count": null
    },
    {
      "cell_type": "code",
      "source": [
        "# select randomly 1000 article\n",
        "sample_file = np.random.choice(filenames, size=1000, replace=False,)\n",
        "len(sample_file)"
      ],
      "metadata": {
        "trusted": true,
        "execution": {
          "iopub.status.busy": "2025-03-18T08:34:58.350898Z",
          "iopub.execute_input": "2025-03-18T08:34:58.351237Z",
          "iopub.status.idle": "2025-03-18T08:34:58.529190Z",
          "shell.execute_reply.started": "2025-03-18T08:34:58.351210Z",
          "shell.execute_reply": "2025-03-18T08:34:58.528317Z"
        },
        "id": "aE6dps41qUGM",
        "outputId": "da2c216d-1642-4f68-bc88-4c02956247cf"
      },
      "outputs": [
        {
          "execution_count": 4,
          "output_type": "execute_result",
          "data": {
            "text/plain": "1000"
          },
          "metadata": {}
        }
      ],
      "execution_count": null
    },
    {
      "cell_type": "code",
      "source": [
        "%%time\n",
        "all_files = []\n",
        "\n",
        "for filename in sample_file:\n",
        "    filename = file_dir + filename\n",
        "    file = open(filename, 'rb')\n",
        "    # TODO here would be nice to store the file locally in 'kaggle/working/'\n",
        "    all_files.append(json.load(file))"
      ],
      "metadata": {
        "trusted": true,
        "execution": {
          "iopub.status.busy": "2025-03-18T08:35:09.905623Z",
          "iopub.execute_input": "2025-03-18T08:35:09.905992Z",
          "iopub.status.idle": "2025-03-18T08:35:22.003457Z",
          "shell.execute_reply.started": "2025-03-18T08:35:09.905964Z",
          "shell.execute_reply": "2025-03-18T08:35:22.002405Z"
        },
        "id": "Ah0B0TTZqUGN",
        "outputId": "7900637a-262d-49f7-e57d-19a0e5abe05e"
      },
      "outputs": [
        {
          "name": "stdout",
          "text": "CPU times: user 1.79 s, sys: 471 ms, total: 2.26 s\nWall time: 12.1 s\n",
          "output_type": "stream"
        }
      ],
      "execution_count": null
    },
    {
      "cell_type": "code",
      "source": [],
      "metadata": {
        "trusted": true,
        "id": "BypegUFZqUGN"
      },
      "outputs": [],
      "execution_count": null
    },
    {
      "cell_type": "code",
      "source": [
        "import numpy as np # linear algebra\n",
        "import pandas as pd # data processing, CSV file I/O (e.g. pd.read_csv)\n",
        "import json\n",
        "from pprint import pprint\n",
        "\n",
        "# Input data files are available in the read-only \"../input/\" directory\n",
        "# For example, running this (by clicking run or pressing Shift+Enter) will list all files under the input directory\n",
        "\n",
        "# import os\n",
        "# for dirname, _, filenames in os.walk('/kaggle/input'):\n",
        "#     for filename in filenames:\n",
        "#         print(os.path.join(dirname, filename))\n",
        "\n",
        "# You can write up to 20GB to the current directory (/kaggle/working/) that gets preserved as output when you create a version using \"Save & Run All\"\n",
        "# You can also write temporary files to /kaggle/temp/, but they won't be saved outside of the current session"
      ],
      "metadata": {
        "_uuid": "8f2839f25d086af736a60e9eeb907d3b93b6e0e5",
        "_cell_guid": "b1076dfc-b9ad-4769-8c92-a6c4dae69d19",
        "trusted": true,
        "execution": {
          "iopub.status.busy": "2025-03-18T08:34:04.667626Z",
          "iopub.execute_input": "2025-03-18T08:34:04.667910Z",
          "iopub.status.idle": "2025-03-18T08:34:05.941084Z",
          "shell.execute_reply.started": "2025-03-18T08:34:04.667884Z",
          "shell.execute_reply": "2025-03-18T08:34:05.939919Z"
        },
        "id": "m12Bqhp0qUGK"
      },
      "outputs": [],
      "execution_count": 1
    },
    {
      "cell_type": "markdown",
      "source": [
        "\n",
        "\n",
        "## Extract info from opened files"
      ],
      "metadata": {
        "id": "m_LPpgsRqUGO"
      }
    },
    {
      "cell_type": "code",
      "source": [
        "file1 = all_files[45]\n",
        "print(\"Dictionary keys:\", all_files[0].keys())"
      ],
      "metadata": {
        "trusted": true,
        "execution": {
          "iopub.status.busy": "2025-03-17T15:59:29.008917Z",
          "iopub.execute_input": "2025-03-17T15:59:29.009300Z",
          "iopub.status.idle": "2025-03-17T15:59:29.014806Z",
          "shell.execute_reply.started": "2025-03-17T15:59:29.009268Z",
          "shell.execute_reply": "2025-03-17T15:59:29.013701Z"
        },
        "colab": {
          "base_uri": "https://localhost:8080/",
          "height": 0
        },
        "id": "Vc22b_o1qUGO",
        "outputId": "6387893e-a4ba-410c-c8aa-9e333e69185f"
      },
      "outputs": [
        {
          "output_type": "error",
          "ename": "NameError",
          "evalue": "name 'all_files' is not defined",
          "traceback": [
            "\u001b[0;31m---------------------------------------------------------------------------\u001b[0m",
            "\u001b[0;31mNameError\u001b[0m                                 Traceback (most recent call last)",
            "\u001b[0;32m<ipython-input-70-4ccde828a1e0>\u001b[0m in \u001b[0;36m<cell line: 0>\u001b[0;34m()\u001b[0m\n\u001b[0;32m----> 1\u001b[0;31m \u001b[0mfile1\u001b[0m \u001b[0;34m=\u001b[0m \u001b[0mall_files\u001b[0m\u001b[0;34m[\u001b[0m\u001b[0;36m45\u001b[0m\u001b[0;34m]\u001b[0m\u001b[0;34m\u001b[0m\u001b[0;34m\u001b[0m\u001b[0m\n\u001b[0m\u001b[1;32m      2\u001b[0m \u001b[0mprint\u001b[0m\u001b[0;34m(\u001b[0m\u001b[0;34m\"Dictionary keys:\"\u001b[0m\u001b[0;34m,\u001b[0m \u001b[0mall_files\u001b[0m\u001b[0;34m[\u001b[0m\u001b[0;36m0\u001b[0m\u001b[0;34m]\u001b[0m\u001b[0;34m.\u001b[0m\u001b[0mkeys\u001b[0m\u001b[0;34m(\u001b[0m\u001b[0;34m)\u001b[0m\u001b[0;34m)\u001b[0m\u001b[0;34m\u001b[0m\u001b[0;34m\u001b[0m\u001b[0m\n",
            "\u001b[0;31mNameError\u001b[0m: name 'all_files' is not defined"
          ]
        }
      ],
      "execution_count": 70
    },
    {
      "cell_type": "code",
      "source": [
        "texts = [(di['section'], di['text']) for di in file1['body_text']]\n",
        "texts_di = {di['section']: \"\" for di in file1['body_text']}\n",
        "for section, text in texts:\n",
        "    texts_di[section] += text\n",
        "\n",
        "#pprint(list(texts_di.keys()))"
      ],
      "metadata": {
        "trusted": true,
        "execution": {
          "iopub.status.busy": "2025-03-17T15:53:22.975471Z",
          "iopub.execute_input": "2025-03-17T15:53:22.975910Z",
          "iopub.status.idle": "2025-03-17T15:53:22.981148Z",
          "shell.execute_reply.started": "2025-03-17T15:53:22.975874Z",
          "shell.execute_reply": "2025-03-17T15:53:22.980116Z"
        },
        "id": "t_PmhcseqUGO"
      },
      "outputs": [],
      "execution_count": null
    },
    {
      "cell_type": "code",
      "source": [
        "pprint(file1['abstract'])"
      ],
      "metadata": {
        "trusted": true,
        "execution": {
          "iopub.status.busy": "2025-03-17T15:44:08.631612Z",
          "iopub.execute_input": "2025-03-17T15:44:08.632014Z",
          "iopub.status.idle": "2025-03-17T15:44:08.643933Z",
          "shell.execute_reply.started": "2025-03-17T15:44:08.631982Z",
          "shell.execute_reply": "2025-03-17T15:44:08.640993Z"
        },
        "id": "1maTqiJTqUGO"
      },
      "outputs": [],
      "execution_count": null
    },
    {
      "cell_type": "code",
      "source": [
        "def process_article(file):\n",
        "    body = \"\"\n",
        "\n",
        "    body += file['metadata']['title']\n",
        "    body += \"\\n\\n\"\n",
        "    if len(file['abstract']) > 0:\n",
        "        body += file['abstract'][0]['section']\n",
        "        body += \"\\n\\n\"\n",
        "        body += file['abstract'][0]['text']\n",
        "        body += \"\\n\\n\"\n",
        "\n",
        "    texts = [(di['section'], di['text']) for di in file['body_text']]\n",
        "    texts_di = {di['section']: \"\" for di in file['body_text']}\n",
        "    for section, text in texts:\n",
        "        texts_di[section] += text\n",
        "\n",
        "    for section, text in texts_di.items():\n",
        "        body += section\n",
        "        body += \"\\n\\n\"\n",
        "        body += text\n",
        "        body += \"\\n\\n\"\n",
        "\n",
        "    return body\n",
        "\n"
      ],
      "metadata": {
        "trusted": true,
        "execution": {
          "iopub.status.busy": "2025-03-18T08:35:33.434000Z",
          "iopub.execute_input": "2025-03-18T08:35:33.434410Z",
          "iopub.status.idle": "2025-03-18T08:35:33.440994Z",
          "shell.execute_reply.started": "2025-03-18T08:35:33.434381Z",
          "shell.execute_reply": "2025-03-18T08:35:33.439675Z"
        },
        "id": "GuFm9peNqUGP"
      },
      "outputs": [],
      "execution_count": null
    },
    {
      "cell_type": "code",
      "source": [
        "docs = []\n",
        "for f in all_files:\n",
        "    try:\n",
        "        docs.append(process_article(f))\n",
        "    except:\n",
        "        pprint(f)\n",
        "        exit()\n"
      ],
      "metadata": {
        "trusted": true,
        "execution": {
          "iopub.status.busy": "2025-03-18T08:35:38.111589Z",
          "iopub.execute_input": "2025-03-18T08:35:38.111953Z",
          "iopub.status.idle": "2025-03-18T08:35:38.217579Z",
          "shell.execute_reply.started": "2025-03-18T08:35:38.111923Z",
          "shell.execute_reply": "2025-03-18T08:35:38.216740Z"
        },
        "id": "iNsMBWCKqUGP"
      },
      "outputs": [],
      "execution_count": null
    },
    {
      "cell_type": "code",
      "source": [
        "len(docs)\n",
        "print(docs[3])\n",
        "article = docs[3]"
      ],
      "metadata": {
        "trusted": true,
        "execution": {
          "iopub.status.busy": "2025-03-18T08:35:43.528699Z",
          "iopub.execute_input": "2025-03-18T08:35:43.529078Z",
          "iopub.status.idle": "2025-03-18T08:35:43.534645Z",
          "shell.execute_reply.started": "2025-03-18T08:35:43.529048Z",
          "shell.execute_reply": "2025-03-18T08:35:43.533376Z"
        },
        "id": "ixyT7OkrqUGP"
      },
      "outputs": [],
      "execution_count": null
    },
    {
      "cell_type": "markdown",
      "source": [
        "# backup, early failed experiments with LLMs"
      ],
      "metadata": {
        "id": "m2cX29CMqUGP"
      }
    },
    {
      "cell_type": "code",
      "source": [
        "# Installing packages\n",
        "!pip install transformers\n",
        "\n",
        "!pip install sentence_transformers\n",
        "!pip install torch\n",
        "!pip install faiss-cpu\n",
        "\n",
        "!pip install -q -U immutabledict sentencepiece"
      ],
      "metadata": {
        "trusted": true,
        "execution": {
          "iopub.status.busy": "2025-03-18T09:16:08.403401Z",
          "iopub.execute_input": "2025-03-18T09:16:08.403897Z",
          "iopub.status.idle": "2025-03-18T09:16:32.810686Z",
          "shell.execute_reply.started": "2025-03-18T09:16:08.403860Z",
          "shell.execute_reply": "2025-03-18T09:16:32.809241Z"
        },
        "id": "SN0IComxqUGP"
      },
      "outputs": [],
      "execution_count": null
    },
    {
      "cell_type": "code",
      "source": [
        "!pip install git+https://github.com/huggingface/transformers@v4.49.0-Gemma-3\n",
        "\n",
        "\n"
      ],
      "metadata": {
        "trusted": true,
        "execution": {
          "iopub.status.busy": "2025-03-18T09:16:32.812511Z",
          "iopub.execute_input": "2025-03-18T09:16:32.812989Z",
          "iopub.status.idle": "2025-03-18T09:16:56.428675Z",
          "shell.execute_reply.started": "2025-03-18T09:16:32.812947Z",
          "shell.execute_reply": "2025-03-18T09:16:56.427206Z"
        },
        "id": "FGQadvjkqUGP"
      },
      "outputs": [],
      "execution_count": null
    },
    {
      "cell_type": "code",
      "source": [
        "import kagglehub\n",
        "import torch\n",
        "from transformers.models.gemma3 import Gemma3ForConditionalGeneration, Gemma3Processor\n"
      ],
      "metadata": {
        "trusted": true,
        "execution": {
          "iopub.status.busy": "2025-03-18T09:19:52.369608Z",
          "iopub.execute_input": "2025-03-18T09:19:52.370101Z",
          "iopub.status.idle": "2025-03-18T09:19:52.375544Z",
          "shell.execute_reply.started": "2025-03-18T09:19:52.370066Z",
          "shell.execute_reply": "2025-03-18T09:19:52.374383Z"
        },
        "id": "by5r2GBWqUGP"
      },
      "outputs": [],
      "execution_count": 4
    },
    {
      "cell_type": "code",
      "source": [
        "# Importing libraries\n",
        "\n",
        "# Importing system\n",
        "#import faiss\n",
        "\n",
        "# Importing Libraries LLM\n",
        "from sentence_transformers import SentenceTransformer\n",
        "from transformers import AutoTokenizer\n",
        "from transformers import AutoModelForCausalLM, AutoModelForSeq2SeqLM\n"
      ],
      "metadata": {
        "trusted": true,
        "execution": {
          "iopub.status.busy": "2025-03-18T08:47:20.158352Z",
          "iopub.execute_input": "2025-03-18T08:47:20.158828Z",
          "iopub.status.idle": "2025-03-18T08:47:20.192681Z",
          "shell.execute_reply.started": "2025-03-18T08:47:20.158794Z",
          "shell.execute_reply": "2025-03-18T08:47:20.191194Z"
        },
        "id": "QmVtnomgqUGQ"
      },
      "outputs": [],
      "execution_count": 4
    },
    {
      "cell_type": "markdown",
      "source": [
        "Mini data set"
      ],
      "metadata": {
        "id": "CQc3ys0U3Dgz"
      }
    }
  ]
}