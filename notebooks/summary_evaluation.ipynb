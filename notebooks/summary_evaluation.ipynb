{
  "cells": [
    {
      "cell_type": "markdown",
      "metadata": {
        "id": "m9llmQ11BuRN"
      },
      "source": []
    },
    {
      "cell_type": "markdown",
      "source": [
        "Summarization of articles papers"
      ],
      "metadata": {
        "id": "6e4RSqO_B_Bh"
      }
    },
    {
      "cell_type": "code",
      "source": [
        "# Importing libraries\n",
        "\n",
        "import pandas as pd\n",
        "import numpy as np\n",
        "import matplotlib.pyplot as plt\n",
        "import seaborn as sns\n",
        "import os"
      ],
      "metadata": {
        "id": "_04UA09SOx3D"
      },
      "execution_count": null,
      "outputs": []
    },
    {
      "cell_type": "code",
      "execution_count": null,
      "metadata": {
        "vscode": {
          "languageId": "plaintext"
        },
        "colab": {
          "base_uri": "https://localhost:8080/"
        },
        "id": "P8TKYZ5WBuRO",
        "outputId": "488a15bd-57f8-4099-d525-d528dabab648"
      },
      "outputs": [
        {
          "output_type": "stream",
          "name": "stderr",
          "text": [
            "/usr/local/lib/python3.11/dist-packages/huggingface_hub/utils/_auth.py:94: UserWarning: \n",
            "The secret `HF_TOKEN` does not exist in your Colab secrets.\n",
            "To authenticate with the Hugging Face Hub, create a token in your settings tab (https://huggingface.co/settings/tokens), set it as secret in your Google Colab and restart your session.\n",
            "You will be able to reuse this secret in all of your notebooks.\n",
            "Please note that authentication is recommended but still optional to access public models or datasets.\n",
            "  warnings.warn(\n"
          ]
        }
      ],
      "source": [
        "from transformers import AutoTokenizer, AutoModelForSeq2SeqLM\n",
        "\n",
        "tokenizer = AutoTokenizer.from_pretrained(\"facebook/bart-large-cnn\")\n",
        "\n",
        "model = AutoModelForSeq2SeqLM.from_pretrained(\"facebook/bart-large-cnn\")"
      ]
    },
    {
      "cell_type": "code",
      "source": [
        "file_path = os.path.join(os.getcwd(), 'papers_new.xlsx')\n",
        "file = pd.read_excel(file_path)\n",
        "\n",
        "\n"
      ],
      "metadata": {
        "id": "8AO9VJ2bOYoX"
      },
      "execution_count": null,
      "outputs": []
    },
    {
      "cell_type": "code",
      "source": [
        "# remove articles with missing values or duplicates\n",
        "\n",
        "file.dropna(inplace=True)\n",
        "file.drop_duplicates(inplace=True)\n",
        "\n",
        "# get a df with only 1000 rows\n",
        "\n",
        "file = file.iloc[:6500, :]\n",
        "file.shape"
      ],
      "metadata": {
        "colab": {
          "base_uri": "https://localhost:8080/"
        },
        "id": "faDEHw0-Rmd_",
        "outputId": "f8dcb599-457c-45a2-d2b0-d66f05a7a260"
      },
      "execution_count": null,
      "outputs": [
        {
          "output_type": "execute_result",
          "data": {
            "text/plain": [
              "(6500, 4)"
            ]
          },
          "metadata": {},
          "execution_count": 6
        }
      ]
    },
    {
      "cell_type": "code",
      "source": [
        "# tokenization\n",
        "def preprocess_function(batch):\n",
        "  source = [str(i) for i in batch[['full-text']].values]\n",
        "  target = [str(i) for i in batch[['abstract']].values]\n",
        "\n",
        "\n",
        "  source_ids = tokenizer(source, max_length=128, padding='max_length', truncation=True)\n",
        "  target_ids = tokenizer(target, max_length=128, padding='max_length', truncation=True)\n",
        "  labels = target_ids[\"input_ids\"]\n",
        "  labels = [[(l if l != tokenizer.pad_token_id else -100) for l in label] for label in labels]\n",
        "\n",
        "  return {\"input_ids\": source_ids[\"input_ids\"], \"attention_mask\": source_ids[\"attention_mask\"], \"labels\": labels}"
      ],
      "metadata": {
        "id": "2lvKH8GTDExS"
      },
      "execution_count": null,
      "outputs": []
    },
    {
      "cell_type": "code",
      "source": [
        "# preprocessing of the articles using batched=True\n",
        "tokenized_dataset = preprocess_function(file)\n",
        "token_df = pd.DataFrame(tokenized_dataset, columns=['input_ids', 'attention_mask', 'labels'], index=file.index)\n"
      ],
      "metadata": {
        "id": "mVtfmpMtRmMC"
      },
      "execution_count": null,
      "outputs": []
    },
    {
      "cell_type": "code",
      "source": [
        "df_source = pd.concat([file, token_df], axis=1, join='inner').reset_index(drop=True)"
      ],
      "metadata": {
        "id": "GMZX9x1PwlDH"
      },
      "execution_count": null,
      "outputs": []
    },
    {
      "cell_type": "code",
      "source": [
        "df_source.head()"
      ],
      "metadata": {
        "colab": {
          "base_uri": "https://localhost:8080/",
          "height": 813
        },
        "id": "13sdMahR4dBa",
        "outputId": "fb8a6c10-70c9-4cbb-cd2e-2e6d8af4b0dc"
      },
      "execution_count": null,
      "outputs": [
        {
          "output_type": "execute_result",
          "data": {
            "text/plain": [
              "                                   paper_id  \\\n",
              "0  97de2cec75e4557f014e5ecbc4db7885ced49c68   \n",
              "1  5c9bbf96e1a04c87f7a76f783f00ddf4af3c688e   \n",
              "2  26e4e16e5c03a202e957a932439aed7e713b2115   \n",
              "3  71ff1959c1833b0a89a9f3fde26c63e38859f4dc   \n",
              "4  2116036d1757b01907eafaf770bf2ca4e142ab06   \n",
              "\n",
              "                                               title  \\\n",
              "0  Neuroimmune multi-hit perspective of coronavir...   \n",
              "1  Gender Differences in COVID-19 Conspiracy Theo...   \n",
              "2  Estimated number of N95 respirators needed for...   \n",
              "3                      O R I G I N A L A R T I C L E   \n",
              "4  Journal Pre-proof Addressing the impact of COV...   \n",
              "\n",
              "                                            abstract  \\\n",
              "0  Abstract\\n\\nIt is well accepted that environme...   \n",
              "1  Abstract\\n\\nIn this article, we evaluate gende...   \n",
              "2  Abstract\\n\\nObjective: Due to shortages of N95...   \n",
              "3  Abstract\\n\\nObjectives: To report changes in p...   \n",
              "4  Abstract\\n\\n Administrative buildings showed ...   \n",
              "\n",
              "                                           full-text  \\\n",
              "0  Background\\n\\nSophisticated defensive strategi...   \n",
              "1  \\n\\n2020a, 2020b; Uscinski et al. 2020) . In t...   \n",
              "2  \\n\\nResults: For an acute-care hospital with 4...   \n",
              "3  | INTRODUC TI ON\\n\\nThe SARS- pandemic led to ...   \n",
              "4  Introduction\\n\\nThe outbreak of COVID-19 was f...   \n",
              "\n",
              "                                           input_ids  \\\n",
              "0  [0, 48759, 48277, 37457, 282, 37457, 282, 104,...   \n",
              "1  [0, 48759, 37457, 282, 37457, 282, 24837, 102,...   \n",
              "2  [0, 49329, 37457, 282, 37457, 282, 41981, 35, ...   \n",
              "3  [0, 48759, 15483, 2808, 6997, 7111, 12945, 290...   \n",
              "4  [0, 48759, 46576, 37457, 282, 37457, 282, 133,...   \n",
              "\n",
              "                                      attention_mask  \\\n",
              "0  [1, 1, 1, 1, 1, 1, 1, 1, 1, 1, 1, 1, 1, 1, 1, ...   \n",
              "1  [1, 1, 1, 1, 1, 1, 1, 1, 1, 1, 1, 1, 1, 1, 1, ...   \n",
              "2  [1, 1, 1, 1, 1, 1, 1, 1, 1, 1, 1, 1, 1, 1, 1, ...   \n",
              "3  [1, 1, 1, 1, 1, 1, 1, 1, 1, 1, 1, 1, 1, 1, 1, ...   \n",
              "4  [1, 1, 1, 1, 1, 1, 1, 1, 1, 1, 1, 1, 1, 1, 1, ...   \n",
              "\n",
              "                                              labels  \n",
              "0  [0, 48759, 47638, 37457, 282, 37457, 282, 243,...  \n",
              "1  [0, 48759, 47638, 37457, 282, 37457, 282, 1121...  \n",
              "2  [0, 48759, 47638, 37457, 282, 37457, 282, 4667...  \n",
              "3  [0, 48759, 47638, 37457, 282, 37457, 282, 4667...  \n",
              "4  [0, 48759, 47638, 37457, 282, 37457, 282, 3745...  "
            ],
            "text/html": [
              "\n",
              "  <div id=\"df-86cf2b32-4202-4b27-b6ab-a88265f73678\" class=\"colab-df-container\">\n",
              "    <div>\n",
              "<style scoped>\n",
              "    .dataframe tbody tr th:only-of-type {\n",
              "        vertical-align: middle;\n",
              "    }\n",
              "\n",
              "    .dataframe tbody tr th {\n",
              "        vertical-align: top;\n",
              "    }\n",
              "\n",
              "    .dataframe thead th {\n",
              "        text-align: right;\n",
              "    }\n",
              "</style>\n",
              "<table border=\"1\" class=\"dataframe\">\n",
              "  <thead>\n",
              "    <tr style=\"text-align: right;\">\n",
              "      <th></th>\n",
              "      <th>paper_id</th>\n",
              "      <th>title</th>\n",
              "      <th>abstract</th>\n",
              "      <th>full-text</th>\n",
              "      <th>input_ids</th>\n",
              "      <th>attention_mask</th>\n",
              "      <th>labels</th>\n",
              "    </tr>\n",
              "  </thead>\n",
              "  <tbody>\n",
              "    <tr>\n",
              "      <th>0</th>\n",
              "      <td>97de2cec75e4557f014e5ecbc4db7885ced49c68</td>\n",
              "      <td>Neuroimmune multi-hit perspective of coronavir...</td>\n",
              "      <td>Abstract\\n\\nIt is well accepted that environme...</td>\n",
              "      <td>Background\\n\\nSophisticated defensive strategi...</td>\n",
              "      <td>[0, 48759, 48277, 37457, 282, 37457, 282, 104,...</td>\n",
              "      <td>[1, 1, 1, 1, 1, 1, 1, 1, 1, 1, 1, 1, 1, 1, 1, ...</td>\n",
              "      <td>[0, 48759, 47638, 37457, 282, 37457, 282, 243,...</td>\n",
              "    </tr>\n",
              "    <tr>\n",
              "      <th>1</th>\n",
              "      <td>5c9bbf96e1a04c87f7a76f783f00ddf4af3c688e</td>\n",
              "      <td>Gender Differences in COVID-19 Conspiracy Theo...</td>\n",
              "      <td>Abstract\\n\\nIn this article, we evaluate gende...</td>\n",
              "      <td>\\n\\n2020a, 2020b; Uscinski et al. 2020) . In t...</td>\n",
              "      <td>[0, 48759, 37457, 282, 37457, 282, 24837, 102,...</td>\n",
              "      <td>[1, 1, 1, 1, 1, 1, 1, 1, 1, 1, 1, 1, 1, 1, 1, ...</td>\n",
              "      <td>[0, 48759, 47638, 37457, 282, 37457, 282, 1121...</td>\n",
              "    </tr>\n",
              "    <tr>\n",
              "      <th>2</th>\n",
              "      <td>26e4e16e5c03a202e957a932439aed7e713b2115</td>\n",
              "      <td>Estimated number of N95 respirators needed for...</td>\n",
              "      <td>Abstract\\n\\nObjective: Due to shortages of N95...</td>\n",
              "      <td>\\n\\nResults: For an acute-care hospital with 4...</td>\n",
              "      <td>[0, 49329, 37457, 282, 37457, 282, 41981, 35, ...</td>\n",
              "      <td>[1, 1, 1, 1, 1, 1, 1, 1, 1, 1, 1, 1, 1, 1, 1, ...</td>\n",
              "      <td>[0, 48759, 47638, 37457, 282, 37457, 282, 4667...</td>\n",
              "    </tr>\n",
              "    <tr>\n",
              "      <th>3</th>\n",
              "      <td>71ff1959c1833b0a89a9f3fde26c63e38859f4dc</td>\n",
              "      <td>O R I G I N A L A R T I C L E</td>\n",
              "      <td>Abstract\\n\\nObjectives: To report changes in p...</td>\n",
              "      <td>| INTRODUC TI ON\\n\\nThe SARS- pandemic led to ...</td>\n",
              "      <td>[0, 48759, 15483, 2808, 6997, 7111, 12945, 290...</td>\n",
              "      <td>[1, 1, 1, 1, 1, 1, 1, 1, 1, 1, 1, 1, 1, 1, 1, ...</td>\n",
              "      <td>[0, 48759, 47638, 37457, 282, 37457, 282, 4667...</td>\n",
              "    </tr>\n",
              "    <tr>\n",
              "      <th>4</th>\n",
              "      <td>2116036d1757b01907eafaf770bf2ca4e142ab06</td>\n",
              "      <td>Journal Pre-proof Addressing the impact of COV...</td>\n",
              "      <td>Abstract\\n\\n Administrative buildings showed ...</td>\n",
              "      <td>Introduction\\n\\nThe outbreak of COVID-19 was f...</td>\n",
              "      <td>[0, 48759, 46576, 37457, 282, 37457, 282, 133,...</td>\n",
              "      <td>[1, 1, 1, 1, 1, 1, 1, 1, 1, 1, 1, 1, 1, 1, 1, ...</td>\n",
              "      <td>[0, 48759, 47638, 37457, 282, 37457, 282, 3745...</td>\n",
              "    </tr>\n",
              "  </tbody>\n",
              "</table>\n",
              "</div>\n",
              "    <div class=\"colab-df-buttons\">\n",
              "\n",
              "  <div class=\"colab-df-container\">\n",
              "    <button class=\"colab-df-convert\" onclick=\"convertToInteractive('df-86cf2b32-4202-4b27-b6ab-a88265f73678')\"\n",
              "            title=\"Convert this dataframe to an interactive table.\"\n",
              "            style=\"display:none;\">\n",
              "\n",
              "  <svg xmlns=\"http://www.w3.org/2000/svg\" height=\"24px\" viewBox=\"0 -960 960 960\">\n",
              "    <path d=\"M120-120v-720h720v720H120Zm60-500h600v-160H180v160Zm220 220h160v-160H400v160Zm0 220h160v-160H400v160ZM180-400h160v-160H180v160Zm440 0h160v-160H620v160ZM180-180h160v-160H180v160Zm440 0h160v-160H620v160Z\"/>\n",
              "  </svg>\n",
              "    </button>\n",
              "\n",
              "  <style>\n",
              "    .colab-df-container {\n",
              "      display:flex;\n",
              "      gap: 12px;\n",
              "    }\n",
              "\n",
              "    .colab-df-convert {\n",
              "      background-color: #E8F0FE;\n",
              "      border: none;\n",
              "      border-radius: 50%;\n",
              "      cursor: pointer;\n",
              "      display: none;\n",
              "      fill: #1967D2;\n",
              "      height: 32px;\n",
              "      padding: 0 0 0 0;\n",
              "      width: 32px;\n",
              "    }\n",
              "\n",
              "    .colab-df-convert:hover {\n",
              "      background-color: #E2EBFA;\n",
              "      box-shadow: 0px 1px 2px rgba(60, 64, 67, 0.3), 0px 1px 3px 1px rgba(60, 64, 67, 0.15);\n",
              "      fill: #174EA6;\n",
              "    }\n",
              "\n",
              "    .colab-df-buttons div {\n",
              "      margin-bottom: 4px;\n",
              "    }\n",
              "\n",
              "    [theme=dark] .colab-df-convert {\n",
              "      background-color: #3B4455;\n",
              "      fill: #D2E3FC;\n",
              "    }\n",
              "\n",
              "    [theme=dark] .colab-df-convert:hover {\n",
              "      background-color: #434B5C;\n",
              "      box-shadow: 0px 1px 3px 1px rgba(0, 0, 0, 0.15);\n",
              "      filter: drop-shadow(0px 1px 2px rgba(0, 0, 0, 0.3));\n",
              "      fill: #FFFFFF;\n",
              "    }\n",
              "  </style>\n",
              "\n",
              "    <script>\n",
              "      const buttonEl =\n",
              "        document.querySelector('#df-86cf2b32-4202-4b27-b6ab-a88265f73678 button.colab-df-convert');\n",
              "      buttonEl.style.display =\n",
              "        google.colab.kernel.accessAllowed ? 'block' : 'none';\n",
              "\n",
              "      async function convertToInteractive(key) {\n",
              "        const element = document.querySelector('#df-86cf2b32-4202-4b27-b6ab-a88265f73678');\n",
              "        const dataTable =\n",
              "          await google.colab.kernel.invokeFunction('convertToInteractive',\n",
              "                                                    [key], {});\n",
              "        if (!dataTable) return;\n",
              "\n",
              "        const docLinkHtml = 'Like what you see? Visit the ' +\n",
              "          '<a target=\"_blank\" href=https://colab.research.google.com/notebooks/data_table.ipynb>data table notebook</a>'\n",
              "          + ' to learn more about interactive tables.';\n",
              "        element.innerHTML = '';\n",
              "        dataTable['output_type'] = 'display_data';\n",
              "        await google.colab.output.renderOutput(dataTable, element);\n",
              "        const docLink = document.createElement('div');\n",
              "        docLink.innerHTML = docLinkHtml;\n",
              "        element.appendChild(docLink);\n",
              "      }\n",
              "    </script>\n",
              "  </div>\n",
              "\n",
              "\n",
              "<div id=\"df-ff93db93-3202-45fe-9128-ab513d09951d\">\n",
              "  <button class=\"colab-df-quickchart\" onclick=\"quickchart('df-ff93db93-3202-45fe-9128-ab513d09951d')\"\n",
              "            title=\"Suggest charts\"\n",
              "            style=\"display:none;\">\n",
              "\n",
              "<svg xmlns=\"http://www.w3.org/2000/svg\" height=\"24px\"viewBox=\"0 0 24 24\"\n",
              "     width=\"24px\">\n",
              "    <g>\n",
              "        <path d=\"M19 3H5c-1.1 0-2 .9-2 2v14c0 1.1.9 2 2 2h14c1.1 0 2-.9 2-2V5c0-1.1-.9-2-2-2zM9 17H7v-7h2v7zm4 0h-2V7h2v10zm4 0h-2v-4h2v4z\"/>\n",
              "    </g>\n",
              "</svg>\n",
              "  </button>\n",
              "\n",
              "<style>\n",
              "  .colab-df-quickchart {\n",
              "      --bg-color: #E8F0FE;\n",
              "      --fill-color: #1967D2;\n",
              "      --hover-bg-color: #E2EBFA;\n",
              "      --hover-fill-color: #174EA6;\n",
              "      --disabled-fill-color: #AAA;\n",
              "      --disabled-bg-color: #DDD;\n",
              "  }\n",
              "\n",
              "  [theme=dark] .colab-df-quickchart {\n",
              "      --bg-color: #3B4455;\n",
              "      --fill-color: #D2E3FC;\n",
              "      --hover-bg-color: #434B5C;\n",
              "      --hover-fill-color: #FFFFFF;\n",
              "      --disabled-bg-color: #3B4455;\n",
              "      --disabled-fill-color: #666;\n",
              "  }\n",
              "\n",
              "  .colab-df-quickchart {\n",
              "    background-color: var(--bg-color);\n",
              "    border: none;\n",
              "    border-radius: 50%;\n",
              "    cursor: pointer;\n",
              "    display: none;\n",
              "    fill: var(--fill-color);\n",
              "    height: 32px;\n",
              "    padding: 0;\n",
              "    width: 32px;\n",
              "  }\n",
              "\n",
              "  .colab-df-quickchart:hover {\n",
              "    background-color: var(--hover-bg-color);\n",
              "    box-shadow: 0 1px 2px rgba(60, 64, 67, 0.3), 0 1px 3px 1px rgba(60, 64, 67, 0.15);\n",
              "    fill: var(--button-hover-fill-color);\n",
              "  }\n",
              "\n",
              "  .colab-df-quickchart-complete:disabled,\n",
              "  .colab-df-quickchart-complete:disabled:hover {\n",
              "    background-color: var(--disabled-bg-color);\n",
              "    fill: var(--disabled-fill-color);\n",
              "    box-shadow: none;\n",
              "  }\n",
              "\n",
              "  .colab-df-spinner {\n",
              "    border: 2px solid var(--fill-color);\n",
              "    border-color: transparent;\n",
              "    border-bottom-color: var(--fill-color);\n",
              "    animation:\n",
              "      spin 1s steps(1) infinite;\n",
              "  }\n",
              "\n",
              "  @keyframes spin {\n",
              "    0% {\n",
              "      border-color: transparent;\n",
              "      border-bottom-color: var(--fill-color);\n",
              "      border-left-color: var(--fill-color);\n",
              "    }\n",
              "    20% {\n",
              "      border-color: transparent;\n",
              "      border-left-color: var(--fill-color);\n",
              "      border-top-color: var(--fill-color);\n",
              "    }\n",
              "    30% {\n",
              "      border-color: transparent;\n",
              "      border-left-color: var(--fill-color);\n",
              "      border-top-color: var(--fill-color);\n",
              "      border-right-color: var(--fill-color);\n",
              "    }\n",
              "    40% {\n",
              "      border-color: transparent;\n",
              "      border-right-color: var(--fill-color);\n",
              "      border-top-color: var(--fill-color);\n",
              "    }\n",
              "    60% {\n",
              "      border-color: transparent;\n",
              "      border-right-color: var(--fill-color);\n",
              "    }\n",
              "    80% {\n",
              "      border-color: transparent;\n",
              "      border-right-color: var(--fill-color);\n",
              "      border-bottom-color: var(--fill-color);\n",
              "    }\n",
              "    90% {\n",
              "      border-color: transparent;\n",
              "      border-bottom-color: var(--fill-color);\n",
              "    }\n",
              "  }\n",
              "</style>\n",
              "\n",
              "  <script>\n",
              "    async function quickchart(key) {\n",
              "      const quickchartButtonEl =\n",
              "        document.querySelector('#' + key + ' button');\n",
              "      quickchartButtonEl.disabled = true;  // To prevent multiple clicks.\n",
              "      quickchartButtonEl.classList.add('colab-df-spinner');\n",
              "      try {\n",
              "        const charts = await google.colab.kernel.invokeFunction(\n",
              "            'suggestCharts', [key], {});\n",
              "      } catch (error) {\n",
              "        console.error('Error during call to suggestCharts:', error);\n",
              "      }\n",
              "      quickchartButtonEl.classList.remove('colab-df-spinner');\n",
              "      quickchartButtonEl.classList.add('colab-df-quickchart-complete');\n",
              "    }\n",
              "    (() => {\n",
              "      let quickchartButtonEl =\n",
              "        document.querySelector('#df-ff93db93-3202-45fe-9128-ab513d09951d button');\n",
              "      quickchartButtonEl.style.display =\n",
              "        google.colab.kernel.accessAllowed ? 'block' : 'none';\n",
              "    })();\n",
              "  </script>\n",
              "</div>\n",
              "\n",
              "    </div>\n",
              "  </div>\n"
            ],
            "application/vnd.google.colaboratory.intrinsic+json": {
              "type": "dataframe",
              "variable_name": "df_source",
              "summary": "{\n  \"name\": \"df_source\",\n  \"rows\": 6500,\n  \"fields\": [\n    {\n      \"column\": \"paper_id\",\n      \"properties\": {\n        \"dtype\": \"string\",\n        \"num_unique_values\": 6500,\n        \"samples\": [\n          \"a7963325a3d3cfc85d81b641ffff058526011331\",\n          \"73a2152563e1818fe85fa8121710d75c3c9c24a0\",\n          \"007a381225452a382908e6ec2b8c27f3e466903c\"\n        ],\n        \"semantic_type\": \"\",\n        \"description\": \"\"\n      }\n    },\n    {\n      \"column\": \"title\",\n      \"properties\": {\n        \"dtype\": \"string\",\n        \"num_unique_values\": 6441,\n        \"samples\": [\n          \"Policy options for strengthening evidence-informed health policy-making in Iran: overall SASHA project findings Open Access\",\n          \"Recent advances in treatments of adult immune thrombocytopenia\",\n          \"First wave of COVID-19 hospital admissions in Denmark: a Nationwide population- based cohort study\"\n        ],\n        \"semantic_type\": \"\",\n        \"description\": \"\"\n      }\n    },\n    {\n      \"column\": \"abstract\",\n      \"properties\": {\n        \"dtype\": \"string\",\n        \"num_unique_values\": 6478,\n        \"samples\": [\n          \"Abstract\\n\\nPurpose The COVID-19 pandemic has many potential impacts on people with mental health conditions and on mental health care, including direct consequences of infection, effects of infection control measures and subsequent societal changes. We aimed to map early impacts of the pandemic on people with pre-existing mental health conditions and services they use, and to identify individual and service-level strategies adopted to manage these. Methods We searched for relevant material in the public domain published before 30 April 2020, including papers in scientific and professional journals, published first person accounts, media articles, and publications by governments, charities and professional associations. Search languages were English, French, German, Italian, Spanish, and Mandarin Chinese. Relevant content was retrieved and summarised via a rapid qualitative framework synthesis approach. Results We found 872 eligible sources from 28 countries. Most documented observations and experiences rather than reporting research data. We found many reports of deteriorations in symptoms, and of impacts of loneliness and social isolation and of lack of access to services and resources, but sometimes also of resilience, effective self-management and peer support. Immediate service challenges related to controlling infection, especially in inpatient and residential settings, and establishing remote working, especially in the community. We summarise reports of swiftly implemented adaptations and innovations, but also of pressing ethical challenges and concerns for the future. Conclusion Our analysis captures the range of stakeholder perspectives and experiences publicly reported in the early stages of the COVID-19 pandemic in several countries. We identify potential foci for service planning and research.\\n\\n\",\n          \"Abstract\\n\\nTo confine the spread of an infectious disease, setting a sensible quarantine time is crucial. To this end, it is imperative to well understand the distribution of incubation times of the disease. Regarding the ongoing COVID-19 pandemic, 14-days is commonly taken as a quarantine time to curb the virus spread in balancing the impacts of COVID-19 on diverse aspects of the society, including public health, economy, and humanity perspectives, etc. However, setting a sensible quarantine time is not trivial and it depends on various underlying factors. In this article, we take an angle of examining the distribution of the COVID-19 incubation time using likelihoodbased methods. Our study is carried out on a dataset of 178 COVID-19 cases dated from January 20, 2020 to February 29, 2020, with the information of exposure periods and dates of symptom onset collected. To gain a good understanding of possible scenarios, we employ different models to describe incubation times of COVID-19. Our findings suggest that statistically, the 14-day quarantine time may not be long enough to control the probability of an early release of infected individuals to be small. While the size of the study data is not large enough to offer us a definitely acceptable quarantine time, and further in practice, the decision-makers may take account of other factors related to social and economic concerns to set up a practically acceptable quarantine time, our study demonstrates useful methods to determine a reasonable quarantine time from a statistical standpoint. Further, it reveals some associated complexity for fully understanding the COVID-19 incubation time distribution.\\n\\n\",\n          \"Abstract\\n\\nThis study addresses the actual behavior of the credit-card fraud detection environment where financial transactions containing sensitive data must not be amassed in an enormous amount to conduct learning. We introduce a new adaptive learning approach that adjusts frequently and efficiently to new transaction chunks; each chunk is discarded after each incremental training step. Our approach combines transfer learning and incremental feature learning. The former improves the feature relevancy for subsequent chunks, and the latter, a new paradigm, increases accuracy during training by determining the optimal network architecture dynamically for each new chunk. The architectures of past incremental approaches are fixed; thus, the accuracy may not improve with new chunks. We show the effectiveness and superiority of our approach experimentally on an actual fraud dataset.\\n\\n\"\n        ],\n        \"semantic_type\": \"\",\n        \"description\": \"\"\n      }\n    },\n    {\n      \"column\": \"full-text\",\n      \"properties\": {\n        \"dtype\": \"string\",\n        \"num_unique_values\": 6497,\n        \"samples\": [\n          \"INTRODUCTION\\n\\nThe summer Olympic Games are organized every 4 years with a great socioeconomic impact, since they have an audience of more than three billion viewers around the world (Yan, 2020) . Triathlon is an endurance sport that combines swimming, road cycling and distance running performed in that order (ITU, 2021) . This sport has been part of the Olympic program since Sydney 2000 with the Olympic distance discipline (1.5 km swimming, 40 km cycling and 10 km running). Tokyo 2020 has been the first edition to include the mixed relay format, where the four members of each participating team (i.e, two women and two men) each complete a full super sprint distance triathlon (0.3 km swimming, 8 km cycling and 2 km running). 55 triathletes participated in the Olympic distance of the Tokyo 2020 Olympic Games, previously qualified according to different criteria 2 years before the event. A maximum of three triathletes from the same country can take part in the individual event in both male and female categories. Regarding to the mixed relay race, a total of 18 teams took part in the premiere of this modality in the Olympic Games (ITU, 2021) . Besides, Tokyo 2020 Olympic Games were considered particularly hard due to the extreme weather conditions. Meteorological data indicated that weather condition were both hot (26-28\\u00b0C) and humid (87-89%) during the triathlon races. Such conditions affect the endurance performance and increase the risk of exertional heat illness (Racinais et al., 2015a) .There is a growing interest in the scientific literature for reporting top-class endurance athletes' successful programs (Ingham et al., 2012; Tn\\u00f8nessen et al., 2014; R\\u00f8nnestad and Hansen, 2018; Tjelta, 2019; Haugen et al., 2021; Kenneally et al., 2021) . Variables such as a total training volume, exercise intensity and training intensity distribution (TID) have been commonly analyzed in this kind of researches. TID is defined as the time of the exercise that an athlete spends at the three different zones of training intensity (St\\u00f6ggl and Sperlich, 2014) : zone 1, at or below the first ventilatory threshold (<VT1); zone 2, between first and second ventilatory threshold (VT1-VT2); zone 3, at or beyond the second ventilatory threshold (>VT2) (Skinner and McLellan, 1980) . Polarized model, which is based on a high percentage of time at zone 1 and greater percentages at zone 3 than at zone 2, has been presented as the optimal model of TID to enhance the performance of endurance athletes (Seiler and Kjerland, 2006; Neal et al., 2013; St\\u00f6ggl and Sperlich, 2014) . However, not all findings on polarized TID point to its superiority (Treff et al., 2017) . Besides, other TID models as threshold or pyramidal, which accumulate a greater percentage of time at zone 2 than polarized model, has also been presented as effective (Plews and Laursen, 2017; Selles-Perez et al., 2019; Gonz\\u00e1lez-Rav\\u00e9 et al., 2021) . On the other hand, fewer studies analyze training load using specific training load quantification methods for endurance sports (Esteve-Lanao et al., 2017; Selles-Perez et al., 2019) .Physiological profiles of elite endurance athletes have been also reported in several research (Ingham et al., 2012; Bell et al., 2017) . VO 2max , ventilatory thresholds, as well as power or speed at which these variables occur, these have been common parameters used by coaches to assess fitness levels and prescribe training plans. Even more, it is particularly interesting to describe the dynamics of these variables along the macrocycle (Legaz Arrese et al., 2005; Legaz and Eston, 2005; Sell\\u00e9s-P\\u00e9rez et al., 2019) .There are limited reports about training characteristics and physiological performance of top-level triathletes (Millet and Vleck, 2000; Millet et al., 2003) . Mujika (2014) described training characteristics of a female triathlete in her preparation to the London 2012 Olympic Games. Later, this author presented the physiological profile and the training plan for a worldchampion male paratriathlete (Mujika et al., 2015) . However, to the best of our knowledge, no case report has been published of world class male triathlete preparing for the Olympic Games. Thus, the aim of this case study is to describe the training characteristics and the physiological profile of a world-class male triathlete who participated in both the Olympic distance event and the mixed relay event at the Tokyo 2020 Olympic Games.\\n\\nCharacteristics of the Triathlete\\n\\nThis case study received the authorization from the Alicante University Ethics Committee (UA-2017-04-11 expedient). Written consent was obtained from a 29 years-old male triathlete who has competed in world triathlon series since 2012 obtaining 20 podiums and four victories in International Triathlon Union (ITU) races. He finished in fourth position of the World Triathlon Series (WTS) ranking in 2019, obtaining the qualification for the Tokyo 2020 Olympic Games. He also competed in Rio 2016, where he placed 18th.\\n\\nPhysiological Testing, Anthropometric Measures and Training Zone Settings\\n\\nSwimming test were performed on a 25 m homologated swimming pool through an incremental multistage test consisting of seven repetitions of 200 m every 5 min (Sweetenham and Atkinson, 2003; Mu\\u00f1oz et al., 2014) . The first repetition of the protocol was 20 s slower than his personal best in 200 m registered the previous week in a training session and then every repetition was 4 s faster until the sixth, and for the seventh repetition the triathlete was told to perform to swim as fast as possible. Blood lactate (bLA; mmol/l) samples from the ear lobe were analyzed with a portable lactate analyzer (Lactate Scout \\u00ae 4, EKF Diagnostics, Germany). The criteria to determine training zones were follows in swimming: a blood lactate 0.5 mMol/L increase for first lactate threshold (LT 1 ), >1 mmol/l increase for second lactate threshold (LT 2 ) and 8-9 mmol/l for maximal aerobic speed (MAS) (Beneke, 2003; Jamnick et al., 2020) .Incremental tests of volitional exhaustion were used to determine training zones in cycling and running. A ramp protocol was used for cycling on a roller (Cycleops \\u00ae The Hammer, United States) starting at 150 W and increasing 5 W each 12 s (Mu\\u00f1oz et al., 2014) . The triathlete used his own bike (BH \\u00ae , Aerolight, Spain) and his power meter (ROTOR \\u00ae , 2inpower Road, Spain) to perform the test. The cycling tests were performed in the same room with the same temperature (20\\u00b0C). The running test was performed on a 400 m homologated track (University of Alicante facilities). The triathlete started at 13.9 km/h and increased 0.3 km/h every 200 m (Brue, 1985) . The triathlete uses the same running shoes in both test (ASICS \\u00ae , Metaspeed Edge, Japan). Weather conditions were a temperature of 19\\u00b0C and a wind of 7.5 km/h for the first running test, while they were a temperature of 15\\u00b0C and a wind of 5.4 km/h for the second test.Running and cycling tests were conducted using a portable gas-exchange analyzer (Cosmed \\u00ae K4b 2, Italy). The following variables were measured during the test: oxygen uptake (VO 2 ); pulmonary ventilation (VE); ventilatory equivalent for oxygen/ VE/VO2); ventilatory equivalent for carbon dioxide (VE/VCO 2 ); and end-tidal partial pressure of oxygen (P ET O 2 ) and carbon dioxide (P ET CO 2 ). Maximal oxygen uptake (VO 2max ) was recorded as the highestVO 2 value obtained for any continuous 1 min period. The first ventilatory threshold (VT1) was determined using the criteria of an increase in bothVE/VO 2 and P ET O 2 with no increase inVE/VCO 2 , whereas the second ventilatory threshold (VT2) was determined using the criteria of an increase in bothVE/VO 2 andVE/VCO 2 and a decrease in P ET CO 2 . Two independent observers identified VT1 and VT2. Heart rate (HR) was continuously monitored during the test using a heart rate meter (SUUNTO \\u00ae , Spartan, Finland). Later, a range of HR and power or velocity for each training zone was established. Eight training zones were calculated to be more precise prescribing the intensity of the training sessions. These training zones reported both internal load (HR) and external load (speed or power) data Esteve-Lanao, 2011, 2020) . Besides, a RPE scale (1-10) was related to these training zones. Additionally, the Skinner and McLellan triphasic model with three training zones was followed to present TID and training load distribution (TLD) data. Anthropometric measurements were performed following standard protocols adopted by the international society for the Advancement on Kinanthropometry (ISAK) (Ross and Marfell-Jones, 1991) by the same researcher with ISAK certification level 3. All measurements were taken on the day of the cycling test under basal conditions, in the same room with the same temperature (22\\u00b0C). Height and body mass were measured on portable set scales (models 213 and 707, Seca \\u00ae , Deutschland) to the nearest 0.1 cm and 0.01 kg, respectively. The thickness of six skinfolds (subscapular, triceps, supraspinale, abdominal, front thigh and medial calf) were measured using a caliper calibrated to the nearest 0.2 mm (Holtain \\u00ae , United Kingdom). Four girths (relaxed arm, flexed arm, thigh and calf) were performed using flexible anthropometric steel tape (Holtain \\u00ae , United Kingdom).The sum of skinfolds was calculated, as well as muscular mass was determined using the method of Lee et al. (2000) .\\n\\nControl of the Training Load\\n\\nCycling power data were measured using a power meter located on the crank (ROTOR \\u00ae , 2inpower Road, Spain). The triathlete recorded all cycling and running training sessions with his HR monitor (SUUNTO \\u00ae , Spartan, Finland) and after the data were uploaded to a specific data analysis software (TrainingPeaks \\u00ae ,WKO5, United States). HR and RPE were used mainly for low intensity workouts in running and cycling. Speed and power were also used to control moderate and high intensity workouts in running and cycling. RPE and the medium pace for 100 m were used to control swimming workouts, considering the different training zones obtained in the swimming lactate test. Besides, the triathlete was filling personal training logs with the information recorded regarding the amount of time spent in each training zone and with other subjective information such as hours of sleep and with the subjective load scale (ECSs in Spanish) from 0 to 5 (Cejuela and Esteve-Lanao, 2011; Cejuela and Esteve-Lanao, 2020). Execution speed was controlled in strength training using a linear encoder (VITRUVE \\u00ae , Spain). Most of the training workouts was supervised by the coach of the triathlete (RC) or an assistant coach (SS or AT). The objective load scale (ECOs in Spanish) training load quantification method was applied (Cejuela and Esteve-Lanao, 2011; Cejuela and Esteve-Lanao, 2020) . Briefly, the ECOs were calculated by multiplying the time (minutes) that the triathlete spends in every training zone (1-8) during the workout by a scoring value between 1 and 50 (depending on the training zone) and by a specific factor of 1.0, 0.75 or 0.5 for running, swimming or cycling respectively. This methodology seems the most appropriate for triathlon because it compares different endurance activities, attending the different degrees of muscle damage, energy cost, effort densities, and differences at the ability of maintaining technique in the three segments (Cejuela and Esteve-Lanao, 2011; Cejuela and Esteve-Lanao, 2020) . A specific software (All in your mind Training system \\u00ae , Mexico) was used to calculate the ECOs throughout the training plan.\\n\\nMain Characteristics of the Training Period\\n\\nThe triathlete trained with the same methodology in the 2019 and 2020 seasons. The goal was competing in the WTS in 2019, where he ranked fourth. Due to COVID-19 there were no WTS in 2020. This season he was Spanish championship.The training period for the Tokyo Olympic Games consisted out of 43 weeks, which were grouped in a total of 14 mesocycles. The main part of the training was developed in Alicante (Spain) or in Talavera de la Reina (Spain). Besides, two training camps of 4 weeks were performed in the high-altitude performance center of Sierra Nevada (2,340 m altitude, Spain). Simulated altitude sessions (iAltitude \\u00ae , Spain) were performed at three times of the season (daily from week 8-10, from week 14-16 and from week 36-40). The duration of the sessions was from 45 to 90 min and the range of altitude exposures was from 3,500 to 6,000 m. The first physiological tests took place at week 6 (swimming) and 7 (cycling and running test). The second physiological tests were performed at week 24. A traditional periodization was used in the first part of the season. The general preparatory period was performed from week 1-14. These weeks were characterized by an increasing of training volume progressively, being the most part of the training sessions around VT1. The specific preparatory period was performed from week 15-30, including the two training camps in high-altitude performance center. The first one was from week 18-21 and the second one was from week 27-30. The main goal of training period consisted in develop higher training zones, nearer to race intensity (VO 2max and VT2). Usually, transitions trainings were performed twice weekly with intensities nearer to the competition (around VT2). The triathlete also took part in two competitions during this period in order to training, one sprint duathlon at week 24 (1st) and one Olympic triathlon at week 28 (1st). The first competitive period lasted 5 weeks (from week 31 to week 35) and included two Olympicdistance triathlon world series (WTS). The first one in Yokohama (week 32) where the triathlete ranked at 14th position and the second one in Leeds (week 35) where the triathlete ranked at 4th position. A Mixed relay Olympic qualification event were also performed at week 33 at Lisbon, where the team of Spain ranked at 6th. A tapering period took place during this competitive period. The aim goal of these weeks was reduced training load to promote the supercompensation of the triathlete and improve the recovery. This was mainly done through the training volume reduction. High intensity training sessions were maintained during this period. A 5 weeks training block (from week 36 to week 40) of specific preparation to Tokyo Olympic Games was conducted after these three competitions. Training load was increased again during this period. Tapering period to the Olympic games was performed during weeks 41 and 42, through the decrease of the training load in an exponential manner, in order to promote supercompensation. Besides, these weeks included the adaptation period to the Tokyo jet lag. Finally, the triathlete competed in both the Olympic distance triathlon event and the mixed relay triathlon event at week 43.The triathlete also performed strength training throughout his preparation to the Olympic games. As a general rule, two weekly strength training sessions were performed during the most part of the season. Multi-joint exercises, both upper and lower body, were performed by the triathlete. Training loads progressed from 55% to 75% of 1RM, performing from two to four sets per exercise. The rep range was from four to eight reps per set, always working away from muscle failure and with a loss of speed not greater than 15% within the set. Furthermore, complementary exercises were carried out three or 4 days a week, after the swimming training sessions. These exercises included hip, ankle and thoracic mobility, core training, Achilles tendon prevention exercises or exercises with elastic bands for the shoulder stability.Polarization index was calculated to quantify the level of polarization every week (Treff et al., 2019) . TLD, defined as the percentage of objective training load (ECOs) that the triathlete performs in zones 1, 2 and 3, was also calculated every week.\\n\\nHeat Adaptation Protocol\\n\\nA heat adaptation protocol was carried out in order to minimize the impact on performance of the adversely expected weather conditions in Tokyo (high humidity and temperature). On the one hand, the triathlete performed a heat acclimation using the passive method of sauna from week 18 to the begin of the first competitive period in alternate weeks. The sauna session was performed at the end of the training day. The triathlete was exposed for 20-30 min to a sauna bath with a temperature of 70-80\\u00b0C (Racinais et al., 2019) . On the other hand, the weather of Alicante was used to do the acclimatization from week 34 to the Olympic Games. Thus, the triathlete was gradually exposed to training at intensities close to the competition in the middle hours of the day. These training sessions were performed with a temperature from 25 to 32\\u00b0C and with a humidity from 70% to 80%. A specific non-invasive sensor to assess core body temperature (CORE \\u00ae , green TEG, Switzerland) was used in this training sessions (Verdel et al., 2021) . A special focus on hydration was done during this period. Thus, recovery drinks with sodium were used to compensate for the sweat losses, while maintaining the optimal requirements of carbohydrates and protein to optimize recovery (Racinais et al., 2015a) . Finally, the triathlete spent 10 days in Tokyo before the first competition performing several training sessions to maintain the heat adaptation. Figure 1 shows the weekly subjective training load (ECS) reported by the triathlete and its relationship with the objective training load (ECOs). Peak of objective training load was performed at week 37 (1757 ECOs). Training load of the competitions was included in the summary. Peak of subjective training load was reported at week 39 (ECS), 1 month before to Tokyo Olympic Games. This subjective training load is related to one of the weeks with more objective training load (week 39, 1517 ECOs). Figure 2 shows the weekly training load (ECOs) for swim, bike and run respectively. It is observed the peak training load for swimming at week 15 (579 ECOs), for cycling at week 37 (896 ECOs) and for running at week 34 (766 ECOs).\\n\\nRESULTS\\n\\nTraining intensity distribution, training volume, and polarization index of the weeks are presented in Table 1 . After 4 weeks of low intensity training (>90% of training volume in zone 1) a pyramidal model is shown from week five to week 18, with the exception of week 12 (polarization index = 2.2). From 19 until the end of the training period a polarized training intensity distribution were carried out by the triathlete the majority of the weeks. Figure 3 shows the training load distribution. It is observed that 50.6% \\u00b1 15.5% of the training load was performed at zone 1 and 40.7% \\u00b1 16.8% was performed at zone 3.Anthropometric measurements are presented at Table 2 . A decrease in total body mass and sum of skinfolds are shown. However, few losses in muscular mass are reported. The change in physiological measures and performance during the season is observed at Table 3 . The performance of the athlete was increased considerably in the three segments.Lactate blood concentration during two running training sessions in heat condition is presented in Figure 4 . Training session 1 (week 36, 31\\u00b0C and 68% of humidity) consisted in twenty repetitions of 400 m in a track (20 \\u00d7 400). Training session 2 (week 40, 27\\u00b0C and 74% of humidity) consisted in twenty-four repetitions of 400 m in the same track (24 \\u00d7 400). The rest between repetitions was 20 seconds. The lactate was measured every four repetitions. Despite the fact that in the second training session the triathlete performed four repetitions more, a lower lactate concentration is observed. In addition, body core temperature reached was lower in the second training session (from 37.4 to 38.3\\u00b0C) compared to the first (from 37.5 to 38.9\\u00b0C).The performance in the races of the 2021 season is shown in Table 4 . Table 5 shows the power data of cycling segment during \\n\\nDISCUSSION\\n\\nThe main goal of this research was to describe the training process of a world-class triathlete to prepare the Tokyo Olympic Games. The average of training volume carried out by the triathlete was less than 15 h, and the peak of training volume was almost 19 h. This training volume is less than the training volume reported by a female elite triathlete (more than 20 weekly average training hours) in her Olympic preparation for London 2012 (Mujika, 2014) , but higher than the training volume reported by amateur long-distance triathletes (Neal et al., 2011; Mu\\u00f1oz et al., 2014; Esteve-Lanao et al., 2017; Selles-Perez et al., 2019) . It is important to note that the training volume referred in our study is the active time and it does not include pauses and the time of the strength training. Compared with other endurance sports, R\\u00f8nnestad and Hansen (2018) reported around 12 h of average weekly training for an elite cyclist. Kenneally et al. (2021) reported around 9 h (140 km weekly) of weekly training volume for a case of study of a world-class 5000 m athlete. As a consequence, the triathlete reported more total training volume (weekly hours) than in other cases of study about endurance athletes of other sport disciplines. Despite the fact that the volume per discipline is less than the specialists in each sport, triathletes must develop the performance of three sport modalities. Therefore, a greater number of weekly training hours would be necessary. There are not too many studies which have analyzed the training load developed by high performance endurance athletes. TRIMPS (training impulse) have been a method to report training load in different endurance sports such as running (Esteve-Lanao et al., 2007; Stellingwerff, 2012; Mu\\u00f1oz et al., 2013) or cycling (Earnest et al., 2004; Rodr\\u00edguez-Marroyo 6 Skinfolds, Sum of six skinfolds; Muscular Mass (kg) (Lee et al., 2000) .Frontiers in Physiology | www.frontiersin.org April 2022 | Volume 13 | Article 835705 et al., 2011). It has also been used occasionally in triathlon (Neal et al., 2011) . However, this method does not differentiate between sports disciplines with its consequent energy cost or muscle damage (Cejuela and Esteve-Lanao, 2011) . It is also based on the triphasic model of training zones (Skinner and McLellan, 1980) , not considering that the time to maintain the intensity of the exercise decrease exponentially from the second ventilatory threshold (Billat et al., 2012) . Thus, the ECO-method seems to be more specific to quantify the training load in triathlon (Cejuela and Esteve-Lanao, 2011) . Weekly average ECOs completed by the triathlete was 1,186.26 \\u00b1 320.86 ECOs. These data were in line with the ECOs reported by elite international triathletes (Olaya-Cuartero and Cejuela, 2021), but higher than those reported by elite national triathletes (Saugy et al., 2016) , amateur longdistance triathletes ( TID followed by this triathlete was mainly polarized. Several previous studies have shown the effectiveness of polarized TID in elite endurance athletes (Billat et al., 2001; Fiskerstrand and Seiler, 2004; Sperlich, 2014, 2015) . It is also observed a pyramidal TID in the first part of the season. Some other cases of study have found this TID organization over the season, involving an evolution from a more pyramidal TID during the preparatory period to a more polarized TID during the competitive period (Tjelta, 2019; Kenneally et al., 2021) . Both TID models (polarized and pyramidal), present the emphasis in zone 1 (\\u224880%), being the remaining \\u224820% of training volume distributed mainly in zone 3 in polarized TID or mainly in zone 2 in pyramidal TID (St\\u00f6ggl and Sperlich, 2015) . There is no clear consensus on which of these models has greater effects on performance, since few experimental studies have been carried out in this regard. Treff et al. (2017) did not report significantly differences between polarized and pyramidal training groups in elite rowers. Furthermore, Selles-Perez et al. (2019) observed how both TID were effective to improve the performance in amateur long-distance triathletes, but no clear differences between groups were found.TLD has not been analyzed in previous studies. In this sense, even though most of the training was performed in zone 1, the triathlete completed several training weeks with more than 50% of training load in zone 3. Therefore, the analysis of training load distribution could be a new variable to be incorporated in future research, since it can provide more information about the intensity performed by endurance athletes. A ratio of 50% of training load in Zone 1 and 50% in zones two and three could represent a general guideline. Besides, the triathlete was exposed to stressful training situations such as hypoxia and heat (Racinais et al., 2015a; Flaherty et al., 2016) . Thus, the weeks of training camps in altitude and the training sessions to acclimation to the Tokyo's weather represented an added stress that must be considered.The current consensus recommendations on training and competing in the heat (Racinais et al., 2015a) was followed to design the heat adaptation protocol. Heat acclimatization improves thermal comfort and submaximal as well as maximal exercise performance in warm-hot conditions (Racinais et al., 2015b) . The first part of the acclimatization consisted on sauna baths post-exercise. Previous studies have shown the effectiveness of sauna bathing on heat acclimation (Kissling et al., 2020; Kirby et al., 2021) . On the other hand, 8 weeks of progressive heat acclimatization in natural environment was performed by the triathlete previous the week of competition in Olympic Games. Training sessions with heat progressed in intensity (from low intensity training sessions to simulated competition training sessions) during these weeks, as well as the weather conditions (temperature and humidity) were harder progressively. As it is recommended in previous research, the main acclimatization block was performed the 2 weeks prior to travel, with 10 days of re-acclimation after arrival to Tokyo (Racinais et al., 2019) .Training camps at high performance center in altitude had a duration of 4 weeks. This period of time seems to be optimal to inducing accelerated erythropoiesis whereas 18 days are long enough for beneficial changes in economy or muscle buffering capacity (Millet et al., 2010) . Besides, the altitude training camps were developed at an altitude of 2340 m which is defined as the optimal altitude to living high and training high (2,200-2,500) (Millet et al., 2010) .According to physiological measurements, an improvement in the triathlete's performance is observed in the three disciplines. Relative peakVO 2 value reported by the triathlete in the second test was higher than the data reported about other elite endurance athletes such as rowers (Treff et al., 2017) , swimmers (Fernandes et al., 2008) , cyclists (R\\u00f8nnestad and Hansen, 2018) or runners (Balsalobre-Fern\\u00e1ndez et al., 2018) , and similar to other elite triathletes (Millet et al., 2003) . Only some studies with top-class endurance athletes have shown similar values of VO 2max (R\\u00f8nnestad and Hansen, 2018; Jones et al., 2021) . The improvement observed in peakVO 2 was in line with the case study reported by R\\u00f8nnestad and Hansen (2018) , where a worldclass elite cyclist had an improvement of 17% after 58 training weeks using a block periodization. However, peakVO 2 improvements in both cycling and running are much higher than other changes inVO 2max reported in elite and well-trained athletes after a training period (Garc\\u00eda-Pallar\\u00e9s et al., 2010; Sto\\u00f8ren et al., 2012; R\\u00f8nnestad et al., 2014) . The triathlete performed the first test after transition period and after the first weeks of the season, where the training sessions were mainly at low intensity. So, the detraining of high intensity training zones should be considered to interpret these improvements. After the first tests, a greater amount of high intensity training sessions were prescribed in the three disciplines, which had a greater impact on the triathlete's peakVO 2 . Additionally, the decrease in total body mass (kg) and fat mass must be considered to read into the large change observed in peakVO 2 (Bassett and Howley, 2000; Mooses and Hackney, 2017) Both absolute and relative mechanical peak power output, as well as mechanical power output at ventilatory thresholds during cycling test were similar than the values reported for a world-class cyclist (R\\u00f8nnestad and Hansen, 2018) . It is important to know that in the cycling segment of the WTS and OG, many high power peaks are demanded, conditioned by the orography and the tactics of the race. Finally, the peak speed reported and ventilatory threshold during running test were also in line with the data reported by other elite running athletes (Ingham et al., 2012; Kenneally et al., 2021) and with the performance obtained in the races.Finally, some limitations should be considered. Tests were only performed at the beginning and in the middle of the season. Therefore, the physiological changes produced from the middle to the end of the season are not shown. The competitions, as well as the dynamics of specific training sessions for Tokyo Olympic Games, did not allow a new test week to be scheduled at the end of the macrocycle. In addition, the manuscript shows a case study on a training macrocycle of a world-class triathlete, so the training program and the results obtained cannot be extrapolated to another type of population.Despite these possible limitations, this research may be interesting for coaches and researches because helps to know the training characteristics of a world-class triathlete in his preparation for one of the main world sporting events. Future research with endurance athletes of this level of performance is needed.\\n\\nDATA AVAILABILITY STATEMENT\\n\\nThe raw data supporting the conclusion of this article will be made available by the authors, without undue reservation.\\n\\nETHICS STATEMENT\\n\\nThe studies involving human participants were reviewed and approved by The UA-2017-04-11 expedient. The patients/ participants provided their written informed consent to participate in this study. Written informed consent was obtained from the individual(s), and minor(s)' legal guardian/ next of kin, for the publication of any potentially identifiable images or data included in this article.\\n\\nAUTHOR CONTRIBUTIONS\\n\\nRC is the athlete's coach. Therefore, he designed the training plan and he was present in most of the training sessions. SS-P is the assistant coach and he advised on the design of strength training. He was also present at numerous training sessions. The manuscript was written by both authors simultaneously.\\n\\nACKNOWLEDGMENTS\\n\\nFirst of all, the authors thank the triathlete (FA) for his confidence in the training plan and his effort in each training session. Secondly, we thank the rest of the coaching staff (AT, HA, CT, EP, JAD, and CF) for their involvement throughout the season.\\n\\n\",\n          \"\\n\\nT he 2014-2016 Ebola virus (EBOV) outbreak in West Africa infected over 28,000 people and caused >11,000 deaths 1 . This was the largest documented outbreak of EBOV, although the disease continued to wreak damage: another outbreak, which began in 2018 infected over 3400 people in the Democratic Republic of Congo (DRC) with a case fatality ratio of 66% (WHO Situation Report 06/24/2020). The toll of EBOV infection however is not limited to the acute consequences: survivors of the disease have struggled to reintegrate into society and have shown elevated levels of disability 2, 3 . This phenomenon has been referred to as \\\"post-Ebolavirus disease syndrome\\\" (PEVDS), and it encompasses a range of symptoms including extreme fatigue, difficulty sleeping, chronic headaches, memory loss, mood disorders, uveitis, and other visual and auditory problems [3] [4] [5] [6] [7] . Studies place the overall prevalence of PEVDS at over 75%, with the cumulative incidence of symptoms rising until 2 years post-discharge 4, 5 . Many components of PEVDS are painful, interfere with daily functions and result in decreased quality of life 3, 5 .Despite the severity of the issues facing EBOV survivors, the origin and nature of PEVDS neurological manifestations are still not entirely understood. Extracranially, EBOV is known to infect endothelial cells and trigger pro-inflammatory cytokine release 8 . It is unclear whether a similar process occurs in the brain, resulting in a compromised blood-brain barrier (BBB). EBOV has already been identified in the cerebrospinal fluid (CSF) of several patients in both the acute and late-onset stages, suggesting that the virus is able to bypass the BBB [9] [10] [11] . Although recently a replication-competent pseudotyped vesicular stomatitis virus (VSV) platform where the VSV GP was replaced with Ebola's GP (rVSV\\u0394G-ZEBOV-GP) showed infection of retinal, brainstem and cerebellar neurons in neonatal mice 12 , there has been no documentation of neuronal or microglial infection with the nonpseudotyped virus in natural hosts, ex vivo.Some studies suggest that the molecular and functional damage caused by EBOV within the central nervous system (CNS) improves over time 13, 14 . However, without pre-disease baseline assessment of those patients, the extent of recovery is difficult to determine. Studies of EBOV infection in humans remain complicated by the urgency and resource-limited settings of the outbreaks. Animal models of EBOV, therefore, are a pathway to understand the neurological implications of the virus infection in the CNS during the acute stage of illness. Nonhuman primate (NHP) models of EBOV infection are well-described 15 . In these models, as in infected patients, EBOV infects macrophages, monocytes and dendritic cells, which eventually seeds multiple organs, including the liver, spleen, eyes and lungs, typically leading to death within 6 to 8 days of inoculation 15 .Molecular imaging of EBOV infection offers the ability to noninvasively and longitudinally monitor various features of the disease including CNS involvement. Furthermore, imaging studies can shed light on the pathophysiology of lingering neurological abnormalities in survivors. In this study, we employed magnetic resonance imaging (MRI) and 18 F-Fluorodeoxyglucose positron emission tomography/computed tomography (FDG PET/CT) to track changes in brain anatomy, BBB integrity and brain glucose metabolism in EBOV-infected macaques. We serially measured biomarkers of disease in the blood and in one group of animals, in the CSF. We correlated the laboratory findings to imaging. Finally, we used multiplex fluorescence immunohistology to screen for relevant biomarkers of neuroinflammation and neurodegeneration in brain tissues postnecropsy.In this work, using a combination of MRI (quantitative MRrelaxometry) and FDG PET/CT, we show brain involvement with EBOV in acutely infected macaques, including BBB dysfunction and metabolic changes, which correlate with disease progression and are confirmed with immunohistopathology.\\n\\nResults\\n\\nDisease progression biomarkers. We evaluated our animals for progression of the systemic infection using complete blood counts with differential at different time points after inoculation, in order to compare to human disease progression, as well as correlate with our imaging findings. We expected the infected animals to develop progressive lymphopenia, monocytopenia, and decreased platelet counts, as has been described in this animal model before 15 and in infected patients [16] [17] [18] . At days 4 and 5 postinfection, platelets, lymphocytes, reticulocytes, and monocyte counts and percentages all began to gradually decrease, while neutrophil counts/percentages increased (Supplementary Table 1 and Fig. 1a ). Those results were expected and to a large degree paralleled similar disease progression markers in patients, especially in fatal cases 19, 20 , likely reflecting direct infection of monocytes/macrophages and bystander lymphocytic apoptosis [16] [17] [18] .In following up of viremia, there was no viral RNA detected in the plasma of group A and group B animals on day 2, while on day 3 viral RNA loads were measurable in almost all assayed animals and increased thereafter (Supplementary Table 1 and Fig. 1b) . In group A that underwent CSF sampling, on the other hand, viral RNA was detected in the CSF by days 4 and 5 postinfection with dramatic increases seen in some animals by day 7 (Supplementary Table 1 and Fig. 1c ). This was similar to described cases of positive EBOV RNA identified in the CSF of ARTICLE NATURE COMMUNICATIONS | https://doi.org/10.1038/s41467-021-23088-x multiple infected patients, consistent with CNS involvement and breach of the BBB 9,11,21 .We measured plasma cytokine levels in our animals to document and monitor the development of the cytokine storm described in patients with EBOV infection 22 , especially fatal cases. Plasma cytokines levels, reflecting both pro-inflammatory as well as anti-inflammatory systemic responses to the infection, increased gradually, with interleukin (IL)-10 and IL-6 beginning to increase on day 4. IL-8 and tumor necrosis factor alpha (TNF\\u03b1), on the other hand, began increasing on day 6, while GM-CSF and IL-2 began increasing on day 7 (Supplementary Table 2 and Supplementary Fig. 1 ). The cytokine changes in the animals are similar to those described in EBOV-infected patients, especially concerning the increases in pro-inflammatory cytokines such as IL-6 and IL-8 23, 24 , as well as the anti-inflammatory cytokine IL-10 23 . In group B animals, the increases of cytokine levels over time were statistically significant for IL-2, IL-6, IL-8, and IL-10 (linear mixed models (LMM), p < 0.01).Unlike in the plasma, changes of cytokine levels in the CSF of acutely infected EBOV patients have not been described, likely due to the difficulty of obtaining and analyzing CSF in underdeveloped countries with limited resources. In this study, we longitudinally evaluated changes in CSF cytokines in the infected animals to better understand the pathophysiology of CNS involvement following infection and to correlate those results to our imaging findings. In the CSF, levels of MCP-1, IL-1Ra, IL-2, G-CSF, and IL-18 started increasing on day 5 postinfection. Increases in IL-15, IL-1\\u03b2, IL-6, and TNF-\\u03b1 levels were slightly more delayed in the CSF, beginning closer to day 6 postinfection. Levels of IFN-\\u03b3 were not appreciably elevated. Levels of IL-10, TGF-\\u03b1, IL-13, IL-4 and MIP-1\\u03b1 did not increase appreciably in the CSF (Supplementary Table 3 ). The increases in CSF cytokine levels over time were statistically significant for MCP-1, IL-1Ra, IL-6 and IL-8 (LMM, p < 0.01) ( Supplementary  Fig. 2 ). Similar increases in CSF cytokines have been previously reported in patients with other viral meningitides [25] [26] [27] .Finally, we found viable virus in various brain tissues from group A animals, as determined by plaque assay, mainly on days 6 and 7 after inoculation. The distribution was not very different across regions ( Supplementary Fig. 3 ). This could however be partially due to the lack of perfusion of the animals at necropsy and tissue collection, with secondary confounding effect of high blood viremia.Findings from MRI. Measuring MR relaxation times (e.g., T1 and T2 values) has long been used to evaluate developmental and pathologic changes in the brain at the molecular level [28] [29] [30] . In MR physics terminology, T1 relaxation (also known as longitudinal relaxation) is the process by which the net longitudinal magnetization of a certain tissue returns to baseline value after being subjected to a radiofrequency pulse. T1 value is defined as the time required for the longitudinal magnetization value to grow to (1\\u22121/e) or~63% of its original value 31 . T1 values depend on tissue composition with bound hydrogen atoms such as those within macromolecules or in the vicinity of large macromolecules having short T1 values while unbound hydrogen atoms such as in water (e.g., CSF) have very high T1 values 31 . T1 values of various tissues, thus, reflect the consistency of those tissues 32, 33 and fluid accumulation in the extracellular space is expected to increase those values compared to baseline 30, 34, 35 , mainly because the CSF T1 value at 3 T (~4000 32 ) is much higher than that of white and gray matter (806 \\u00b1 25 and 1460 \\u00b1 114, respectively, at baseline). Contrast extravasation into the extracellular space due to BBB disruption, on the other hand, would result in further shortening of the T1 values due to the inherent T1-shortening effects of Gadolinium-based contrast materials through their paramagnetic properties 36 .In order to control for factors that could influence measured brain T1 values, we performed multiple experiments to assess the accuracy and precision of those measures, using gel phantoms and control animals. We found that the dual-flip-angle method measures of T1 relaxation times differed <2% compared to the actual inversion recovery measures of the gel phantoms, a level of accuracy that is comparable to the one reported by Eminian and colleagues 29 . When the phantoms were scanned at different times, days, and orientations, the coefficient of variance remained around or below 4% in the range typical for white and gray matter. Experiments with NHPs scanned multiple times within one day demonstrated a coefficient of variation of T1 values within 10 selected volumes of interest (VOIs) in the brain of <3%.Another quality assurance issue in group A animals was the variability in age and size of the animals, which could potentially affect co-registration of the individual scans to the D99 atlas, which we used to delineate the VOIs. In order to avoid misregistration that could affect the final T1 values, we carefully inspected the quality of co-registration between the MR scans and the D99 atlas in all animals. We found the quality of coregistration to be appropriate irrespective of the animals' ages and weights ( Supplementary Fig. 4 ).In the infected animal brains, we found that time postinfection was associated with increases in pre-contrast T1 values in most of the evaluated regions, that in some animals could be visually detected on T1 maps (Fig. 2a) , with a trend for significance seen in the centrum semiovale and putamen (LMM, p = 0.033 and 0.016, respectively) (Fig. 2b) . In the putamen, the increases were most noticeable between days 4/5 and baseline and between day 6 and baseline (LMM, p = 0.007 and 0.006, respectively). Our findings supported increased water content in those regions over time, suggesting disruption of the BBB and secondary mild brain edema due to accumulation of fluid in the extracellular spaces 30, 34 .We also found further drop in T1 values (increases in %T1shortening) after contrast administration in most regions, that in some animals could be visually detected on post contrast T1 maps (Fig. 2c) . Time post-infection showed borderline significant association with %T1-shortening in the thalamus and putamen (LMM, p = 0.034 and 0.033, respectively) ( Fig. 2d) . Those findings suggested extravasation of Gadolinium-based contrast materials into the extracellular space in the brains of infected animals, over time, due to BBB disruption 36 .Correlations between MRI data and biomarkers. Positive correlations were identified between increasing plasma viral load and increasing T1 values in the caudate and putamen (p < 0.01) (Supplementary Table 4a ). We also found positive correlations between plasma viral load and %T1-shortening in the putamen, thalamus and cerebellar gray matter (LMM, p < 0.01). CSF viral load did not correlate with T1 values in any region however it correlated positively with %T1-shortening in cerebellar gray matter and frontal cortex (LMM, p < 0.01) (Supplementary Table 4b ).The changes in MR measures suggestive of BBB disruption also correlated with different inflammatory markers in the plasma and CSF. We found positive correlations between frontal cortex T1 values and CSF levels of MIP-1\\u03b1 and GM-CSF (LMM, p < 0.01) ( Supplementary Table 4a ), as well as between %T1 shortening and CSF levels of IL-1Ra, IL-1\\u03b2, IL-8, IL-18, GM-CSF, MIP-1\\u03b1 and MIP-1\\u03b2 (LMM, p < 0.01) (Supplementary Table 4b ). Our results supported a relationship between neuroinflammatory changes and the degree of BBB dysfunction associated with EBOV infection.Findings from FDG PET/CT. FDG is a non-physiological glucose analog that undergoes similar cellular uptake as glucose by glucose transporters (GLUTs) such as GLUT1 and GLUT3. Once in the cell, FDG undergoes phosphorylation by the enzyme hexokinase. Unlike glucose, however, the phosphorylated FDG molecule does not undergo glycolysis and instead gets entrapped in the cell. As such, FDG PET reflects the extent and distribution of glucose metabolism in various tissues 37 . Since glucose is the only source of energy for neurons, there is usually high FDG uptake in cortical and subcortical areas of the brain. Neuroinflammation, however, can result in increased FDG uptake mainly due to increased uptake by activated immune cells 38 . In this study, we used FDG PET to assess changes in the extent and distribution of brain glucose metabolism between the baseline (pre-inoculation) and various time points after inoculation. We evaluated both the absolute mean standardized uptake values (SUVs) in different regions of the brain as well as the relative SUVs, which are normalized to whole brain uptake. The latter approach is commonly used in the literature and is known to provide a more stable quantitative assessment of cerebral glucose metabolism than absolute SUV values 39 . We did not find statistically significant changes for whole brain FDG uptake over time (LMM, p > 0.01). Regional absolute SUVmean values appeared to increase as a function of time in multiple brain regions however those changes were borderline significant only in the pons (LMM, p = 0.015). Relative SUVs in the thalamus, midbrain and pons, on the other hand, exhibited significant overall increases over time (LMM, p = 0.003, p = 0.006, p = 0.0007) (Fig. 3a, b) . Relative SUVs in these regions increased significantly at day 6 compared to baseline (LMM, p < 0.001). Borderline significant increases in relative SUV values were seen in the medulla and caudate (LMM, p = 0.02 and 0.04). Using linear mixed effect regression models, correlations were identified between regional relative SUV values and biological markers of disease. Relative SUVs of the pons positively correlated with blood viremia, as well as plasma levels of IL-8, IL-6, and IL-10 (LMM, p < 0.01). Relative uptake in the thalamus, midbrain and medulla correlated significantly with IL-8 and IL-6 (LMM, p < 0.01) (Supplementary Table 4c ).Findings from structural MR imaging. Structural MR imaging is essential for the detection of macroscopic abnormalities in the setting of infection. Those could include abnormal high signal intensity on FLAIR and T2 weighted images, microhemorrhagic changes, best seen on susceptibility-weighted imaging, and abnormal parenchymal and/or meningeal enhancement after contrast administration. In our animals, however, MPRAGE and pre/post contrast T1-weighted (Flip angle 32 o ) images scans on group A and B animals, as well as PD/T2 weighted and pre and post FLAIR images on group C animals showed no evidence of abnormal signal intensity, distorted anatomy or abnormal meningeal or parenchymal enhancement ( Supplementary Fig. 5 ). On T2* weighted images, venous congestion was identified in the deep and superficial venous systems in the later stages of the disease, with however no evidence of intraparenchymal acute hemorrhage, microhemorrhagic changes or hemosiderin deposition. Evaluation of the orbits, including globes and retro-orbital tissues, showed no visually detectable changes between baseline and post inoculation scans ( Supplementary Fig. 5 ). In group B animals that did not get an MRI scan of the brain, diagnostic quality brain CT scans obtained from the FDG PET/CT examinations did not show any gross abnormalities. Immunohistochemistry and immunofluorescence. In order to better understand the pathophysiological bases underlying the imaging findings in our animals, we performed elaborate immunofluorescent staining of various cell populations in the brains of euthanized animals, at different time points after inoculation. We also stained for the presence of extravascular albumin as a measure of increased BBB permeability. In the control animal, albumin staining was seen solely within the vessels, as expected, since albumin and many other proteins are largely excluded by a functioning BBB 40 . In the infected animals, on the other hand, we identified extravascular albumin staining, which increased between day 4 and day 6/7, both qualitatively ( Fig. 4a , b) and quantitatively (Fig. 4c ). Extravascular albumin staining indicates prior BBB disruption, allowing protein extravasation into the extracellular spaces of the brain. Interestingly, the pattern of albumin extravasation was regional and somewhat patchy, mainly identified in the striatum and subcortical white matter.We also stained the brains of our animals for the presence of the EBOV antigen, VP40, to assess for infected cell populations, and for cellular apoptosis using CC3/PARP1 staining 41 .Quantitatively, higher staining for VP40 (EBOV antigen) was noted in the infected animals compared to the control animal, in the thalamus and in the midbrain, increasing further on day 6/7 compared to Day 4. Increased CC3/PARP1 staining, reflecting cellular apoptosis, was also noted, mainly in the brainstem (Fig. 5a, b) . VP40 staining co-localized with endothelial cells (CD31/CD144) ( Supplementary Fig. 6 ), as expected, since endothelial cell infection is a known manifestation of the infection 8, 42, 43 . VP40 staining also co-localized with circulating cells in the vascular lumina consistent with infected blood cells, mainly monocytes, which was expected since the animals were not perfused during euthanasia. Some VP40 staining co-localized with microglia/macrophages in the brain parenchyma, suggesting infection, which is not surprising since monocytes and macrophages are known to be susceptible to infection by EBOV 15 . The majority of the cells staining for VP40, however, also stained for NeuN, a neuronal marker, suggesting neuronal infection (Fig. 6) . Apoptosis, as demonstrated by staining for CC3/PARP1, was observed mostly in the brainstem and often co-localized with NeuN and VP40 staining (Fig. 6) . Those findings suggested that some neurons, especially in the brainstem, are susceptible to EBOV infection, with secondary neuronal injury and death. There were however multiple apoptotic neurons (NeuN and CC3/ PARP1 positive) that did not show co-staining with VP40, suggesting a distinct cause of neurotoxicity. This could be due to BBB disruption and secondary influx of neurotoxins into the brain parenchyma. One such neurotoxin is albumin, which has been shown to cause neuronal injury in the setting of disrupted BBB 44 . Further supporting this theory is that multiple neurons (NeuN-positive cells) appeared to stain for albumin as well.We also stained the brains of our animals for the expression levels of glucose transporters (GLUT1 and GLUT3) 45 in order to better understand the FDG PET findings of increased regional metabolism in the infected animals compared to baseline. The expression of GLUT1, a glucose transporter, which in the brain is mainly expressed in endothelial cells and astrocytes 46 , was mainly increased in the brainstem (Fig. 5a ). At the same time, the expression of GLUT3, a neuronal glucose transporter 46 , was seen both in the thalamus and in the midbrain, increasing further on day 6/7 compared to Day 4 ( Fig. 5a, b) . Staining for GLUT3 was especially noted in apoptotic neurons, compared to nonapoptotic neurons ( Supplementary Fig. 7) , suggesting increased metabolic demands of the former.Finally, Iba1 staining showed evidence of thickening and retraction of the microglial processes compared to normal ( Supplementary Fig. 8a) . Quantitatively, Iba1 staining quantification was increased in the brainstem and decreased in the thalamus. Although we did not see gross ameboid morphology of microglia/macrophages, we did however identify an increase in the size of the microglial cell bodies in the infected animals, which became more evident on terminal day compared to day 4 ( Supplementary Fig. 8b ). This was associated with shortening and thickening of the microglial processes. Our findings suggest early rather than late neuroinflammation at which point we would have seen a more reactive phagocytic microglial phenotype 47 .\\n\\nDiscussion\\n\\nThe extent of EBOV-induced neurological disease was not well elucidated during the 2016 epidemic in West Africa, or recent 2018 epidemic in the DRC, due to the high mortality associated with the infection and lack of local infrastructure allowing for sophisticated imaging, with only a few papers showing sporadic cases of patients with abnormal imaging findings 10,14 . The prevalence of neurological sequelae in EBOV survivors 4,5 , however, has reignited the interest in CNS involvement with EBOV. Using a combination of MR imaging including T1-relaxometry and FDG PET/CT imaging, which was further expanded to higher spatial resolution at the cellular level using MF-IHC staining and imaging, we identified BBB disruption, mild neuroinflammation, as well as sporadic neuronal VP40 antigen positivity (infection) and apoptosis, as the main markers of early CNS involvement in an animal model of EBOV disease. Our findings have not been previously described with EBOV, to our knowledge, and could potentially explain some of the CNS manifestations of EBOV infection, both in the acute stage and in survivors.With T1 mapping, we detected an increase in T1 pre-contrast values as well as %T1-shortening over the course of the experiment, as disease severity intensified (Fig. 2) . Altogether, these MR findings are suggestive of BBB disruption, secondary fluid accumulation and contrast extravasation into the extracellular space 30, 34, 35 . Our imaging results were corroborated by extravascular albumin staining in infected animals (Fig. 4) , especially later in the disease process. We hypothesize that the disrupted BBB is likely related to increased peripheral cytokine levels known to induce BBB disruption, especially IL-6 48-50 , as well as endothelial cell infection (shown as VP40 co-staining of endothelial cells throughout the brain vasculature, Supplementary  Fig. 6 ). In further support of this hypothesis, MR measures of T1 and %T1-shortening values significantly correlated with other indicators of disease progression: caudate/putamen T1 values and putamen/thalamus %T1-shortening correlated positively with plasma viral load (p < 0.01), suggesting an ongoing process that overlaps with peripheral disease progression and CNS involvement. The correlations with other measures of inflammation in the CSF (Supplementary Table 4 ) suggest an additional ongoing inflammatory process, possibly further contributing to BBB dysfunction 51 .Further insight into the effects of EBOV on the CNS was provided by FDG PET/CT imaging in a separate group of animals. In that cohort, EBOV infection was associated with incremental regional increased FDG uptake, especially in the brainstem (pons and midbrain) and thalamus, over the disease Table 4) . On the cellular level, using MF-IHC, we detected mild early microglial activation ( Supplementary Fig. 8) . However, we also identified multiple neurons co-staining for NeuN (neuronal marker) and VP40 (EBOV viral protein). Many of those stained positively for CC3/PARP1, consistent with apoptosis, starting on day 4 post inoculation, and progressing over time (Figs. 5 and 6 ). More interestingly, we identified an appreciable increase in GLUT3 expression, which also progressed over time, especially in association with apoptotic neurons (Supplementary Fig. 7) . There was also mild increase in GLUT1 expression in the brainstem on Days 6/7. Our findings are suggestive of sporadic neuronal infection, injury and apoptosis, with neuroinflammation and associated increased metabolic demands.The mechanism of neuronal involvement with EBOV can be explained by the known expression of the Niemann-Pick-C1 (NPC-1) receptors in neurons 52, 53 . It has been already demonstrated that the NPC-1 protein is essential for viral entry, independent of the cholesterol transport function of the receptor 54 . This makes NPC-1 a target for antiviral therapy based on preventing the viral glycoprotein from binding to it 54, 55 . Interestingly, although NPC-1 is expressed in the majority of neurons throughout the brain, significantly higher levels of expression were previously described in the rodent cerebellum and pontine nuclei 53 , with the latter showing more abnormalities than the rest of the brain in our imaging studies.Our study used a combination of MRI, PET imaging and immunohistology to better understand CNS involvement in the acute disease phase following EBOV infection. EBOV-infected subjects often develop a picture of sepsis with multi-organ failure near the end of the disease process, resulting in high fatality. The contribution of sepsis and septic shock to neurologic damage in EBOV-infected patients cannot be ruled out considering that patients who have experienced severe sepsis from other etiologies often demonstrate deterioration in cognitive function, lasting for years after the event, when compared to other hospitalized patients who did not suffer from sepsis 56 . We did, however, attempt to minimize the effect of sepsis and multi-organ failure on our quantitative analysis of the imaging studies by eliminating the last two days of the disease, which are characterized by significant deterioration and shock in this model. Also, our findings of endothelial and neuronal involvement with the virus, prior to establishment of sepsis and multi-organ failure in the animals, indicate an important role for EBOV that goes beyond the confounding effects of sepsis and warrants more careful investigation.Neurological deficits and mood disorders are relatively common components of PEVDS that range in severity and can last for months after recovery and viral clearance 7 . Studies in human survivors have found or suspected meningoencephalitis at multiple time points, anywhere from several weeks to multiple months post-infection 10, 11 . EBOV RNA was identified in the CSF of multiple infected patients 9, 11, 21 . Similarly, this has been also observed with other viral hemorrhagic fever infections, such as Lassa virus 57 and various arbovirus infection such as Zika, Chikungunya and Dengue viruses, where patients presented with neurologic problems 57 . The question of neuronal infection with EBOV, however, has not been answered. A recent study using a replication-competent pseudotyped vesicular stomatitis virus (VSV) platform where the VSV GP was replaced with Ebola's GP (rVSV\\u0394G-ZEBOV-GP) showed infection of retinal, brainstem and cerebellar neurons in neonatal mice 12 . Another recent preliminary report also showed the ability of EBOV to infect neuronal cells in vitro, with productive or restrictive replication within various neuroblastoma cell line types 58 . To our knowledge, however, there has been no previous ex vivo demonstration of direct neuronal infection with the non-pseudotyped EBOV.Our findings of focal hypermetabolism on FDG PET/CT pointed us towards assessment of neuroinflammation and expression of glucose transporters. Although there was slightly increased Iba1 expression histologically with increased cell body size and shortening of the processes consistent with neuroinflammation ( Supplementary Fig. 8) , we felt there must be another mechanism occurring, especially in the brainstem, to account for increased glucose metabolism. An overexpression of neuronspecific GLUT3 46 coinciding with neuronal apoptosis, suggested this could be an additional mechanism of increased FDG uptake in our animals. GLUT3 upregulation has been previously described with other models of brain pathology such as lead exposure 59 , hypoxia 60 , and severe traumatic injury 45 . The exact pathophysiology of increased GLUT3 expression in our infected monkey model combined with neuronal apoptosis could be due to glutamate excitotoxicity 61 with similar increased expression seen in association with impending apoptosis in hypoxic brain injury 62 . Interestingly, not all of the apoptotic neurons in our infected animals were positive for VP40 indicating multi-factorial causes for neuronal injury. One possibility includes neuronal absorption of extravasated albumin, which has been demonstrated to cause neuronal injury in the setting of disrupted BBB 44 . In fact, in our animals, we noticed that many neurons stained positively for albumin, especially ones that were located in close vicinity to extravascular albumin accumulation. Many of those neurons appeared to be apoptotic.Our abnormal imaging findings on MRI and FDG PET/CT increased over time. This was paralleled by increased number of VP40-positive neurons, apoptosis and albumin extravasation seen on days 6-7 after inoculation compared to day 4 in the same brain regions (thalamus and brainstem). Based on those results, it is possible that the degree of pathology seen in patients with PEVDS would depend on the degree and duration of acute infection in those who ultimately survive the disease. This is supported by positive correlations between imaging findings and peripheral measures of disease including plasma viral load and cytokine levels. The neurological symptomatology in acute EBOV includes headaches with reports of meningitis and encephalitis 3,6,7 . Headache is a non-specific symptom but could possibly reflect subtle edema due to BBB disruption consistent with our imaging findings, and/or meningeal inflammation supported by increased CSF cytokines. Neurological sequelae in survivors are also vague and non-focal, including headaches, short-term memory issues, dizziness and paresthesias. Interestingly, however, objective neurological examination in a group of survivors showed impairments of either pursuits or saccades in nearly two-thirds of the cohort 7 . Those deficits usually indicate brainstem dysfunction namely in the midbrain (vertical saccades) and pons/medulla (horizontal saccades) 63 , and/or in the subcortical structures. All those regions, especially the brainstem, have shown abnormal T1 values and/or increased FDG uptake in our animals. We also found most of the infected apoptotic neurons in the brainstem. As such, we believe our findings are consistent with symptomatology in survivors. More work needs to be done, however, to support our hypotheses, and the large population of survivors offers both the opportunity and the rationale to continue these inquiries.The pathologic changes in our EBOV-infected NHPs were mostly noted in the brainstem, thalamus and basal ganglia. This could be in part related to higher expression of the NPC-1 receptor in those regions 53 . A predilection for certain areas in the brain has been described with multiple other viral infections, including CMV involving the ventricular walls, HIV involving the basal ganglia, HSV involving the frontal and temporal lobes and West Nile virus involving mainly the basal ganglia, thalamus, upper brainstem, and cerebellum as well as the anterior horns of the spinal cord [64] [65] [66] . More recently a similar pred\",\n          \"INTRODUCTION\\n\\nEvidence from the first year of the coronavirus disease 2019 (COVID- 19) pandemic indicates that affected children typically develop mild, often asymptomatic, disease and are less likely to require hospitalization or intensive care unit (ICU) admission compared to adults 1 2 . However, when children do require hospitalization, up to one-third require ICU admission 2 3 . Few studies focus on pediatric critical COVID-19, and most larger studies are from high-income countries (HICs) [4] [5] [6] [7] . Studies examining pediatric ICU (PICU) admissions from low-middle-income countries (LMICs) are scarce, and the main focus has been multisystem inflammatory syndrome in children (MIS-C) [8] [9] [10] .In addition to a less severe presentation, children have lower mortality compared to adults, even when hospitalized 1 2 11 . While pediatric COVID-19 mortality rates are low in HICs, they are more concerning in LMICs. The review by Kitano and colleagues found that over 90% of pediatric COVID-19 deaths were from LMICs and that mortality risk was highest in children under 1 year old 12 . Mortality differences in LMICs can be partly explained by less-developed healthcare infrastructure and lack of resources, but the reasons for age-related differences are unclear. Potential explanations include developmental immune function differences, lack of prior exposure to other coronaviruses, and less frequent development of MIS-C, which might have lower mortality compared to COVID-19-related acute respiratory disease 13 14 . This mortality risk is further complicated by the fact that young children are currently unlikely to receive SARS-CoV2 vaccination because of lack of regulatory approval for this age group, the perception that young children are unlikely to have severe infections, and public health strategies that prioritize adult vaccination.. CC-BY 4.0 International license It is made available under a is the author/funder, who has granted medRxiv a license to display the preprint in perpetuity.\\n\\n(which was not certified by peer review)\\n\\nThe copyright holder for this preprint this version posted August 23, 2021. ; https://doi.org/10.1101/2021.08. 20.21262122 doi: medRxiv preprint To understand the epidemiology and outcomes of critical pediatric COVID-19 in both HICs and LMICs, we designed the Critical Coronavirus And Kids Epidemiology (CAKE) study, which includes PICUs from North, Central, and South America plus Europe. We previously reported a case series with preliminary insights into pediatric critical COVID-19 across these regions 15 .The objective of this manuscript is to more fully describe the epidemiology, clinical findings, and hospital treatments of critical COVID-19 in children from HICs and LMICs, as well as to identify factors associated with outcomes. Due to suspected differences in both the clinical presentation and outcomes between younger children (<2 years old) and older children (>2 years old) based on our experience with other respiratory viruses (i.e. bronchiolitis) as well as our early experiences with COVID-19, we compared younger and older children under the hypothesis that younger children with critical COVID-19 have a different clinical phenotype and worse outcomes than older children.The copyright holder for this preprint this version posted August 23, 2021. ; https://doi.org/10.1101/2021.08.20.21262122 doi: medRxiv preprint less likely to have gastrointestinal or mucocutaneous symptoms. They were also less likely to have a history of fever or documented temperature >38.3 o C on admission.On presentation, older children were more likely to have laboratory abnormalities, including lymphopenia, thrombocytopenia, hyponatremia, and elevated inflammatory markers (procalcitonin, C-reactive protein, and IL-6) ( Table 2 ). Abnormal cardiac labs (brain natriuretic peptide [BNP] and troponin I) as well as elevated d-dimer were more frequently found in older children. While diagnoses and complications were similar between age groups (Table 3; Supplemental Table 3 ), viral pneumonia, bacteremia and cardiac arrest did occur more frequently in younger children; myocarditis, acute kidney injury, and MIS-C occurred more commonly in older children.The copyright holder for this preprint this version posted August 23, 2021. ; https://doi.org/10.1101/2021.08.20.21262122 doi: medRxiv preprint Duration of NIV, IMV, ICU stay, hospitalization, and vasopressor use were similar between age groups. Overall, mortality was 10% (56 subjects) with higher mortality seen in younger children (Table 3) . Notably, cardiac arrest was associated with an 85% mortality. Four out of five patients treated with extracorporeal membrane oxygenation (ECMO) survived. We evaluated factors related to mortality using logistic regression with adjustment for age, sex, region, and initial PRISM III score (Figure 1 ; Supplemental Table 4 ). Factors associated with higher mortality included cardiopulmonary comorbidities, malignancy, malnutrition, hypoxemia or lower respiratory symptoms at admission, bacteremia, and significant organ dysfunction, such as ARDS, seizures, acute kidney injury, and acute liver injury. Having gastrointestinal or mucocutaneous symptoms, receiving IVIG, and being diagnosed with MIS-C were all associated with lower odds of mortality.Because we suspected that clinical factors and treatments may differentially impact mortality in younger children, we explored associations with mortality using univariate logistic regression stratified by age <2 and >2 years old (Table 5) . Although most factors significantly associated with mortality in the entire cohort had similar associations in stratified analysis, several had a differential effect depending on age. Prophylactic anticoagulation, IVIG, and methylprednisolone were associated with lower mortality only in older children. Similarly, having a diagnosis of MIS-C or symptoms commonly seen in MIS-C was associated with lower mortality only in older children. Pulmonary involvement, liver injury, or kidney injury were associated with higher mortality regardless of age.The copyright holder for this preprint this version posted August 23, 2021. ; https://doi.org/10.1101/2021.08.20.21262122 doi: medRxiv preprintOur study of critical pediatric COVID-19 from HICs and LMICs found distinct age-related disease patterns and outcomes and observed higher mortality than previously reported in large PICU studies 4 6 . Factors related to mortality included younger age, cardiopulmonary comorbidities, malignancy, malnutrition, and having a primarily respiratory illness (in contrast to MIS-C). Dexamethasone was not associated with improved mortality in any age group, while methylprednisolone was associated with lower mortality in older children.Our mortality contrasts with previous reports, which have found lower pediatric COVID-19 mortality. Most large studies have been from HICs and report mortality rates ranging from 1.6% to 6.5%, with most deaths occurring in older children with comorbidities 4-7 20 21 . However, the low mortality for critical pediatric COVID-19 in HICs might not translate to LMICs. Our findings may reflect the variability in pediatric COVID-19 mortality between HICs and LMICs described by Kitano 12 . Some Brazilian studies found low mortality but had many subjects from private hospitals with a socioeconomic profile similar to HIC populations 8 9 . Most other studies from LMICs demonstrate higher mortality, with younger age identified as a mortality risk 10 22 23 .There is likely a multifactorial explanation for the higher mortality we observed. Our cohort included many subjects from LMICs, and our restrictive eligibility criteria likely resulted in a more critically ill cohort. Other large studies often included subjects who were not critically ill or had lower rates of diagnoses or treatments associated with higher mortality (e.g. ARDS, IMV, vasopressors) 4 6 7 . Our cohort may better reflect the pediatric illness spectrum and severity seen with emergence of the delta variant of SARS-CoV2.. CC-BY 4.0 International license It is made available under a is the author/funder, who has granted medRxiv a license to display the preprint in perpetuity.The copyright holder for this preprint this version posted August 23, 2021. ; https://doi.org/10.1101/2021.08.20.21262122 doi: medRxiv preprintOur results also suggest that there may be distinct age-related phenotypes in pediatric critical COVID-19. Younger children more commonly had respiratory disease, hypoxemic respiratory failure, and secondary infections such as bacteremia and pneumonia, all of which might confer a higher risk of death. This contrasts with older children, who more frequently had gastrointestinal or cutaneous symptoms, developed MIS-C, and received treatments associated with lower mortality. While the impact of age on outcomes appears dramatic in our data, prior studies have had conflicting findings related to age and illness severity 24 25 . However, these studies evaluated children in HICs and had lower overall mortality. The age-related mortality differences we observed are consistent with data from LMICs, and these potential regional differences deserve further investigation to understand the causative factors 12 23 . Age-related differences included a lack of association between some treatments (IVIG, methylprednisolone, and prophylactic anticoagulation) or diagnoses (MIS-C) and improved mortality in younger children as well as a larger relative impact for acute kidney or liver injury compared to older children. The higher mortality seen in young children, even when they had MIS-C or received treatments associated with better outcomes, is concerning and warrants further investigation. Many factors could explain the association between younger age and mortality. We saw a higher IMV rate in young children, both compared to older children in our study and to other studies 4 6 .Frequent respiratory symptoms and hypoxemia combined with early COVID-19 guidelines recommending intubation rather than NIV may have prompted intubation early during hospitalization. IMV was associated with mortality and could also lead to iatrogenic complications. In addition, intubation itself, especially when performed in challenging circumstances (e.g., COVID-19 patient isolation or unfamiliar equipment), could lead to . CC-BY 4.0 International license It is made available under a is the author/funder, who has granted medRxiv a license to display the preprint in perpetuity.The copyright holder for this preprint this version posted August 23, 2021. ; https://doi.org/10.1101/2021.08.20.21262122 doi: medRxiv preprint complications such as cardiac arrest. We previously described this, and now report that over half of young children treated with IMV on day 1 also suffered cardiac arrest 15 . We also detected higher malnutrition rates in younger children. Research is ongoing to better understand the impact of age and patient factors on outcomes.The impact of specific treatments on outcomes also warrants discussion. While the Recovery trial demonstrated improved outcomes for adults requiring IMV that received dexamethasone, pediatric data to support this treatment are lacking 26 . We did not find an association between dexamethasone and survival, highlighting the challenge of extrapolating from adult trials to pediatric practice. Several therapies, most of which are frequently used for MIS-C, were associated with lower mortality, including methylprednisolone, IVIG, and prophylactic anticoagulation. Given the association between MIS-C and lower mortality, it is possible that the impact of these medications may be due to MIS-C rather than the therapies themselves. With mixed or absent data supporting many MIS-C and other COVID-19 treatments, it is important to study therapies for children in a prospective and multicenter fashion 27 28 .Our findings have several implications, particularly regarding LMICs and age-related outcomes.The copyright holder for this preprint this version posted August 23, 2021. ; https://doi.org/10.1101/2021.08.20.21262122 doi: medRxiv preprint children are unlikely to be vaccinated soon (if ever) due to lower population-based mortality risk and the unclear balance between vaccine benefit and risk 29 . Vaccine availability and distribution are also limited in many LMICs compared to HICs. Finally, since some experts believe that COVID-19 will become a seasonal infection rather than being eradicated, studies are needed to determine the optimal treatment for critical COVID-19 in children, not just for adults 30 .This study has several strengths. First, to our knowledge, our prospective study is the largest to involve both HICs and LMICs from across Europe, North America, and Latin America. We achieved significant representation from \\\"COVID-19 hotspots\\\" in Latin America, a region largely ignored in prior pediatric studies of COVID-19. Our relatively large sample size, broad geographic representation, and high illness severity allowed us to evaluate mortality in a way that has not been feasible in prior studies of critical pediatric COVID-19. We also included PICUs from diverse contexts, which may better allow generalizability to pediatric critical illness due to COVID-19 at a global scale. The use of an established data tool (the ISARIC report form) and study recruitment in established regional PICU networks such as LARed Network and the Pediatric Acute Lung and Sepsis Investigators (PALISI) network allowed us to make international comparisons, provided consistency to data collection, and may allow for future comparison with other studies using the same data tools.Our study does have several limitations. As an observational study, we are unable to determine causality between treatments and outcomes. Unrecognized factors might be responsible for the higher mortality observed with certain age groups, clinical presentations, or treatments. Further, while we had a relatively large sample size and high number of deaths compared to other . CC-BY 4.0 International license It is made available under a is the author/funder, who has granted medRxiv a license to display the preprint in perpetuity.The copyright holder for this preprint this version posted August 23, 2021. ; https://doi.org/10.1101/2021.08.20.21262122 doi: medRxiv preprint pediatric studies, mortality was still infrequent, limiting our ability to account for confounders.Although we had sites from many countries, our study involved a minority of PICUs in most countries, which may limit generalizability. Even with this limitation, our study involved a wider range of countries than other studies of critical pediatric COVID-19. This allowed us to provide a perspective on populations that have been underrepresented in prior research. We did not account for regional variation in patients, clinical practice, and outcomes but acknowledge that this variability likely impacts outcomes. We are currently gathering data to study this in our cohort.Since our study ended in December 2020, extrapolations of our findings to the current pandemic with viral variants and rising vaccination rates may be challenging. However, the clinical presentations and severity seen in our cohort seem to be similar to what has been anecdotally noted with the rise of the delta variant of SARS-CoV2. Lastly, we do not have data following discharge to capture late mortality or delayed complications such as long COVID. Future studies are needed evaluate long term outcomes after pediatric critical COVID-19.The copyright holder for this preprint this version posted August 23, 2021. ; https://doi.org/10.1101/2021.08.20.21262122 doi: medRxiv preprint and should prompt continued pediatric-specific research examining risks for mortality and determining the best treatments for critical pediatric COVID-19.The copyright holder for this preprint this version posted August 23, 2021. ; https://doi.org/10.1101/2021.08.20.21262122 doi: medRxiv preprint Abbreviations: IMV = invasive mechanical ventilation; NIV = non-invasive ventilation ECMO = extracorporeal membrane oxygenation; HCQ = hydroxychloroquine IVIG = intravenous immune globulin . CC-BY 4.0 International license It is made available under a is the author/funder, who has granted medRxiv a license to display the preprint in perpetuity. (which was not certified by peer review)The copyright holder for this preprint this version posted August 23, 2021. ; https://doi.org/10.1101/2021.08.20.21262122 doi: medRxiv preprint is the author/funder, who has granted medRxiv a license to display the preprint in perpetuity. (which was not certified by peer review)The copyright holder for this preprint this version posted August 23, 2021. ; https://doi.org/10.1101/2021.08.20.21262122 doi: medRxiv preprint is the author/funder, who has granted medRxiv a license to display the preprint in perpetuity. (which was not certified by peer review)The copyright holder for this preprint this version posted August 23, 2021. ; https://doi.org/10.1101/2021.08.20.21262122 doi: medRxiv preprint\\n\\nStudy design and setting\\n\\nCAKE is a prospective, observational cohort study examining the epidemiology and outcomes of children hospitalized for severe or critical COVID-19. We used STROBE guidelines when reporting.\\n\\nParticipants\\n\\nWe enrolled patients <19 years old hospitalized between April 1 and December 31, 2020, with severe or critical confirmed COVID-19 and/or MIS-C. Patients were enrolled if they met the following criteria:. CC-BY 4.0 International license It is made available under a is the author/funder, who has granted medRxiv a license to display the preprint in perpetuity. (which was not certified by peer review) Laboratory confirmation of SARS-CoV2 infection was done using polymerase chain reaction, antigen, or serologic testing depending on laboratory availability.\\n\\nDefinitions\\n\\nCritical COVID-19 was defined as having a positive test for SARS-CoV2 and requiring at least one of following therapies: ICU-level respiratory support including high flow nasal cannula (HFNC), non-invasive ventilation (NIV), or invasive mechanical ventilation (IMV); intravenous vasopressor or inotropic support; or continuous renal replacement therapy (CRRT). Severe COVID-19 included patients with a positive SARS-CoV2 test who did not meet critical COVID-19 criteria but received oxygen support via mask or nasal cannula exceeding the pediatric acute respiratory distress syndrome (ARDS) \\\"at risk\\\" criteria 16 . MIS-C cases were defined using the Centers for Disease Control and Prevention (CDC) criteria 17 . Because shortness of breath can be associated with both cardiovascular and respiratory disease processes, we opted to categorize this symptom as \\\"non-specific\\\" rather than \\\"respiratory.\\\"\\n\\nData collection, variables, and outcome measures\\n\\nProspective de-identified data were collected using a modification of the case report form developed by the International Severe Acute Respiratory and emerging Infection Consortium . CC-BY 4.0 International license It is made available under a is the author/funder, who has granted medRxiv a license to display the preprint in perpetuity. (which was not certified by peer review) duration of treatments, hospital and PICU length of stay (LOS) and in-hospital mortality. Data on illness progression and severity were collected daily from hospital day 1 until day 14, death, or hospital discharge. Illness severity was estimated using the Pediatric Risk of Mortality III (PRISM III) and Pediatric Logistic Organ Dysfunction 2 (PELOD-2) scores 18 19 . Diagnoses and complications were based on clinician documentation only. Missing data were completed after the enrolment period through record review by each site investigator. Subjects with incomplete data related to presentation, day 1 treatments, or outcomes were excluded from final analysis.\\n\\nData analysis\\n\\nCategorical variables were described as frequencies and percentages, and continuous variables expressed as medians and interquartile ranges (IQRs) or ranges. We used Fisher's exact test to analyze categorical variables and Wilcoxon rank-sum test for continuous variables. We performed univariate and multivariate logistic regression to examine associations with mortality; results from regression models are reported as odds ratios (unadjusted or adjusted) and 95% confidence intervals (CI). Statistical significance was designated as p value 0.05 (2-sided) or a 95% confidence interval that does not include 1. For our multivariable model, we included variables that were statistically significant in univariate logistic regression as well as those demonstrated in prior studies to have an association with mortality. Multivariable models were adjusted for age, sex, region (Latin America vs. non-Latin America), and PRISM III, which were . CC-BY 4.0 International license It is made available under a is the author/funder, who has granted medRxiv a license to display the preprint in perpetuity. (which was not certified by peer review)The copyright holder for this preprint this version posted August 23, 2021. ; https://doi.org/10.1101/2021.08.20.21262122 doi: medRxiv preprint selected a priori due to suspicion that they may be associated with outcomes. Statistical analysis was performed using JMP 15 Pro for Mac (SAS Institute, Cary, North Carolina).\\n\\nEthics\\n\\nThis study was approved by the lead site, Nationwide Children's Institutional Review Board, and each institutional review board at each participating site with a waiver of the need for informed consent (supplemental data, collaborators).\\n\\nRESULTS\\n\\nA total 84 sites screened patients for inclusion, and 590 subjects were enrolled from 55 different sites. After excluding 33 subjects due to incomplete data from presentation, day 1 laboratory values or treatments, or outcomes, there were 557 subjects included for analysis. Of these, 433 met our criteria for critical COVID-19, 76 met our definition for severe COVID-19, and 48 were in the PICU with MIS-C.\\n\\nDemographics and Comorbidities\\n\\nThe median age was 8 years with 24% under 2 years old and 61% male (Table 1) . Only 43% had a known COVID-19 exposure. There were 352 (63%) from Latin America (Supplemental Table   1 ). Comorbidities were present in just over half of subjects (Table 1) . Most were similar between older and younger children, although younger children were more likely to have a chronic cardiac condition or malnutrition while older children more frequently had obesity or asthma.\\n\\nExposures and Presentation\\n\\nInitial presentation and clinical findings are noted in Table 1 and Supplemental Table 2 . Younger children presented earlier in their illness and were more likely to have respiratory symptoms but . CC-BY 4.0 International license It is made available under a is the author/funder, who has granted medRxiv a license to display the preprint in perpetuity.\\n\\nMedications and treatments\\n\\nThe most common ICU-level support modalities included vasopressors, IMV, and NIV (Table   4 ). IMV was more frequent in younger children, while older children were more likely to require vasopressors. Nearly 1/3 of younger children (31%) and 23% of older children required IMV on the first hospital day (p=0.06). In conjunction with more frequent systemic inflammation and concern for MIS-C, older children more frequently received prophylactic anticoagulation, antiplatelet therapy, immunomodulators (primarily intravenous immune globulin [IVIG]), and methylprednisolone. Exchange transfusions, convalescent plasma, and immunomodulators other than IVIG were infrequent in all age groups. Dexamethasone was more common in respiratory illness (38% of those with lower respiratory symptoms versus 20% without lower respiratory symptoms), but use was similar between older and younger children.\\n\\nOutcomes\\n\\n. CC-BY 4.0 International license It is made available under a is the author/funder, who has granted medRxiv a license to display the preprint in perpetuity.\\n\\nDISCUSSION\\n\\n. CC-BY 4.0 International license It is made available under a is the author/funder, who has granted medRxiv a license to display the preprint in perpetuity.\\n\\nCurrent literature has not sufficiently evaluated the impact of critical pediatric COVID-19 in\\n\\nLMICs or the respiratory disease more commonly seen in young children. There has been more attention on MIS-C, a novel condition but one associated with very low mortality, rather than the COVID-19 related illnesses that we and others have found to have higher mortality 12 . This higher mortality warrants further investigation to determine whether care and outcomes can be improved, particularly in resource-limited settings. These efforts are urgent since younger . CC-BY 4.0 International license It is made available under a is the author/funder, who has granted medRxiv a license to display the preprint in perpetuity.\\n\\nCONCLUSIONS:\\n\\nThis large, prospective, international cohort study of critically ill children with COVID-19 identified distinct age-related variations in disease phenotypes and mortality. A respiratory phenotype, more common in younger children, was associated with higher mortality. An inflammatory or cardiovascular phenotype (commonly MIS-C) was more common in older children and associated with lower mortality. We identified a higher overall mortality rate than what has previously been seen in critical pediatric COVID-19. The higher mortality, especially among younger children, has implications for public health and vaccination strategies in LMICs . CC-BY 4.0 International license It is made available under a is the author/funder, who has granted medRxiv a license to display the preprint in perpetuity.\\n\\nAcknowledgments:\\n\\nWe are thankful to all researchers direct or indirectly involved in the CAKE Study, who made their greatest efforts to do research with courage while taking care of critically ill children and even adults with COVID-19 during the difficult times and recurrent surges and waves of the pandemic. We also are grateful to the investigators of the International Severe Acute Respiratory and emerging Infection Consortium (ISARIC) for sharing their data collection tools.. CC-BY 4.0 International license It is made available under a is the author/funder, who has granted medRxiv a license to display the preprint in perpetuity.\\n\\n\"\n        ],\n        \"semantic_type\": \"\",\n        \"description\": \"\"\n      }\n    },\n    {\n      \"column\": \"input_ids\",\n      \"properties\": {\n        \"dtype\": \"object\",\n        \"semantic_type\": \"\",\n        \"description\": \"\"\n      }\n    },\n    {\n      \"column\": \"attention_mask\",\n      \"properties\": {\n        \"dtype\": \"object\",\n        \"semantic_type\": \"\",\n        \"description\": \"\"\n      }\n    },\n    {\n      \"column\": \"labels\",\n      \"properties\": {\n        \"dtype\": \"object\",\n        \"semantic_type\": \"\",\n        \"description\": \"\"\n      }\n    }\n  ]\n}"
            }
          },
          "metadata": {},
          "execution_count": 10
        }
      ]
    },
    {
      "cell_type": "code",
      "source": [
        "# spliting train and tests\n",
        "\n",
        "from sklearn.model_selection import train_test_split\n",
        "\n",
        "train, test = train_test_split(df_source, test_size=0.2, random_state=42)"
      ],
      "metadata": {
        "id": "638xp28Hyl6q"
      },
      "execution_count": null,
      "outputs": []
    },
    {
      "cell_type": "code",
      "source": [
        "import nltk\n",
        "nltk.download('punkt')\n",
        "nltk.download('punkt_tab')\n",
        "!pip install evaluate\n",
        "import evaluate\n",
        "metric = evaluate.load(\"rouge\")\n",
        "\n",
        "def calc_rouge_scores(candidates, references):\n",
        "    result = metric.compute(predictions=candidates, references=references, use_stemmer=True)\n",
        "    result = {key: round(value * 100, 1) for key, value in result.items()}\n",
        "    return result"
      ],
      "metadata": {
        "colab": {
          "base_uri": "https://localhost:8080/"
        },
        "id": "neeYztZoffuf",
        "outputId": "329347b4-a8c4-458b-ec58-a99e20bd6f2a"
      },
      "execution_count": null,
      "outputs": [
        {
          "output_type": "stream",
          "name": "stderr",
          "text": [
            "[nltk_data] Downloading package punkt to /root/nltk_data...\n",
            "[nltk_data]   Package punkt is already up-to-date!\n",
            "[nltk_data] Downloading package punkt_tab to /root/nltk_data...\n",
            "[nltk_data]   Package punkt_tab is already up-to-date!\n"
          ]
        },
        {
          "output_type": "stream",
          "name": "stdout",
          "text": [
            "Requirement already satisfied: evaluate in /usr/local/lib/python3.11/dist-packages (0.4.3)\n",
            "Requirement already satisfied: datasets>=2.0.0 in /usr/local/lib/python3.11/dist-packages (from evaluate) (3.4.1)\n",
            "Requirement already satisfied: numpy>=1.17 in /usr/local/lib/python3.11/dist-packages (from evaluate) (2.0.2)\n",
            "Requirement already satisfied: dill in /usr/local/lib/python3.11/dist-packages (from evaluate) (0.3.8)\n",
            "Requirement already satisfied: pandas in /usr/local/lib/python3.11/dist-packages (from evaluate) (2.2.2)\n",
            "Requirement already satisfied: requests>=2.19.0 in /usr/local/lib/python3.11/dist-packages (from evaluate) (2.32.3)\n",
            "Requirement already satisfied: tqdm>=4.62.1 in /usr/local/lib/python3.11/dist-packages (from evaluate) (4.67.1)\n",
            "Requirement already satisfied: xxhash in /usr/local/lib/python3.11/dist-packages (from evaluate) (3.5.0)\n",
            "Requirement already satisfied: multiprocess in /usr/local/lib/python3.11/dist-packages (from evaluate) (0.70.16)\n",
            "Requirement already satisfied: fsspec>=2021.05.0 in /usr/local/lib/python3.11/dist-packages (from fsspec[http]>=2021.05.0->evaluate) (2024.10.0)\n",
            "Requirement already satisfied: huggingface-hub>=0.7.0 in /usr/local/lib/python3.11/dist-packages (from evaluate) (0.28.1)\n",
            "Requirement already satisfied: packaging in /usr/local/lib/python3.11/dist-packages (from evaluate) (24.2)\n",
            "Requirement already satisfied: filelock in /usr/local/lib/python3.11/dist-packages (from datasets>=2.0.0->evaluate) (3.17.0)\n",
            "Requirement already satisfied: pyarrow>=15.0.0 in /usr/local/lib/python3.11/dist-packages (from datasets>=2.0.0->evaluate) (18.1.0)\n",
            "Requirement already satisfied: aiohttp in /usr/local/lib/python3.11/dist-packages (from datasets>=2.0.0->evaluate) (3.11.13)\n",
            "Requirement already satisfied: pyyaml>=5.1 in /usr/local/lib/python3.11/dist-packages (from datasets>=2.0.0->evaluate) (6.0.2)\n",
            "Requirement already satisfied: typing-extensions>=3.7.4.3 in /usr/local/lib/python3.11/dist-packages (from huggingface-hub>=0.7.0->evaluate) (4.12.2)\n",
            "Requirement already satisfied: charset-normalizer<4,>=2 in /usr/local/lib/python3.11/dist-packages (from requests>=2.19.0->evaluate) (3.4.1)\n",
            "Requirement already satisfied: idna<4,>=2.5 in /usr/local/lib/python3.11/dist-packages (from requests>=2.19.0->evaluate) (3.10)\n",
            "Requirement already satisfied: urllib3<3,>=1.21.1 in /usr/local/lib/python3.11/dist-packages (from requests>=2.19.0->evaluate) (2.3.0)\n",
            "Requirement already satisfied: certifi>=2017.4.17 in /usr/local/lib/python3.11/dist-packages (from requests>=2.19.0->evaluate) (2025.1.31)\n",
            "Requirement already satisfied: python-dateutil>=2.8.2 in /usr/local/lib/python3.11/dist-packages (from pandas->evaluate) (2.8.2)\n",
            "Requirement already satisfied: pytz>=2020.1 in /usr/local/lib/python3.11/dist-packages (from pandas->evaluate) (2025.1)\n",
            "Requirement already satisfied: tzdata>=2022.7 in /usr/local/lib/python3.11/dist-packages (from pandas->evaluate) (2025.1)\n",
            "Requirement already satisfied: aiohappyeyeballs>=2.3.0 in /usr/local/lib/python3.11/dist-packages (from aiohttp->datasets>=2.0.0->evaluate) (2.6.1)\n",
            "Requirement already satisfied: aiosignal>=1.1.2 in /usr/local/lib/python3.11/dist-packages (from aiohttp->datasets>=2.0.0->evaluate) (1.3.2)\n",
            "Requirement already satisfied: attrs>=17.3.0 in /usr/local/lib/python3.11/dist-packages (from aiohttp->datasets>=2.0.0->evaluate) (25.3.0)\n",
            "Requirement already satisfied: frozenlist>=1.1.1 in /usr/local/lib/python3.11/dist-packages (from aiohttp->datasets>=2.0.0->evaluate) (1.5.0)\n",
            "Requirement already satisfied: multidict<7.0,>=4.5 in /usr/local/lib/python3.11/dist-packages (from aiohttp->datasets>=2.0.0->evaluate) (6.1.0)\n",
            "Requirement already satisfied: propcache>=0.2.0 in /usr/local/lib/python3.11/dist-packages (from aiohttp->datasets>=2.0.0->evaluate) (0.3.0)\n",
            "Requirement already satisfied: yarl<2.0,>=1.17.0 in /usr/local/lib/python3.11/dist-packages (from aiohttp->datasets>=2.0.0->evaluate) (1.18.3)\n",
            "Requirement already satisfied: six>=1.5 in /usr/local/lib/python3.11/dist-packages (from python-dateutil>=2.8.2->pandas->evaluate) (1.17.0)\n"
          ]
        }
      ]
    },
    {
      "cell_type": "code",
      "source": [
        "ref = list(test['abstract'])\n",
        "candidate = list(test['full-text'].apply(lambda x: '/n'.join(nltk.sent_tokenize(x)[:3])))\n",
        "\n"
      ],
      "metadata": {
        "id": "vNLDg0sOfhtU"
      },
      "execution_count": null,
      "outputs": []
    },
    {
      "cell_type": "code",
      "source": [
        "print (f'Scores {calc_rouge_scores(candidate, ref)}')"
      ],
      "metadata": {
        "colab": {
          "base_uri": "https://localhost:8080/"
        },
        "id": "Y7_XzLhYmZxM",
        "outputId": "02e18add-66f1-4fcb-da4d-4713bb8bfb7e"
      },
      "execution_count": null,
      "outputs": [
        {
          "output_type": "stream",
          "name": "stdout",
          "text": [
            "Scores {'rouge1': np.float64(22.6), 'rouge2': np.float64(6.9), 'rougeL': np.float64(13.8), 'rougeLsum': np.float64(14.0)}\n"
          ]
        }
      ]
    },
    {
      "cell_type": "code",
      "source": [],
      "metadata": {
        "id": "IXrDccU4sLtW"
      },
      "execution_count": null,
      "outputs": []
    },
    {
      "cell_type": "code",
      "source": [
        "# training arguments\n",
        "\n",
        "from transformers import TrainingArguments, Trainer\n",
        "\n",
        "training_args = TrainingArguments(\n",
        "    output_dir='/contents',\n",
        "    per_device_train_batch_size = 16,\n",
        "    num_train_epochs = 5,\n",
        "    optim='adamw_torch',  # Define the optimizer. it is AdamW,\n",
        "    evaluation_strategy='epoch',\n",
        "    save_strategy='epoch',\n",
        "    load_best_model_at_end=True,\n",
        "    include_inputs_for_metrics=True\n",
        ")"
      ],
      "metadata": {
        "id": "fJ8GjOAYRluh",
        "colab": {
          "base_uri": "https://localhost:8080/"
        },
        "outputId": "8485ef2a-d841-4683-d7ce-bb1b76ae7ef2"
      },
      "execution_count": null,
      "outputs": [
        {
          "output_type": "stream",
          "name": "stderr",
          "text": [
            "Using `include_inputs_for_metrics` is deprecated and will be removed in version 5 of 🤗 Transformers. Please use `include_for_metrics` list argument instead.\n"
          ]
        }
      ]
    },
    {
      "cell_type": "code",
      "source": [
        "!pip install datasets\n",
        "from datasets import Dataset\n",
        "\n",
        "train_ds = Dataset.from_pandas(train)\n",
        "test_ds = Dataset.from_pandas(test)"
      ],
      "metadata": {
        "colab": {
          "base_uri": "https://localhost:8080/"
        },
        "id": "ZQDde_LHKc4j",
        "outputId": "86236cf0-bc84-4df2-9dc3-666ff79a949c"
      },
      "execution_count": null,
      "outputs": [
        {
          "output_type": "stream",
          "name": "stdout",
          "text": [
            "Requirement already satisfied: datasets in /usr/local/lib/python3.11/dist-packages (3.4.1)\n",
            "Requirement already satisfied: filelock in /usr/local/lib/python3.11/dist-packages (from datasets) (3.17.0)\n",
            "Requirement already satisfied: numpy>=1.17 in /usr/local/lib/python3.11/dist-packages (from datasets) (2.0.2)\n",
            "Requirement already satisfied: pyarrow>=15.0.0 in /usr/local/lib/python3.11/dist-packages (from datasets) (18.1.0)\n",
            "Requirement already satisfied: dill<0.3.9,>=0.3.0 in /usr/local/lib/python3.11/dist-packages (from datasets) (0.3.8)\n",
            "Requirement already satisfied: pandas in /usr/local/lib/python3.11/dist-packages (from datasets) (2.2.2)\n",
            "Requirement already satisfied: requests>=2.32.2 in /usr/local/lib/python3.11/dist-packages (from datasets) (2.32.3)\n",
            "Requirement already satisfied: tqdm>=4.66.3 in /usr/local/lib/python3.11/dist-packages (from datasets) (4.67.1)\n",
            "Requirement already satisfied: xxhash in /usr/local/lib/python3.11/dist-packages (from datasets) (3.5.0)\n",
            "Requirement already satisfied: multiprocess<0.70.17 in /usr/local/lib/python3.11/dist-packages (from datasets) (0.70.16)\n",
            "Requirement already satisfied: fsspec<=2024.12.0,>=2023.1.0 in /usr/local/lib/python3.11/dist-packages (from fsspec[http]<=2024.12.0,>=2023.1.0->datasets) (2024.10.0)\n",
            "Requirement already satisfied: aiohttp in /usr/local/lib/python3.11/dist-packages (from datasets) (3.11.13)\n",
            "Requirement already satisfied: huggingface-hub>=0.24.0 in /usr/local/lib/python3.11/dist-packages (from datasets) (0.28.1)\n",
            "Requirement already satisfied: packaging in /usr/local/lib/python3.11/dist-packages (from datasets) (24.2)\n",
            "Requirement already satisfied: pyyaml>=5.1 in /usr/local/lib/python3.11/dist-packages (from datasets) (6.0.2)\n",
            "Requirement already satisfied: aiohappyeyeballs>=2.3.0 in /usr/local/lib/python3.11/dist-packages (from aiohttp->datasets) (2.6.1)\n",
            "Requirement already satisfied: aiosignal>=1.1.2 in /usr/local/lib/python3.11/dist-packages (from aiohttp->datasets) (1.3.2)\n",
            "Requirement already satisfied: attrs>=17.3.0 in /usr/local/lib/python3.11/dist-packages (from aiohttp->datasets) (25.3.0)\n",
            "Requirement already satisfied: frozenlist>=1.1.1 in /usr/local/lib/python3.11/dist-packages (from aiohttp->datasets) (1.5.0)\n",
            "Requirement already satisfied: multidict<7.0,>=4.5 in /usr/local/lib/python3.11/dist-packages (from aiohttp->datasets) (6.1.0)\n",
            "Requirement already satisfied: propcache>=0.2.0 in /usr/local/lib/python3.11/dist-packages (from aiohttp->datasets) (0.3.0)\n",
            "Requirement already satisfied: yarl<2.0,>=1.17.0 in /usr/local/lib/python3.11/dist-packages (from aiohttp->datasets) (1.18.3)\n",
            "Requirement already satisfied: typing-extensions>=3.7.4.3 in /usr/local/lib/python3.11/dist-packages (from huggingface-hub>=0.24.0->datasets) (4.12.2)\n",
            "Requirement already satisfied: charset-normalizer<4,>=2 in /usr/local/lib/python3.11/dist-packages (from requests>=2.32.2->datasets) (3.4.1)\n",
            "Requirement already satisfied: idna<4,>=2.5 in /usr/local/lib/python3.11/dist-packages (from requests>=2.32.2->datasets) (3.10)\n",
            "Requirement already satisfied: urllib3<3,>=1.21.1 in /usr/local/lib/python3.11/dist-packages (from requests>=2.32.2->datasets) (2.3.0)\n",
            "Requirement already satisfied: certifi>=2017.4.17 in /usr/local/lib/python3.11/dist-packages (from requests>=2.32.2->datasets) (2025.1.31)\n",
            "Requirement already satisfied: python-dateutil>=2.8.2 in /usr/local/lib/python3.11/dist-packages (from pandas->datasets) (2.8.2)\n",
            "Requirement already satisfied: pytz>=2020.1 in /usr/local/lib/python3.11/dist-packages (from pandas->datasets) (2025.1)\n",
            "Requirement already satisfied: tzdata>=2022.7 in /usr/local/lib/python3.11/dist-packages (from pandas->datasets) (2025.1)\n",
            "Requirement already satisfied: six>=1.5 in /usr/local/lib/python3.11/dist-packages (from python-dateutil>=2.8.2->pandas->datasets) (1.17.0)\n"
          ]
        }
      ]
    },
    {
      "cell_type": "code",
      "source": [
        "trainer = Trainer(\n",
        "    model = model,\n",
        "    args = training_args,\n",
        "    train_dataset = train_ds,\n",
        "    eval_dataset = test_ds\n",
        "\n",
        ")"
      ],
      "metadata": {
        "id": "-34Lm2KdyAEd"
      },
      "execution_count": null,
      "outputs": []
    },
    {
      "cell_type": "code",
      "source": [
        "import wandb\n",
        "wandb.init(mode=\"offline\")"
      ],
      "metadata": {
        "colab": {
          "base_uri": "https://localhost:8080/",
          "height": 108
        },
        "id": "50JL8rJ9EJQu",
        "outputId": "33eb9dbb-ea41-4a3f-cff8-56c84cc25720"
      },
      "execution_count": null,
      "outputs": [
        {
          "output_type": "stream",
          "name": "stderr",
          "text": [
            "\u001b[34m\u001b[1mwandb\u001b[0m: Using wandb-core as the SDK backend.  Please refer to https://wandb.me/wandb-core for more information.\n"
          ]
        },
        {
          "output_type": "display_data",
          "data": {
            "text/plain": [
              "<IPython.core.display.HTML object>"
            ],
            "text/html": [
              "Tracking run with wandb version 0.19.8"
            ]
          },
          "metadata": {}
        },
        {
          "output_type": "display_data",
          "data": {
            "text/plain": [
              "<IPython.core.display.HTML object>"
            ],
            "text/html": [
              "W&B syncing is set to <code>`offline`<code> in this directory.  <br>Run <code>`wandb online`<code> or set <code>WANDB_MODE=online<code> to enable cloud syncing."
            ]
          },
          "metadata": {}
        },
        {
          "output_type": "execute_result",
          "data": {
            "text/html": [
              "<button onClick=\"this.nextSibling.style.display='block';this.style.display='none';\">Display W&B run</button><iframe src='?jupyter=true' style='border:none;width:100%;height:420px;display:none;'></iframe>"
            ],
            "text/plain": [
              "<wandb.sdk.wandb_run.Run at 0x7fe8e53d9b90>"
            ]
          },
          "metadata": {},
          "execution_count": 19
        }
      ]
    },
    {
      "cell_type": "code",
      "source": [
        "# !pip install git+https://github.com/huggingface/accelerate\n",
        "# !pip install --upgrade transformers"
      ],
      "metadata": {
        "id": "zadXC7wc1u_K"
      },
      "execution_count": null,
      "outputs": []
    },
    {
      "cell_type": "code",
      "source": [
        "trainer.train()"
      ],
      "metadata": {
        "colab": {
          "base_uri": "https://localhost:8080/"
        },
        "id": "Zv19Z7I0y7Xh",
        "outputId": "b6bcb157-d011-4ce1-de09-28600a72555d"
      },
      "execution_count": null,
      "outputs": [
        {
          "output_type": "stream",
          "name": "stderr",
          "text": [
            "\u001b[34m\u001b[1mwandb\u001b[0m: \u001b[33mWARNING\u001b[0m The `run_name` is currently set to the same value as `TrainingArguments.output_dir`. If this was not intended, please specify a different run name by setting the `TrainingArguments.run_name` parameter.\n"
          ]
        }
      ]
    },
    {
      "cell_type": "code",
      "source": [
        "\n",
        "# Evaluate the model\n",
        "eval_results = trainer.evaluate()\n",
        "\n",
        "# Print evaluation results\n",
        "print(eval_results)"
      ],
      "metadata": {
        "colab": {
          "base_uri": "https://localhost:8080/",
          "height": 54
        },
        "id": "ANpT7F3OJgn_",
        "outputId": "1616308d-c5b9-47eb-c7c0-2d44fdb8598b"
      },
      "execution_count": null,
      "outputs": [
        {
          "output_type": "display_data",
          "data": {
            "text/plain": [
              "<IPython.core.display.HTML object>"
            ],
            "text/html": [
              "\n",
              "    <div>\n",
              "      \n",
              "      <progress value='163' max='163' style='width:300px; height:20px; vertical-align: middle;'></progress>\n",
              "      [163/163 00:43]\n",
              "    </div>\n",
              "    "
            ]
          },
          "metadata": {}
        },
        {
          "output_type": "stream",
          "name": "stdout",
          "text": [
            "{'eval_loss': 2.879042625427246, 'eval_runtime': 44.0529, 'eval_samples_per_second': 29.51, 'eval_steps_per_second': 3.7, 'epoch': 5.0}\n"
          ]
        }
      ]
    },
    {
      "cell_type": "code",
      "source": [
        "\n",
        "# Save the model and tokenizer after training\n",
        "\n",
        "model.save_pretrained(\"/content/model_summary_10k\")\n",
        "tokenizer.save_pretrained(\"/content/model_summary_10k\")\n"
      ],
      "metadata": {
        "colab": {
          "base_uri": "https://localhost:8080/"
        },
        "id": "iVcsoBtvHyY4",
        "outputId": "a54f1ab1-5941-4aa9-ab84-87563e600b19"
      },
      "execution_count": null,
      "outputs": [
        {
          "output_type": "execute_result",
          "data": {
            "text/plain": [
              "('/content/model_summary_10k/tokenizer_config.json',\n",
              " '/content/model_summary_10k/special_tokens_map.json',\n",
              " '/content/model_summary_10k/vocab.json',\n",
              " '/content/model_summary_10k/merges.txt',\n",
              " '/content/model_summary_10k/added_tokens.json',\n",
              " '/content/model_summary_10k/tokenizer.json')"
            ]
          },
          "metadata": {},
          "execution_count": 31
        }
      ]
    },
    {
      "cell_type": "code",
      "source": [
        "from transformers import AutoTokenizer, AutoModelForSeq2SeqLM\n",
        "\n",
        "# Load the trained model and tokenizer\n",
        "tokenizer = AutoTokenizer.from_pretrained(\"/content/model_summary\")\n",
        "model = AutoModelForSeq2SeqLM.from_pretrained(\"/content/model_summary\")\n",
        "\n",
        "# Function to summarize text\n",
        "def summarize(text):\n",
        "    # Tokenize the input text\n",
        "    inputs = tokenizer(text, max_length=1024, truncation=True, return_tensors=\"pt\")\n",
        "\n",
        "    # Generate the summary\n",
        "    summary_ids = model.generate(inputs[\"input_ids\"], max_length=200, min_length=50, length_penalty=2.0, num_beams=4, early_stopping=True)\n",
        "\n",
        "    # Decode the summary\n",
        "    summary = tokenizer.decode(summary_ids[0], skip_special_tokens=True)\n",
        "    return summary\n"
      ],
      "metadata": {
        "colab": {
          "base_uri": "https://localhost:8080/",
          "height": 529
        },
        "id": "psx14OJpIvtJ",
        "outputId": "84a1b34d-0720-445e-b6f7-c7d1c72d1283"
      },
      "execution_count": null,
      "outputs": [
        {
          "output_type": "error",
          "ename": "OSError",
          "evalue": "Incorrect path_or_model_id: '/content/model_summary'. Please provide either the path to a local folder or the repo_id of a model on the Hub.",
          "traceback": [
            "\u001b[0;31m---------------------------------------------------------------------------\u001b[0m",
            "\u001b[0;31mHFValidationError\u001b[0m                         Traceback (most recent call last)",
            "\u001b[0;32m/usr/local/lib/python3.11/dist-packages/transformers/utils/hub.py\u001b[0m in \u001b[0;36mcached_file\u001b[0;34m(path_or_repo_id, filename, cache_dir, force_download, resume_download, proxies, token, revision, local_files_only, subfolder, repo_type, user_agent, _raise_exceptions_for_gated_repo, _raise_exceptions_for_missing_entries, _raise_exceptions_for_connection_errors, _commit_hash, **deprecated_kwargs)\u001b[0m\n\u001b[1;32m    402\u001b[0m         \u001b[0;31m# Load from URL or cache if already cached\u001b[0m\u001b[0;34m\u001b[0m\u001b[0;34m\u001b[0m\u001b[0m\n\u001b[0;32m--> 403\u001b[0;31m         resolved_file = hf_hub_download(\n\u001b[0m\u001b[1;32m    404\u001b[0m             \u001b[0mpath_or_repo_id\u001b[0m\u001b[0;34m,\u001b[0m\u001b[0;34m\u001b[0m\u001b[0;34m\u001b[0m\u001b[0m\n",
            "\u001b[0;32m/usr/local/lib/python3.11/dist-packages/huggingface_hub/utils/_validators.py\u001b[0m in \u001b[0;36m_inner_fn\u001b[0;34m(*args, **kwargs)\u001b[0m\n\u001b[1;32m    105\u001b[0m             \u001b[0;32mif\u001b[0m \u001b[0marg_name\u001b[0m \u001b[0;32min\u001b[0m \u001b[0;34m[\u001b[0m\u001b[0;34m\"repo_id\"\u001b[0m\u001b[0;34m,\u001b[0m \u001b[0;34m\"from_id\"\u001b[0m\u001b[0;34m,\u001b[0m \u001b[0;34m\"to_id\"\u001b[0m\u001b[0;34m]\u001b[0m\u001b[0;34m:\u001b[0m\u001b[0;34m\u001b[0m\u001b[0;34m\u001b[0m\u001b[0m\n\u001b[0;32m--> 106\u001b[0;31m                 \u001b[0mvalidate_repo_id\u001b[0m\u001b[0;34m(\u001b[0m\u001b[0marg_value\u001b[0m\u001b[0;34m)\u001b[0m\u001b[0;34m\u001b[0m\u001b[0;34m\u001b[0m\u001b[0m\n\u001b[0m\u001b[1;32m    107\u001b[0m \u001b[0;34m\u001b[0m\u001b[0m\n",
            "\u001b[0;32m/usr/local/lib/python3.11/dist-packages/huggingface_hub/utils/_validators.py\u001b[0m in \u001b[0;36mvalidate_repo_id\u001b[0;34m(repo_id)\u001b[0m\n\u001b[1;32m    153\u001b[0m     \u001b[0;32mif\u001b[0m \u001b[0mrepo_id\u001b[0m\u001b[0;34m.\u001b[0m\u001b[0mcount\u001b[0m\u001b[0;34m(\u001b[0m\u001b[0;34m\"/\"\u001b[0m\u001b[0;34m)\u001b[0m \u001b[0;34m>\u001b[0m \u001b[0;36m1\u001b[0m\u001b[0;34m:\u001b[0m\u001b[0;34m\u001b[0m\u001b[0;34m\u001b[0m\u001b[0m\n\u001b[0;32m--> 154\u001b[0;31m         raise HFValidationError(\n\u001b[0m\u001b[1;32m    155\u001b[0m             \u001b[0;34m\"Repo id must be in the form 'repo_name' or 'namespace/repo_name':\"\u001b[0m\u001b[0;34m\u001b[0m\u001b[0;34m\u001b[0m\u001b[0m\n",
            "\u001b[0;31mHFValidationError\u001b[0m: Repo id must be in the form 'repo_name' or 'namespace/repo_name': '/content/model_summary'. Use `repo_type` argument if needed.",
            "\nThe above exception was the direct cause of the following exception:\n",
            "\u001b[0;31mOSError\u001b[0m                                   Traceback (most recent call last)",
            "\u001b[0;32m<ipython-input-3-d5b2d6d3df15>\u001b[0m in \u001b[0;36m<cell line: 0>\u001b[0;34m()\u001b[0m\n\u001b[1;32m      2\u001b[0m \u001b[0;34m\u001b[0m\u001b[0m\n\u001b[1;32m      3\u001b[0m \u001b[0;31m# Load the trained model and tokenizer\u001b[0m\u001b[0;34m\u001b[0m\u001b[0;34m\u001b[0m\u001b[0m\n\u001b[0;32m----> 4\u001b[0;31m \u001b[0mtokenizer\u001b[0m \u001b[0;34m=\u001b[0m \u001b[0mAutoTokenizer\u001b[0m\u001b[0;34m.\u001b[0m\u001b[0mfrom_pretrained\u001b[0m\u001b[0;34m(\u001b[0m\u001b[0;34m\"/content/model_summary\"\u001b[0m\u001b[0;34m)\u001b[0m\u001b[0;34m\u001b[0m\u001b[0;34m\u001b[0m\u001b[0m\n\u001b[0m\u001b[1;32m      5\u001b[0m \u001b[0mmodel\u001b[0m \u001b[0;34m=\u001b[0m \u001b[0mAutoModelForSeq2SeqLM\u001b[0m\u001b[0;34m.\u001b[0m\u001b[0mfrom_pretrained\u001b[0m\u001b[0;34m(\u001b[0m\u001b[0;34m\"/content/model_summary\"\u001b[0m\u001b[0;34m)\u001b[0m\u001b[0;34m\u001b[0m\u001b[0;34m\u001b[0m\u001b[0m\n\u001b[1;32m      6\u001b[0m \u001b[0;34m\u001b[0m\u001b[0m\n",
            "\u001b[0;32m/usr/local/lib/python3.11/dist-packages/transformers/models/auto/tokenization_auto.py\u001b[0m in \u001b[0;36mfrom_pretrained\u001b[0;34m(cls, pretrained_model_name_or_path, *inputs, **kwargs)\u001b[0m\n\u001b[1;32m    869\u001b[0m \u001b[0;34m\u001b[0m\u001b[0m\n\u001b[1;32m    870\u001b[0m         \u001b[0;31m# Next, let's try to use the tokenizer_config file to get the tokenizer class.\u001b[0m\u001b[0;34m\u001b[0m\u001b[0;34m\u001b[0m\u001b[0m\n\u001b[0;32m--> 871\u001b[0;31m         \u001b[0mtokenizer_config\u001b[0m \u001b[0;34m=\u001b[0m \u001b[0mget_tokenizer_config\u001b[0m\u001b[0;34m(\u001b[0m\u001b[0mpretrained_model_name_or_path\u001b[0m\u001b[0;34m,\u001b[0m \u001b[0;34m**\u001b[0m\u001b[0mkwargs\u001b[0m\u001b[0;34m)\u001b[0m\u001b[0;34m\u001b[0m\u001b[0;34m\u001b[0m\u001b[0m\n\u001b[0m\u001b[1;32m    872\u001b[0m         \u001b[0;32mif\u001b[0m \u001b[0;34m\"_commit_hash\"\u001b[0m \u001b[0;32min\u001b[0m \u001b[0mtokenizer_config\u001b[0m\u001b[0;34m:\u001b[0m\u001b[0;34m\u001b[0m\u001b[0;34m\u001b[0m\u001b[0m\n\u001b[1;32m    873\u001b[0m             \u001b[0mkwargs\u001b[0m\u001b[0;34m[\u001b[0m\u001b[0;34m\"_commit_hash\"\u001b[0m\u001b[0;34m]\u001b[0m \u001b[0;34m=\u001b[0m \u001b[0mtokenizer_config\u001b[0m\u001b[0;34m[\u001b[0m\u001b[0;34m\"_commit_hash\"\u001b[0m\u001b[0;34m]\u001b[0m\u001b[0;34m\u001b[0m\u001b[0;34m\u001b[0m\u001b[0m\n",
            "\u001b[0;32m/usr/local/lib/python3.11/dist-packages/transformers/models/auto/tokenization_auto.py\u001b[0m in \u001b[0;36mget_tokenizer_config\u001b[0;34m(pretrained_model_name_or_path, cache_dir, force_download, resume_download, proxies, token, revision, local_files_only, subfolder, **kwargs)\u001b[0m\n\u001b[1;32m    701\u001b[0m \u001b[0;34m\u001b[0m\u001b[0m\n\u001b[1;32m    702\u001b[0m     \u001b[0mcommit_hash\u001b[0m \u001b[0;34m=\u001b[0m \u001b[0mkwargs\u001b[0m\u001b[0;34m.\u001b[0m\u001b[0mget\u001b[0m\u001b[0;34m(\u001b[0m\u001b[0;34m\"_commit_hash\"\u001b[0m\u001b[0;34m,\u001b[0m \u001b[0;32mNone\u001b[0m\u001b[0;34m)\u001b[0m\u001b[0;34m\u001b[0m\u001b[0;34m\u001b[0m\u001b[0m\n\u001b[0;32m--> 703\u001b[0;31m     resolved_config_file = cached_file(\n\u001b[0m\u001b[1;32m    704\u001b[0m         \u001b[0mpretrained_model_name_or_path\u001b[0m\u001b[0;34m,\u001b[0m\u001b[0;34m\u001b[0m\u001b[0;34m\u001b[0m\u001b[0m\n\u001b[1;32m    705\u001b[0m         \u001b[0mTOKENIZER_CONFIG_FILE\u001b[0m\u001b[0;34m,\u001b[0m\u001b[0;34m\u001b[0m\u001b[0;34m\u001b[0m\u001b[0m\n",
            "\u001b[0;32m/usr/local/lib/python3.11/dist-packages/transformers/utils/hub.py\u001b[0m in \u001b[0;36mcached_file\u001b[0;34m(path_or_repo_id, filename, cache_dir, force_download, resume_download, proxies, token, revision, local_files_only, subfolder, repo_type, user_agent, _raise_exceptions_for_gated_repo, _raise_exceptions_for_missing_entries, _raise_exceptions_for_connection_errors, _commit_hash, **deprecated_kwargs)\u001b[0m\n\u001b[1;32m    467\u001b[0m         \u001b[0;32mraise\u001b[0m \u001b[0mEnvironmentError\u001b[0m\u001b[0;34m(\u001b[0m\u001b[0;34mf\"There was a specific connection error when trying to load {path_or_repo_id}:\\n{err}\"\u001b[0m\u001b[0;34m)\u001b[0m\u001b[0;34m\u001b[0m\u001b[0;34m\u001b[0m\u001b[0m\n\u001b[1;32m    468\u001b[0m     \u001b[0;32mexcept\u001b[0m \u001b[0mHFValidationError\u001b[0m \u001b[0;32mas\u001b[0m \u001b[0me\u001b[0m\u001b[0;34m:\u001b[0m\u001b[0;34m\u001b[0m\u001b[0;34m\u001b[0m\u001b[0m\n\u001b[0;32m--> 469\u001b[0;31m         raise EnvironmentError(\n\u001b[0m\u001b[1;32m    470\u001b[0m             \u001b[0;34mf\"Incorrect path_or_model_id: '{path_or_repo_id}'. Please provide either the path to a local folder or the repo_id of a model on the Hub.\"\u001b[0m\u001b[0;34m\u001b[0m\u001b[0;34m\u001b[0m\u001b[0m\n\u001b[1;32m    471\u001b[0m         ) from e\n",
            "\u001b[0;31mOSError\u001b[0m: Incorrect path_or_model_id: '/content/model_summary'. Please provide either the path to a local folder or the repo_id of a model on the Hub."
          ]
        }
      ]
    },
    {
      "cell_type": "code",
      "source": [
        "Intro = \"\"\"\n",
        "\n",
        "Starting in mid-March of 2020, the outbreak of Coronavirus Disease 2019 (COVID- 19) led to large-scale changes in hospital practices across the United States, including protocols overseeing inpatient hospitalization for a variety of surgeries. 1-3 A recent national survey found that both patients and physicians have sought to reduce patient exposure to hospitals during the pandemic to limit resource utilization and prevent the spread of COVID-19. 4 As a result, the pandemic provided a unique opportunity to assess whether the changing practice patterns favoring shorter hospitalization could impact outcomes following major surgeries, such as adult spinal deformity (ASD) correction, which usually require longer hospital stays (LOS).In the United States, ASD has a prevalence of up to 68% in adults over the age of 60. 5 Recent reviews have reported a 17% to 68% incidence of postoperative complications following ASD surgery, with around 42% of ASD patients requiring nonroutine discharge. [6] [7] [8] [9] [10] To facilitate recovery and minimize the risk of complications, postoperative monitoring, and stabilization of patients in the inpatient setting is often needed. Prior studies have reported an average LOS of approximately 8 days following ASD surgery, 8, 11, 12 but it is currently unknown how the pandemic has impacted duration of hospital stay and complication rates in this patient population.The primary aim of this study was to compare LOS and discharge disposition of ASD patients undergoing surgery before and during the pandemic. Secondary aims were to compare the rates of 30-day complications, readmissions, and emergency department (ED) visits before and during the pandemic. We hypothesized that the mean LOS after ASD surgery was lower during the pandemic compared with before, though that may have increased the rate of complications, readmissions, and/or ED visits. We also hypothesized that there would be a significant increase in the rate of home discharge following surgeries performed during the pandemic.\n",
        "\n",
        "\"\"\"\n",
        "\n",
        "Methods = \"\"\"\n",
        "\n",
        "MATERIALS AND METHODS\n",
        "\n",
        "This study was approved by our institutional review board.\n",
        "\n",
        "Data Source and Collection\n",
        "\n",
        "Data were collected through a retrospective review of a spine surgical registry at a tertiary care center. We identified all adult patients who underwent elective adult thoracolumbar deformity surgery (defined by more than or equal to five level fusion) from July 1 to December 31 of 2019 (pre-COVID, N ¼ 60) and July 1 to December 31 of 2020 (during-COVID, N ¼ 57). These time periods were chosen to reflect the impact of institutional policies governing elective surgeries at our medical center. The World Health Organization officially declared COVID-19 a pandemic on March 11, 2020, 13 and many institutional policies had been set in place by July 1, 2020. The same time period was chosen for 2019 to reduce the impact of seasonal variation on case volume. 14, 15 All surgeries were performed by fellowship-trained orthopedic spine surgeons. All patients met the 30-day follow-up required for inclusion in this study. We excluded any non-elective surgeries, malignancy, trauma, or infection (pre-COVID: nine patients; during-COVID: seven patients). An additional exclusion criterion was a diagnosis of COVID-19 during the hospital course, but no patients in the during-COVID period cohort had a COVID-19 diagnosis at any point during their surgical care.We collected data on baseline patient demographics and surgical risk: age, sex, and American Society of Anesthesiologists (ASA) Classification. We also collected data on surgical characteristics: the number of levels fused, estimated blood loss (EBL), whether or not the surgery was a revision procedure, and the presence of a three-column osteotomy.\n",
        "\n",
        "\n",
        "Outcome Measures\n",
        "\n",
        "The primary outcome measures were length of stay (days) and discharge disposition (home vs. non-home). Secondary outcome measures were the rates of reoperation, unplanned ED visit, readmission, and major complications within 30 days postoperatively. Major complications were defined as: neurologic complications (new and persistent postoperative motor weakness or sensory deficit), myocardial infarction, pulmonary embolism/deep vein thrombosis (PE/DVT), pneumonia, or cerebrovascular accident (CVA).\n",
        "\n",
        "\n",
        "Statistical Analysis\n",
        "\n",
        "Bivariate analyses were used to detect differences in baseline patient demographics, ASA classification, and surgical characteristics between patients in 2019 and 2020. Categorical variables were assessed with Chi-squared tests, parametric continuous variables with Student t tests, and non-parametric continuous variables with Mann-Whitney U tests. Bivariate analyses were similarly performed on our primary and secondary outcome measures to detect differences between the two groups. To control for differences in baseline demographics and surgical characteristics, multivariable regression models were constructed for length of stay and discharge disposition, the two outcome measures found to be significant on bivariate analysis. A Poisson regression model was utilized for length of stay, due to the variable being count data, 16 and a logistic regression was used for discharge disposition, a binary variable. Both multivariable regression models controlled for age, sex, ASA, levels fused, three-column osteotomy, EBL, and revision surgery. Results from the Poisson regression are reported as incidence rate ratios (IRR), and results from the logistic regression are reported as odds ratios (OR). Statistical significance was set at P < 0.05. Analysis was conducted using STATA version 15.0 (College Station, TX).\n",
        "\n",
        "\"\"\"\n",
        "\n",
        "Results = \"\"\"\n",
        "\n",
        "Total Case Volume\n",
        "\n",
        "There was no significant difference in the volume of elective adult thoracolumbar deformity surgeries performed during the two time periods (60 vs. 57 cases, P ¼ 0.782; Table 1 ).\n",
        "\n",
        "\n",
        "Patient Demographics and Surgical Characteristics\n",
        "\n",
        "On bivariate analysis, patients who underwent ASD surgery during the pandemic were younger (mean: 61 vs. 67 yrs, P ¼ 0.015) compared to before the pandemic, but there were no significant differences in sex or ASA classification (Table 1) . Compared with cases performed before the pandemic, those performed during the pandemic involved significantly longer fusion constructs (mean: nine vs. eight levels, P ¼ 0.007) and more EBL (mean: 1762 vs. 1127 cm 3 , P ¼ 0.002) ( Table 1 ). There were no significant differences between the pre-COVID and during-COVID groups in terms of the number of procedures which were revision surgeries or number of those which involved a three-column osteotomy.\n",
        "\n",
        "Length of Stay\n",
        "\n",
        "On bivariate analysis, patients in the during-COVID cohort had 26% shorter LOS compared with those in the pre-COVID cohort (mean: 6 vs. 9 days, P ¼ 0.039; Table 2 ). The difference in LOS remained significantly shorter after controlling for age, sex, ASA, levels fused, three-column osteotomy, EBL, and revision surgery using the multivariable regression model (P ¼ 0.015, Table 3 ).\n",
        "\n",
        "Discharge Disposition\n",
        "\n",
        "On bivariate analysis, patients were significantly more likely to be discharged home in the during-COVID cohort compared with pre-COVID cohort (70% vs. 28%, P < 0.001; Table 3 ). After controlling for age, sex, ASA, levels fused, three-column osteotomy, EBL, and revision surgery in the multivariable regression model, patients in the during-COVID cohort were found to have 7.2-times greater odds of home discharge compared with the pre-COVID cohort (P < 0.001; Table 3 ).\n",
        "\n",
        "Readmissions, ED Visits, Major Complications\n",
        "\n",
        "There were no statistically significant differences in the rates of 30-day major complications, readmissions, or unplanned ED visits between the pre-COVID and during-COVID cohorts ( Table 2) .\n",
        "\"\"\"\n",
        "\n",
        "Discussion = \"\"\"\n",
        "DISCUSSION\n",
        "\n",
        "The length of hospital stay and discharge disposition after ASD surgery carry substantial implications for patient care and healthcare costs. The resource limitations and increased demand for hospital beds due to COVID-19 presented a unique opportunity to assess how shorter LOS could influence postoperative outcomes. In this study, we examined the impact of the pandemic on LOS, discharge disposition, and 30-day postoperative complications after elective, adult thoracolumbar deformity surgery. Our data demonstrate that ASD patients who underwent surgery during the pandemic had significantly shorter LOS and were more likely to be discharged home compared with those treated before the pandemic. Importantly, there were no significant differences in rates of major complications, reoperation, readmission, or ED visits resulting from the shorter LOS and increased rate of home discharge.In the current era of value-based care, postoperative LOS and discharge disposition are important considerations both clinically and economically. While ASD surgery is primarily elective, patients usually require a longer LOS with more extensive inpatient monitoring compared with other spine and orthopedic procedures. 17 The ASD patient population is thus uniquely suitable for our study's objective of detecting changes in LOS resulting from the pandemic. Although close inpatient monitoring is required after ASD surgery, prolonged LOS can also slow the recovery process by preventing faster mobilization and delaying patient independence. Further, extended inpatient hospitalization has been shown to increase the risk of complications such as pneumonia and other hospital-acquired infections. 18 ASD surgery is also quite costly, and one major component of this cost is the longer hospital stay often required after ASD surgery relative to other spine surgeries. [19] [20] [21] A 2019 report from the Kaiser Family Foundation estimated that the average hospital expense for each inpatient day ranged from $1274 to $3329. 22 Although costs were not directly assessed in the present study, one important implication of our findings is that shortening LOS for ASD surgery for appropriate patients may potentially lead to healthcare savings without increasing short-term complication or readmission rates.There are several factors that may have contributed to the shortened LOS seen in our analysis. At the hospital and provider levels, the pandemic increased the demand for hospital beds, and many surgical floors across the nation were transitioned to care for medicine patients due to the need for increased hospital capacity. Due to these circumstances, providers may have felt a need to discharge patients more rapidly compared with before the pandemic. From the patient perspective, several national surveys have demonstrated that patients with non-COVID illnesses sought to avoided hospitals to reduce risk of exposure to the virus. 4, 23 As a result, recent data has shown declines in non-COVID emergency department admissions as well as declines in a variety of medical admissions and surgical cases due to the pandemic. [24] [25] [26] [27] [28] It is thus possible that patients undergoing surgery during the pandemic may have tried to meet discharge requirements faster with the goal of leaving the hospital sooner.It is important to note that patient selection may have played a role in these findings. In our data, although there was no difference in overall surgical risk between the groups in terms of the ASA classification, the pre-COVID patients were on average 6 years older than the during-COVID patients. This may be due to surgeons selecting younger patients for elective surgery during the pandemic since they were less likely to contract as severe form of COVID-19. As such, one possible explanation for the differences in LOS may be that the older patients in the pre-COVID period inherently required more postoperative medical optimization than the younger patients in the during-COVID period. Interestingly, our data suggests that the during-COVID patients may have received more invasive surgeries, due to significantly greater number of levels fused per patient as well as greater EBL. This could be explained by the fact that ASD patients with the most severe deformity or clinical presentation could have been prioritized during the pandemic. Although our study rigorously controlled for various factors that have been shown to influence LOS and discharge disposition such as age, ASA class, the number of levels fused, revision surgery, and three-column osteotomy, 10,29 our analysis did not control for spinal alignment or preoperative health-related quality of life (HRQoL) scores.Several factors may explain the 42% higher rate of home discharge observed during the pandemic compared with before. Recent literature has shown that the pandemic placed increased capacity demands on rehabilitation centers across the country. 30 were hospitalized for COVID-19 during the initial months of the COVID-19 outbreak required facility-based rehabilitation following discharge. This increased demand of rehabilitation centers to care for an unexpected population of COVID-19 patients may have factored into the decisionmaking of surgeons and physical therapists to discharge a greater percentage of patients home. Further, as the pandemic progressed and nursing facilities became epicenters of virus spread, approximately 1800 nursing facilities across the country closed or merged. 33 The public reputation of nursing homes during this time may have further encouraged patients and their families to avoid nursing facilities in favor of home discharge. Importantly, our data suggests that even with the hospital and patient factors that led to reduced LOS and the increased rate of home discharge, ASD patients did not have increased 30-day complications, ED visits, or readmissions during the pandemic. While surgeons should not alter their practice solely on the basis of resource availability in patients who clearly require more extensive inpatient recovery or facility services, lessons learned from the pandemic indicate that efforts toward reducing LOS may not necessarily have negative consequences on ASD patients in the immediate postoperative interval. Prior literature has examined several potential methods for optimizing perioperative care pathways to shorten hospital stay, including preoperative nutritional repletion, multimodal anesthesia, intraoperative maintenance of patient temperature, postoperative resumption of diet, and early mobilization. [34] [35] [36] Similar to our findings, these prior studies also found no difference in postoperative complications and readmission rates after reductions in LOS. Such techniques may have already helped to reduce LOS in the ASD population, as the average total length of stay for ASD surgery has declined over the past decade on a national scale. 17 Similar efforts aimed at reducing modifiable risk factors for non-routine discharge may likewise result in greater home discharge rates without an increase in complications or readmissions.The results of our study should be interpreted in the context of its limitations. First, although we rigorously controlled for a multitude of factors that have been shown to be associated with adverse outcomes in ASD surgery, we were unable to control for spinal alignment or HRQoL indices. The patients in the pre-COVID and during-COVID cohorts may thus have slight differences in terms of disease severity which may have affected our outcome measures, but every effort was made to control for these potential confounders through our study design. Second, our study only investigated major complications, but not minor complications that could potentially prolong LOS such as postoperative urinary tract infection or ileus. Finally, our study was limited in follow-up duration due to the recency of the COVID-19 pandemic. Ultimately, adult spinal deformity constitutes a unique patient population, and further insight is needed on whether these findings are consistent across more common spine and orthopedic surgical procedures.Larger sample sizes using data from multiple institutions will be needed to further support our findings.\n",
        "\n",
        "\"\"\"\n",
        "Conclusion = \"\"\"\n",
        "\n",
        "CONLUSIONS\n",
        "\n",
        "During the COVID-19 pandemic, the LOS for patients undergoing thoracolumbar ASD surgery decreased, and more patients were discharged home without adversely affecting complication or readmission rates. Lessons learned during the pandemic may help improve resource utilization without negatively influencing outcomes.\n",
        "\n",
        "Key Points\n",
        "\n",
        "Hospital length of stay after ASD surgery was significantly shorter during the COVID-19 pandemic compared with before (6 vs. 9 days, P ¼ 0.039). ASD patients were more likely to be discharged home during the pandemic compared with before (70% vs. 28%; P < 0.001). Despite shorter length of stay and higher home discharge rates, there were no significant differences in major complications, reoperations, readmissions, or ED visits between patients who underwent ASD surgery before the pandemic and those who underwent surgery during the pandemic (P > 0.05 for all). Lessons learned during the pandemic may help improve resource utilization without negatively influencing short-term outcomes.\n",
        "\"\"\"\n",
        "\n",
        "\n",
        "# Get the summary\n",
        "# sum_intro = summarize(Intro)\n",
        "# sum_methods = summarize(Methods)\n",
        "# sum_results = summarize(Results)\n",
        "# sum_discussion = summarize(Discussion)\n",
        "# sum_conclusion = summarize(Conclusion)\n",
        "\n",
        "\n",
        "# print(sum_intro + \"\\n\\n\" + sum_methods + \"\\n\\n\" + sum_results + \"\\n\\n\" + sum_discussion + \"\\n\\n\" + sum_conclusion)\n",
        "print(sum_results)"
      ],
      "metadata": {
        "colab": {
          "base_uri": "https://localhost:8080/"
        },
        "id": "Ip7rKgoJM0H0",
        "outputId": "1402a7f1-c5c1-47f3-d134-352bd450a484"
      },
      "execution_count": null,
      "outputs": [
        {
          "output_type": "stream",
          "name": "stdout",
          "text": [
            "Objective: Preventive adult thoracolumbar deformity surgeries performed during the pandemic involved significantly longer fusion constructs (EBL) and more EBL. Patients who underwent ASD surgery during this pandemic were younger (mean: 61 vs. 67 yrs, P ¼ 0.015), but there were no significant differences in sex or ASA classification (Table 1) in terms of the number of procedures which involved a three-column osteotomy or revision surgery. Objective: Protecting patients from the effects of ASD surgery on the quality of life of their children and their families.Objective : Protecting them from the impact of ASD surgeries on their health\n"
          ]
        }
      ]
    }
  ],
  "metadata": {
    "language_info": {
      "name": "python"
    },
    "colab": {
      "provenance": [],
      "gpuType": "T4"
    },
    "kernelspec": {
      "name": "python3",
      "display_name": "Python 3"
    },
    "accelerator": "GPU"
  },
  "nbformat": 4,
  "nbformat_minor": 0
}